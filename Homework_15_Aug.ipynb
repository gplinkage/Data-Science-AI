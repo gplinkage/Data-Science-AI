{
  "nbformat": 4,
  "nbformat_minor": 0,
  "metadata": {
    "colab": {
      "provenance": [],
      "authorship_tag": "ABX9TyOdCGOeTe6XgpkxfetRRG8W",
      "include_colab_link": true
    },
    "kernelspec": {
      "name": "python3",
      "display_name": "Python 3"
    },
    "language_info": {
      "name": "python"
    }
  },
  "cells": [
    {
      "cell_type": "markdown",
      "metadata": {
        "id": "view-in-github",
        "colab_type": "text"
      },
      "source": [
        "<a href=\"https://colab.research.google.com/github/gplinkage/DataScienceBootCamp/blob/main/Homework_15_Aug.ipynb\" target=\"_parent\"><img src=\"https://colab.research.google.com/assets/colab-badge.svg\" alt=\"Open In Colab\"/></a>"
      ]
    },
    {
      "cell_type": "code",
      "execution_count": 3,
      "metadata": {
        "colab": {
          "base_uri": "https://localhost:8080/"
        },
        "id": "vgCLC-z9cxBC",
        "outputId": "3e3be691-6b23-43b4-d25c-d393548bb61c"
      },
      "outputs": [
        {
          "output_type": "stream",
          "name": "stdout",
          "text": [
            "[1, 2, 3, 4, 5, 6, 8, 11]\n"
          ]
        }
      ],
      "source": [
        "#Question 1) Remove all repeated elements from the list Given below using for loop.\n",
        "a_lst=[1,2,3,4,5,11,1,2,6,1,8]\n",
        "b_lst= list(set(a_lst))\n",
        "print(b_lst)"
      ]
    },
    {
      "cell_type": "code",
      "source": [
        "#Question 2) Print all prime numbers below 100\n",
        "\n",
        "\n"
      ],
      "metadata": {
        "id": "narOfIYWc-Dx"
      },
      "execution_count": 15,
      "outputs": []
    },
    {
      "cell_type": "code",
      "source": [
        "#Question 3) print list in reverse order using for loop\n",
        "\n",
        "a_lst=[1,2,3,4,5,6,7,8]\n",
        "rev_a_lst=[]\n",
        "for i in reversed(a_lst):\n",
        "  rev_a_lst.append(i)\n",
        "print(rev_a_lst)\n",
        ""
      ],
      "metadata": {
        "colab": {
          "base_uri": "https://localhost:8080/"
        },
        "id": "bG8GQxZYUdNJ",
        "outputId": "85bb1c16-c65f-4119-ebc9-332dbd3aa54f"
      },
      "execution_count": 36,
      "outputs": [
        {
          "output_type": "stream",
          "name": "stdout",
          "text": [
            "[8, 7, 6, 5, 4, 3, 2, 1]\n"
          ]
        }
      ]
    },
    {
      "cell_type": "code",
      "source": [
        "#same problem could be sloved like this\n",
        "a_lst=[1,2,3,4,5,6,7,8]\n",
        "print(a_lst[::-1])"
      ],
      "metadata": {
        "id": "ubA5bCFxdJA4"
      },
      "execution_count": 36,
      "outputs": []
    },
    {
      "cell_type": "code",
      "source": [
        "#Question 4)  print multiplication table of 13 using for loop\n",
        "a=13\n",
        "for i in range(10):\n",
        "  i+=1\n",
        "  print(i,'X',a,'=',(i*a))"
      ],
      "metadata": {
        "colab": {
          "base_uri": "https://localhost:8080/"
        },
        "id": "buzb8tFKaCQe",
        "outputId": "2e66c13c-7bd9-4d9f-f387-f4fa55aadfaf"
      },
      "execution_count": 38,
      "outputs": [
        {
          "output_type": "stream",
          "name": "stdout",
          "text": [
            "1 X 13 = 13\n",
            "2 X 13 = 26\n",
            "3 X 13 = 39\n",
            "4 X 13 = 52\n",
            "5 X 13 = 65\n",
            "6 X 13 = 78\n",
            "7 X 13 = 91\n",
            "8 X 13 = 104\n",
            "9 X 13 = 117\n",
            "10 X 13 = 130\n"
          ]
        }
      ]
    },
    {
      "cell_type": "code",
      "source": [],
      "metadata": {
        "id": "7Pb5CANdUgOK"
      },
      "execution_count": null,
      "outputs": []
    }
  ]
}