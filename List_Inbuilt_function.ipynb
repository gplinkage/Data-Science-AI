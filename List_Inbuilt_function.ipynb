{
  "nbformat": 4,
  "nbformat_minor": 0,
  "metadata": {
    "colab": {
      "provenance": [],
      "authorship_tag": "ABX9TyN/AiQKkXvaMl3mfxHosdnF",
      "include_colab_link": true
    },
    "kernelspec": {
      "name": "python3",
      "display_name": "Python 3"
    },
    "language_info": {
      "name": "python"
    }
  },
  "cells": [
    {
      "cell_type": "markdown",
      "metadata": {
        "id": "view-in-github",
        "colab_type": "text"
      },
      "source": [
        "<a href=\"https://colab.research.google.com/github/gplinkage/DataScienceBootCamp/blob/main/List_Inbuilt_function.ipynb\" target=\"_parent\"><img src=\"https://colab.research.google.com/assets/colab-badge.svg\" alt=\"Open In Colab\"/></a>"
      ]
    },
    {
      "cell_type": "code",
      "execution_count": null,
      "metadata": {
        "colab": {
          "base_uri": "https://localhost:8080/"
        },
        "id": "H4KpO-N_KO61",
        "outputId": "ad14fd23-f140-43b2-adcb-777a84a5180c"
      },
      "outputs": [
        {
          "output_type": "execute_result",
          "data": {
            "text/plain": [
              "['__add__',\n",
              " '__class__',\n",
              " '__class_getitem__',\n",
              " '__contains__',\n",
              " '__delattr__',\n",
              " '__delitem__',\n",
              " '__dir__',\n",
              " '__doc__',\n",
              " '__eq__',\n",
              " '__format__',\n",
              " '__ge__',\n",
              " '__getattribute__',\n",
              " '__getitem__',\n",
              " '__gt__',\n",
              " '__hash__',\n",
              " '__iadd__',\n",
              " '__imul__',\n",
              " '__init__',\n",
              " '__init_subclass__',\n",
              " '__iter__',\n",
              " '__le__',\n",
              " '__len__',\n",
              " '__lt__',\n",
              " '__mul__',\n",
              " '__ne__',\n",
              " '__new__',\n",
              " '__reduce__',\n",
              " '__reduce_ex__',\n",
              " '__repr__',\n",
              " '__reversed__',\n",
              " '__rmul__',\n",
              " '__setattr__',\n",
              " '__setitem__',\n",
              " '__sizeof__',\n",
              " '__str__',\n",
              " '__subclasshook__',\n",
              " 'append',\n",
              " 'clear',\n",
              " 'copy',\n",
              " 'count',\n",
              " 'extend',\n",
              " 'index',\n",
              " 'insert',\n",
              " 'pop',\n",
              " 'remove',\n",
              " 'reverse',\n",
              " 'sort']"
            ]
          },
          "metadata": {},
          "execution_count": 3
        }
      ],
      "source": [
        "dir(a)"
      ]
    },
    {
      "cell_type": "code",
      "source": [
        "#appends or adds the value at the last index of the list\n",
        "a= [1,2,3,4,5,6,7]\n",
        "print(\"Beofer append\", a)\n",
        "a.append (8)\n",
        "print (\"After append\",a)\n"
      ],
      "metadata": {
        "colab": {
          "base_uri": "https://localhost:8080/"
        },
        "id": "uzMVVtXEKuc5",
        "outputId": "be1a16e5-ae6a-4861-ebaa-6aa68712ef72"
      },
      "execution_count": null,
      "outputs": [
        {
          "output_type": "stream",
          "name": "stdout",
          "text": [
            "Beofer append [1, 2, 3, 4, 5, 6, 7]\n",
            "After append [1, 2, 3, 4, 5, 6, 7, 8]\n"
          ]
        }
      ]
    },
    {
      "cell_type": "code",
      "source": [
        "# clear function removes everyting from the list\n",
        "a= [1,2,3,4,5,6,7]\n",
        "print(\"Beofer clear\", a)\n",
        "a.clear()\n",
        "print (\"After clear\",a)"
      ],
      "metadata": {
        "colab": {
          "base_uri": "https://localhost:8080/"
        },
        "id": "TY0Je4tzLGTi",
        "outputId": "31ab6201-bb7f-4f52-bf63-2c6811bb8599"
      },
      "execution_count": null,
      "outputs": [
        {
          "output_type": "stream",
          "name": "stdout",
          "text": [
            "Beofer clear [1, 2, 3, 4, 5, 6, 7]\n",
            "After clear []\n"
          ]
        }
      ]
    },
    {
      "cell_type": "code",
      "source": [
        "# copy function, remembers the state\n",
        "a_list= [1,2,3,4,5,6,7]\n",
        "b_list = a_list\n",
        "c_list = a_list.copy()\n",
        "print(\"Before Operation Actual List \", a_list)\n",
        "print(\"Before Operation Actual List \", b_list)\n",
        "print(\"Before Operation Copy List \", c_list)\n",
        "print (\"=============================\")\n",
        "#Make a Operation on a_list\n",
        "a_list.append(8)\n",
        "print(\"After Operation Actual List \", a_list)\n",
        "print(\"After Operation Actual List \", b_list)\n",
        "print(\"After Operation Copy List \", c_list)\n"
      ],
      "metadata": {
        "colab": {
          "base_uri": "https://localhost:8080/"
        },
        "id": "A5Si_eOSLlyU",
        "outputId": "1d26e1b8-4383-43bb-9e8b-4286f9b13eb1"
      },
      "execution_count": null,
      "outputs": [
        {
          "output_type": "stream",
          "name": "stdout",
          "text": [
            "Before Operation Actual List  [1, 2, 3, 4, 5, 6, 7]\n",
            "Before Operation Actual List  [1, 2, 3, 4, 5, 6, 7]\n",
            "Before Operation Copy List  [1, 2, 3, 4, 5, 6, 7]\n",
            "=============================\n",
            "After Operation Actual List  [1, 2, 3, 4, 5, 6, 7, 8]\n",
            "After Operation Actual List  [1, 2, 3, 4, 5, 6, 7, 8]\n",
            "After Operation Copy List  [1, 2, 3, 4, 5, 6, 7]\n"
          ]
        }
      ]
    },
    {
      "cell_type": "code",
      "source": [
        "# Count function  returs the frequency of items in a list\n",
        "a_list= [1,2,3,4,5,6,7]\n",
        "print((a_list.count(4))) # counted number of 4s in the list (=1)\n",
        "print((a_list.count(8))) # counts the number of 8s in the list (=0)"
      ],
      "metadata": {
        "colab": {
          "base_uri": "https://localhost:8080/"
        },
        "id": "AE6ZmUC4Nn2k",
        "outputId": "77fd0afd-9204-419c-9103-88641f6e83e5"
      },
      "execution_count": null,
      "outputs": [
        {
          "output_type": "stream",
          "name": "stdout",
          "text": [
            "1\n",
            "0\n"
          ]
        }
      ]
    },
    {
      "cell_type": "code",
      "source": [
        "# Extend function\n",
        "#append\n",
        "a_list= [1,2,3,4,5,6,7]\n",
        "a_list.append([8,9,10])\n",
        "print(\"Append function \", a_list)\n",
        "print(\"Append function len \", len(a_list))\n",
        "print(a_list[7][1])\n",
        "print(a_list[7][::-1])"
      ],
      "metadata": {
        "colab": {
          "base_uri": "https://localhost:8080/"
        },
        "id": "2-s7FzxLOVne",
        "outputId": "e2dbd202-98df-4b1f-ed32-8edbad29a33c"
      },
      "execution_count": null,
      "outputs": [
        {
          "output_type": "stream",
          "name": "stdout",
          "text": [
            "Append function  [1, 2, 3, 4, 5, 6, 7, [8, 9, 10]]\n",
            "Append function len  8\n",
            "9\n",
            "[10, 9, 8]\n"
          ]
        }
      ]
    },
    {
      "cell_type": "code",
      "source": [
        "#Extend\n",
        "a_list= [1,2,3,4,5,6,7]\n",
        "a_list.extend([8,9,10])\n",
        "print(\"Extend function \", a_list)\n",
        "print(\"Extend function len \", len(a_list))"
      ],
      "metadata": {
        "colab": {
          "base_uri": "https://localhost:8080/"
        },
        "id": "T5JE3iTAO8La",
        "outputId": "0802edb9-41cb-4562-c126-da8f23e2cafd"
      },
      "execution_count": null,
      "outputs": [
        {
          "output_type": "stream",
          "name": "stdout",
          "text": [
            "Extend function  [1, 2, 3, 4, 5, 6, 7, 8, 9, 10]\n",
            "Extend function len  10\n"
          ]
        }
      ]
    },
    {
      "cell_type": "code",
      "source": [
        "#Index\n",
        "a_list= [1,2,3,4,5,6,7]\n",
        "a_list.index(4)\n"
      ],
      "metadata": {
        "colab": {
          "base_uri": "https://localhost:8080/"
        },
        "id": "tnr1zOjLSMz8",
        "outputId": "910d3822-fe36-46a4-9cb1-bb3fa62c2b81"
      },
      "execution_count": 76,
      "outputs": [
        {
          "output_type": "execute_result",
          "data": {
            "text/plain": [
              "3"
            ]
          },
          "metadata": {},
          "execution_count": 76
        }
      ]
    },
    {
      "cell_type": "code",
      "source": [
        "#insert takes two values index and object/value/number\n",
        "a_list= [1,2,3,4,5,6,7]\n",
        "a_list.insert(2, 9)\n",
        "print(a_list)"
      ],
      "metadata": {
        "colab": {
          "base_uri": "https://localhost:8080/"
        },
        "id": "KPwA7NVVU23-",
        "outputId": "ba419f63-3e80-4432-a776-4dc32fbcca19"
      },
      "execution_count": null,
      "outputs": [
        {
          "output_type": "stream",
          "name": "stdout",
          "text": [
            "[1, 2, 9, 3, 4, 5, 6, 7]\n"
          ]
        }
      ]
    },
    {
      "cell_type": "code",
      "source": [
        "# Pop function removes an item from the list at a given index or the last one if index not defined\n",
        "a_list= [1,2,3,4,5,6,7]\n",
        "a_list.pop()\n",
        "print(a_list)\n",
        "a_list.pop(3)\n",
        "print(a_list)\n"
      ],
      "metadata": {
        "colab": {
          "base_uri": "https://localhost:8080/"
        },
        "id": "1jcGSFGCVp_b",
        "outputId": "3140b9ee-9823-4ecc-c18b-3b579d8d34d0"
      },
      "execution_count": null,
      "outputs": [
        {
          "output_type": "stream",
          "name": "stdout",
          "text": [
            "[1, 2, 3, 4, 5, 6]\n",
            "[1, 2, 3, 5, 6]\n"
          ]
        }
      ]
    },
    {
      "cell_type": "code",
      "source": [
        "# Remove function removes the passed item at their first occurance\n",
        "a_list= [1,2,3,4,5,6,7]\n",
        "a_list.remove(4)\n",
        "print(a_list)\n"
      ],
      "metadata": {
        "colab": {
          "base_uri": "https://localhost:8080/"
        },
        "id": "u5oU1aOlWkQY",
        "outputId": "0e948be7-f7f1-4be2-e904-95771b36709b"
      },
      "execution_count": null,
      "outputs": [
        {
          "output_type": "stream",
          "name": "stdout",
          "text": [
            "[1, 2, 3, 5, 6, 7]\n"
          ]
        }
      ]
    },
    {
      "cell_type": "code",
      "source": [
        "# reverse function reverses the list\n",
        "a_list= [1,2,3,4,5,6,7]\n",
        "a_list.reverse()\n",
        "print(a_list)"
      ],
      "metadata": {
        "colab": {
          "base_uri": "https://localhost:8080/"
        },
        "id": "0o0v_DIlXQij",
        "outputId": "7cbe1a16-d2f5-49c5-fbf6-a1501c4bf309"
      },
      "execution_count": null,
      "outputs": [
        {
          "output_type": "stream",
          "name": "stdout",
          "text": [
            "[7, 6, 5, 4, 3, 2, 1]\n"
          ]
        }
      ]
    },
    {
      "cell_type": "code",
      "source": [
        "# Sort function, default is ascending order\n",
        "a_list= [11,2,30,4,15,6,7]\n",
        "a_list.sort()\n",
        "print(a_list)\n",
        "a_list.sort(reverse=True)\n",
        "print(a_list)"
      ],
      "metadata": {
        "colab": {
          "base_uri": "https://localhost:8080/"
        },
        "id": "hiQmqOChYbHK",
        "outputId": "2743f273-ec83-409d-a553-8662a57ae230"
      },
      "execution_count": null,
      "outputs": [
        {
          "output_type": "stream",
          "name": "stdout",
          "text": [
            "[2, 4, 6, 7, 11, 15, 30]\n",
            "[30, 15, 11, 7, 6, 4, 2]\n"
          ]
        }
      ]
    },
    {
      "cell_type": "code",
      "source": [
        "dir(b_tup)"
      ],
      "metadata": {
        "colab": {
          "base_uri": "https://localhost:8080/"
        },
        "id": "eEiQPVDPaSWA",
        "outputId": "f6b0b9ed-68ff-41e5-975b-67e25f67da08"
      },
      "execution_count": null,
      "outputs": [
        {
          "output_type": "execute_result",
          "data": {
            "text/plain": [
              "['__add__',\n",
              " '__class__',\n",
              " '__class_getitem__',\n",
              " '__contains__',\n",
              " '__delattr__',\n",
              " '__dir__',\n",
              " '__doc__',\n",
              " '__eq__',\n",
              " '__format__',\n",
              " '__ge__',\n",
              " '__getattribute__',\n",
              " '__getitem__',\n",
              " '__getnewargs__',\n",
              " '__gt__',\n",
              " '__hash__',\n",
              " '__init__',\n",
              " '__init_subclass__',\n",
              " '__iter__',\n",
              " '__le__',\n",
              " '__len__',\n",
              " '__lt__',\n",
              " '__mul__',\n",
              " '__ne__',\n",
              " '__new__',\n",
              " '__reduce__',\n",
              " '__reduce_ex__',\n",
              " '__repr__',\n",
              " '__rmul__',\n",
              " '__setattr__',\n",
              " '__sizeof__',\n",
              " '__str__',\n",
              " '__subclasshook__',\n",
              " 'count',\n",
              " 'index']"
            ]
          },
          "metadata": {},
          "execution_count": 63
        }
      ]
    },
    {
      "cell_type": "code",
      "source": [
        "#Count for tuple\n",
        "b_tup=(1,2,3,4,5)\n",
        "b_tup.count(4)"
      ],
      "metadata": {
        "colab": {
          "base_uri": "https://localhost:8080/"
        },
        "id": "8qYZnrRWagoA",
        "outputId": "44d754ba-fe41-43af-826e-d6a420ffa371"
      },
      "execution_count": null,
      "outputs": [
        {
          "output_type": "execute_result",
          "data": {
            "text/plain": [
              "1"
            ]
          },
          "metadata": {},
          "execution_count": 61
        }
      ]
    },
    {
      "cell_type": "code",
      "source": [
        "#Index for tuple\n",
        "b_tup=(1,2,3,4,5)\n",
        "b_tup.index(4)"
      ],
      "metadata": {
        "colab": {
          "base_uri": "https://localhost:8080/"
        },
        "id": "S6aZqkCpa6rS",
        "outputId": "c94a8443-267e-4e0c-83d1-a656a0ed1c24"
      },
      "execution_count": null,
      "outputs": [
        {
          "output_type": "execute_result",
          "data": {
            "text/plain": [
              "3"
            ]
          },
          "metadata": {},
          "execution_count": 62
        }
      ]
    },
    {
      "cell_type": "code",
      "source": [
        "dir(a_set)"
      ],
      "metadata": {
        "colab": {
          "base_uri": "https://localhost:8080/"
        },
        "id": "k5LnrHVjcMq5",
        "outputId": "a95edbbc-f608-4e5e-a638-d1e46e226455"
      },
      "execution_count": null,
      "outputs": [
        {
          "output_type": "execute_result",
          "data": {
            "text/plain": [
              "['__and__',\n",
              " '__class__',\n",
              " '__class_getitem__',\n",
              " '__contains__',\n",
              " '__delattr__',\n",
              " '__dir__',\n",
              " '__doc__',\n",
              " '__eq__',\n",
              " '__format__',\n",
              " '__ge__',\n",
              " '__getattribute__',\n",
              " '__gt__',\n",
              " '__hash__',\n",
              " '__iand__',\n",
              " '__init__',\n",
              " '__init_subclass__',\n",
              " '__ior__',\n",
              " '__isub__',\n",
              " '__iter__',\n",
              " '__ixor__',\n",
              " '__le__',\n",
              " '__len__',\n",
              " '__lt__',\n",
              " '__ne__',\n",
              " '__new__',\n",
              " '__or__',\n",
              " '__rand__',\n",
              " '__reduce__',\n",
              " '__reduce_ex__',\n",
              " '__repr__',\n",
              " '__ror__',\n",
              " '__rsub__',\n",
              " '__rxor__',\n",
              " '__setattr__',\n",
              " '__sizeof__',\n",
              " '__str__',\n",
              " '__sub__',\n",
              " '__subclasshook__',\n",
              " '__xor__',\n",
              " 'add',\n",
              " 'clear',\n",
              " 'copy',\n",
              " 'difference',\n",
              " 'difference_update',\n",
              " 'discard',\n",
              " 'intersection',\n",
              " 'intersection_update',\n",
              " 'isdisjoint',\n",
              " 'issubset',\n",
              " 'issuperset',\n",
              " 'pop',\n",
              " 'remove',\n",
              " 'symmetric_difference',\n",
              " 'symmetric_difference_update',\n",
              " 'union',\n",
              " 'update']"
            ]
          },
          "metadata": {},
          "execution_count": 66
        }
      ]
    },
    {
      "cell_type": "code",
      "source": [
        "#set\n",
        "a_set={2, 4, 5, 6, 7,8}\n",
        "\n"
      ],
      "metadata": {
        "id": "PPYUju9GcCKi"
      },
      "execution_count": null,
      "outputs": []
    },
    {
      "cell_type": "code",
      "source": [
        "#add function\n",
        "a_set={2, 4, 5, 6, 7,8}\n",
        "a_set.add(1)\n",
        "print(a_set)"
      ],
      "metadata": {
        "colab": {
          "base_uri": "https://localhost:8080/"
        },
        "id": "YkuaiY6mcX18",
        "outputId": "e231806f-8a00-4efc-b531-1c55e93df2c2"
      },
      "execution_count": 2,
      "outputs": [
        {
          "output_type": "stream",
          "name": "stdout",
          "text": [
            "{1, 2, 4, 5, 6, 7, 8}\n"
          ]
        }
      ]
    },
    {
      "cell_type": "code",
      "source": [
        "#clear function\n",
        "a_set={2, 4, 5, 6, 7,8}\n",
        "a_set.clear()\n",
        "print(a_set)"
      ],
      "metadata": {
        "colab": {
          "base_uri": "https://localhost:8080/"
        },
        "id": "SSBVjta8Zgpr",
        "outputId": "97904a73-5c15-4715-c8c9-3ea11cdc574a"
      },
      "execution_count": 5,
      "outputs": [
        {
          "output_type": "stream",
          "name": "stdout",
          "text": [
            "set()\n"
          ]
        }
      ]
    },
    {
      "cell_type": "code",
      "source": [
        "#copy function\n",
        "a_set={2, 4, 5, 6, 7,8}\n",
        "b_set = a_set.copy()\n",
        "print(b_set)"
      ],
      "metadata": {
        "colab": {
          "base_uri": "https://localhost:8080/"
        },
        "id": "TYTK1VjcZvyC",
        "outputId": "f0b4281d-e6f2-4ba2-f084-c2c23904630c"
      },
      "execution_count": 10,
      "outputs": [
        {
          "output_type": "stream",
          "name": "stdout",
          "text": [
            "{2, 4, 5, 6, 7, 8}\n"
          ]
        }
      ]
    },
    {
      "cell_type": "code",
      "source": [
        "#difference\n",
        "a_set={2, 4, 5, 6, 7,8}\n",
        "b_set={2, 6, 8, 12, 16}\n",
        "c_set = b_set.difference(a_set)\n",
        "print(c_set)"
      ],
      "metadata": {
        "colab": {
          "base_uri": "https://localhost:8080/"
        },
        "id": "s1u9qK1zaZ1m",
        "outputId": "3cb6cc99-fb74-4d29-e40d-66dd05d23303"
      },
      "execution_count": 20,
      "outputs": [
        {
          "output_type": "stream",
          "name": "stdout",
          "text": [
            "{16, 12}\n"
          ]
        }
      ]
    },
    {
      "cell_type": "code",
      "source": [
        "#difference update\n",
        "a_set={2, 4, 5, 6, 7,8}\n",
        "b_set={2, 6, 8, 12, 16}\n",
        "a_set.difference_update(b_set)\n",
        "print(a_set)"
      ],
      "metadata": {
        "colab": {
          "base_uri": "https://localhost:8080/"
        },
        "id": "aapMJodIv24v",
        "outputId": "1e2f1ab8-e1b4-43fd-884e-af8ad2a2100c"
      },
      "execution_count": 31,
      "outputs": [
        {
          "output_type": "stream",
          "name": "stdout",
          "text": [
            "{4, 5, 7}\n"
          ]
        }
      ]
    },
    {
      "cell_type": "code",
      "source": [
        "#discard\n",
        "a_set={2, 4, 5, 6, 7,8}\n",
        "a_set.discard(4)\n",
        "print(a_set)"
      ],
      "metadata": {
        "colab": {
          "base_uri": "https://localhost:8080/"
        },
        "id": "ToPP_PwqN6-5",
        "outputId": "72b86374-5ad7-4a8b-9ffc-b7127faf487a"
      },
      "execution_count": 34,
      "outputs": [
        {
          "output_type": "stream",
          "name": "stdout",
          "text": [
            "{2, 5, 6, 7, 8}\n"
          ]
        }
      ]
    },
    {
      "cell_type": "code",
      "source": [
        "#intersection\n",
        "a_set={2, 4, 5, 6, 7,8}\n",
        "b_set={0,1,4,9,11,12}\n",
        "b_set.intersection(a_set)"
      ],
      "metadata": {
        "colab": {
          "base_uri": "https://localhost:8080/"
        },
        "id": "l79C7EiiOUji",
        "outputId": "5f4edaa4-fc75-4894-faa3-7ded16b03377"
      },
      "execution_count": 38,
      "outputs": [
        {
          "output_type": "execute_result",
          "data": {
            "text/plain": [
              "{4}"
            ]
          },
          "metadata": {},
          "execution_count": 38
        }
      ]
    },
    {
      "cell_type": "code",
      "source": [
        "#intersection_update\n",
        "a_set={2, 4, 5, 6, 7,8}\n",
        "b_set={0,1,4,9,11,12}\n",
        "b_set.intersection_update(a_set)\n",
        "print(b_set)"
      ],
      "metadata": {
        "colab": {
          "base_uri": "https://localhost:8080/"
        },
        "id": "zrnEPUzaO1me",
        "outputId": "1fca58c2-ab05-4389-dd2b-cc81538cd320"
      },
      "execution_count": 41,
      "outputs": [
        {
          "output_type": "stream",
          "name": "stdout",
          "text": [
            "{4}\n"
          ]
        }
      ]
    },
    {
      "cell_type": "code",
      "source": [
        "#isdisjoint\n",
        "a_set={2, 4, 5, 6, 7,8}\n",
        "b_set={0,1,4,9,11,12}\n",
        "b_set.isdisjoint(a_set)"
      ],
      "metadata": {
        "colab": {
          "base_uri": "https://localhost:8080/"
        },
        "id": "BtyMNcA7PEKD",
        "outputId": "79863562-9c46-422d-cf33-ff72222928b0"
      },
      "execution_count": 43,
      "outputs": [
        {
          "output_type": "execute_result",
          "data": {
            "text/plain": [
              "False"
            ]
          },
          "metadata": {},
          "execution_count": 43
        }
      ]
    },
    {
      "cell_type": "code",
      "source": [
        "a_set={2, 4, 5, 6, 7,8}\n",
        "b_set={0,1,3,9,11,12}\n",
        "b_set.isdisjoint(a_set)"
      ],
      "metadata": {
        "colab": {
          "base_uri": "https://localhost:8080/"
        },
        "id": "ezje6rR4PapS",
        "outputId": "a90b3364-adc6-4a11-d50f-e22668765150"
      },
      "execution_count": 44,
      "outputs": [
        {
          "output_type": "execute_result",
          "data": {
            "text/plain": [
              "True"
            ]
          },
          "metadata": {},
          "execution_count": 44
        }
      ]
    },
    {
      "cell_type": "code",
      "source": [
        "#issubset\n",
        "a_set={2, 4, 5, 6, 7,8}\n",
        "b_set={0,1,3,9,11,12}\n",
        "b_set.issubset(a_set)"
      ],
      "metadata": {
        "colab": {
          "base_uri": "https://localhost:8080/"
        },
        "id": "jUoN9PhoPhQM",
        "outputId": "c4ecd0ed-8d80-4209-aa76-02975e888366"
      },
      "execution_count": 46,
      "outputs": [
        {
          "output_type": "execute_result",
          "data": {
            "text/plain": [
              "False"
            ]
          },
          "metadata": {},
          "execution_count": 46
        }
      ]
    },
    {
      "cell_type": "code",
      "source": [
        "a_set={2, 4, 5, 6, 7,8}\n",
        "b_set={4,5}\n",
        "b_set.issubset(a_set)"
      ],
      "metadata": {
        "colab": {
          "base_uri": "https://localhost:8080/"
        },
        "id": "CWVbrtQLPyfX",
        "outputId": "dd09cb22-3df6-4d78-c373-75e97db834ef"
      },
      "execution_count": 47,
      "outputs": [
        {
          "output_type": "execute_result",
          "data": {
            "text/plain": [
              "True"
            ]
          },
          "metadata": {},
          "execution_count": 47
        }
      ]
    },
    {
      "cell_type": "code",
      "source": [
        "#issuperset\n",
        "a_set={2, 4, 5, 6, 7,8}\n",
        "b_set={4,5}\n",
        "b_set.issuperset(a_set)"
      ],
      "metadata": {
        "colab": {
          "base_uri": "https://localhost:8080/"
        },
        "id": "eM7fwdGnP53w",
        "outputId": "6763a3c1-4b79-4587-d4d1-08f7c3a3e851"
      },
      "execution_count": 48,
      "outputs": [
        {
          "output_type": "execute_result",
          "data": {
            "text/plain": [
              "False"
            ]
          },
          "metadata": {},
          "execution_count": 48
        }
      ]
    },
    {
      "cell_type": "code",
      "source": [
        "a_set={2, 4, 5, 6, 7,8}\n",
        "b_set={4,5}\n",
        "a_set.issuperset(b_set)"
      ],
      "metadata": {
        "colab": {
          "base_uri": "https://localhost:8080/"
        },
        "id": "TVfgh7HbQAau",
        "outputId": "c4b15ce2-dbbb-4fa0-e91e-7dcf10adb4b6"
      },
      "execution_count": 49,
      "outputs": [
        {
          "output_type": "execute_result",
          "data": {
            "text/plain": [
              "True"
            ]
          },
          "metadata": {},
          "execution_count": 49
        }
      ]
    },
    {
      "cell_type": "code",
      "source": [
        "#pop\n",
        "a_set={2, 4, 5, 6, 7,8}\n",
        "a_set.pop()\n"
      ],
      "metadata": {
        "colab": {
          "base_uri": "https://localhost:8080/"
        },
        "id": "ERzhjGf-QG4V",
        "outputId": "2ef0eb0b-e60a-4c6e-eae8-719081ab8938"
      },
      "execution_count": 78,
      "outputs": [
        {
          "output_type": "execute_result",
          "data": {
            "text/plain": [
              "2"
            ]
          },
          "metadata": {},
          "execution_count": 78
        }
      ]
    },
    {
      "cell_type": "code",
      "source": [
        "#remove\n",
        "a_set={2, 4, 5, 6, 7,8}\n",
        "a_set.remove(4)\n",
        "print(a_set)"
      ],
      "metadata": {
        "colab": {
          "base_uri": "https://localhost:8080/"
        },
        "id": "b6vIPgLFQSZo",
        "outputId": "734a295f-e090-4b2c-b80e-e00bdb870f63"
      },
      "execution_count": 53,
      "outputs": [
        {
          "output_type": "stream",
          "name": "stdout",
          "text": [
            "{2, 5, 6, 7, 8}\n"
          ]
        }
      ]
    },
    {
      "cell_type": "code",
      "source": [
        "#symmetric_difference\n",
        "a_set={2, 4, 5, 6, 7,8}\n",
        "b_set={0,1,3,9,11,12}\n",
        "a_set.symmetric_difference(b_set)\n"
      ],
      "metadata": {
        "colab": {
          "base_uri": "https://localhost:8080/"
        },
        "id": "c7PdUOkLQobw",
        "outputId": "35c738c6-cf33-4f0d-d8f1-06a9d394db44"
      },
      "execution_count": 56,
      "outputs": [
        {
          "output_type": "execute_result",
          "data": {
            "text/plain": [
              "{0, 1, 2, 3, 4, 5, 6, 7, 8, 9, 11, 12}"
            ]
          },
          "metadata": {},
          "execution_count": 56
        }
      ]
    },
    {
      "cell_type": "code",
      "source": [
        " #symmetric_difference_update,\n",
        "a_set={2, 4, 5, 6, 7,8}\n",
        "b_set={0,1,3,9,11,12}\n",
        "a_set.symmetric_difference_update(b_set)\n",
        "print(a_set)\n",
        "print(b_set)"
      ],
      "metadata": {
        "colab": {
          "base_uri": "https://localhost:8080/"
        },
        "id": "iqHsIMWvQumk",
        "outputId": "9dde49c9-1082-4b77-dde9-ff6ed5e3d3dc"
      },
      "execution_count": 61,
      "outputs": [
        {
          "output_type": "stream",
          "name": "stdout",
          "text": [
            "{0, 1, 2, 3, 4, 5, 6, 7, 8, 9, 11, 12}\n",
            "{0, 1, 3, 9, 11, 12}\n"
          ]
        }
      ]
    },
    {
      "cell_type": "code",
      "source": [
        " #union\n",
        "a_set={2, 4, 5, 6, 7,8}\n",
        "b_set={0,1,3,9,11,12}\n",
        "a_set.union(b_set)\n"
      ],
      "metadata": {
        "colab": {
          "base_uri": "https://localhost:8080/"
        },
        "id": "ZSG26x06QwiT",
        "outputId": "5c2f9fc1-493c-489a-963d-45aafdc2aa48"
      },
      "execution_count": 70,
      "outputs": [
        {
          "output_type": "stream",
          "name": "stdout",
          "text": [
            "{2, 4, 5, 6, 7, 8}\n",
            "{0, 1, 3, 9, 11, 12}\n"
          ]
        }
      ]
    },
    {
      "cell_type": "code",
      "source": [
        "#update\n",
        "a_set={2, 4, 5, 6, 7,8}\n",
        "b_set={0,1,3,9,11,12}\n",
        "a_set.union(b_set)\n",
        "a_set.update(b_set)\n",
        "print(a_set)"
      ],
      "metadata": {
        "colab": {
          "base_uri": "https://localhost:8080/"
        },
        "id": "0gr3j1T5Qyj3",
        "outputId": "26eae6d6-6bb6-4121-baec-33882a431038"
      },
      "execution_count": 71,
      "outputs": [
        {
          "output_type": "stream",
          "name": "stdout",
          "text": [
            "{0, 1, 2, 3, 4, 5, 6, 7, 8, 9, 11, 12}\n"
          ]
        }
      ]
    }
  ]
}