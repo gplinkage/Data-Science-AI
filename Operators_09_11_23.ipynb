{
  "nbformat": 4,
  "nbformat_minor": 0,
  "metadata": {
    "colab": {
      "provenance": [],
      "authorship_tag": "ABX9TyMHFZvpuOnI+/pP15sIPVTi",
      "include_colab_link": true
    },
    "kernelspec": {
      "name": "python3",
      "display_name": "Python 3"
    },
    "language_info": {
      "name": "python"
    }
  },
  "cells": [
    {
      "cell_type": "markdown",
      "metadata": {
        "id": "view-in-github",
        "colab_type": "text"
      },
      "source": [
        "<a href=\"https://colab.research.google.com/github/gplinkage/DataScienceBootCamp/blob/main/Operators_09_11_23.ipynb\" target=\"_parent\"><img src=\"https://colab.research.google.com/assets/colab-badge.svg\" alt=\"Open In Colab\"/></a>"
      ]
    },
    {
      "cell_type": "code",
      "execution_count": 2,
      "metadata": {
        "colab": {
          "base_uri": "https://localhost:8080/"
        },
        "id": "WAUI-w7MGilJ",
        "outputId": "e0803897-ad7c-48b3-b138-8a5c4e3dff67"
      },
      "outputs": [
        {
          "output_type": "stream",
          "name": "stdout",
          "text": [
            "120\n",
            "80\n",
            "2000\n",
            "5.0\n",
            "0\n",
            "5\n",
            "10000000000000000000000000000000000000000\n"
          ]
        }
      ],
      "source": [
        "# arithmetic operators\n",
        "\n",
        "a = 100\n",
        "b = 20\n",
        "\n",
        "print(a + b)\n",
        "print(a - b)\n",
        "print(a * b)\n",
        "print(a / b)\n",
        "print(a % b) # remainder\n",
        "print(a // b)\n",
        "print(a**b) #exponential\n"
      ]
    },
    {
      "cell_type": "code",
      "source": [
        "#Comparision operators\n",
        "a=100\n",
        "b=20\n",
        "print(a==b)\n",
        "print(a!=b)\n",
        "print(a>b)\n",
        "print(a<b)\n",
        "print(a>=b)\n",
        "print(a<=b)\n"
      ],
      "metadata": {
        "colab": {
          "base_uri": "https://localhost:8080/"
        },
        "id": "a9mLSRtzGyiP",
        "outputId": "ab685d93-cf13-41c4-9b99-1ac2c796244e"
      },
      "execution_count": 3,
      "outputs": [
        {
          "output_type": "stream",
          "name": "stdout",
          "text": [
            "False\n",
            "True\n",
            "True\n",
            "False\n",
            "True\n",
            "False\n"
          ]
        }
      ]
    },
    {
      "cell_type": "code",
      "source": [
        "# Assignment Operator\n",
        "# a= a+b => a+=b\n",
        "\n",
        "a=100\n",
        "b=20\n",
        "\n",
        "a +=b\n",
        "print(a,b)\n",
        "\n",
        "a -=b\n",
        "print(a,b)\n",
        "\n",
        "a*=b\n",
        "print(a,b)\n",
        "\n",
        "a/=b\n",
        "print(a,b)\n",
        "\n",
        "a%=b\n",
        "print(a,b)\n",
        "\n",
        "a//=b\n",
        "print(a,b)\n",
        "\n",
        "a**=b\n",
        "print(a,b)"
      ],
      "metadata": {
        "colab": {
          "base_uri": "https://localhost:8080/"
        },
        "id": "pL2QZJQ7HNNi",
        "outputId": "63291176-7aa4-411e-c28a-eef1864a99bb"
      },
      "execution_count": 11,
      "outputs": [
        {
          "output_type": "stream",
          "name": "stdout",
          "text": [
            "120 20\n",
            "100 20\n",
            "2000 20\n",
            "100.0 20\n",
            "0.0 20\n",
            "0.0 20\n",
            "0.0 20\n"
          ]
        }
      ]
    },
    {
      "cell_type": "code",
      "source": [
        "a=20\n",
        "b=5\n",
        "print(a,b)\n",
        "\n",
        "a+=b\n",
        "print(a,b)\n",
        "\n",
        "b+=a\n",
        "print(a,b)\n",
        "\n",
        "a*=b\n",
        "print(a,b)\n",
        "\n",
        "a/=b\n",
        "print(a,b)\n",
        "\n",
        "a%=b\n",
        "print(a,b)\n",
        "\n",
        "a//=b\n",
        "print(a,b)\n",
        "\n",
        "a**=b\n",
        "print(a,b)"
      ],
      "metadata": {
        "colab": {
          "base_uri": "https://localhost:8080/"
        },
        "id": "alLVSkw5JOSV",
        "outputId": "a1815599-5911-412e-df86-df9da6528bf9"
      },
      "execution_count": 22,
      "outputs": [
        {
          "output_type": "stream",
          "name": "stdout",
          "text": [
            "20 5\n",
            "25 5\n",
            "25 30\n",
            "750 30\n",
            "25.0 30\n",
            "25.0 30\n",
            "0.0 30\n",
            "0.0 30\n"
          ]
        }
      ]
    },
    {
      "cell_type": "code",
      "source": [
        "# Logical Operators\n",
        "# \"And\", \"Or\" and \"not\" operators\n",
        "# And needs both condition to be true, or needs only one condition to be true\n",
        "a=100\n",
        "b=20\n",
        "\n",
        "print(a > 80 and b < 80)\n",
        "print(a == 80 and b < 80)\n",
        "print(a < 80 and b > 80)\n",
        "print(a > 80 and b > 80)\n",
        "\n",
        "print(a > 80 or b < 80)\n",
        "print(a == 80 or b < 80)\n",
        "print(a < 80 or b > 80)\n",
        "print(a > 80 or b > 80)\n"
      ],
      "metadata": {
        "colab": {
          "base_uri": "https://localhost:8080/"
        },
        "id": "ef5X3_IVLXAE",
        "outputId": "e69794ab-86b9-43a2-a7b4-66e45c977973"
      },
      "execution_count": 28,
      "outputs": [
        {
          "output_type": "stream",
          "name": "stdout",
          "text": [
            "True\n",
            "False\n",
            "False\n",
            "False\n",
            "True\n",
            "True\n",
            "False\n",
            "True\n"
          ]
        }
      ]
    },
    {
      "cell_type": "code",
      "source": [
        "#Python membership operators\n",
        "a=100\n",
        "b=[100, 200, 300, 400, 500]\n",
        "print (a in b)\n",
        "\n",
        "\n",
        "a=600\n",
        "b=[100, 200, 300, 400, 500]\n",
        "print(a in b)"
      ],
      "metadata": {
        "colab": {
          "base_uri": "https://localhost:8080/"
        },
        "id": "AbGwaNEZMn9N",
        "outputId": "73bc9f96-8100-4607-d22f-fd1f6806714a"
      },
      "execution_count": 33,
      "outputs": [
        {
          "output_type": "stream",
          "name": "stdout",
          "text": [
            "True\n",
            "False\n"
          ]
        }
      ]
    },
    {
      "cell_type": "code",
      "source": [
        "a=100\n",
        "b=[100, 200, 300, 400, 500]\n",
        "print (a not in b)\n",
        "\n",
        "\n",
        "a=600\n",
        "b=[100, 200, 300, 400, 500]\n",
        "print(a not in b)"
      ],
      "metadata": {
        "colab": {
          "base_uri": "https://localhost:8080/"
        },
        "id": "63hnEFEPNIzL",
        "outputId": "ac7a5300-11fd-4847-b739-af80adac0004"
      },
      "execution_count": 34,
      "outputs": [
        {
          "output_type": "stream",
          "name": "stdout",
          "text": [
            "False\n",
            "True\n"
          ]
        }
      ]
    },
    {
      "cell_type": "code",
      "source": [
        "#Python identity operators\n",
        "a=100\n",
        "b=20\n",
        "\n",
        "a is b\n",
        "\n",
        "a=20\n",
        "\n",
        "a is b\n",
        "\n",
        "a is not b"
      ],
      "metadata": {
        "colab": {
          "base_uri": "https://localhost:8080/"
        },
        "id": "l_DC7JvpNlGZ",
        "outputId": "e5ff76d4-0318-4a96-d085-d9da4e04fae0"
      },
      "execution_count": 38,
      "outputs": [
        {
          "output_type": "execute_result",
          "data": {
            "text/plain": [
              "False"
            ]
          },
          "metadata": {},
          "execution_count": 38
        }
      ]
    },
    {
      "cell_type": "code",
      "source": [
        "#If statemetn\n",
        "a=100\n",
        "b=20\n",
        "\n",
        "if a<b:\n",
        "  print( 'a is smaller than b')\n",
        "else:\n",
        "    print ('a is bigger than b')"
      ],
      "metadata": {
        "colab": {
          "base_uri": "https://localhost:8080/"
        },
        "id": "9yPEd14yb-tH",
        "outputId": "eced887c-806c-4864-8849-5866dbcc66e3"
      },
      "execution_count": 41,
      "outputs": [
        {
          "output_type": "stream",
          "name": "stdout",
          "text": [
            "a is bigger than b\n"
          ]
        }
      ]
    },
    {
      "cell_type": "code",
      "source": [
        "age = 61\n",
        "if age<=18:\n",
        "  print('you are eligible to vote')\n",
        "elif 60>age>18:\n",
        "  print('you are an adult')\n",
        "elif age>=60:\n",
        "    print('You are a sinior')\n",
        "else:\n",
        "  print('You are a minor')"
      ],
      "metadata": {
        "colab": {
          "base_uri": "https://localhost:8080/"
        },
        "id": "kCh_DLaOcpdO",
        "outputId": "c83121dd-0621-4aca-d8c1-281964484497"
      },
      "execution_count": 46,
      "outputs": [
        {
          "output_type": "stream",
          "name": "stdout",
          "text": [
            "You are a sinior\n"
          ]
        }
      ]
    }
  ]
}