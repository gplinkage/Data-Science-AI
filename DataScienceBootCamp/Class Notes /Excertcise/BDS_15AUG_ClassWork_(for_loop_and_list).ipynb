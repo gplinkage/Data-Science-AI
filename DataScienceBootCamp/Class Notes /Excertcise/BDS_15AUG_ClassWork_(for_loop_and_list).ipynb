{
  "nbformat": 4,
  "nbformat_minor": 0,
  "metadata": {
    "colab": {
      "provenance": [],
      "authorship_tag": "ABX9TyM4+3oWfh1ekQWQDodiKB13",
      "include_colab_link": true
    },
    "kernelspec": {
      "name": "python3",
      "display_name": "Python 3"
    },
    "language_info": {
      "name": "python"
    }
  },
  "cells": [
    {
      "cell_type": "markdown",
      "metadata": {
        "id": "view-in-github",
        "colab_type": "text"
      },
      "source": [
        "<a href=\"https://colab.research.google.com/github/gplinkage/DataScienceBootCamp/blob/main/DataScienceBootCamp/Class%20Notes%20/Excertcise/BDS_15AUG_ClassWork_(for_loop_and_list).ipynb\" target=\"_parent\"><img src=\"https://colab.research.google.com/assets/colab-badge.svg\" alt=\"Open In Colab\"/></a>"
      ]
    },
    {
      "cell_type": "code",
      "execution_count": null,
      "metadata": {
        "colab": {
          "base_uri": "https://localhost:8080/"
        },
        "id": "vgCLC-z9cxBC",
        "outputId": "3e3be691-6b23-43b4-d25c-d393548bb61c"
      },
      "outputs": [
        {
          "output_type": "stream",
          "name": "stdout",
          "text": [
            "[1, 2, 3, 4, 5, 6, 8, 11]\n"
          ]
        }
      ],
      "source": [
        "2#Question 1) Remove all repeated elements from the list Given below using for loop.\n",
        "a_lst=[1,2,3,4,5,11,1,2,6,1,8]\n",
        "b_lst= list(set(a_lst))\n",
        "print(b_lst)"
      ]
    },
    {
      "cell_type": "code",
      "source": [
        "a_lst=[1,2,3,4,5,11,1,2,6,1,8]\n",
        "for k in a_lst:\n",
        "  print(k)"
      ],
      "metadata": {
        "colab": {
          "base_uri": "https://localhost:8080/"
        },
        "id": "ETYQXEHlUxQ8",
        "outputId": "9a9d6017-9988-4d4c-be38-da64ff27a207"
      },
      "execution_count": null,
      "outputs": [
        {
          "output_type": "stream",
          "name": "stdout",
          "text": [
            "1\n",
            "2\n",
            "3\n",
            "4\n",
            "5\n",
            "11\n",
            "1\n",
            "2\n",
            "6\n",
            "1\n",
            "8\n"
          ]
        }
      ]
    },
    {
      "cell_type": "code",
      "source": [
        "a_lst=[1,2,3,4,5,11,1,2,6,1,8]\n",
        "for k in range(len(a_lst)):\n",
        "   print(a_lst[k])"
      ],
      "metadata": {
        "colab": {
          "base_uri": "https://localhost:8080/"
        },
        "id": "WcCzGRijVWQd",
        "outputId": "803a9c66-2169-439b-be8c-82a599458670"
      },
      "execution_count": null,
      "outputs": [
        {
          "output_type": "stream",
          "name": "stdout",
          "text": [
            "1\n",
            "2\n",
            "3\n",
            "4\n",
            "5\n",
            "11\n",
            "1\n",
            "2\n",
            "6\n",
            "1\n",
            "8\n"
          ]
        }
      ]
    },
    {
      "cell_type": "code",
      "source": [
        "a_lst=[1,2,3,4,5,11,1,2,6,1,8]\n",
        "unique_list =[]\n",
        "for k in a_lst:\n",
        "  if k in unique_list:\n",
        "    print('Repeated value: ', k)\n",
        "  else:\n",
        "    unique_list.append(k)\n",
        "print (unique_list)\n"
      ],
      "metadata": {
        "colab": {
          "base_uri": "https://localhost:8080/"
        },
        "id": "mO030tzGWMQX",
        "outputId": "2b7756e1-090f-4548-bb5f-c52a9179ad32"
      },
      "execution_count": null,
      "outputs": [
        {
          "output_type": "stream",
          "name": "stdout",
          "text": [
            "Repeated value:  1\n",
            "Repeated value:  2\n",
            "Repeated value:  1\n",
            "[1, 2, 3, 4, 5, 11, 6, 8]\n"
          ]
        }
      ]
    },
    {
      "cell_type": "code",
      "source": [
        "#Question 2) Print all prime numbers below 100\n",
        "list_of_prime_numbers=[]\n",
        "for k in range(2,100):\n",
        "  flag=True\n",
        "  for s in range(2,k):\n",
        "    if k%s==0:\n",
        "      flag=False\n",
        "    break\n",
        "  if flag:\n",
        "      list_of_prime_numbers.append(k)\n",
        "\n",
        "for primes in list_of_prime_numbers:\n",
        "  print(primes, \"is a prime number\")\n"
      ],
      "metadata": {
        "id": "narOfIYWc-Dx",
        "colab": {
          "base_uri": "https://localhost:8080/"
        },
        "outputId": "ad60a343-1687-4b0f-c6e7-166f98ff53e0"
      },
      "execution_count": null,
      "outputs": [
        {
          "output_type": "stream",
          "name": "stdout",
          "text": [
            "2 is a prime number\n",
            "3 is a prime number\n",
            "5 is a prime number\n",
            "7 is a prime number\n",
            "9 is a prime number\n",
            "11 is a prime number\n",
            "13 is a prime number\n",
            "15 is a prime number\n",
            "17 is a prime number\n",
            "19 is a prime number\n",
            "21 is a prime number\n",
            "23 is a prime number\n",
            "25 is a prime number\n",
            "27 is a prime number\n",
            "29 is a prime number\n",
            "31 is a prime number\n",
            "33 is a prime number\n",
            "35 is a prime number\n",
            "37 is a prime number\n",
            "39 is a prime number\n",
            "41 is a prime number\n",
            "43 is a prime number\n",
            "45 is a prime number\n",
            "47 is a prime number\n",
            "49 is a prime number\n",
            "51 is a prime number\n",
            "53 is a prime number\n",
            "55 is a prime number\n",
            "57 is a prime number\n",
            "59 is a prime number\n",
            "61 is a prime number\n",
            "63 is a prime number\n",
            "65 is a prime number\n",
            "67 is a prime number\n",
            "69 is a prime number\n",
            "71 is a prime number\n",
            "73 is a prime number\n",
            "75 is a prime number\n",
            "77 is a prime number\n",
            "79 is a prime number\n",
            "81 is a prime number\n",
            "83 is a prime number\n",
            "85 is a prime number\n",
            "87 is a prime number\n",
            "89 is a prime number\n",
            "91 is a prime number\n",
            "93 is a prime number\n",
            "95 is a prime number\n",
            "97 is a prime number\n",
            "99 is a prime number\n"
          ]
        }
      ]
    },
    {
      "cell_type": "code",
      "source": [
        "#Question 3) print list in reverse order using for loop\n",
        "\n",
        "a_lst=[1,2,3,4,5,6,7,8]\n",
        "rev_a_lst=[]\n",
        "for i in reversed(a_lst):\n",
        "  rev_a_lst.append(i)\n",
        "print(rev_a_lst)\n"
      ],
      "metadata": {
        "colab": {
          "base_uri": "https://localhost:8080/"
        },
        "id": "bG8GQxZYUdNJ",
        "outputId": "85bb1c16-c65f-4119-ebc9-332dbd3aa54f"
      },
      "execution_count": null,
      "outputs": [
        {
          "output_type": "stream",
          "name": "stdout",
          "text": [
            "[8, 7, 6, 5, 4, 3, 2, 1]\n"
          ]
        }
      ]
    },
    {
      "cell_type": "code",
      "source": [
        "a_lst=[1,2,3,4,5,6,7,8]\n",
        "reverse_lst=[]\n",
        "for k in range(len(a_lst)-1,-1,-1):\n",
        "  reverse_lst.append(a_lst[k])\n",
        "print(reverse_lst)"
      ],
      "metadata": {
        "colab": {
          "base_uri": "https://localhost:8080/"
        },
        "id": "Q3EMwF9-cWCe",
        "outputId": "78ae7447-ad05-4740-e038-4506833644fa"
      },
      "execution_count": null,
      "outputs": [
        {
          "output_type": "stream",
          "name": "stdout",
          "text": [
            "[8, 7, 6, 5, 4, 3, 2, 1]\n"
          ]
        }
      ]
    },
    {
      "cell_type": "code",
      "source": [],
      "metadata": {
        "id": "xMQQwp8OeNsN"
      },
      "execution_count": null,
      "outputs": []
    },
    {
      "cell_type": "code",
      "source": [
        "#same problem could be sloved like this\n",
        "a_lst=[1,2,3,4,5,6,7,8]\n",
        "print(a_lst[::-1])"
      ],
      "metadata": {
        "id": "ubA5bCFxdJA4",
        "colab": {
          "base_uri": "https://localhost:8080/"
        },
        "outputId": "419a139b-1954-4011-ab73-327bfc91ee4e"
      },
      "execution_count": null,
      "outputs": [
        {
          "output_type": "stream",
          "name": "stdout",
          "text": [
            "[8, 7, 6, 5, 4, 3, 2, 1]\n"
          ]
        }
      ]
    },
    {
      "cell_type": "code",
      "source": [
        "#Question 4)  print multiplication table of 13 using for loop\n",
        "a=13\n",
        "for i in range(10):\n",
        "  i+=1\n",
        "  print(i,'X',a,'=',(i*a))"
      ],
      "metadata": {
        "colab": {
          "base_uri": "https://localhost:8080/"
        },
        "id": "buzb8tFKaCQe",
        "outputId": "2e66c13c-7bd9-4d9f-f387-f4fa55aadfaf"
      },
      "execution_count": null,
      "outputs": [
        {
          "output_type": "stream",
          "name": "stdout",
          "text": [
            "1 X 13 = 13\n",
            "2 X 13 = 26\n",
            "3 X 13 = 39\n",
            "4 X 13 = 52\n",
            "5 X 13 = 65\n",
            "6 X 13 = 78\n",
            "7 X 13 = 91\n",
            "8 X 13 = 104\n",
            "9 X 13 = 117\n",
            "10 X 13 = 130\n"
          ]
        }
      ]
    },
    {
      "cell_type": "code",
      "source": [
        "# Python program to find out digits in a number\n",
        "num1= input('Enter a number')\n",
        "b=str(num1)\n",
        "print('The number of digits in the given numbe is ', len(b))\n"
      ],
      "metadata": {
        "colab": {
          "base_uri": "https://localhost:8080/"
        },
        "id": "bRcLsFVLfab-",
        "outputId": "dab18e25-e104-4221-de13-1a90b61418da"
      },
      "execution_count": null,
      "outputs": [
        {
          "output_type": "stream",
          "name": "stdout",
          "text": [
            "Enter a number33434075\n",
            "The number of digits in the given numbe is  8\n"
          ]
        }
      ]
    },
    {
      "cell_type": "code",
      "source": [
        "# Write a program to find greatest common divisor (GCD) or highest common factor (HCF) of given two numbers"
      ],
      "metadata": {
        "id": "yEGWUALfhNew"
      },
      "execution_count": null,
      "outputs": []
    },
    {
      "cell_type": "code",
      "source": [
        "a=int(input(\"First Number \"))\n",
        "b=int(input(\"Second Number \"))\n",
        "\n",
        "smallest_number=min(a,b)\n",
        "\n",
        "for k in range(smallest_number, -1,-1):\n",
        "  if a%k==0 and b%k==0:\n",
        "    print('The GCD IS ', k )\n",
        "    break\n"
      ],
      "metadata": {
        "id": "7Pb5CANdUgOK",
        "colab": {
          "base_uri": "https://localhost:8080/"
        },
        "outputId": "6c95e14a-55a4-488d-de25-afec642adefd"
      },
      "execution_count": null,
      "outputs": [
        {
          "output_type": "stream",
          "name": "stdout",
          "text": [
            "First Number 333333\n",
            "Second Number 3\n",
            "The GCD IS  3\n"
          ]
        }
      ]
    },
    {
      "cell_type": "code",
      "source": [
        "\n",
        "\n",
        "\n",
        "\n"
      ],
      "metadata": {
        "colab": {
          "base_uri": "https://localhost:8080/"
        },
        "id": "O6aKA-on7xR2",
        "outputId": "84afc796-30d3-46d3-c9fb-fb9fc586e6c3"
      },
      "execution_count": null,
      "outputs": [
        {
          "output_type": "stream",
          "name": "stdout",
          "text": [
            "* \r\n",
            "* \r\n",
            "* \r\n",
            "* \r\n",
            "* \r\n",
            "* \r\n",
            "* \r\n",
            "* \r\n",
            "* \r\n",
            "* \r\n",
            "* \r\n",
            "* \r\n",
            "* \r\n",
            "* \r\n",
            "* \r\n",
            "* \r\n",
            "* \r\n",
            "* \r\n",
            "* \r\n",
            "* \r\n",
            "* \r\n",
            "* \r\n",
            "* \r\n",
            "* \r\n",
            "* \r\n",
            "* \r\n",
            "* \r\n",
            "* \r\n",
            "* \r\n",
            "* \r\n",
            "* \r\n",
            "* \r\n",
            "* \r\n",
            "* \r\n",
            "* \r\n",
            "* \r\n",
            "* \r\n",
            "* \r\n",
            "* \r\n",
            "* \r\n",
            "* \r\n",
            "* \r\n",
            "* \r\n",
            "* \r\n",
            "* \r\n",
            "* \r\n",
            "* \r\n",
            "* \r\n",
            "* \r\n",
            "* \r\n",
            "* \r\n",
            "* \r\n",
            "* \r\n",
            "* \r\n",
            "* \r\n",
            "* \r\n",
            "* \r\n",
            "* \r\n",
            "* \r\n",
            "* \r\n",
            "* \r\n",
            "* \r\n",
            "* \r\n",
            "* \r\n",
            "* \r\n",
            "* \r\n",
            "* \r\n",
            "* \r\n",
            "* \r\n",
            "* \r\n",
            "* \r\n",
            "* \r\n",
            "* \r\n",
            "* \r\n",
            "* \r\n",
            "* \r\n",
            "* \r\n",
            "* \r\n",
            "* \r\n",
            "* \r\n",
            "* \r\n",
            "* \r\n",
            "* \r\n",
            "* \r\n",
            "* \r\n",
            "* \r\n",
            "* \r\n",
            "* \r\n",
            "* \r\n",
            "* \r\n",
            "* \r\n",
            "* \r\n",
            "* \r\n",
            "* \r\n",
            "* \r\n",
            "* \r\n",
            "* \r\n",
            "* \r\n",
            "* \r\n",
            "* \r\n"
          ]
        }
      ]
    }
  ]
}