{
  "nbformat": 4,
  "nbformat_minor": 0,
  "metadata": {
    "colab": {
      "provenance": [],
      "include_colab_link": true
    },
    "kernelspec": {
      "name": "python3",
      "display_name": "Python 3"
    },
    "language_info": {
      "name": "python"
    }
  },
  "cells": [
    {
      "cell_type": "markdown",
      "metadata": {
        "id": "view-in-github",
        "colab_type": "text"
      },
      "source": [
        "<a href=\"https://colab.research.google.com/github/gplinkage/DataScienceBootCamp/blob/main/DataScienceBootCamp/Class%20Notes%20/Notes/BDS35_09AUG_variables.ipynb\" target=\"_parent\"><img src=\"https://colab.research.google.com/assets/colab-badge.svg\" alt=\"Open In Colab\"/></a>"
      ]
    },
    {
      "cell_type": "code",
      "source": [
        "# valid variables and invalid variables\n",
        "\n",
        "name = 'Govinda'\n",
        "\n",
        "gender = 'M'\n",
        "\n",
        "address = '123 Park Street'\n",
        "\n",
        "num1 = 12\n",
        "\n",
        "num2 = 10\n",
        "\n",
        "sum = num1+ num2\n",
        "\n",
        "print (sum)"
      ],
      "metadata": {
        "id": "t8zfnjvfRh0q",
        "colab": {
          "base_uri": "https://localhost:8080/"
        },
        "outputId": "c8aa0a9b-826b-4a39-8cc6-80ac515dd598"
      },
      "execution_count": null,
      "outputs": [
        {
          "output_type": "stream",
          "name": "stdout",
          "text": [
            "22\n"
          ]
        }
      ]
    },
    {
      "cell_type": "code",
      "source": [
        "#**Python data type**\n",
        "cmlx1 = 3 +5j\n",
        "print(cmlx1)\n",
        "print(type(cmlx1))\n"
      ],
      "metadata": {
        "colab": {
          "base_uri": "https://localhost:8080/"
        },
        "id": "DX9-vw8pwWzP",
        "outputId": "91432988-64d8-4135-9130-1f68f14532b8"
      },
      "execution_count": null,
      "outputs": [
        {
          "output_type": "stream",
          "name": "stdout",
          "text": [
            "(3+5j)\n",
            "<class 'complex'>\n"
          ]
        }
      ]
    },
    {
      "cell_type": "code",
      "source": [
        "# boolean: True and False\n",
        "bool1 = True\n",
        "print(bool1)\n",
        "print(type(bool1))\n",
        "\n",
        "bool1 = False\n",
        "print(bool1)\n",
        "print(type(bool1))"
      ],
      "metadata": {
        "colab": {
          "base_uri": "https://localhost:8080/"
        },
        "id": "Js9KTSzVy8cY",
        "outputId": "a286a1b2-1c2a-4c0a-a70b-3620a2689d2e"
      },
      "execution_count": null,
      "outputs": [
        {
          "output_type": "stream",
          "name": "stdout",
          "text": [
            "True\n",
            "<class 'bool'>\n",
            "False\n",
            "<class 'bool'>\n"
          ]
        }
      ]
    },
    {
      "cell_type": "code",
      "source": [
        "str1= 'Python Programming'\n",
        "print (str1)\n",
        "print(type (str1))\n",
        "\n",
        "str1= \"Python Programming\"\n",
        "print (str1)\n",
        "print(type (str1))\n",
        "\n",
        "str1= \"\"\"Python Programming\"\"\"\n",
        "print (str1)\n",
        "print(type (str1))"
      ],
      "metadata": {
        "colab": {
          "base_uri": "https://localhost:8080/"
        },
        "id": "zC1ZjHrpz7Zv",
        "outputId": "90ce103a-31b1-4fd2-a651-c636090da43e"
      },
      "execution_count": null,
      "outputs": [
        {
          "output_type": "stream",
          "name": "stdout",
          "text": [
            "Python Programming\n",
            "<class 'str'>\n",
            "Python Programming\n",
            "<class 'str'>\n",
            "Python Programming\n",
            "<class 'str'>\n"
          ]
        }
      ]
    },
    {
      "cell_type": "code",
      "source": [
        "str2= \"\"\"FJLJOUEU4%I*O()\"\"\"\n",
        "print (str2)\n",
        "print(type (str2))"
      ],
      "metadata": {
        "colab": {
          "base_uri": "https://localhost:8080/"
        },
        "id": "p8Nn7keC0XHg",
        "outputId": "ff2f7198-3b1b-4e0c-d0ea-afdb29d30929"
      },
      "execution_count": null,
      "outputs": [
        {
          "output_type": "stream",
          "name": "stdout",
          "text": [
            "FJLJOUEU4%I*O()\n",
            "<class 'str'>\n"
          ]
        }
      ]
    },
    {
      "cell_type": "code",
      "source": [
        "str3= \"\"\"I'm very excited to learn Python today. Anurag's explanations are clear. Anurag said \"We will love Python\".\"\"\"\n",
        "print(str3)\n",
        "print (type(str3))"
      ],
      "metadata": {
        "colab": {
          "base_uri": "https://localhost:8080/"
        },
        "id": "ujK7MLNy1Y7D",
        "outputId": "346ba234-f17c-408a-c4db-d25249866a6d"
      },
      "execution_count": null,
      "outputs": [
        {
          "output_type": "stream",
          "name": "stdout",
          "text": [
            "I'm very excited to learn Python today. Anurag's explanations are clear. Anurag said \"We will love Python\".\n",
            "<class 'str'>\n"
          ]
        }
      ]
    },
    {
      "cell_type": "code",
      "source": [
        "#print(str1)"
      ],
      "metadata": {
        "colab": {
          "base_uri": "https://localhost:8080/"
        },
        "id": "ZbY_qIz_3_Wh",
        "outputId": "3b720317-fb52-43e8-8d17-491a2336bb1d"
      },
      "execution_count": null,
      "outputs": [
        {
          "output_type": "stream",
          "name": "stdout",
          "text": [
            "Python Programming\n"
          ]
        }
      ]
    },
    {
      "cell_type": "code",
      "source": [
        "#List rules\n",
        "# 1. List is represented by square brackets[]\n",
        "# 2. List is mutable\n",
        "\n",
        "lst1=[12, 23,45,22,355,3,22]\n",
        "print(lst1)\n",
        "print (type(lst1))"
      ],
      "metadata": {
        "colab": {
          "base_uri": "https://localhost:8080/"
        },
        "id": "spL_Mhbh4goc",
        "outputId": "bfd04931-6245-40b4-8713-426c06f890cc"
      },
      "execution_count": null,
      "outputs": [
        {
          "output_type": "stream",
          "name": "stdout",
          "text": [
            "[12, 23, 45, 22, 355, 3, 22]\n",
            "<class 'list'>\n"
          ]
        }
      ]
    },
    {
      "cell_type": "code",
      "source": [
        "#Tuple\n",
        "# 1. Tuple is represented by circular breckets ()\n",
        "# 2. Tuple is imutable\n",
        "tup1= (1,2,3,4,5)\n",
        "print (tup1)\n",
        "print(type(tup1))"
      ],
      "metadata": {
        "colab": {
          "base_uri": "https://localhost:8080/"
        },
        "id": "8R3PlwUS5V5W",
        "outputId": "df9a3956-8f1e-4708-bf91-c25ba1619809"
      },
      "execution_count": null,
      "outputs": [
        {
          "output_type": "stream",
          "name": "stdout",
          "text": [
            "(1, 2, 3, 4, 5)\n",
            "<class 'tuple'>\n"
          ]
        }
      ]
    },
    {
      "cell_type": "code",
      "source": [
        "#Set\n",
        "# 1. Set is combination of unique values (no duplicates)\n",
        "# 2. Set is collection of unordered elements (random values)\n",
        "# 3. Set is representated by curly brackets\n",
        "# 4. Set is mutable\n",
        "set1 = {2,4,6,7,2,6,4,'a','b','D'}\n",
        "print(set1)\n",
        "print(type(set1))"
      ],
      "metadata": {
        "colab": {
          "base_uri": "https://localhost:8080/"
        },
        "id": "em2_2_y4573z",
        "outputId": "6fb1bde2-bc7b-4aef-d4e6-13d35d49e247"
      },
      "execution_count": null,
      "outputs": [
        {
          "output_type": "stream",
          "name": "stdout",
          "text": [
            "{2, 4, 6, 7, 'b', 'D', 'a'}\n",
            "<class 'set'>\n"
          ]
        }
      ]
    },
    {
      "cell_type": "code",
      "source": [
        "lst2= [2,3,'a','g', 'John', True, '@', 300, 2, 'g', 'a']\n",
        "tup2 = (2,3,'a',0,'g', 'John', ['@', 300, 2, 'g', False, 'a'])\n",
        "set2 = {2,3, 4, 55, 0, 66,('a','g','John'), '@',True, 300, 2, 'g', 'a'}\n",
        "print(lst2)\n",
        "print(tup2)\n",
        "print(set2)\n",
        "\n",
        "print (type (lst2))\n",
        "print (type (tup2))\n",
        "print (type (set2))"
      ],
      "metadata": {
        "colab": {
          "base_uri": "https://localhost:8080/"
        },
        "id": "6w-_mOYH7R42",
        "outputId": "a46a6c75-7cc0-4ef8-a547-73e1aebeb949"
      },
      "execution_count": null,
      "outputs": [
        {
          "output_type": "stream",
          "name": "stdout",
          "text": [
            "[2, 3, 'a', 'g', 'John', True, '@', 300, 2, 'g', 'a']\n",
            "(2, 3, 'a', 0, 'g', 'John', ['@', 300, 2, 'g', False, 'a'])\n",
            "{0, True, 2, 3, 4, 66, 'g', 300, '@', 55, ('a', 'g', 'John'), 'a'}\n",
            "<class 'list'>\n",
            "<class 'tuple'>\n",
            "<class 'set'>\n"
          ]
        }
      ]
    },
    {
      "cell_type": "code",
      "source": [
        "set2 = {True, 1, 0, False}\n",
        "print(set2)\n",
        "\n",
        "print (type (set2))"
      ],
      "metadata": {
        "colab": {
          "base_uri": "https://localhost:8080/"
        },
        "id": "NDgiTjxP_WKX",
        "outputId": "15b84131-2720-4939-ab31-7fd7df023cdb"
      },
      "execution_count": null,
      "outputs": [
        {
          "output_type": "stream",
          "name": "stdout",
          "text": [
            "{0, True}\n",
            "<class 'set'>\n"
          ]
        }
      ]
    },
    {
      "cell_type": "code",
      "source": [
        "#Dictionary\n",
        "aa = {'a': 'apple', 'b': 'banana'}\n",
        "print (aa)\n",
        "print (type(aa))"
      ],
      "metadata": {
        "colab": {
          "base_uri": "https://localhost:8080/"
        },
        "id": "FjkmbKKJ_hqs",
        "outputId": "4f130bb5-6ddb-4e55-d8e3-632e900046f8"
      },
      "execution_count": null,
      "outputs": [
        {
          "output_type": "stream",
          "name": "stdout",
          "text": [
            "{'a': 'apple', 'b': 'banana'}\n",
            "<class 'dict'>\n"
          ]
        }
      ]
    },
    {
      "cell_type": "code",
      "source": [
        "dict1= {'count':[1,2,3], 'address': \"12 King Street\",\n",
        "        'fruits': ('apple', 'banana', 'pear'), 'colors':{'Yellow', 'white'}}\n",
        "print (dict1)\n",
        "print(type(dict1))"
      ],
      "metadata": {
        "colab": {
          "base_uri": "https://localhost:8080/"
        },
        "id": "3wJ1NRRiAATj",
        "outputId": "c5171816-7765-46ac-8be9-001069b1db36"
      },
      "execution_count": null,
      "outputs": [
        {
          "output_type": "stream",
          "name": "stdout",
          "text": [
            "{'count': [1, 2, 3], 'address': '12 King Street', 'fruits': ('apple', 'banana', 'pear'), 'colors': {'white', 'Yellow'}}\n",
            "<class 'dict'>\n"
          ]
        }
      ]
    },
    {
      "cell_type": "code",
      "source": [
        "str3= 'John Smith'\n",
        "print(str3)\n",
        "print(len(str3))"
      ],
      "metadata": {
        "colab": {
          "base_uri": "https://localhost:8080/"
        },
        "id": "peGi3n-EBgKd",
        "outputId": "37412071-8f8e-4c15-ad29-6aae2c66fc30"
      },
      "execution_count": null,
      "outputs": [
        {
          "output_type": "stream",
          "name": "stdout",
          "text": [
            "John Smith\n",
            "10\n"
          ]
        }
      ]
    },
    {
      "cell_type": "code",
      "source": [
        "print(str3[0])\n",
        "print(str3[1])\n",
        "print(str3[2])\n",
        "print(str3[3])\n",
        "print(str3[4])\n",
        "print(str3[5])\n",
        "print(str3[6])\n",
        "print(str3[7])\n",
        "print(str3[8])\n",
        "print(str3[9])\n",
        "\n",
        "print (str3[0:4:1], str3[5:10:1])\n"
      ],
      "metadata": {
        "colab": {
          "base_uri": "https://localhost:8080/"
        },
        "id": "8riLsAT1Bdrv",
        "outputId": "7d53dcc7-b1e6-4f51-afd5-c61cefdf8bd2"
      },
      "execution_count": null,
      "outputs": [
        {
          "output_type": "stream",
          "name": "stdout",
          "text": [
            "J\n",
            "o\n",
            "h\n",
            "n\n",
            " \n",
            "S\n",
            "m\n",
            "i\n",
            "t\n",
            "h\n",
            "John Smith\n"
          ]
        }
      ]
    },
    {
      "cell_type": "code",
      "source": [
        "str5= \"John, Jack, Micheal, Sam\"\n",
        "print(len(str5))\n",
        "print(str5[0:4:1], str5[6:10:1], str5[12:19:1], str5[21:24:1])\n",
        "print(str5[0:4:2], str5[6:10:2], str5[12:19:1], str5[21:24:1])\n",
        "print(str5[0:4:3], str5[6:10:3], str5[12:19:3], str5[21:24:3])\n",
        "print(str5[::])\n",
        "print(str5[0:4:1])\n",
        "\n",
        "\n"
      ],
      "metadata": {
        "colab": {
          "base_uri": "https://localhost:8080/"
        },
        "id": "kFXg3TJJF52k",
        "outputId": "a002dc03-e912-49db-f3e0-1d6907c21ecf"
      },
      "execution_count": null,
      "outputs": [
        {
          "output_type": "stream",
          "name": "stdout",
          "text": [
            "24\n",
            "John Jack Micheal Sam\n",
            "Jh Jc Micheal Sam\n",
            "Jn Jk Mhl S\n",
            "John, Jack, Micheal, Sam\n",
            "John\n"
          ]
        }
      ]
    },
    {
      "cell_type": "code",
      "source": [
        "str5[:len(str5):]\n"
      ],
      "metadata": {
        "colab": {
          "base_uri": "https://localhost:8080/",
          "height": 35
        },
        "id": "pY3IHkUxI_NJ",
        "outputId": "8de5e024-894a-4e34-fe1a-9d32118f3658"
      },
      "execution_count": null,
      "outputs": [
        {
          "output_type": "execute_result",
          "data": {
            "text/plain": [
              "'John, Jack, Micheal, Sam'"
            ],
            "application/vnd.google.colaboratory.intrinsic+json": {
              "type": "string"
            }
          },
          "metadata": {},
          "execution_count": 85
        }
      ]
    },
    {
      "cell_type": "code",
      "source": [
        "str5[:4:]"
      ],
      "metadata": {
        "colab": {
          "base_uri": "https://localhost:8080/",
          "height": 35
        },
        "id": "WfG8PCPdJA7K",
        "outputId": "95e183e6-ed91-4be0-e1ab-cac6c96b884c"
      },
      "execution_count": null,
      "outputs": [
        {
          "output_type": "execute_result",
          "data": {
            "text/plain": [
              "'John'"
            ],
            "application/vnd.google.colaboratory.intrinsic+json": {
              "type": "string"
            }
          },
          "metadata": {},
          "execution_count": 86
        }
      ]
    },
    {
      "cell_type": "code",
      "source": [
        "str5[:10:]"
      ],
      "metadata": {
        "colab": {
          "base_uri": "https://localhost:8080/",
          "height": 35
        },
        "id": "RnRv7_OjJDdE",
        "outputId": "4d14fa94-de25-4b71-8c63-c93336cc5e0f"
      },
      "execution_count": null,
      "outputs": [
        {
          "output_type": "execute_result",
          "data": {
            "text/plain": [
              "'John, Jack'"
            ],
            "application/vnd.google.colaboratory.intrinsic+json": {
              "type": "string"
            }
          },
          "metadata": {},
          "execution_count": 87
        }
      ]
    },
    {
      "cell_type": "code",
      "source": [
        "str5[:19:]"
      ],
      "metadata": {
        "colab": {
          "base_uri": "https://localhost:8080/",
          "height": 35
        },
        "id": "y7s3MClnJIuY",
        "outputId": "611fad12-43c7-4379-ce08-dc1b36f0eb77"
      },
      "execution_count": null,
      "outputs": [
        {
          "output_type": "execute_result",
          "data": {
            "text/plain": [
              "'John, Jack, Micheal'"
            ],
            "application/vnd.google.colaboratory.intrinsic+json": {
              "type": "string"
            }
          },
          "metadata": {},
          "execution_count": 89
        }
      ]
    },
    {
      "cell_type": "code",
      "source": [
        "str5[::1]"
      ],
      "metadata": {
        "colab": {
          "base_uri": "https://localhost:8080/",
          "height": 35
        },
        "id": "vENzSCvqJigQ",
        "outputId": "30bf16d4-e74c-41b7-8fcf-f20cc1d22d97"
      },
      "execution_count": null,
      "outputs": [
        {
          "output_type": "execute_result",
          "data": {
            "text/plain": [
              "'John, Jack, Micheal, Sam'"
            ],
            "application/vnd.google.colaboratory.intrinsic+json": {
              "type": "string"
            }
          },
          "metadata": {},
          "execution_count": 90
        }
      ]
    },
    {
      "cell_type": "code",
      "source": [
        "str5[12:24:]"
      ],
      "metadata": {
        "colab": {
          "base_uri": "https://localhost:8080/",
          "height": 35
        },
        "id": "h2FZT-jKJoob",
        "outputId": "60dd1514-8bef-4d46-aef5-08d0b3475a42"
      },
      "execution_count": null,
      "outputs": [
        {
          "output_type": "execute_result",
          "data": {
            "text/plain": [
              "'Micheal, Sam'"
            ],
            "application/vnd.google.colaboratory.intrinsic+json": {
              "type": "string"
            }
          },
          "metadata": {},
          "execution_count": 94
        }
      ]
    },
    {
      "cell_type": "code",
      "source": [
        "str5[21::]"
      ],
      "metadata": {
        "colab": {
          "base_uri": "https://localhost:8080/",
          "height": 35
        },
        "id": "N4Flwi5nJ24M",
        "outputId": "576b8ca1-4d3f-4d95-eab5-6f52c76dc35b"
      },
      "execution_count": null,
      "outputs": [
        {
          "output_type": "execute_result",
          "data": {
            "text/plain": [
              "'Sam'"
            ],
            "application/vnd.google.colaboratory.intrinsic+json": {
              "type": "string"
            }
          },
          "metadata": {},
          "execution_count": 96
        }
      ]
    },
    {
      "cell_type": "code",
      "source": [
        "str5[:24:]"
      ],
      "metadata": {
        "colab": {
          "base_uri": "https://localhost:8080/",
          "height": 35
        },
        "id": "ssN6x1b4J8Xw",
        "outputId": "5677eade-2691-475f-f148-33722bec42bb"
      },
      "execution_count": null,
      "outputs": [
        {
          "output_type": "execute_result",
          "data": {
            "text/plain": [
              "'John, Jack, Micheal, Sam'"
            ],
            "application/vnd.google.colaboratory.intrinsic+json": {
              "type": "string"
            }
          },
          "metadata": {},
          "execution_count": 100
        }
      ]
    }
  ]
}