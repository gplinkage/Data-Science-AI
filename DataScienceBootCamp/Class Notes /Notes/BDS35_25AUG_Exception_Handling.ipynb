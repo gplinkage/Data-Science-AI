{
  "nbformat": 4,
  "nbformat_minor": 0,
  "metadata": {
    "colab": {
      "provenance": [],
      "authorship_tag": "ABX9TyMiuh+AEPnlsxryoD+OtKFx",
      "include_colab_link": true
    },
    "kernelspec": {
      "name": "python3",
      "display_name": "Python 3"
    },
    "language_info": {
      "name": "python"
    }
  },
  "cells": [
    {
      "cell_type": "markdown",
      "metadata": {
        "id": "view-in-github",
        "colab_type": "text"
      },
      "source": [
        "<a href=\"https://colab.research.google.com/github/gplinkage/DataScienceBootCamp/blob/main/DataScienceBootCamp/Class%20Notes%20/Notes/BDS35_25AUG_Exception_Handling.ipynb\" target=\"_parent\"><img src=\"https://colab.research.google.com/assets/colab-badge.svg\" alt=\"Open In Colab\"/></a>"
      ]
    },
    {
      "cell_type": "code",
      "execution_count": null,
      "metadata": {
        "id": "Rk-I5kXqOgur"
      },
      "outputs": [],
      "source": [
        "class transport():\n",
        "  def __init__ (self, brand, model, year):\n",
        "    self.brand = brand\n",
        "    self.model = model\n",
        "    self.year = year\n",
        "\n",
        "  def vehicle_details(self):\n",
        "    print(self.brand, self.model, self.year)\n"
      ]
    },
    {
      "cell_type": "code",
      "source": [
        "class car(transport):\n",
        "  def vehicle_details(self):\n",
        "    print(self.brand, self.model, self.year)"
      ],
      "metadata": {
        "id": "VYjo8IjJPMRk"
      },
      "execution_count": null,
      "outputs": []
    },
    {
      "cell_type": "code",
      "source": [
        "obj1 = car(\"Toyota\", \"Camry\", \"2018\")\n",
        "obj2 = car(\"Mitsubishi\", \"Mirrage\", \"2015\")\n",
        "obj3 = car (\"Nissan\",  \"Pulsar\", \"2016\")"
      ],
      "metadata": {
        "id": "U6SRuxTeQbB1"
      },
      "execution_count": null,
      "outputs": []
    },
    {
      "cell_type": "code",
      "source": [
        "obj1.vehicle_details()\n",
        "obj2.vehicle_details()\n",
        "obj3.vehicle_details()"
      ],
      "metadata": {
        "colab": {
          "base_uri": "https://localhost:8080/"
        },
        "id": "yDLT0sJvQlvB",
        "outputId": "b73a7792-b6d5-4e5e-bab6-767bb4428564"
      },
      "execution_count": null,
      "outputs": [
        {
          "output_type": "stream",
          "name": "stdout",
          "text": [
            "Toyota Camry 2018\n",
            "Mitsubishi Mirrage 2015\n",
            "Nissan Pulsar 2016\n"
          ]
        }
      ]
    },
    {
      "cell_type": "code",
      "source": [
        "try:\n",
        "  f = open('myTextFile1.txt', 'r')\n",
        "except Exception as e:\n",
        "  print('Exception ', e)"
      ],
      "metadata": {
        "colab": {
          "base_uri": "https://localhost:8080/"
        },
        "id": "prAxhMgMjaD2",
        "outputId": "0beaa608-6e81-4b88-e08c-559a346f332d"
      },
      "execution_count": null,
      "outputs": [
        {
          "output_type": "stream",
          "name": "stdout",
          "text": [
            "Exception  [Errno 2] No such file or directory: 'myTextFile1.txt'\n"
          ]
        }
      ]
    },
    {
      "cell_type": "code",
      "source": [
        "try:\n",
        "  f = open('myTextFile1.txt', 'r')\n",
        "except Exception as e:\n",
        "  print('Exception ', e)\n",
        "except FileNotFoundError as fnfe:\n",
        "  print('FileNotFoundError ', fnfe)"
      ],
      "metadata": {
        "colab": {
          "base_uri": "https://localhost:8080/"
        },
        "id": "J1KUxGrojdbW",
        "outputId": "b6a6852f-6526-4f22-ebc3-21b959f5f2be"
      },
      "execution_count": null,
      "outputs": [
        {
          "output_type": "stream",
          "name": "stdout",
          "text": [
            "Exception  [Errno 2] No such file or directory: 'myTextFile1.txt'\n"
          ]
        }
      ]
    },
    {
      "cell_type": "code",
      "source": [
        "try:\n",
        "  f = open('myTextFile1.txt', 'r')\n",
        "  a = 10/0\n",
        "except FileNotFoundError as fnfe:\n",
        "  print('FileNotFoundError ', fnfe)\n",
        "except Exception as e:\n",
        "  print('Exception ', e)"
      ],
      "metadata": {
        "colab": {
          "base_uri": "https://localhost:8080/"
        },
        "id": "A12pm8mmjheG",
        "outputId": "3071f38c-dc68-4a54-fa43-d1c62b11714e"
      },
      "execution_count": null,
      "outputs": [
        {
          "output_type": "stream",
          "name": "stdout",
          "text": [
            "FileNotFoundError  [Errno 2] No such file or directory: 'myTextFile1.txt'\n"
          ]
        }
      ]
    },
    {
      "cell_type": "code",
      "source": [
        "try:\n",
        "  f = open('myTextFile.txt', 'r')\n",
        "  a = 10/0\n",
        "except FileNotFoundError as fnfe:\n",
        "  print('FileNotFoundError ', fnfe)\n",
        "except Exception as e:\n",
        "  print('Exception ', e)"
      ],
      "metadata": {
        "colab": {
          "base_uri": "https://localhost:8080/"
        },
        "id": "fIl1Y-lOjk5p",
        "outputId": "e1d718ab-e9bb-42ae-ca08-c08ed0e938ea"
      },
      "execution_count": null,
      "outputs": [
        {
          "output_type": "stream",
          "name": "stdout",
          "text": [
            "Exception  division by zero\n"
          ]
        }
      ]
    },
    {
      "cell_type": "code",
      "source": [
        "try:\n",
        "  f = open('myTextFile.txt', 'r')\n",
        "  a = 10/0\n",
        "except FileNotFoundError as fnfe:\n",
        "  print('FileNotFoundError ', fnfe)\n",
        "except ZeroDivisionError as zde:\n",
        "  print('ZeroDivisionError ', zde)\n",
        "except Exception as e:\n",
        "  print('Exception ', e)"
      ],
      "metadata": {
        "colab": {
          "base_uri": "https://localhost:8080/"
        },
        "id": "FTmBZh5IjoGa",
        "outputId": "6232fa5c-068a-4852-a5c6-999c9ac30081"
      },
      "execution_count": null,
      "outputs": [
        {
          "output_type": "stream",
          "name": "stdout",
          "text": [
            "ZeroDivisionError  division by zero\n"
          ]
        }
      ]
    },
    {
      "cell_type": "code",
      "source": [
        "try:\n",
        "  f = open('myTextFile.txt', 'r')\n",
        "  a = 10/0\n",
        "except ArithmeticError as ae:\n",
        "  print('ArithmeticError ', ae)\n",
        "except FileNotFoundError as fnfe:\n",
        "  print('FileNotFoundError ', fnfe)\n",
        "except ZeroDivisionError as zde:\n",
        "  print('ZeroDivisionError ', zde)\n",
        "except Exception as e:\n",
        "  print('Exception ', e)"
      ],
      "metadata": {
        "colab": {
          "base_uri": "https://localhost:8080/"
        },
        "id": "msB_K-Xajrzj",
        "outputId": "523633c7-3256-469f-da2e-f5c48b66df48"
      },
      "execution_count": null,
      "outputs": [
        {
          "output_type": "stream",
          "name": "stdout",
          "text": [
            "ArithmeticError  division by zero\n"
          ]
        }
      ]
    },
    {
      "cell_type": "code",
      "source": [
        "try:\n",
        "  # f = open('myTextFile.txt', 'r')\n",
        "  a = 10/0\n",
        "\n",
        "except FileNotFoundError as fnfe:\n",
        "  print('FileNotFoundError ', fnfe)\n",
        "except ZeroDivisionError as zde:\n",
        "  print('ZeroDivisionError ', zde)\n",
        "except ArithmeticError as ae:\n",
        "  print('ArithmeticError ', ae)\n",
        "except Exception as e:\n",
        "  print('Exception ', e)"
      ],
      "metadata": {
        "colab": {
          "base_uri": "https://localhost:8080/"
        },
        "id": "ECPqwCNFjvdg",
        "outputId": "3429a18a-0fb7-450a-c779-d09f657e62c5"
      },
      "execution_count": null,
      "outputs": [
        {
          "output_type": "stream",
          "name": "stdout",
          "text": [
            "ZeroDivisionError  division by zero\n"
          ]
        }
      ]
    },
    {
      "cell_type": "code",
      "source": [
        "try:\n",
        "  # f = open('myTextFile.txt', 'r')\n",
        "  a = 10/0\n",
        "except Exception as e:\n",
        "  print('Exception ', e)\n",
        "except FileNotFoundError as fnfe:\n",
        "  print('FileNotFoundError ', fnfe)\n",
        "except ZeroDivisionError as zde:\n",
        "  print('ZeroDivisionError ', zde)\n",
        "except ArithmeticError as ae:\n",
        "  print('ArithmeticError ', ae)"
      ],
      "metadata": {
        "colab": {
          "base_uri": "https://localhost:8080/"
        },
        "id": "OB8njDMSjzfN",
        "outputId": "d030f1ee-c71c-437e-eaaa-098ab2cde67f"
      },
      "execution_count": null,
      "outputs": [
        {
          "output_type": "stream",
          "name": "stdout",
          "text": [
            "Exception  division by zero\n"
          ]
        }
      ]
    },
    {
      "cell_type": "code",
      "source": [
        "#User defined exception\n",
        "f=open('myTextFile.txt','x')\n",
        "\n"
      ],
      "metadata": {
        "id": "P7tfmWAoQtjy"
      },
      "execution_count": null,
      "outputs": []
    },
    {
      "cell_type": "code",
      "source": [
        "f=open('myTextFile.txt1','r')"
      ],
      "metadata": {
        "id": "KUZoZqBXUJpD"
      },
      "execution_count": null,
      "outputs": []
    },
    {
      "cell_type": "code",
      "source": [],
      "metadata": {
        "id": "bGvuzb5qYBdt"
      },
      "execution_count": null,
      "outputs": []
    },
    {
      "cell_type": "code",
      "source": [
        "try:\n",
        "  f=open('myTextFile.txt1','r')\n",
        "except Exception as e:\n",
        "  print (\"Exception\", e)\n",
        "except FileNotFoundError as fnfe:\n",
        "  print('FileNotFoundError', e)"
      ],
      "metadata": {
        "colab": {
          "base_uri": "https://localhost:8080/"
        },
        "id": "rYc2bfB_USuV",
        "outputId": "f51fc696-a9ed-4c7a-d62f-173b5a809e4d"
      },
      "execution_count": null,
      "outputs": [
        {
          "output_type": "stream",
          "name": "stdout",
          "text": [
            "Exception [Errno 2] No such file or directory: 'myTextFile.txt1'\n"
          ]
        }
      ]
    },
    {
      "cell_type": "code",
      "source": [
        "a=3\n",
        "b=4\n",
        "c=0\n",
        "print(b/c)\n",
        "#f=open('myTextFile.txt1','r')\n",
        "\n"
      ],
      "metadata": {
        "id": "O6NvkInxYQK-"
      },
      "execution_count": null,
      "outputs": []
    },
    {
      "cell_type": "code",
      "source": [
        "try:\n",
        "  a=3\n",
        "  b=4\n",
        "  c=0\n",
        "  print(b/c)\n",
        "  f=open('myTextFile.txt1','r')\n",
        "\n",
        "except ZeroDivisionError as ze:\n",
        "  print(ZeroDivisionError, ze)\n",
        "except FileNotFoundError as fe:\n",
        "  print(FileNotFoundError, fe)\n",
        "except Exception as e:\n",
        "  print(Exception, e)"
      ],
      "metadata": {
        "colab": {
          "base_uri": "https://localhost:8080/"
        },
        "id": "niat5ap_Za7f",
        "outputId": "b40c4c26-dde3-4e21-ecb5-999249b88815"
      },
      "execution_count": null,
      "outputs": [
        {
          "output_type": "stream",
          "name": "stdout",
          "text": [
            "<class 'ZeroDivisionError'> division by zero\n"
          ]
        }
      ]
    },
    {
      "cell_type": "code",
      "source": [
        "class user_define_exception1(Exception):\n",
        "  pass"
      ],
      "metadata": {
        "id": "F5xStd5Dj4WK"
      },
      "execution_count": null,
      "outputs": []
    },
    {
      "cell_type": "code",
      "source": [
        "try:\n",
        "  print('my first user define exceptopm',12/0)\n",
        "except user_define_exception1 as ude1:\n",
        "  print('user_define_exception1', ude1)\n",
        "except Exception as e:\n",
        "  print('Exception ', e)"
      ],
      "metadata": {
        "colab": {
          "base_uri": "https://localhost:8080/"
        },
        "id": "DB_LWnE5j7f8",
        "outputId": "bf51b1ce-7673-4cc2-a254-2dfad697f1dd"
      },
      "execution_count": null,
      "outputs": [
        {
          "output_type": "stream",
          "name": "stdout",
          "text": [
            "Exception  division by zero\n"
          ]
        }
      ]
    },
    {
      "cell_type": "code",
      "source": [
        "class AgeOfVoting(Exception):\n",
        "  \"Raise when the input is less than 18\"\n",
        "  pass\n",
        "\n",
        "try:\n",
        "  input_num = int(input('Enter Age '))\n",
        "  if input_num < 18:\n",
        "    raise AgeOfVoting\n",
        "  else:\n",
        "    print('Eligible for voting ')\n",
        "\n",
        "except AgeOfVoting as aov:\n",
        "  print('Exception as Invalid Age')"
      ],
      "metadata": {
        "colab": {
          "base_uri": "https://localhost:8080/"
        },
        "id": "i7K4GEtjj_Bs",
        "outputId": "57e43cde-ebf4-48f6-dff7-cee6b7872a8f"
      },
      "execution_count": null,
      "outputs": [
        {
          "output_type": "stream",
          "name": "stdout",
          "text": [
            "Enter Age 17\n",
            "exception as Invalid Age\n"
          ]
        }
      ]
    }
  ]
}