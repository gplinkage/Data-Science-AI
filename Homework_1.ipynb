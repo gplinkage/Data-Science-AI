{
  "nbformat": 4,
  "nbformat_minor": 0,
  "metadata": {
    "colab": {
      "provenance": [],
      "authorship_tag": "ABX9TyO/gJg5zfKu4+nADLSfWrLs",
      "include_colab_link": true
    },
    "kernelspec": {
      "name": "python3",
      "display_name": "Python 3"
    },
    "language_info": {
      "name": "python"
    }
  },
  "cells": [
    {
      "cell_type": "markdown",
      "metadata": {
        "id": "view-in-github",
        "colab_type": "text"
      },
      "source": [
        "<a href=\"https://colab.research.google.com/github/gplinkage/DataScienceBootCamp/blob/main/Homework_1.ipynb\" target=\"_parent\"><img src=\"https://colab.research.google.com/assets/colab-badge.svg\" alt=\"Open In Colab\"/></a>"
      ]
    },
    {
      "cell_type": "code",
      "execution_count": null,
      "metadata": {
        "id": "CxrWjNdYqMsg"
      },
      "outputs": [],
      "source": [
        "#Q1 A company decided to give bonus of 5% to employee if his/her year of service is more than 5 years.\n",
        "#Ask user for their salary and year of service and print the net bonus amount.\"\"\""
      ]
    },
    {
      "cell_type": "code",
      "source": [
        "salary= input(\"Please enter your salary: \")\n",
        "service= input(\"Please enter years of service: \")\n",
        "bonus = float(salary)*0.05\n",
        "if float(service)<=5:\n",
        "  print(\"Sorry, You are not eligible for bonus.\")\n",
        "else:\n",
        "  print(\"Congratulation! You are eligible for bonus of $\" +str(bonus) +\".\")"
      ],
      "metadata": {
        "colab": {
          "base_uri": "https://localhost:8080/"
        },
        "id": "7l01hYNvzZPC",
        "outputId": "2bedd8f3-6ac4-43c2-c20b-f25add6311c1"
      },
      "execution_count": null,
      "outputs": [
        {
          "output_type": "stream",
          "name": "stdout",
          "text": [
            "Please enter your salary: 5000\n",
            "Please enter years of service: 4\n",
            "Sorry, You are not eligible for bonus.\n"
          ]
        }
      ]
    },
    {
      "cell_type": "code",
      "source": [
        "#2.Take values of length and breadth of a rectangle from user and check if it is square or not.\n",
        "length=input(\"Please, enter the lenght: \")\n",
        "breadth = input(\"Please, enter the breadth: \")\n",
        "if length==breadth:\n",
        "  print (\"This is an square.\")\n",
        "else:\n",
        "  print(\"This is not an square.\")"
      ],
      "metadata": {
        "colab": {
          "base_uri": "https://localhost:8080/"
        },
        "id": "zHDw4g4t3acZ",
        "outputId": "4c0966e9-a6c3-49d1-a31d-91a8748f7308"
      },
      "execution_count": 3,
      "outputs": [
        {
          "output_type": "stream",
          "name": "stdout",
          "text": [
            "Please, enter the lenght: 2.2\n",
            "Please, enter the breadth: 2.2\n",
            "This is an square.\n"
          ]
        }
      ]
    },
    {
      "cell_type": "code",
      "source": [
        "#3 Take two int values from user and print greatest among them.\n",
        "num1= input(\"Please, enter the first integer value: \")\n",
        "num2 = input(\"please, enter the second integer value: \")\n",
        "if num1>num2:\n",
        "  print('The greater number is ', str(num1))\n",
        "elif num1<num2:\n",
        "  print ('The greater number is ', str(num2))\n",
        "else:\n",
        "  print ('Both numbers are equal')"
      ],
      "metadata": {
        "colab": {
          "base_uri": "https://localhost:8080/"
        },
        "id": "o6tiIpx54Rpv",
        "outputId": "9e76b7bc-c0e6-4a0a-cb94-09f7bdf1f3bd"
      },
      "execution_count": 6,
      "outputs": [
        {
          "output_type": "stream",
          "name": "stdout",
          "text": [
            "Please, enter the first integer value: 12\n",
            "please, enter the second integer value: 22\n",
            "The greater number  22\n"
          ]
        }
      ]
    },
    {
      "cell_type": "code",
      "source": [
        "#A shop will give discount of 10% if the cost of purchased quantity is more than $1000.\n",
        "#Ask user for quantity\n",
        "#Suppose, one unit will cost 100.\n",
        "#Judge and print total cost for user.\n",
        "\n",
        "quant= int(input (\"Please, enter the quantity of the item: \"))\n",
        "cost=100\n",
        "discount= 0.1\n",
        "total= (quant)* (cost)\n",
        "\n",
        "if int(total)>1000:\n",
        "  print((total)-((total)*(discount)))\n",
        "else:\n",
        "  print(int(quant)* int(cost))"
      ],
      "metadata": {
        "colab": {
          "base_uri": "https://localhost:8080/"
        },
        "id": "8j7N2sWS49ko",
        "outputId": "4ae6c0ad-be03-4255-f209-3b55f937c186"
      },
      "execution_count": 9,
      "outputs": [
        {
          "output_type": "stream",
          "name": "stdout",
          "text": [
            "Please, enter the quantity of the item: 11\n",
            "990.0\n"
          ]
        }
      ]
    },
    {
      "cell_type": "code",
      "source": [
        "\"\"\" Q5. A school has following rules for grading system:\n",
        "a. Below 25 - F\n",
        "b. 25 to 45 - E\n",
        "c. 45 to 50 - D\n",
        "d. 50 to 60 - C\n",
        "e. 60 to 80 - B\n",
        "f. Above 80 - A\n",
        "Ask user to enter marks and print the corresponding grade.\"\"\"\n",
        "\n",
        "mark=float(input(\"Please, enter your mark: \"))\n",
        "\n",
        "if (mark)<25:\n",
        "  print(\"Your grade is 'F'.\")\n",
        "elif mark<45 and mark>=25:\n",
        "  print(\"Your grade is 'E'.\")\n",
        "elif mark<50 and mark>=45:\n",
        "  print(\"Your grade is 'D'.\")\n",
        "elif mark <60 and mark>=50:\n",
        "  print(\"Your grade is 'C'.\")\n",
        "elif mark<80 and mark>=60:\n",
        "  print(\"Your grade is 'B'.\")\n",
        "elif mark<80:\n",
        "  print(\"Your grade is 'A'.\")"
      ],
      "metadata": {
        "colab": {
          "base_uri": "https://localhost:8080/"
        },
        "id": "p6e5ytjd63fH",
        "outputId": "4483f096-e52e-42e6-98c1-e6c19b23fd66"
      },
      "execution_count": 12,
      "outputs": [
        {
          "output_type": "stream",
          "name": "stdout",
          "text": [
            "Please, enter your mark: 43\n",
            "Your grade is 'E'.\n"
          ]
        }
      ]
    },
    {
      "cell_type": "code",
      "source": [
        "#6.Take input of age of 3 people by user and determine oldest and youngest among them.\n",
        "#approach using what has been taught so far\n",
        "person1= input(\"Please, enter person1's age: \")\n",
        "person2= input(\"Please, enter person2's age: \")\n",
        "person3= input(\"Please, enter person3's age: \")\n",
        "\n",
        "oldest= max((person1, person2, person3))\n",
        "youngest= min ((person1, person2, person3))\n",
        "\n",
        "print(\"The oldest person is \" + oldest + \" years old.\")\n",
        "print(\"The youngest person is \" + youngest+ \" years old.\")"
      ],
      "metadata": {
        "colab": {
          "base_uri": "https://localhost:8080/"
        },
        "id": "LPCnlGry-Duw",
        "outputId": "f7537465-1128-4bc3-be77-e67493182590"
      },
      "execution_count": 13,
      "outputs": [
        {
          "output_type": "stream",
          "name": "stdout",
          "text": [
            "Please, enter person1's age: 54\n",
            "Please, enter person2's age: 54\n",
            "Please, enter person3's age: 26\n",
            "The oldest person is 54 years old.\n",
            "The youngest person is 26 years old.\n"
          ]
        }
      ]
    },
    {
      "cell_type": "code",
      "source": [
        "#7. Write a program to print absolute vlaue of a number entered by user. E.g.-\n",
        "# INPUT: 1        OUTPUT: 1\n",
        "# INPUT: -1        OUTPUT: 1\n",
        "num1 = float(input(\"Please, enter a number: \"))\n",
        "if num1<0:\n",
        "  print(num1*-1)\n",
        "else:\n",
        "  print(num1)"
      ],
      "metadata": {
        "colab": {
          "base_uri": "https://localhost:8080/"
        },
        "id": "SjpPsQev3R9A",
        "outputId": "04f9e252-3412-406e-c48b-70b899f52fff"
      },
      "execution_count": 15,
      "outputs": [
        {
          "output_type": "stream",
          "name": "stdout",
          "text": [
            "Please, enter a number: 1\n",
            "1.0\n"
          ]
        }
      ]
    },
    {
      "cell_type": "code",
      "source": [
        "# A student will not be allowed to sit in exam if his/her attendence is less than 75%.\n",
        "# Take following input from user\n",
        "# Number of classes held\n",
        "# Number of classes attended.And print\n",
        "#percentage of class attended\n",
        "#Is student is allowed to sit in exam or not.\n",
        "\n",
        "classheld= int(input(\"Please, enter the number of classes held: \"))\n",
        "classattended= int(input(\"Please, enter the number of classes attended: \"))\n",
        "perctge= float(((classattended)/(classheld))*100)\n",
        "print(round(perctge,1), \"% of calss attendence\")\n",
        "\n",
        "if perctge<75:\n",
        "  print(\"Sorry, Your attendence is too low. You are not allowed to sit the exam.\")\n",
        "else:\n",
        "  print(\"You are allowed to sit the exam.\")"
      ],
      "metadata": {
        "colab": {
          "base_uri": "https://localhost:8080/"
        },
        "id": "8fYdnIg4EXA-",
        "outputId": "a20319b9-4d70-43b0-a6b8-2983aec31dc6"
      },
      "execution_count": 20,
      "outputs": [
        {
          "output_type": "stream",
          "name": "stdout",
          "text": [
            "Please, enter the number of classes held: 45\n",
            "Please, enter the number of classes attended: 42\n",
            "93.3 % of calss attendence\n",
            "You are allowed to sit the exam.\n"
          ]
        }
      ]
    },
    {
      "cell_type": "code",
      "source": [
        "#9.Modify the above question to allow student to sit if he/she has medical cause.\n",
        "#Ask user if he/she has medical cause or not ( 'Y' or 'N' ) and print accordingly.\n",
        "classheld= int(input(\"Please, enter the number of classes held: \"))\n",
        "classattended= int(input(\"Please, enter the number of classes attended: \"))\n",
        "percentage= (classattended)/(classheld)*100\n",
        "print(percentage, \"% of calss attendence\")\n",
        "\n",
        "if percentage<75:\n",
        "   medical= input(\"Do you have an eligible medical cause? (Y/N) \").upper()\n",
        "   if medical=='Y':\n",
        "      print(\"If you have an eligible medical cause. You are allowed to sit the exam.\")\n",
        "   else:\n",
        "      print(\"Sorry, Your attendence is too low. You are not allowed to sit the exam.\")\n",
        "else:\n",
        "  print(\"You are allowed to sit the exam.\")"
      ],
      "metadata": {
        "colab": {
          "base_uri": "https://localhost:8080/"
        },
        "id": "yLRHSw3HH6D6",
        "outputId": "7fbf4048-e188-4287-f103-fd033cf2e564"
      },
      "execution_count": 29,
      "outputs": [
        {
          "output_type": "stream",
          "name": "stdout",
          "text": [
            "Please, enter the number of classes held: 100\n",
            "Please, enter the number of classes attended: 50\n",
            "50.0 % of calss attendence\n",
            "Do you have an eligible medical cause? (Y/N) y\n",
            "If you have an eligible medical cause. You are allowed to sit the exam.\n"
          ]
        }
      ]
    }
  ]
}