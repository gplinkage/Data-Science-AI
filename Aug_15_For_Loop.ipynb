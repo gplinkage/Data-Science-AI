{
  "nbformat": 4,
  "nbformat_minor": 0,
  "metadata": {
    "colab": {
      "provenance": [],
      "authorship_tag": "ABX9TyP/7sA7Xu2RHiMCHMu6RiTb",
      "include_colab_link": true
    },
    "kernelspec": {
      "name": "python3",
      "display_name": "Python 3"
    },
    "language_info": {
      "name": "python"
    }
  },
  "cells": [
    {
      "cell_type": "markdown",
      "metadata": {
        "id": "view-in-github",
        "colab_type": "text"
      },
      "source": [
        "<a href=\"https://colab.research.google.com/github/gplinkage/DataScienceBootCamp/blob/main/Aug_15_For_Loop.ipynb\" target=\"_parent\"><img src=\"https://colab.research.google.com/assets/colab-badge.svg\" alt=\"Open In Colab\"/></a>"
      ]
    },
    {
      "cell_type": "code",
      "execution_count": null,
      "metadata": {
        "colab": {
          "base_uri": "https://localhost:8080/"
        },
        "id": "Y076R2APpsAP",
        "outputId": "3a099675-64b5-4f22-d860-c450368ce688"
      },
      "outputs": [
        {
          "output_type": "stream",
          "name": "stdout",
          "text": [
            "Value of i  12\n",
            "Value of i  23\n",
            "Value of i  34\n",
            "Value of i  55\n",
            "Value of i  64\n",
            "Value of i  77\n",
            "Value of i  88\n",
            "Value of i  56\n",
            "Value of i  98\n",
            "Value of i  43\n",
            "Value of i  99\n"
          ]
        }
      ],
      "source": [
        "# For loop\n",
        "lst1 =[12, 23, 34, 55, 64, 77, 88, 56, 98, 43,99]\n",
        "for i in lst1:\n",
        "  print('Value of i ', i)\n"
      ]
    },
    {
      "cell_type": "code",
      "source": [
        "tup1=('apple', 'banana', 'cherries', 'dates', 'pears')\n",
        "for i in tup1:\n",
        "  print ('Value of i ', i)"
      ],
      "metadata": {
        "colab": {
          "base_uri": "https://localhost:8080/"
        },
        "id": "pb1Zcrm8qJhx",
        "outputId": "9c4367d2-d0c8-4e33-f638-989456bd349c"
      },
      "execution_count": null,
      "outputs": [
        {
          "output_type": "stream",
          "name": "stdout",
          "text": [
            "Value of i  apple\n",
            "Value of i  banana\n",
            "Value of i  cherries\n",
            "Value of i  dates\n",
            "Value of i  pears\n"
          ]
        }
      ]
    },
    {
      "cell_type": "code",
      "source": [
        "set1={'apple', 'banana', 'cherries', 'dates', 'pears',22, 45, 67, 78,22}\n",
        "for i in set1:\n",
        "  print ('Value of i ', i)\n"
      ],
      "metadata": {
        "colab": {
          "base_uri": "https://localhost:8080/"
        },
        "id": "jdZx1FYBqvMX",
        "outputId": "5b559521-da31-43ef-86a8-48215ef41ff2"
      },
      "execution_count": null,
      "outputs": [
        {
          "output_type": "stream",
          "name": "stdout",
          "text": [
            "Value of i  67\n",
            "Value of i  banana\n",
            "Value of i  45\n",
            "Value of i  78\n",
            "Value of i  pears\n",
            "Value of i  cherries\n",
            "Value of i  dates\n",
            "Value of i  22\n",
            "Value of i  apple\n"
          ]
        }
      ]
    },
    {
      "cell_type": "code",
      "source": [
        "str1='Peppa prefer Python Programming'\n",
        "for i in str1:\n",
        "  print ('Value of i ', i)"
      ],
      "metadata": {
        "colab": {
          "base_uri": "https://localhost:8080/"
        },
        "id": "Pg-lceLdrWKX",
        "outputId": "caba2023-6e04-4643-e0f5-55918961fb20"
      },
      "execution_count": null,
      "outputs": [
        {
          "output_type": "stream",
          "name": "stdout",
          "text": [
            "Value of i  P\n",
            "Value of i  e\n",
            "Value of i  p\n",
            "Value of i  p\n",
            "Value of i  a\n",
            "Value of i   \n",
            "Value of i  p\n",
            "Value of i  r\n",
            "Value of i  e\n",
            "Value of i  f\n",
            "Value of i  e\n",
            "Value of i  r\n",
            "Value of i   \n",
            "Value of i  P\n",
            "Value of i  y\n",
            "Value of i  t\n",
            "Value of i  h\n",
            "Value of i  o\n",
            "Value of i  n\n",
            "Value of i   \n",
            "Value of i  P\n",
            "Value of i  r\n",
            "Value of i  o\n",
            "Value of i  g\n",
            "Value of i  r\n",
            "Value of i  a\n",
            "Value of i  m\n",
            "Value of i  m\n",
            "Value of i  i\n",
            "Value of i  n\n",
            "Value of i  g\n"
          ]
        }
      ]
    },
    {
      "cell_type": "code",
      "source": [
        "dict1={'a':'apple', 'b':'ball', 'c':'cat', 'd':'dog'}\n",
        "for i in dict1:\n",
        "  print ('Value of i ', i)"
      ],
      "metadata": {
        "colab": {
          "base_uri": "https://localhost:8080/"
        },
        "id": "1-XSLyjCrsm3",
        "outputId": "ce08d00f-afd0-4ba3-cb70-ab72792418f8"
      },
      "execution_count": null,
      "outputs": [
        {
          "output_type": "stream",
          "name": "stdout",
          "text": [
            "Value of i  a\n",
            "Value of i  b\n",
            "Value of i  c\n",
            "Value of i  d\n"
          ]
        }
      ]
    },
    {
      "cell_type": "code",
      "source": [
        "for i in range(10):\n",
        " print ('Value of i ', i)"
      ],
      "metadata": {
        "colab": {
          "base_uri": "https://localhost:8080/"
        },
        "id": "X-goXYFMsOzM",
        "outputId": "bfb659a6-dab5-4406-8d64-97b970f761f5"
      },
      "execution_count": null,
      "outputs": [
        {
          "output_type": "stream",
          "name": "stdout",
          "text": [
            "Value of i  0\n",
            "Value of i  1\n",
            "Value of i  2\n",
            "Value of i  3\n",
            "Value of i  4\n",
            "Value of i  5\n",
            "Value of i  6\n",
            "Value of i  7\n",
            "Value of i  8\n",
            "Value of i  9\n"
          ]
        }
      ]
    },
    {
      "cell_type": "code",
      "source": [
        "for i in range(0,10):\n",
        " print ('Value of i ', i)"
      ],
      "metadata": {
        "colab": {
          "base_uri": "https://localhost:8080/"
        },
        "id": "mfwoWKGNsmgp",
        "outputId": "1eb8ee43-9003-4fa5-940b-4e49431b7f72"
      },
      "execution_count": null,
      "outputs": [
        {
          "output_type": "stream",
          "name": "stdout",
          "text": [
            "Value of i  0\n",
            "Value of i  1\n",
            "Value of i  2\n",
            "Value of i  3\n",
            "Value of i  4\n",
            "Value of i  5\n",
            "Value of i  6\n",
            "Value of i  7\n",
            "Value of i  8\n",
            "Value of i  9\n"
          ]
        }
      ]
    },
    {
      "cell_type": "code",
      "source": [
        "for i in range(0,10,1):\n",
        " print ('Value of i ', i)"
      ],
      "metadata": {
        "colab": {
          "base_uri": "https://localhost:8080/"
        },
        "id": "PRRJlL1_sqr1",
        "outputId": "1aab868a-68c6-4174-bef3-0fb2f0c23d29"
      },
      "execution_count": null,
      "outputs": [
        {
          "output_type": "stream",
          "name": "stdout",
          "text": [
            "Value of i  0\n",
            "Value of i  1\n",
            "Value of i  2\n",
            "Value of i  3\n",
            "Value of i  4\n",
            "Value of i  5\n",
            "Value of i  6\n",
            "Value of i  7\n",
            "Value of i  8\n",
            "Value of i  9\n"
          ]
        }
      ]
    },
    {
      "cell_type": "code",
      "source": [
        "for i in range(0,10,2):\n",
        " print ('Value of i ', i)"
      ],
      "metadata": {
        "colab": {
          "base_uri": "https://localhost:8080/"
        },
        "id": "kc7QFnXgsu_d",
        "outputId": "d5abe18c-5695-4a88-8cf6-5ffcc18cbe48"
      },
      "execution_count": null,
      "outputs": [
        {
          "output_type": "stream",
          "name": "stdout",
          "text": [
            "Value of i  0\n",
            "Value of i  2\n",
            "Value of i  4\n",
            "Value of i  6\n",
            "Value of i  8\n"
          ]
        }
      ]
    },
    {
      "cell_type": "code",
      "source": [
        "for i in range(10): #generating 10 rows\n",
        "  for j in range(10): # generating 10 columns\n",
        "    print(\"*\", end=\" \") # adding * and space\n",
        "  print('\\r') # changing the rows"
      ],
      "metadata": {
        "colab": {
          "base_uri": "https://localhost:8080/"
        },
        "id": "vkuBxXKdvjq3",
        "outputId": "3df4d263-2c2a-4261-92e4-7b1cc621b06c"
      },
      "execution_count": null,
      "outputs": [
        {
          "output_type": "stream",
          "name": "stdout",
          "text": [
            "* * * * * * * * * * \r\n",
            "* * * * * * * * * * \r\n",
            "* * * * * * * * * * \r\n",
            "* * * * * * * * * * \r\n",
            "* * * * * * * * * * \r\n",
            "* * * * * * * * * * \r\n",
            "* * * * * * * * * * \r\n",
            "* * * * * * * * * * \r\n",
            "* * * * * * * * * * \r\n",
            "* * * * * * * * * * \r\n"
          ]
        }
      ]
    },
    {
      "cell_type": "code",
      "source": [
        "n=0\n",
        "for i in range(0,10,1): # generating the 10 rowa\n",
        "  for j in range(0,10,1):\n",
        "    n +=1\n",
        "    print(n, end=\" \")\n",
        "  print('\\r')"
      ],
      "metadata": {
        "colab": {
          "base_uri": "https://localhost:8080/"
        },
        "id": "d28A9UqQxJQ_",
        "outputId": "f5ccedf8-1c22-472a-8ae6-cc80ea0e27f9"
      },
      "execution_count": null,
      "outputs": [
        {
          "output_type": "stream",
          "name": "stdout",
          "text": [
            "1 2 3 4 5 6 7 8 9 10 \r\n",
            "11 12 13 14 15 16 17 18 19 20 \r\n",
            "21 22 23 24 25 26 27 28 29 30 \r\n",
            "31 32 33 34 35 36 37 38 39 40 \r\n",
            "41 42 43 44 45 46 47 48 49 50 \r\n",
            "51 52 53 54 55 56 57 58 59 60 \r\n",
            "61 62 63 64 65 66 67 68 69 70 \r\n",
            "71 72 73 74 75 76 77 78 79 80 \r\n",
            "81 82 83 84 85 86 87 88 89 90 \r\n",
            "91 92 93 94 95 96 97 98 99 100 \r\n"
          ]
        }
      ]
    },
    {
      "cell_type": "code",
      "source": [
        "for i in range(10): # draw 10 rows\n",
        "  for j in range(10-i): # draws 10 column decreasing from 10\n",
        "    print(' ', end='') # putting space\n",
        "  for k in range(i+1): # starting from 1 to 10\n",
        "    print('*', end=' ') # printing *\n",
        "  print('\\r') # changeing the row"
      ],
      "metadata": {
        "colab": {
          "base_uri": "https://localhost:8080/"
        },
        "id": "zZGjYK5ozcXT",
        "outputId": "c39a212c-c12b-425f-fef3-4b4782f3e1cb"
      },
      "execution_count": null,
      "outputs": [
        {
          "output_type": "stream",
          "name": "stdout",
          "text": [
            "          * \r\n",
            "         * * \r\n",
            "        * * * \r\n",
            "       * * * * \r\n",
            "      * * * * * \r\n",
            "     * * * * * * \r\n",
            "    * * * * * * * \r\n",
            "   * * * * * * * * \r\n",
            "  * * * * * * * * * \r\n",
            " * * * * * * * * * * \r\n"
          ]
        }
      ]
    },
    {
      "cell_type": "code",
      "source": [
        "for i in range(10): # draws 10 rows\n",
        "  for j in range(0,1+i): # columns increasing from 1\n",
        "    print('', end=' ') #putting the space\n",
        "  for k in range(0,10-i): # coming down from 10 to 1\n",
        "    print('*', end=' ') # additng *\n",
        "  print('\\r') # changing row"
      ],
      "metadata": {
        "colab": {
          "base_uri": "https://localhost:8080/"
        },
        "id": "-oIJOYb60nGN",
        "outputId": "844bcdc9-bd15-47e1-cb4b-0771630d8837"
      },
      "execution_count": null,
      "outputs": [
        {
          "output_type": "stream",
          "name": "stdout",
          "text": [
            " * * * * * * * * * * \r\n",
            "  * * * * * * * * * \r\n",
            "   * * * * * * * * \r\n",
            "    * * * * * * * \r\n",
            "     * * * * * * \r\n",
            "      * * * * * \r\n",
            "       * * * * \r\n",
            "        * * * \r\n",
            "         * * \r\n",
            "          * \r\n"
          ]
        }
      ]
    },
    {
      "cell_type": "code",
      "source": [
        "for i in range(9):\n",
        "  for j in range(0,1+i):\n",
        "    print('', end=' ')\n",
        "  for k in range(0,10-i):\n",
        "    print('*', end=' ')\n",
        "  print('\\r')\n",
        "for i in range(0,10): # draw 10 rows\n",
        "  for j in range(0,10-i): # draws 10 column decreasing from 10\n",
        "    print(' ', end='') # putting space\n",
        "  for k in range(0,i+1): # starting from 1 to 10\n",
        "    print('*', end=' ') # printing *\n",
        "  print('\\r') # changeing the row\n"
      ],
      "metadata": {
        "colab": {
          "base_uri": "https://localhost:8080/"
        },
        "id": "QVWxaAGP58pb",
        "outputId": "b10bb8be-bf59-41d6-c867-f7d01ed3f592"
      },
      "execution_count": null,
      "outputs": [
        {
          "output_type": "stream",
          "name": "stdout",
          "text": [
            " * * * * * * * * * * \r\n",
            "  * * * * * * * * * \r\n",
            "   * * * * * * * * \r\n",
            "    * * * * * * * \r\n",
            "     * * * * * * \r\n",
            "      * * * * * \r\n",
            "       * * * * \r\n",
            "        * * * \r\n",
            "         * * \r\n",
            "          * \r\n",
            "         * * \r\n",
            "        * * * \r\n",
            "       * * * * \r\n",
            "      * * * * * \r\n",
            "     * * * * * * \r\n",
            "    * * * * * * * \r\n",
            "   * * * * * * * * \r\n",
            "  * * * * * * * * * \r\n",
            " * * * * * * * * * * \r\n"
          ]
        }
      ]
    },
    {
      "cell_type": "code",
      "source": [
        "for i in range(0,10): # draw 10 rows\n",
        "  for j in range(0,10-i): # draws 10 column decreasing from 10\n",
        "    print(' ', end='') # putting space\n",
        "  for k in range(0,i+1): # starting from 1 to 10\n",
        "    print('*', end=' ') # printing *\n",
        "  print('\\r') # changeing the row\n",
        "\n",
        "for i in range(10):\n",
        "  for j in range(0,1+i):\n",
        "    print('', end=' ')\n",
        "  for k in range(0,10-i):\n",
        "    print('*', end=' ')\n",
        "  print('\\r')"
      ],
      "metadata": {
        "colab": {
          "base_uri": "https://localhost:8080/"
        },
        "id": "TfvpU3u66GSd",
        "outputId": "89d30949-b701-4c7c-b31b-8f8c79e0ce51"
      },
      "execution_count": null,
      "outputs": [
        {
          "output_type": "stream",
          "name": "stdout",
          "text": [
            "          * \r\n",
            "         * * \r\n",
            "        * * * \r\n",
            "       * * * * \r\n",
            "      * * * * * \r\n",
            "     * * * * * * \r\n",
            "    * * * * * * * \r\n",
            "   * * * * * * * * \r\n",
            "  * * * * * * * * * \r\n",
            " * * * * * * * * * * \r\n",
            " * * * * * * * * * * \r\n",
            "  * * * * * * * * * \r\n",
            "   * * * * * * * * \r\n",
            "    * * * * * * * \r\n",
            "     * * * * * * \r\n",
            "      * * * * * \r\n",
            "       * * * * \r\n",
            "        * * * \r\n",
            "         * * \r\n",
            "          * \r\n"
          ]
        }
      ]
    },
    {
      "cell_type": "code",
      "source": [
        "# practice 1\n",
        "for i in range(10):\n",
        "  for j in range(10):\n",
        "    print('*', end=' ')\n",
        "  print('\\r')"
      ],
      "metadata": {
        "colab": {
          "base_uri": "https://localhost:8080/"
        },
        "id": "qYTdobtX9fMo",
        "outputId": "3557c9f7-0178-4ddc-afa1-5f079b677e94"
      },
      "execution_count": null,
      "outputs": [
        {
          "output_type": "stream",
          "name": "stdout",
          "text": [
            "* * * * * * * * * * \r\n",
            "* * * * * * * * * * \r\n",
            "* * * * * * * * * * \r\n",
            "* * * * * * * * * * \r\n",
            "* * * * * * * * * * \r\n",
            "* * * * * * * * * * \r\n",
            "* * * * * * * * * * \r\n",
            "* * * * * * * * * * \r\n",
            "* * * * * * * * * * \r\n",
            "* * * * * * * * * * \r\n"
          ]
        }
      ]
    },
    {
      "cell_type": "code",
      "source": [
        "# practice 2\n",
        "n=0\n",
        "for i in range(10):\n",
        "  for j in range(10):\n",
        "    n+=1\n",
        "    print(n, end=' ')\n",
        "  print('\\r')"
      ],
      "metadata": {
        "colab": {
          "base_uri": "https://localhost:8080/"
        },
        "id": "MHGKTMxS-G5A",
        "outputId": "cdbbde02-e184-408b-c6ee-4e6eef0df5fc"
      },
      "execution_count": null,
      "outputs": [
        {
          "output_type": "stream",
          "name": "stdout",
          "text": [
            "1 2 3 4 5 6 7 8 9 10 \r\n",
            "11 12 13 14 15 16 17 18 19 20 \r\n",
            "21 22 23 24 25 26 27 28 29 30 \r\n",
            "31 32 33 34 35 36 37 38 39 40 \r\n",
            "41 42 43 44 45 46 47 48 49 50 \r\n",
            "51 52 53 54 55 56 57 58 59 60 \r\n",
            "61 62 63 64 65 66 67 68 69 70 \r\n",
            "71 72 73 74 75 76 77 78 79 80 \r\n",
            "81 82 83 84 85 86 87 88 89 90 \r\n",
            "91 92 93 94 95 96 97 98 99 100 \r\n"
          ]
        }
      ]
    },
    {
      "cell_type": "code",
      "source": [
        "# practice 3\n",
        "for i in range(10): # creating 10 rows\n",
        "  for j in range(0,i): # Columns increasing from 1 to 10\n",
        "    print(' ', end='') # adding spaces\n",
        "  for k in range(0,10-i): # decreasing from 10 to 1\n",
        "    print('*', end=' ')\n",
        "  print('\\r')\n"
      ],
      "metadata": {
        "colab": {
          "base_uri": "https://localhost:8080/"
        },
        "id": "uCzOiK0K-SAA",
        "outputId": "1e5244b8-516a-42fa-ca13-4093a71b6abf"
      },
      "execution_count": 75,
      "outputs": [
        {
          "output_type": "stream",
          "name": "stdout",
          "text": [
            "* * * * * * * * * * \r\n",
            " * * * * * * * * * \r\n",
            "  * * * * * * * * \r\n",
            "   * * * * * * * \r\n",
            "    * * * * * * \r\n",
            "     * * * * * \r\n",
            "      * * * * \r\n",
            "       * * * \r\n",
            "        * * \r\n",
            "         * \r\n"
          ]
        }
      ]
    },
    {
      "cell_type": "code",
      "source": [
        "for i in range(10):\n",
        "    for j in range(10):\n",
        "        if i == 0 or i == 10 - 1 or j == 0 or j == 10 - 1:\n",
        "            print(\"*\", end=\" \")\n",
        "        else:\n",
        "            print(\" \", end=\" \")\n",
        "    print()"
      ],
      "metadata": {
        "colab": {
          "base_uri": "https://localhost:8080/"
        },
        "id": "uXOp8CstAg_F",
        "outputId": "e9ce206e-1a95-4825-babb-1c45c0601b59"
      },
      "execution_count": null,
      "outputs": [
        {
          "output_type": "stream",
          "name": "stdout",
          "text": [
            "* * * * * * * * * * \n",
            "*                 * \n",
            "*                 * \n",
            "*                 * \n",
            "*                 * \n",
            "*                 * \n",
            "*                 * \n",
            "*                 * \n",
            "*                 * \n",
            "* * * * * * * * * * \n"
          ]
        }
      ]
    },
    {
      "cell_type": "code",
      "source": [
        "for i in range(10):  # draw 10 rows\n",
        "    for j in range(10 - i):  # draws spaces\n",
        "        print('', end=' ')\n",
        "    for k in range(i + 1):  # starting from 1 to 10\n",
        "        if k == 0 or k == i or i == 9:  # print '*' at edges and base\n",
        "            print('*', end=' ')\n",
        "        else:\n",
        "            print(' ', end=' ')  # print spaces for hollow part\n",
        "    print('\\r')  # change row\n",
        "\n"
      ],
      "metadata": {
        "colab": {
          "base_uri": "https://localhost:8080/"
        },
        "id": "rtRuN00zBFi4",
        "outputId": "a6d80db5-a407-45ea-8d6b-d4713fc035d3"
      },
      "execution_count": 77,
      "outputs": [
        {
          "output_type": "stream",
          "name": "stdout",
          "text": [
            "          * \r\n",
            "         * * \r\n",
            "        *   * \r\n",
            "       *     * \r\n",
            "      *       * \r\n",
            "     *         * \r\n",
            "    *           * \r\n",
            "   *             * \r\n",
            "  *               * \r\n",
            " * * * * * * * * * * \r\n"
          ]
        }
      ]
    },
    {
      "cell_type": "code",
      "source": [
        "for i in range(10): # creating 10 rows\n",
        "  for j in range(0,i): # Columns increasing from 1 to 10\n",
        "    print('-', end='') # adding spaces\n",
        "  for k in range(0,10-i): # decreasing from 10 to 1\n",
        "    print('*', end=' ')\n",
        "  print('\\r')"
      ],
      "metadata": {
        "colab": {
          "base_uri": "https://localhost:8080/"
        },
        "id": "uymEkOCnw7H6",
        "outputId": "287fcab6-1a74-4412-dae2-9c30d6e234c3"
      },
      "execution_count": 74,
      "outputs": [
        {
          "output_type": "stream",
          "name": "stdout",
          "text": [
            "* * * * * * * * * * \r\n",
            "-* * * * * * * * * \r\n",
            "--* * * * * * * * \r\n",
            "---* * * * * * * \r\n",
            "----* * * * * * \r\n",
            "-----* * * * * \r\n",
            "------* * * * \r\n",
            "-------* * * \r\n",
            "--------* * \r\n",
            "---------* \r\n"
          ]
        }
      ]
    },
    {
      "cell_type": "code",
      "source": [
        "#upright hollow triangle\n",
        "for i in range(10):  # draw 10 rows\n",
        "    for j in range(10 - i):  # draws spaces\n",
        "        print('', end=' ')\n",
        "    for k in range(i + 1):  # starting from 1 to 10\n",
        "        if k == 0 or k == i or i == 9:  # print '*' at edges and base\n",
        "            print('*', end=' ')\n",
        "        else:\n",
        "            print(' ', end=' ')  # print spaces for hollow part\n",
        "    print('\\r')  # change row"
      ],
      "metadata": {
        "colab": {
          "base_uri": "https://localhost:8080/"
        },
        "id": "sqq1r4Zf3NND",
        "outputId": "2c97af96-1f97-4278-d547-d10e1c8b1dc1"
      },
      "execution_count": 78,
      "outputs": [
        {
          "output_type": "stream",
          "name": "stdout",
          "text": [
            "          * \r\n",
            "         * * \r\n",
            "        *   * \r\n",
            "       *     * \r\n",
            "      *       * \r\n",
            "     *         * \r\n",
            "    *           * \r\n",
            "   *             * \r\n",
            "  *               * \r\n",
            " * * * * * * * * * * \r\n"
          ]
        }
      ]
    },
    {
      "cell_type": "code",
      "source": [
        "\n",
        "for i in range(9, -1, -1):  # draw 10 rows in reverse order\n",
        "    for j in range(10 - i):  # draws spaces\n",
        "        print('', end=' ')\n",
        "    for k in range(i + 1):  # starting from 1 to 10\n",
        "        if k == 0 or k == i or i == 9:  # print '*' at edges and top\n",
        "            print('*', end=' ')\n",
        "        else:\n",
        "            print(' ', end=' ')  # print spaces for hollow part\n",
        "    print('\\r')  # change row\n"
      ],
      "metadata": {
        "colab": {
          "base_uri": "https://localhost:8080/"
        },
        "id": "L2UcFXOW4K-9",
        "outputId": "6181ffd3-b1e0-43eb-9fa9-cb2f61733719"
      },
      "execution_count": 89,
      "outputs": [
        {
          "output_type": "stream",
          "name": "stdout",
          "text": [
            " * * * * * * * * * * \r\n",
            "  *               * \r\n",
            "   *             * \r\n",
            "    *           * \r\n",
            "     *         * \r\n",
            "      *       * \r\n",
            "       *     * \r\n",
            "        *   * \r\n",
            "         * * \r\n",
            "          * \r\n"
          ]
        }
      ]
    },
    {
      "cell_type": "code",
      "source": [
        "for i in range(9, -1, -1):  # draw 10 rows in reverse order\n",
        "    for j in range(10 - i):  # draws spaces\n",
        "        print('', end=' ')\n",
        "    for k in range(i + 1):  # starting from 1 to 10\n",
        "        if k == 0 or k == i or i == 9:  # print '*' at edges and top\n",
        "            print('*', end=' ')\n",
        "        else:\n",
        "            print(' ', end=' ')  # print spaces for hollow part\n",
        "    print('\\r')  # change row\n",
        "\n",
        "for i in range(10):  # draw 10 rows\n",
        "    for j in range(10 - i):  # draws spaces\n",
        "        print('', end=' ')\n",
        "    for k in range(i + 1):  # starting from 1 to 10\n",
        "        if k == 0 or k == i or i == 9:  # print '*' at edges and base\n",
        "            print('*', end=' ')\n",
        "        else:\n",
        "            print(' ', end=' ')  # print spaces for hollow part\n",
        "    print('\\r')  # change row"
      ],
      "metadata": {
        "colab": {
          "base_uri": "https://localhost:8080/"
        },
        "id": "Olo3wRD4AoI9",
        "outputId": "f1e0f9de-6ca2-4c11-8395-9d2025714fd0"
      },
      "execution_count": 104,
      "outputs": [
        {
          "output_type": "stream",
          "name": "stdout",
          "text": [
            " * * * * * * * * * * \r\n",
            "  *               * \r\n",
            "   *             * \r\n",
            "    *           * \r\n",
            "     *         * \r\n",
            "      *       * \r\n",
            "       *     * \r\n",
            "        *   * \r\n",
            "         * * \r\n",
            "          * \r\n",
            "          * \r\n",
            "         * * \r\n",
            "        *   * \r\n",
            "       *     * \r\n",
            "      *       * \r\n",
            "     *         * \r\n",
            "    *           * \r\n",
            "   *             * \r\n",
            "  *               * \r\n",
            " * * * * * * * * * * \r\n"
          ]
        }
      ]
    }
  ]
}