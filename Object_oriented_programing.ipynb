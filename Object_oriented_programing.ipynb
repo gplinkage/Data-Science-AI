{
  "nbformat": 4,
  "nbformat_minor": 0,
  "metadata": {
    "colab": {
      "provenance": [],
      "authorship_tag": "ABX9TyP5qBxIsF7HFu5TMrTgSsYL",
      "include_colab_link": true
    },
    "kernelspec": {
      "name": "python3",
      "display_name": "Python 3"
    },
    "language_info": {
      "name": "python"
    }
  },
  "cells": [
    {
      "cell_type": "markdown",
      "metadata": {
        "id": "view-in-github",
        "colab_type": "text"
      },
      "source": [
        "<a href=\"https://colab.research.google.com/github/gplinkage/DataScienceBootCamp/blob/main/Object_oriented_programing.ipynb\" target=\"_parent\"><img src=\"https://colab.research.google.com/assets/colab-badge.svg\" alt=\"Open In Colab\"/></a>"
      ]
    },
    {
      "cell_type": "code",
      "execution_count": null,
      "metadata": {
        "colab": {
          "base_uri": "https://localhost:8080/"
        },
        "id": "iAmKP8Pfjj7V",
        "outputId": "6442a8ab-bfcd-484f-c281-c0d6706cf397"
      },
      "outputs": [
        {
          "output_type": "stream",
          "name": "stdout",
          "text": [
            "<class '__main__.Abcd'>\n"
          ]
        }
      ],
      "source": [
        "# creating class\n",
        "class Abcd:\n",
        "  pass\n",
        "\n",
        "objt1= Abcd()\n",
        "print(type(objt1))"
      ]
    },
    {
      "cell_type": "code",
      "source": [
        "class university_student:\n",
        "  def student_info():\n",
        "    name= 'John'\n"
      ],
      "metadata": {
        "id": "t6QHkusxnWd7"
      },
      "execution_count": null,
      "outputs": []
    },
    {
      "cell_type": "code",
      "source": [
        "obj1 = university_student()\n"
      ],
      "metadata": {
        "id": "IG6M6XMOng6Z"
      },
      "execution_count": null,
      "outputs": []
    },
    {
      "cell_type": "code",
      "source": [
        "# Step 1: Define the Class\n",
        "class ToyRobot:\n",
        "    pass\n",
        "# This creates a class named ToyRobot. Think of it as a blueprint.\n",
        "\n",
        "# Step 2: Add the __init__ Method\n",
        "class ToyRobot:\n",
        "    def __init__(self):\n",
        "        # This special method is like instructions for setting up the robot.\n",
        "        # It runs automatically when a new object is created.\n",
        "        self.color = \"Red\"   # The robot's color is set to \"Red\" initially.\n",
        "        self.power = \"Battery\"  # The robot's power source is set to \"Battery\" initially.\n",
        "# Create a toy robot object\n",
        "my_robot = ToyRobot()\n",
        "\n",
        "# Access the properties\n",
        "print(\"Robot color:\", my_robot.color)  # This prints the robot's color, which is \"Red\".\n",
        "print(\"Robot power:\", my_robot.power)  # This prints the robot's power source, which is \"Battery\".\n"
      ],
      "metadata": {
        "colab": {
          "base_uri": "https://localhost:8080/"
        },
        "id": "_Y3OsjsMoyV7",
        "outputId": "8b10c39c-a530-4d11-bdfd-a8d05c2198f6"
      },
      "execution_count": null,
      "outputs": [
        {
          "output_type": "stream",
          "name": "stdout",
          "text": [
            "Robot color: Red\n",
            "Robot power: Battery\n"
          ]
        }
      ]
    },
    {
      "cell_type": "code",
      "source": [
        "class university_student:\n",
        "  def __init__(self, fname, mname, lname, gender, email, contact):\n",
        "    self.fname = fname\n",
        "    self.mname= mname\n",
        "    self.lname=lname\n",
        "    self.gender=gender\n",
        "    self.email= email\n",
        "    self.contact= contact\n",
        "\n",
        "  def stud_details(self):\n",
        "    print(self.fname, self.mname, self.lname,self.gender, self.email, self.email, self.contact )"
      ],
      "metadata": {
        "id": "F2BEftqOo9z-"
      },
      "execution_count": null,
      "outputs": []
    },
    {
      "cell_type": "code",
      "source": [
        "obj1 = university_student('Kin', \"Zin\", \"Anto\", 'm', 'kin.anto@firstmail.com', 9876)"
      ],
      "metadata": {
        "id": "JZd5AcqqqjsN"
      },
      "execution_count": null,
      "outputs": []
    },
    {
      "cell_type": "code",
      "source": [
        "obj1.stud_details()"
      ],
      "metadata": {
        "colab": {
          "base_uri": "https://localhost:8080/"
        },
        "id": "djzFlJ0GwiQx",
        "outputId": "cfbed9f7-480b-453e-cbe4-755e642d40a6"
      },
      "execution_count": null,
      "outputs": [
        {
          "output_type": "stream",
          "name": "stdout",
          "text": [
            "Kin Zin Anto m kin.anto@firstmail.com kin.anto@firstmail.com 9876\n"
          ]
        }
      ]
    },
    {
      "cell_type": "code",
      "source": [
        "print(type(obj1))"
      ],
      "metadata": {
        "colab": {
          "base_uri": "https://localhost:8080/"
        },
        "id": "4S8bSDEyq3_C",
        "outputId": "586c9a2d-b051-474c-b24b-7da45ff63f5d"
      },
      "execution_count": null,
      "outputs": [
        {
          "output_type": "stream",
          "name": "stdout",
          "text": [
            "<class '__main__.university_student'>\n"
          ]
        }
      ]
    },
    {
      "cell_type": "code",
      "source": [
        "# Define a class named \"Address\"\n",
        "class Address:\n",
        "    def __init__(self, unit_num, house_num, street_name, city, zip_code, country):\n",
        "        # The \"__init__\" method is a special method that runs automatically when an object is created.\n",
        "        # It initializes the object's attributes (properties) with the provided values.\n",
        "        self.unit_num = unit_num       # Set the unit number attribute\n",
        "        self.house_num = house_num     # Set the house number attribute\n",
        "        self.street_name = street_name # Set the street name attribute\n",
        "        self.city = city               # Set the city attribute\n",
        "        self.zip_code = zip_code       # Set the zip code attribute\n",
        "        self.country = country         # Set the country attribute\n",
        "\n",
        "        # Print the address components for demonstration\n",
        "        print(\"Address:\", self.unit_num, self.house_num, self.street_name, self.city, self.zip_code, self.country)\n",
        "\n",
        "# Creating an Address object\n",
        "# Here, you provide values for each attribute to create a new address.\n",
        "# This will call the \"__init__\" method automatically to set up the object.\n",
        "my_address = Address(\"Apt 123\", \"456\", \"Main Street\", \"Cityville\", \"12345\", \"Countryland\")\n",
        "\n",
        "# Note: This line will print the address components due to the \"print\" statement in the \"__init__\" method.\n",
        "# In practice, you might not want to have this \"print\" statement inside the class.\n"
      ],
      "metadata": {
        "colab": {
          "base_uri": "https://localhost:8080/"
        },
        "id": "5qPQsuwCr3hM",
        "outputId": "f2549b14-fe05-4c63-b702-8e5c15c08a07"
      },
      "execution_count": null,
      "outputs": [
        {
          "output_type": "stream",
          "name": "stdout",
          "text": [
            "Address: Apt 123 456 Main Street Cityville 12345 Countryland\n"
          ]
        }
      ]
    },
    {
      "cell_type": "code",
      "source": [
        "your_address = Address( 'Apt 3', 204, 'First Street', 'Madison', 53721, 'USA')"
      ],
      "metadata": {
        "colab": {
          "base_uri": "https://localhost:8080/"
        },
        "id": "4FJqrAr3tGJm",
        "outputId": "7840f218-b306-40b3-ad9c-59856d147ea5"
      },
      "execution_count": null,
      "outputs": [
        {
          "output_type": "stream",
          "name": "stdout",
          "text": [
            "Address: Apt 3 204 First Street Madison 53721 USA\n"
          ]
        }
      ]
    },
    {
      "cell_type": "code",
      "source": [
        "class Course_info:\n",
        "  def __init__ (self, title, duration, cost):\n",
        "    self.title = title\n",
        "    self.duration= duration\n",
        "    self.cost = cost\n",
        "\n",
        "  def course_detatils(self):\n",
        "    print (\"Course details:\", 'Title:', self.title, ', Course length:', self.duration, ', Full cost: ', self.cost)"
      ],
      "metadata": {
        "id": "dXDyNyO_zD1x"
      },
      "execution_count": null,
      "outputs": []
    },
    {
      "cell_type": "code",
      "source": [
        "datsc = Course_info(\"Data Science\", '14 Weeks', \"$2000\")"
      ],
      "metadata": {
        "id": "SK6d1X5v0AcW"
      },
      "execution_count": null,
      "outputs": []
    },
    {
      "cell_type": "code",
      "source": [
        "datsc.course_detatils()"
      ],
      "metadata": {
        "colab": {
          "base_uri": "https://localhost:8080/"
        },
        "id": "pfhZFuPTz6Cb",
        "outputId": "95cca18c-1c6a-4f1e-9624-881fed7aff5f"
      },
      "execution_count": null,
      "outputs": [
        {
          "output_type": "stream",
          "name": "stdout",
          "text": [
            "Course details: Title: Data Science , Course length: 14 Weeks , Full cost:  $2000\n"
          ]
        }
      ]
    },
    {
      "cell_type": "code",
      "source": [
        "class Car:\n",
        "  def __init__(self, name, model, fuel, cc, cylinders):\n",
        "    self.name= name\n",
        "    self.model = model\n",
        "    self.fuel = fuel\n",
        "    self.cc = cc\n",
        "    self.cylinders = cylinders\n",
        "  def car_details(self):\n",
        "   print(self.name, self.model, self.fuel, self.cc, self.cylinders)\n"
      ],
      "metadata": {
        "id": "SJqndieh1lk8"
      },
      "execution_count": null,
      "outputs": []
    },
    {
      "cell_type": "code",
      "source": [
        "obj1= Car('Tesla','X', 'Electric', 3500, 4)"
      ],
      "metadata": {
        "id": "0_24jNEq2Rk-"
      },
      "execution_count": null,
      "outputs": []
    },
    {
      "cell_type": "code",
      "source": [
        "obj1.car_details()"
      ],
      "metadata": {
        "colab": {
          "base_uri": "https://localhost:8080/"
        },
        "id": "ewgf5Yfi2g6H",
        "outputId": "4b418c84-cf82-4174-cd05-24ac3b4483ac"
      },
      "execution_count": null,
      "outputs": [
        {
          "output_type": "stream",
          "name": "stdout",
          "text": [
            "Tesla X Electric 3500 4\n"
          ]
        }
      ]
    },
    {
      "cell_type": "code",
      "source": [
        "class person:\n",
        "  def __init__(self,fname,lname):\n",
        "    self.firstname= fname\n",
        "    self.lastname = lname\n",
        "\n",
        "  def printname(self):\n",
        "    print(self.firstname, ' ', self.lastname)"
      ],
      "metadata": {
        "id": "u2T7kfnF3Tx7"
      },
      "execution_count": null,
      "outputs": []
    },
    {
      "cell_type": "code",
      "source": [
        "class childclass(person):\n",
        "  pass"
      ],
      "metadata": {
        "id": "7T-m5OB7twnL"
      },
      "execution_count": null,
      "outputs": []
    },
    {
      "cell_type": "code",
      "source": [
        "obj2 = childclass('Gov','Poudel')"
      ],
      "metadata": {
        "id": "NCDD2fk8uQ20"
      },
      "execution_count": null,
      "outputs": []
    },
    {
      "cell_type": "code",
      "source": [
        "obj2.printname()"
      ],
      "metadata": {
        "colab": {
          "base_uri": "https://localhost:8080/"
        },
        "id": "G2CV9M4Aumrv",
        "outputId": "98ec3c8f-cb09-468b-ecfd-0d34f9d5c192"
      },
      "execution_count": null,
      "outputs": [
        {
          "output_type": "stream",
          "name": "stdout",
          "text": [
            "Gov   Poudel\n"
          ]
        }
      ]
    },
    {
      "cell_type": "code",
      "source": [
        "# Define the base class 'person'\n",
        "class person:\n",
        "    def __init__(self, fname, lname):\n",
        "        self.firstname = fname\n",
        "        self.lastname = lname\n",
        "\n",
        "    def printname(self):\n",
        "        print('class person:', self.firstname, self.lastname)"
      ],
      "metadata": {
        "id": "NfZ1Yaqa7wUP"
      },
      "execution_count": null,
      "outputs": []
    },
    {
      "cell_type": "code",
      "source": [
        "\n",
        "# Define the child class 'childclass' that inherits from 'person'\n",
        "class childclass(person):\n",
        "    def __init__(self, fname, lname, address):  # Include fname and lname as parameters\n",
        "        # Call the parent class's constructor using 'super()' to set the first and last name\n",
        "        super().__init__(fname, lname)\n",
        "        self.address = address\n",
        "\n",
        "    def address1(self):\n",
        "        print(self.address)"
      ],
      "metadata": {
        "id": "DzmzOCUDw6YQ"
      },
      "execution_count": null,
      "outputs": []
    },
    {
      "cell_type": "code",
      "source": [
        "# Create an instance of the base class 'person'\n",
        "obj1 = person('John', 'Smith')"
      ],
      "metadata": {
        "id": "RXFScqCYxjGp"
      },
      "execution_count": null,
      "outputs": []
    },
    {
      "cell_type": "code",
      "source": [
        "# Create an instance of the child class 'childclass'\n",
        "obj2 = childclass('John', 'Smith', '22, ABC Street, NY 5088')  # Provide fname, lname, and address"
      ],
      "metadata": {
        "id": "pEUcSuIR3DKo"
      },
      "execution_count": null,
      "outputs": []
    },
    {
      "cell_type": "code",
      "source": [
        "# Call the 'printname' method of the base class\n",
        "obj1.printname()"
      ],
      "metadata": {
        "colab": {
          "base_uri": "https://localhost:8080/"
        },
        "id": "svCPfYAfxrV_",
        "outputId": "4540f3a4-35ca-4bc5-a54e-53aef0e32a73"
      },
      "execution_count": null,
      "outputs": [
        {
          "output_type": "stream",
          "name": "stdout",
          "text": [
            "class person: John Smith\n"
          ]
        }
      ]
    },
    {
      "cell_type": "code",
      "source": [
        "# Call the 'printname' method of the child class (inherited from base class)\n",
        "obj2.printname()"
      ],
      "metadata": {
        "colab": {
          "base_uri": "https://localhost:8080/"
        },
        "id": "lU5DHc3_3F-F",
        "outputId": "4e7c0048-0785-42d1-d337-ab501c62bc24"
      },
      "execution_count": null,
      "outputs": [
        {
          "output_type": "stream",
          "name": "stdout",
          "text": [
            "class person: John Smith\n"
          ]
        }
      ]
    },
    {
      "cell_type": "code",
      "source": [
        "# Call the 'address1' method of the child class\n",
        "obj2.address1()\n"
      ],
      "metadata": {
        "colab": {
          "base_uri": "https://localhost:8080/"
        },
        "id": "KoXwIxji3MXK",
        "outputId": "3ad1e3a7-b7e9-492c-82fa-244f6862650f"
      },
      "execution_count": null,
      "outputs": [
        {
          "output_type": "stream",
          "name": "stdout",
          "text": [
            "22, ABC Street, NY 5088\n"
          ]
        }
      ]
    },
    {
      "cell_type": "code",
      "source": [
        "class car:\n",
        "  def __init__ (self, name, model):\n",
        "    self.name = name\n",
        "    self.model = model\n",
        "\n",
        "  def print_details(self):\n",
        "    print('class car: ', self.name, self.model)\n"
      ],
      "metadata": {
        "id": "oKgaYfZMBAJX"
      },
      "execution_count": null,
      "outputs": []
    },
    {
      "cell_type": "code",
      "source": [
        "class audi(car):\n",
        "  def __init__(self, name, model, make):\n",
        "    super().__init__(name, model)\n",
        "    self.make = make\n",
        "\n",
        "  def print1 (self):\n",
        "    print(self.name, self.model, self.make)"
      ],
      "metadata": {
        "id": "S4DQ4d_2BXPH"
      },
      "execution_count": null,
      "outputs": []
    },
    {
      "cell_type": "code",
      "source": [
        "obj1 = audi ('Audi 777', 777, 1978)"
      ],
      "metadata": {
        "id": "z4cypxxuBnmZ"
      },
      "execution_count": null,
      "outputs": []
    },
    {
      "cell_type": "code",
      "source": [
        "obj1.print1()"
      ],
      "metadata": {
        "colab": {
          "base_uri": "https://localhost:8080/"
        },
        "id": "BU1KIPUgB-gI",
        "outputId": "1b0f4b6e-0d5d-4999-db0b-c70bcfa5d7a3"
      },
      "execution_count": null,
      "outputs": [
        {
          "output_type": "stream",
          "name": "stdout",
          "text": [
            "Audi 777 777 1978\n"
          ]
        }
      ]
    },
    {
      "cell_type": "code",
      "source": [
        "class car:\n",
        "  def __init__ (self, name, model):\n",
        "    self.name = name\n",
        "    self.model = model\n",
        "\n",
        "  def print_details(self):\n",
        "    print('class car: ', self.name, self.model)"
      ],
      "metadata": {
        "id": "sRH1_bFKDVWW"
      },
      "execution_count": null,
      "outputs": []
    },
    {
      "cell_type": "code",
      "source": [
        "class toyota(car):\n",
        "  def __init__(self, name, model, make, color):\n",
        "    super().__init__(name, model)\n",
        "    self.make = make\n",
        "    self.color= color\n",
        "\n",
        "  def print1 (self):\n",
        "    print(self.name, self.model, self.make, self.color)"
      ],
      "metadata": {
        "id": "Z4dnoQ6mDZsX"
      },
      "execution_count": null,
      "outputs": []
    },
    {
      "cell_type": "code",
      "source": [
        "obj1 = toyota( 'Toyota', 'camry', 2018, 'blue')"
      ],
      "metadata": {
        "id": "C8lTduzpEzJL"
      },
      "execution_count": null,
      "outputs": []
    },
    {
      "cell_type": "code",
      "source": [
        "obj1.print1()"
      ],
      "metadata": {
        "colab": {
          "base_uri": "https://localhost:8080/"
        },
        "id": "6tA2vH0-FOoj",
        "outputId": "be642968-0a84-4556-8c03-95ad8dbf2f47"
      },
      "execution_count": null,
      "outputs": [
        {
          "output_type": "stream",
          "name": "stdout",
          "text": [
            "Toyota camry 2018 blue\n"
          ]
        }
      ]
    },
    {
      "cell_type": "code",
      "source": [
        "obj2 = car('Toyota', 'camry')\n",
        "obj2.print_details()"
      ],
      "metadata": {
        "colab": {
          "base_uri": "https://localhost:8080/"
        },
        "id": "mjJKmAdrFUr8",
        "outputId": "61ca817f-a186-4109-b9c5-3ec80bdd9697"
      },
      "execution_count": null,
      "outputs": [
        {
          "output_type": "stream",
          "name": "stdout",
          "text": [
            "class car:  Toyota camry\n"
          ]
        }
      ]
    },
    {
      "cell_type": "markdown",
      "source": [],
      "metadata": {
        "id": "lMsyVVzgCmbR"
      }
    }
  ]
}