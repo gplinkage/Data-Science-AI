{
  "nbformat": 4,
  "nbformat_minor": 0,
  "metadata": {
    "colab": {
      "provenance": [],
      "mount_file_id": "1y5evZyrGRlYQ-QXmtmJIW3IiIuZ5IaMF",
      "authorship_tag": "ABX9TyOmUV3Rwy4qKejq1J5Kixe+",
      "include_colab_link": true
    },
    "kernelspec": {
      "name": "python3",
      "display_name": "Python 3"
    },
    "language_info": {
      "name": "python"
    }
  },
  "cells": [
    {
      "cell_type": "markdown",
      "metadata": {
        "id": "view-in-github",
        "colab_type": "text"
      },
      "source": [
        "<a href=\"https://colab.research.google.com/github/gplinkage/DataScienceBootCamp/blob/main/Projects/Neural_Network_CarvsBike_Project.ipynb\" target=\"_parent\"><img src=\"https://colab.research.google.com/assets/colab-badge.svg\" alt=\"Open In Colab\"/></a>"
      ]
    },
    {
      "cell_type": "code",
      "execution_count": null,
      "metadata": {
        "id": "XhcgAAr-nQd_"
      },
      "outputs": [],
      "source": [
        "import tensorflow as tf\n",
        "from keras.preprocessing.image import ImageDataGenerator"
      ]
    },
    {
      "cell_type": "code",
      "source": [
        "train_datagen= ImageDataGenerator (rescale = 1/255,\n",
        "                                   shear_range = 0.2,\n",
        "                                   horizontal_flip = True)\n",
        "training_set = train_datagen.flow_from_directory('/content/drive/MyDrive/Data Science/Data/Car-Bike-Dataset/Train_dataset',\n",
        "                                                 target_size = (64,64),\n",
        "                                                 batch_size = 32,\n",
        "                                                 class_mode = 'binary')"
      ],
      "metadata": {
        "colab": {
          "base_uri": "https://localhost:8080/"
        },
        "id": "q9uVMfhppJKU",
        "outputId": "4f5019c8-1ed6-4cec-9b10-f91881396444"
      },
      "execution_count": null,
      "outputs": [
        {
          "output_type": "stream",
          "name": "stdout",
          "text": [
            "Found 3990 images belonging to 2 classes.\n"
          ]
        }
      ]
    },
    {
      "cell_type": "code",
      "source": [
        "test_datagen= ImageDataGenerator (rescale = 1/255)\n",
        "test_set = test_datagen.flow_from_directory('/content/drive/MyDrive/Data Science/Data/Car-Bike-Dataset/Test_dataset',\n",
        "                                                 target_size = (64,64),\n",
        "                                                 batch_size = 32,\n",
        "                                                 class_mode = 'binary')"
      ],
      "metadata": {
        "colab": {
          "base_uri": "https://localhost:8080/"
        },
        "id": "HgUyISanv7wp",
        "outputId": "fee87a75-c5b2-4121-8948-65f8e6e232e0"
      },
      "execution_count": null,
      "outputs": [
        {
          "output_type": "stream",
          "name": "stdout",
          "text": [
            "Found 16 images belonging to 2 classes.\n"
          ]
        }
      ]
    },
    {
      "cell_type": "code",
      "source": [
        "cnn= tf.keras.models.Sequential()"
      ],
      "metadata": {
        "id": "AiwjJQXfrJv9"
      },
      "execution_count": null,
      "outputs": []
    },
    {
      "cell_type": "code",
      "source": [
        "cnn.add(tf.keras.layers.Conv2D(filters=32, kernel_size= 3, activation ='relu', input_shape = [64,64,3]))"
      ],
      "metadata": {
        "id": "eDYlXYYArTuX"
      },
      "execution_count": null,
      "outputs": []
    },
    {
      "cell_type": "code",
      "source": [
        "cnn.add(tf.keras.layers.MaxPool2D(pool_size = 2, strides = 2))"
      ],
      "metadata": {
        "id": "8REM4DHXrnwG"
      },
      "execution_count": null,
      "outputs": []
    },
    {
      "cell_type": "code",
      "source": [
        "cnn.add(tf.keras.layers.Conv2D(filters= 32, kernel_size=3, activation= 'relu', input_shape =[64,64,3]  ))"
      ],
      "metadata": {
        "id": "pYQfikF8rzI9"
      },
      "execution_count": null,
      "outputs": []
    },
    {
      "cell_type": "code",
      "source": [
        "cnn.add(tf.keras.layers.MaxPool2D(pool_size = 2, strides = 2))"
      ],
      "metadata": {
        "id": "bM512NGLsLln"
      },
      "execution_count": null,
      "outputs": []
    },
    {
      "cell_type": "code",
      "source": [
        "cnn.add(tf.keras.layers.Flatten())"
      ],
      "metadata": {
        "id": "QvjzXHgJsjbW"
      },
      "execution_count": null,
      "outputs": []
    },
    {
      "cell_type": "code",
      "source": [
        "cnn.add(tf.keras.layers.Dense(units=128, activation='relu'))"
      ],
      "metadata": {
        "id": "2J1YAF8gso4E"
      },
      "execution_count": null,
      "outputs": []
    },
    {
      "cell_type": "code",
      "source": [
        "cnn.add(tf.keras.layers.Dense(units=1, activation='sigmoid'))\n"
      ],
      "metadata": {
        "id": "ArTJQ6P4symX"
      },
      "execution_count": null,
      "outputs": []
    },
    {
      "cell_type": "code",
      "source": [
        "cnn.compile(optimizer = 'adam', loss= 'binary_crossentropy', metrics= ['accuracy'])"
      ],
      "metadata": {
        "id": "ZJfnIQWfs9Wg"
      },
      "execution_count": null,
      "outputs": []
    },
    {
      "cell_type": "code",
      "source": [
        "cnn.fit(x = training_set, validation_data = test_set, epochs = 15)"
      ],
      "metadata": {
        "colab": {
          "base_uri": "https://localhost:8080/"
        },
        "id": "66vJnSoptLG2",
        "outputId": "4f53d71b-fb8a-4e43-8e45-b0bf2c18e442"
      },
      "execution_count": null,
      "outputs": [
        {
          "output_type": "stream",
          "name": "stdout",
          "text": [
            "Epoch 1/15\n",
            "125/125 [==============================] - 48s 365ms/step - loss: 0.4646 - accuracy: 0.7707 - val_loss: 0.3502 - val_accuracy: 0.8750\n",
            "Epoch 2/15\n",
            "125/125 [==============================] - 46s 364ms/step - loss: 0.2381 - accuracy: 0.9008 - val_loss: 0.1968 - val_accuracy: 0.8750\n",
            "Epoch 3/15\n",
            "125/125 [==============================] - 45s 362ms/step - loss: 0.2028 - accuracy: 0.9153 - val_loss: 0.2202 - val_accuracy: 0.9375\n",
            "Epoch 4/15\n",
            "125/125 [==============================] - 45s 361ms/step - loss: 0.1767 - accuracy: 0.9321 - val_loss: 0.2012 - val_accuracy: 0.9375\n",
            "Epoch 5/15\n",
            "125/125 [==============================] - 48s 380ms/step - loss: 0.1500 - accuracy: 0.9383 - val_loss: 0.2222 - val_accuracy: 0.9375\n",
            "Epoch 6/15\n",
            "125/125 [==============================] - 46s 366ms/step - loss: 0.1263 - accuracy: 0.9499 - val_loss: 0.1878 - val_accuracy: 0.9375\n",
            "Epoch 7/15\n",
            "125/125 [==============================] - 53s 421ms/step - loss: 0.1133 - accuracy: 0.9569 - val_loss: 0.1072 - val_accuracy: 0.9375\n",
            "Epoch 8/15\n",
            "125/125 [==============================] - 50s 400ms/step - loss: 0.1005 - accuracy: 0.9596 - val_loss: 0.1444 - val_accuracy: 0.9375\n",
            "Epoch 9/15\n",
            "125/125 [==============================] - 59s 468ms/step - loss: 0.0839 - accuracy: 0.9704 - val_loss: 0.2236 - val_accuracy: 0.9375\n",
            "Epoch 10/15\n",
            "125/125 [==============================] - 45s 361ms/step - loss: 0.0654 - accuracy: 0.9752 - val_loss: 0.2542 - val_accuracy: 0.8750\n",
            "Epoch 11/15\n",
            "125/125 [==============================] - 50s 396ms/step - loss: 0.0569 - accuracy: 0.9782 - val_loss: 0.3105 - val_accuracy: 0.8750\n",
            "Epoch 12/15\n",
            "125/125 [==============================] - 47s 375ms/step - loss: 0.0431 - accuracy: 0.9850 - val_loss: 0.2154 - val_accuracy: 0.8750\n",
            "Epoch 13/15\n",
            "125/125 [==============================] - 47s 378ms/step - loss: 0.0486 - accuracy: 0.9812 - val_loss: 0.3073 - val_accuracy: 0.8750\n",
            "Epoch 14/15\n",
            "125/125 [==============================] - 46s 364ms/step - loss: 0.0297 - accuracy: 0.9895 - val_loss: 0.1720 - val_accuracy: 0.9375\n",
            "Epoch 15/15\n",
            "125/125 [==============================] - 46s 367ms/step - loss: 0.0302 - accuracy: 0.9890 - val_loss: 0.3083 - val_accuracy: 0.9375\n"
          ]
        },
        {
          "output_type": "execute_result",
          "data": {
            "text/plain": [
              "<keras.src.callbacks.History at 0x7c4b0f76fb20>"
            ]
          },
          "metadata": {},
          "execution_count": 88
        }
      ]
    },
    {
      "cell_type": "code",
      "source": [
        "import numpy as np\n",
        "import keras.utils as image\n",
        "\n",
        "# Load and preprocess the test image\n",
        "test_image = image.load_img('/content/drive/MyDrive/Data Science/Data/Car-Bike-Dataset/Validation_dataset/Bike or Car.jpeg', target_size=(64, 64))\n",
        "test_image = image.img_to_array(test_image) #Convert the image to a NumPy array.\n",
        "test_image = np.expand_dims(test_image, axis=0) #Add an extra dimension to the array to make it suitable for model input (batch dimension).\n",
        "\n",
        "# Make a prediction using the trained CNN model\n",
        "result = cnn.predict(test_image)\n",
        "\n",
        "# Get the class indices from the training set\n",
        "class_indices = training_set.class_indices #Retrieve the class indices used during training.\n",
        "\n",
        "# Check the prediction result and map it to a class label\n",
        "if result[0][0] == 1:   #Check if the predicted score for the first class is 1. This assumes binary classification where 1 might correspond to the positive class (car).\n",
        "    prediction = 'car'\n",
        "else:\n",
        "    prediction = 'bike'\n"
      ],
      "metadata": {
        "colab": {
          "base_uri": "https://localhost:8080/"
        },
        "id": "ncP4HXTau466",
        "outputId": "42ac5cd0-b70c-48c3-e73d-ff756bf41b12"
      },
      "execution_count": null,
      "outputs": [
        {
          "output_type": "stream",
          "name": "stdout",
          "text": [
            "1/1 [==============================] - 0s 33ms/step\n"
          ]
        }
      ]
    },
    {
      "cell_type": "code",
      "source": [
        "print(prediction)"
      ],
      "metadata": {
        "colab": {
          "base_uri": "https://localhost:8080/"
        },
        "id": "iB-wCbGlzPlr",
        "outputId": "24f4a43b-5fc2-4c10-d1d5-37137125392e"
      },
      "execution_count": null,
      "outputs": [
        {
          "output_type": "stream",
          "name": "stdout",
          "text": [
            "bike\n"
          ]
        }
      ]
    }
  ]
}