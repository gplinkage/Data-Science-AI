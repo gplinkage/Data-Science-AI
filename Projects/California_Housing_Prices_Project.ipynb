{
  "nbformat": 4,
  "nbformat_minor": 0,
  "metadata": {
    "colab": {
      "provenance": [],
      "gpuType": "T4",
      "authorship_tag": "ABX9TyMg3yg+1rfhbhOlF4miyVyh",
      "include_colab_link": true
    },
    "kernelspec": {
      "name": "python3",
      "display_name": "Python 3"
    },
    "language_info": {
      "name": "python"
    },
    "accelerator": "GPU"
  },
  "cells": [
    {
      "cell_type": "markdown",
      "metadata": {
        "id": "view-in-github",
        "colab_type": "text"
      },
      "source": [
        "<a href=\"https://colab.research.google.com/github/gplinkage/DataScienceBootCamp/blob/main/Projects/California_Housing_Prices_Project.ipynb\" target=\"_parent\"><img src=\"https://colab.research.google.com/assets/colab-badge.svg\" alt=\"Open In Colab\"/></a>"
      ]
    },
    {
      "cell_type": "code",
      "execution_count": 320,
      "metadata": {
        "id": "WOiaY3qWWi82"
      },
      "outputs": [],
      "source": [
        "import pandas as pd\n",
        "import numpy as np\n",
        "import matplotlib.pyplot as plt\n",
        "import seaborn as sns\n",
        "%matplotlib inline"
      ]
    },
    {
      "cell_type": "code",
      "source": [
        "df= pd.read_csv(\"/content/housing.csv\")"
      ],
      "metadata": {
        "id": "ct1eFjTZW9lK"
      },
      "execution_count": 321,
      "outputs": []
    },
    {
      "cell_type": "code",
      "source": [
        "df"
      ],
      "metadata": {
        "id": "p_xMRMyuXFCu"
      },
      "execution_count": null,
      "outputs": []
    },
    {
      "cell_type": "code",
      "source": [
        "df.describe()"
      ],
      "metadata": {
        "id": "u45cF0yOXadT"
      },
      "execution_count": null,
      "outputs": []
    },
    {
      "cell_type": "code",
      "source": [
        "df.isna().sum()"
      ],
      "metadata": {
        "colab": {
          "base_uri": "https://localhost:8080/"
        },
        "id": "5gbwgYHDYaTi",
        "outputId": "09e1481a-1a63-42f6-98b2-dfca05407add"
      },
      "execution_count": 323,
      "outputs": [
        {
          "output_type": "execute_result",
          "data": {
            "text/plain": [
              "longitude               0\n",
              "latitude                0\n",
              "housing_median_age      0\n",
              "total_rooms             0\n",
              "total_bedrooms        207\n",
              "population              0\n",
              "households              0\n",
              "median_income           0\n",
              "median_house_value      0\n",
              "ocean_proximity         0\n",
              "dtype: int64"
            ]
          },
          "metadata": {},
          "execution_count": 323
        }
      ]
    },
    {
      "cell_type": "code",
      "source": [
        "df['total_bedrooms'].fillna(df['total_bedrooms'].median(), inplace=True)"
      ],
      "metadata": {
        "id": "cwdLafXjj-m0"
      },
      "execution_count": 324,
      "outputs": []
    },
    {
      "cell_type": "code",
      "source": [
        "df.isna().sum()"
      ],
      "metadata": {
        "id": "GDXMgbWtkHpp"
      },
      "execution_count": null,
      "outputs": []
    },
    {
      "cell_type": "code",
      "source": [
        "x = df.iloc[:, [0,1,2,3,4,5,6,7,9]].values\n",
        "print(x)"
      ],
      "metadata": {
        "colab": {
          "base_uri": "https://localhost:8080/"
        },
        "id": "w4AMGRhzYxVD",
        "outputId": "326c4412-c56f-49ed-c445-9329edf80113"
      },
      "execution_count": 326,
      "outputs": [
        {
          "output_type": "stream",
          "name": "stdout",
          "text": [
            "[[-122.23 37.88 41.0 ... 126.0 8.3252 'NEAR BAY']\n",
            " [-122.22 37.86 21.0 ... 1138.0 8.3014 'NEAR BAY']\n",
            " [-122.24 37.85 52.0 ... 177.0 7.2574 'NEAR BAY']\n",
            " ...\n",
            " [-121.22 39.43 17.0 ... 433.0 1.7 'INLAND']\n",
            " [-121.32 39.43 18.0 ... 349.0 1.8672 'INLAND']\n",
            " [-121.24 39.37 16.0 ... 530.0 2.3886 'INLAND']]\n"
          ]
        }
      ]
    },
    {
      "cell_type": "code",
      "source": [
        "from sklearn.compose import ColumnTransformer\n",
        "from sklearn.preprocessing import OneHotEncoder\n",
        "ct= ColumnTransformer(transformers=[('encoder', OneHotEncoder(), [8])], remainder= 'passthrough')\n",
        "x= ct.fit_transform(x)"
      ],
      "metadata": {
        "id": "cnBXJpcJdk3R"
      },
      "execution_count": 327,
      "outputs": []
    },
    {
      "cell_type": "code",
      "source": [
        "print(x)"
      ],
      "metadata": {
        "colab": {
          "base_uri": "https://localhost:8080/"
        },
        "id": "mv5rPEmrdwmj",
        "outputId": "2f901d5c-1311-49e9-d58e-e724a3dcf908"
      },
      "execution_count": 348,
      "outputs": [
        {
          "output_type": "stream",
          "name": "stdout",
          "text": [
            "[[0.0 0.0 0.0 ... 322.0 126.0 8.3252]\n",
            " [0.0 0.0 0.0 ... 2401.0 1138.0 8.3014]\n",
            " [0.0 0.0 0.0 ... 496.0 177.0 7.2574]\n",
            " ...\n",
            " [0.0 1.0 0.0 ... 1007.0 433.0 1.7]\n",
            " [0.0 1.0 0.0 ... 741.0 349.0 1.8672]\n",
            " [0.0 1.0 0.0 ... 1387.0 530.0 2.3886]]\n"
          ]
        }
      ]
    },
    {
      "cell_type": "code",
      "source": [
        "y = df.iloc[:, -2]\n",
        "y"
      ],
      "metadata": {
        "colab": {
          "base_uri": "https://localhost:8080/"
        },
        "id": "hjHH2hejZJc7",
        "outputId": "e342688e-6380-4b23-85a6-f76bf88e797a"
      },
      "execution_count": 329,
      "outputs": [
        {
          "output_type": "execute_result",
          "data": {
            "text/plain": [
              "0        452600.0\n",
              "1        358500.0\n",
              "2        352100.0\n",
              "3        341300.0\n",
              "4        342200.0\n",
              "           ...   \n",
              "20635     78100.0\n",
              "20636     77100.0\n",
              "20637     92300.0\n",
              "20638     84700.0\n",
              "20639     89400.0\n",
              "Name: median_house_value, Length: 20640, dtype: float64"
            ]
          },
          "metadata": {},
          "execution_count": 329
        }
      ]
    },
    {
      "cell_type": "code",
      "source": [
        "# Train and test data\n",
        "from sklearn.model_selection import train_test_split\n",
        "x_train, x_test, y_train, y_test = train_test_split(x,y, test_size = 0.2, random_state=0)"
      ],
      "metadata": {
        "id": "YgVzyp3tbTBO"
      },
      "execution_count": 330,
      "outputs": []
    },
    {
      "cell_type": "code",
      "source": [
        "from sklearn.preprocessing import StandardScaler\n",
        "sc= StandardScaler()\n",
        "x_train = sc.fit_transform(x_train)\n",
        "x_test = sc.fit_transform(x_test)\n"
      ],
      "metadata": {
        "id": "5bzjAvpFbOGO"
      },
      "execution_count": 331,
      "outputs": []
    },
    {
      "cell_type": "code",
      "source": [
        "x_train"
      ],
      "metadata": {
        "id": "qHVXiSYLh1GG",
        "colab": {
          "base_uri": "https://localhost:8080/"
        },
        "outputId": "4ff9e4a2-54af-481b-926a-c8abe6872ae1"
      },
      "execution_count": 303,
      "outputs": [
        {
          "output_type": "execute_result",
          "data": {
            "text/plain": [
              "array([[-0.89150581,  1.46934754, -0.01348032, ..., -1.04760128,\n",
              "        -1.1356496 ,  0.19001247],\n",
              "       [-0.89150581, -0.68057418, -0.01348032, ...,  0.05210918,\n",
              "        -0.13688171,  0.26931072],\n",
              "       [ 1.12169768, -0.68057418, -0.01348032, ..., -0.35295521,\n",
              "        -0.34343319,  0.02989505],\n",
              "       ...,\n",
              "       [-0.89150581, -0.68057418, -0.01348032, ..., -0.63116359,\n",
              "        -0.27806879, -0.35589721],\n",
              "       [ 1.12169768, -0.68057418, -0.01348032, ..., -0.32670914,\n",
              "        -0.08197562,  0.92053182],\n",
              "       [-0.89150581,  1.46934754, -0.01348032, ..., -0.35120548,\n",
              "        -0.52645348, -1.30490629]])"
            ]
          },
          "metadata": {},
          "execution_count": 303
        }
      ]
    },
    {
      "cell_type": "code",
      "source": [
        "x_test"
      ],
      "metadata": {
        "id": "2DaoNvcLh3V3",
        "colab": {
          "base_uri": "https://localhost:8080/"
        },
        "outputId": "8686ee7a-f966-4249-892d-b5cd7b985760"
      },
      "execution_count": 332,
      "outputs": [
        {
          "output_type": "execute_result",
          "data": {
            "text/plain": [
              "array([[-0.88975652, -0.68715544, -0.02201661, ...,  0.11511818,\n",
              "        -0.33869458,  0.1622391 ],\n",
              "       [ 1.12390297, -0.68715544, -0.02201661, ..., -0.11903497,\n",
              "        -0.18674914,  1.03200015],\n",
              "       [-0.88975652,  1.45527481, -0.02201661, ...,  0.11787292,\n",
              "         0.08832451,  0.2674461 ],\n",
              "       ...,\n",
              "       [-0.88975652,  1.45527481, -0.02201661, ..., -0.5285734 ,\n",
              "        -0.45658328, -0.34488107],\n",
              "       [-0.88975652,  1.45527481, -0.02201661, ..., -0.32472243,\n",
              "        -0.33083533,  1.2264915 ],\n",
              "       [ 1.12390297, -0.68715544, -0.02201661, ...,  0.03339414,\n",
              "        -0.24700336, -0.2754733 ]])"
            ]
          },
          "metadata": {},
          "execution_count": 332
        }
      ]
    },
    {
      "cell_type": "code",
      "source": [
        "y_train = y_train.values.reshape(-1, 1)\n",
        "y_test = y_test.values.reshape(-1, 1)\n",
        "y_train = sc.fit_transform(y_train)\n",
        "y_test = sc.fit_transform(y_test)"
      ],
      "metadata": {
        "id": "BiMnJFpdgnWA"
      },
      "execution_count": 334,
      "outputs": []
    },
    {
      "cell_type": "code",
      "source": [
        "y_train"
      ],
      "metadata": {
        "colab": {
          "base_uri": "https://localhost:8080/"
        },
        "id": "aOq-4IwTiDoI",
        "outputId": "b7399cfe-2690-461b-c912-2ef732db5a93"
      },
      "execution_count": 335,
      "outputs": [
        {
          "output_type": "execute_result",
          "data": {
            "text/plain": [
              "array([[ 2.53052249],\n",
              "       [ 0.54240803],\n",
              "       [-0.09637901],\n",
              "       ...,\n",
              "       [ 0.70923604],\n",
              "       [ 2.3973972 ],\n",
              "       [-1.191566  ]])"
            ]
          },
          "metadata": {},
          "execution_count": 335
        }
      ]
    },
    {
      "cell_type": "code",
      "source": [
        "y_test"
      ],
      "metadata": {
        "colab": {
          "base_uri": "https://localhost:8080/"
        },
        "id": "W8-R-4CdiHQf",
        "outputId": "5e05a9dd-6eb0-4c6d-c1ec-940ed467dce7"
      },
      "execution_count": 336,
      "outputs": [
        {
          "output_type": "execute_result",
          "data": {
            "text/plain": [
              "array([[-0.59881772],\n",
              "       [ 0.31544122],\n",
              "       [-0.04010392],\n",
              "       ...,\n",
              "       [-0.67150305],\n",
              "       [ 0.47482352],\n",
              "       [-0.32996954]])"
            ]
          },
          "metadata": {},
          "execution_count": 336
        }
      ]
    },
    {
      "cell_type": "code",
      "source": [
        "import tensorflow as tf"
      ],
      "metadata": {
        "id": "Z6Sk1G-gbiaH"
      },
      "execution_count": 350,
      "outputs": []
    },
    {
      "cell_type": "code",
      "source": [
        "ann= tf.keras.models.Sequential()"
      ],
      "metadata": {
        "id": "TdTCmn8abkJ7"
      },
      "execution_count": 351,
      "outputs": []
    },
    {
      "cell_type": "code",
      "source": [
        "ann.add(tf.keras.layers.Dense(units=9, activation='relu'))"
      ],
      "metadata": {
        "id": "k4KPMJVGbn53"
      },
      "execution_count": 352,
      "outputs": []
    },
    {
      "cell_type": "code",
      "source": [
        "ann.add(tf.keras.layers.Dense(units=9, activation='relu'))"
      ],
      "metadata": {
        "id": "7Ihxb_0qi0jE"
      },
      "execution_count": 353,
      "outputs": []
    },
    {
      "cell_type": "code",
      "source": [
        "ann.add(tf.keras.layers.Dense(units=9, activation='relu'))"
      ],
      "metadata": {
        "id": "l9wpRgjyrHxA"
      },
      "execution_count": 354,
      "outputs": []
    },
    {
      "cell_type": "code",
      "source": [
        "ann.add(tf.keras.layers.Dense(units=1, activation='sigmoid'))"
      ],
      "metadata": {
        "id": "QfaCtZYobyUE"
      },
      "execution_count": 355,
      "outputs": []
    },
    {
      "cell_type": "code",
      "source": [
        "ann.compile(optimizer= 'adam', loss = 'binary_crossentropy', metrics= ['accuracy'])"
      ],
      "metadata": {
        "id": "esYtW5z3b1XM"
      },
      "execution_count": 356,
      "outputs": []
    },
    {
      "cell_type": "code",
      "source": [
        "ann.fit(x_train, y_train, batch_size=32, epochs=25)"
      ],
      "metadata": {
        "colab": {
          "base_uri": "https://localhost:8080/"
        },
        "id": "VDPhUFGjb4eJ",
        "outputId": "a94b9d5b-9e8e-43d0-cc2b-2785e3622924"
      },
      "execution_count": 359,
      "outputs": [
        {
          "output_type": "stream",
          "name": "stdout",
          "text": [
            "Epoch 1/25\n",
            "516/516 [==============================] - 3s 6ms/step - loss: -2773215.7500 - accuracy: 0.0000e+00\n",
            "Epoch 2/25\n",
            "516/516 [==============================] - 2s 3ms/step - loss: -3349926.7500 - accuracy: 0.0000e+00\n",
            "Epoch 3/25\n",
            "516/516 [==============================] - 2s 3ms/step - loss: -4005568.5000 - accuracy: 0.0000e+00\n",
            "Epoch 4/25\n",
            "516/516 [==============================] - 2s 3ms/step - loss: -4745527.0000 - accuracy: 0.0000e+00\n",
            "Epoch 5/25\n",
            "516/516 [==============================] - 2s 4ms/step - loss: -5577265.0000 - accuracy: 0.0000e+00\n",
            "Epoch 6/25\n",
            "516/516 [==============================] - 4s 9ms/step - loss: -6502276.5000 - accuracy: 0.0000e+00\n",
            "Epoch 7/25\n",
            "516/516 [==============================] - 3s 7ms/step - loss: -7528368.0000 - accuracy: 0.0000e+00\n",
            "Epoch 8/25\n",
            "516/516 [==============================] - 3s 6ms/step - loss: -8667500.0000 - accuracy: 0.0000e+00\n",
            "Epoch 9/25\n",
            "516/516 [==============================] - 3s 5ms/step - loss: -9919751.0000 - accuracy: 0.0000e+00\n",
            "Epoch 10/25\n",
            "516/516 [==============================] - 2s 4ms/step - loss: -11293361.0000 - accuracy: 0.0000e+00\n",
            "Epoch 11/25\n",
            "516/516 [==============================] - 2s 4ms/step - loss: -12799694.0000 - accuracy: 0.0000e+00\n",
            "Epoch 12/25\n",
            "516/516 [==============================] - 2s 3ms/step - loss: -14438876.0000 - accuracy: 0.0000e+00\n",
            "Epoch 13/25\n",
            "516/516 [==============================] - 2s 3ms/step - loss: -16224534.0000 - accuracy: 0.0000e+00\n",
            "Epoch 14/25\n",
            "516/516 [==============================] - 2s 3ms/step - loss: -18166286.0000 - accuracy: 0.0000e+00\n",
            "Epoch 15/25\n",
            "516/516 [==============================] - 2s 3ms/step - loss: -20266546.0000 - accuracy: 0.0000e+00\n",
            "Epoch 16/25\n",
            "516/516 [==============================] - 2s 3ms/step - loss: -22527094.0000 - accuracy: 0.0000e+00\n",
            "Epoch 17/25\n",
            "516/516 [==============================] - 2s 3ms/step - loss: -24963002.0000 - accuracy: 0.0000e+00\n",
            "Epoch 18/25\n",
            "516/516 [==============================] - 2s 4ms/step - loss: -27581370.0000 - accuracy: 0.0000e+00\n",
            "Epoch 19/25\n",
            "516/516 [==============================] - 2s 3ms/step - loss: -30392610.0000 - accuracy: 0.0000e+00\n",
            "Epoch 20/25\n",
            "516/516 [==============================] - 2s 3ms/step - loss: -33403824.0000 - accuracy: 0.0000e+00\n",
            "Epoch 21/25\n",
            "516/516 [==============================] - 2s 3ms/step - loss: -36630080.0000 - accuracy: 0.0000e+00\n",
            "Epoch 22/25\n",
            "516/516 [==============================] - 2s 4ms/step - loss: -40073044.0000 - accuracy: 0.0000e+00\n",
            "Epoch 23/25\n",
            "516/516 [==============================] - 2s 3ms/step - loss: -43735272.0000 - accuracy: 0.0000e+00\n",
            "Epoch 24/25\n",
            "516/516 [==============================] - 2s 4ms/step - loss: -47634240.0000 - accuracy: 0.0000e+00\n",
            "Epoch 25/25\n",
            "516/516 [==============================] - 2s 4ms/step - loss: -51793556.0000 - accuracy: 0.0000e+00\n"
          ]
        },
        {
          "output_type": "execute_result",
          "data": {
            "text/plain": [
              "<keras.src.callbacks.History at 0x79b5665561d0>"
            ]
          },
          "metadata": {},
          "execution_count": 359
        }
      ]
    }
  ]
}