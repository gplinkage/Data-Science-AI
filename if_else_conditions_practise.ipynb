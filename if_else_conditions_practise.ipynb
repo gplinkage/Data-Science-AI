{
  "nbformat": 4,
  "nbformat_minor": 0,
  "metadata": {
    "colab": {
      "provenance": [],
      "include_colab_link": true
    },
    "kernelspec": {
      "name": "python3",
      "display_name": "Python 3"
    },
    "language_info": {
      "name": "python"
    }
  },
  "cells": [
    {
      "cell_type": "markdown",
      "metadata": {
        "id": "view-in-github",
        "colab_type": "text"
      },
      "source": [
        "<a href=\"https://colab.research.google.com/github/gplinkage/DataScienceBootCamp/blob/main/if_else_conditions_practise.ipynb\" target=\"_parent\"><img src=\"https://colab.research.google.com/assets/colab-badge.svg\" alt=\"Open In Colab\"/></a>"
      ]
    },
    {
      "cell_type": "code",
      "execution_count": null,
      "metadata": {
        "colab": {
          "base_uri": "https://localhost:8080/"
        },
        "id": "tLbHFqaLmUmq",
        "outputId": "99b563f0-2e2b-4a2d-f255-0eb56f16c886"
      },
      "outputs": [
        {
          "output_type": "stream",
          "name": "stdout",
          "text": [
            "Number Divisble by 7\n"
          ]
        }
      ],
      "source": [
        "num=49\n",
        "if num%7==0:\n",
        "  print(\"Number Divisble by 7\")\n",
        "else:\n",
        "  print(\"Number not Divisble by 7\")"
      ]
    },
    {
      "cell_type": "code",
      "source": [
        "#2) Write a program to print hello if number is multiple of five or 3 else print bye\n",
        "num=87\n",
        "if num%3==0 or num%5==0:\n",
        "  print(\"Hello\")\n",
        "else:\n",
        "  print(\"Bye\")"
      ],
      "metadata": {
        "colab": {
          "base_uri": "https://localhost:8080/"
        },
        "id": "Z21KnHo8oMS4",
        "outputId": "99b46474-d029-4b8e-bdf8-2eecd1518f7b"
      },
      "execution_count": null,
      "outputs": [
        {
          "output_type": "stream",
          "name": "stdout",
          "text": [
            "Hello\n"
          ]
        }
      ]
    },
    {
      "cell_type": "code",
      "source": [
        "\"\"\"\n",
        "Write a python program that will check for the following conditions:\n",
        "If the light is green – Car is allowed to go\n",
        "If the light is yellow – Car has to wait\n",
        "If the light is red – Car has to stop\n",
        "Other signal – unrecognized signal. Example black, blue, etc…\n",
        "\"\"\"\n",
        "\n",
        "signal = input(\"What is a traffic signal? :\").lower()\n",
        "if signal == \"red\":\n",
        "    print(\"Stop your car!\")\n",
        "elif signal == \"yellow\":\n",
        "    print(\"Wait your car!\")\n",
        "elif signal == \"green\":\n",
        "    print(\"You are allowed to go!\")\n",
        "else:\n",
        "    print(\"Unrecgonized signal!\")"
      ],
      "metadata": {
        "colab": {
          "base_uri": "https://localhost:8080/"
        },
        "id": "b8Fpi7QDuFhN",
        "outputId": "4f7a7204-8062-44e4-ddb5-d174d56cc4ca"
      },
      "execution_count": null,
      "outputs": [
        {
          "output_type": "stream",
          "name": "stdout",
          "text": [
            "What is a traffic signal? :rED\n",
            "Stop your car!\n"
          ]
        }
      ]
    },
    {
      "cell_type": "code",
      "source": [
        "\"\"\"\n",
        "Write a program to trace your subject mark. Your program should fulfill the following conditions:\n",
        "\n",
        "If the subject mark is below 0 and above 100, print “error: mark should be between 0 and 100 only”\n",
        "Students will fail in the subject if their mark is below 50.\n",
        "Students will pass in the subject if they score 50 and above.\n",
        "\n",
        "If subject mark is between 50 and 60, grade student as good.\n",
        "If subject mark is between 60 and 80, grade student as very good.\n",
        "If subject mark is between 80 and 100, grade student as outstanding.\n",
        "\n",
        "Make sure to print their mark in every statement to prove that the condition is fulfilled.\n",
        "Moreover, name, class, and section should be also displayed along with the marks.\n",
        "\n",
        "OR\n",
        "0 0  FALSE\n",
        "1 0 True\n",
        "0 1 True\n",
        "1 1 True\n",
        "\n",
        "AND\n",
        "0 0 False\n",
        "1 0 False\n",
        "0 1 False\n",
        "1 1 True\n",
        "\"\"\"\n",
        "\n",
        "name = input(\"Enter name:\").title()\n",
        "clas = input(\"Enter class:\")\n",
        "section = input(\"Enter section:\")\n",
        "subject = input(\"Enter the subject name:\")\n",
        "mark = float(input(\"Mark scored in that subject:\"))\n",
        "\n",
        "if mark < 0 or mark > 100:\n",
        "    print(\"Error: Mark should be between 0 and 100 only!\")\n",
        "elif mark < 50:\n",
        "    print(subject, \"mark is \", mark)\n",
        "    print(\"Failed in \", subject)\n",
        "elif mark >= 50:\n",
        "    print(subject, \"mark is \", mark)\n",
        "    print(\"Congratulations! Pass in \", subject)\n",
        "    if mark >=50 and mark < 60:\n",
        "        print(\"Remark: Good in \", subject)\n",
        "    elif mark >= 60 and mark < 80:\n",
        "        print(\"Remark: Very good in \", subject)\n",
        "    elif mark >= 80 and mark <= 100:\n",
        "        print(\"Remark: Outstanding in \", subject)"
      ],
      "metadata": {
        "colab": {
          "base_uri": "https://localhost:8080/"
        },
        "id": "AI_4OFkIyG8C",
        "outputId": "1badc917-c6ae-410c-fb21-0412a65f83b3"
      },
      "execution_count": null,
      "outputs": [
        {
          "output_type": "stream",
          "name": "stdout",
          "text": [
            "Enter name:Rohit\n",
            "Enter class:8th\n",
            "Enter section:A\n",
            "Enter the subject name:science\n",
            "Mark scored in that subject:70\n",
            "science mark is  70.0\n",
            "Congratulations! Pass in  science\n",
            "Remark: Very good in  science\n"
          ]
        }
      ]
    },
    {
      "cell_type": "code",
      "source": [
        "# Homework Question 1\n",
        "yos = float(input(\"Enter year of service\"))\n",
        "if yos>5:\n",
        "  salary = float(input(\"Enter salary\"))\n",
        "  print (\"Bonus is\",.05*salary)\n",
        "else:\n",
        "  print (\"No bonus\")"
      ],
      "metadata": {
        "colab": {
          "base_uri": "https://localhost:8080/"
        },
        "id": "GRyl311v9dWp",
        "outputId": "31c8a3df-c1d7-4e47-bb8c-93492e38aad4"
      },
      "execution_count": null,
      "outputs": [
        {
          "output_type": "stream",
          "name": "stdout",
          "text": [
            "Enter salary5000.5\n",
            "Enter year of service5.5\n",
            "Bonus is 250.025\n"
          ]
        }
      ]
    },
    {
      "cell_type": "code",
      "source": [
        "# Homework Question 2\n",
        "length = input(\"Enter length :- \")\n",
        "breadth = input(\"Enter breadth :-\")\n",
        "if length == breadth:\n",
        "  print (\"Yes, it is square\")\n",
        "else:\n",
        "  print (\"No, it is only Rectangle\")"
      ],
      "metadata": {
        "colab": {
          "base_uri": "https://localhost:8080/"
        },
        "id": "PZvb--I_9xrR",
        "outputId": "4c2bb66e-c94e-4661-d630-f357fef6f004"
      },
      "execution_count": null,
      "outputs": [
        {
          "output_type": "stream",
          "name": "stdout",
          "text": [
            "Enter length :- 2.2\n",
            "Enter breadth :-2.20\n",
            "No, it is only Rectangle\n"
          ]
        }
      ]
    },
    {
      "cell_type": "code",
      "source": [
        "# Homework Question 3\n",
        "\n",
        "first = int(input(\"Enter first number\"))\n",
        "second = int(input(\"Enter second number\"))\n",
        "if first>second:\n",
        "  print (\"Greatest is\",first)\n",
        "elif second>first:\n",
        "  print (\"Greatest is\",second)\n",
        "else:\n",
        "  print (\"Both are equal\")"
      ],
      "metadata": {
        "colab": {
          "base_uri": "https://localhost:8080/"
        },
        "id": "7P_KKGE49zWA",
        "outputId": "518afc18-afab-4054-a160-8c457c94e2b2"
      },
      "execution_count": null,
      "outputs": [
        {
          "output_type": "stream",
          "name": "stdout",
          "text": [
            "Enter first number25\n",
            "Enter second number25\n",
            "Both are equal\n"
          ]
        }
      ]
    },
    {
      "cell_type": "code",
      "source": [
        "# Homework Question 4\n",
        "quantity = int(input(\"Enter quantity \"))\n",
        "if quantity*100 > 1000:\n",
        "  print (\"Cost is\",((quantity*100)-(.1*quantity*100)))\n",
        "else:\n",
        "  print (\"Cost is\",quantity*100)"
      ],
      "metadata": {
        "colab": {
          "base_uri": "https://localhost:8080/"
        },
        "id": "RzjReIxn91FB",
        "outputId": "040237e6-89e7-4f77-f0e8-8fe3de64e655"
      },
      "execution_count": null,
      "outputs": [
        {
          "output_type": "stream",
          "name": "stdout",
          "text": [
            "Enter quantity9\n",
            "Cost is 900\n"
          ]
        }
      ]
    },
    {
      "cell_type": "code",
      "source": [
        "# Homework Question 5\n",
        "marks = float(input(\"Enter marks\"))\n",
        "if marks<25:\n",
        "  print (\"F\")\n",
        "elif marks>=25 and marks<45:\n",
        "  print (\"E\")\n",
        "elif marks>=45 and marks<50:\n",
        "  print (\"D\")\n",
        "elif marks>=50 and marks<60:\n",
        "  print (\"C\")\n",
        "elif marks>=60 and marks<80:\n",
        "  print (\"B\")\n",
        "else:\n",
        "  print (\"A\")"
      ],
      "metadata": {
        "colab": {
          "base_uri": "https://localhost:8080/"
        },
        "id": "p7A3rVfO92no",
        "outputId": "68ced297-b60d-431a-99bf-0aa04c2bdf1b"
      },
      "execution_count": null,
      "outputs": [
        {
          "output_type": "stream",
          "name": "stdout",
          "text": [
            "Enter marks45\n",
            "D\n"
          ]
        }
      ]
    },
    {
      "cell_type": "code",
      "source": [
        "# Homework Question 6\n",
        "\n",
        "first = int(input(\"Enter first age\"))\n",
        "second = int(input(\"Enter second age\"))\n",
        "third = int(input(\"third age\"))\n",
        "# 54 54 26\n",
        "if first > second and first > third:\n",
        "  if second>third:\n",
        "    print(\"The youngest is \",third)\n",
        "  else:\n",
        "    print(\"The youngest is \",second)\n",
        "  print (\"Oldest is\",first)\n",
        "elif second >= first and second >= third:\n",
        "  if first>third:\n",
        "    print(\"The youngest is \",third)\n",
        "  else:\n",
        "    print(\"The youngest is \",first)\n",
        "  print (\"Oldest is\",second)\n",
        "elif third >= first and third >= second:\n",
        "  if second>first:\n",
        "    print(\"The youngest is \",first)\n",
        "  else:\n",
        "    print(\"The youngest is \",second)\n",
        "  print (\"Oldest is\",third)\n",
        "else:\n",
        "  print (\"All are equal\")"
      ],
      "metadata": {
        "colab": {
          "base_uri": "https://localhost:8080/"
        },
        "id": "dUqlB5hy94Jp",
        "outputId": "5d040bae-c95e-401d-d3e8-389cf730fd2f"
      },
      "execution_count": null,
      "outputs": [
        {
          "output_type": "stream",
          "name": "stdout",
          "text": [
            "Enter first age64\n",
            "Enter second age42\n",
            "third age28\n",
            "The youngest is  28\n",
            "Oldest is 64\n"
          ]
        }
      ]
    },
    {
      "cell_type": "code",
      "source": [
        "# Homework Question 7\n",
        "number = float(input(\"Enter a number\"))\n",
        "if number<0:\n",
        "  print(number*-1)\n",
        "else:\n",
        "  print(number)"
      ],
      "metadata": {
        "colab": {
          "base_uri": "https://localhost:8080/"
        },
        "id": "niaS6vZL95eg",
        "outputId": "0d1ff607-ced9-4802-bda8-5195d51017ec"
      },
      "execution_count": null,
      "outputs": [
        {
          "output_type": "stream",
          "name": "stdout",
          "text": [
            "Enter a number-25\n",
            "25\n"
          ]
        }
      ]
    },
    {
      "cell_type": "code",
      "source": [
        "# Homework Question 8\n",
        "noh = int(input(\"Number of classes held\"))\n",
        "noa = int(input(\"Number of classes attended\"))\n",
        "atten = (noa/noh)*100\n",
        "print(\"Attendence is %\",round(atten,1))\n",
        "if atten >= 75:\n",
        "  print (\"You are allowed to sit in exam\")\n",
        "else:\n",
        "  print (\"Sorry, you are not allowed. Attend more classes from next time.\")"
      ],
      "metadata": {
        "colab": {
          "base_uri": "https://localhost:8080/"
        },
        "id": "WssrgB3696tw",
        "outputId": "89551a23-ab23-41f9-fa08-cfdb9d44ce30"
      },
      "execution_count": null,
      "outputs": [
        {
          "output_type": "stream",
          "name": "stdout",
          "text": [
            "Number of classes held60\n",
            "Number of classes attended40\n",
            "Attendence is % 66.7\n",
            "Sorry, you are not allowed. Attend more classes from next time.\n"
          ]
        }
      ]
    },
    {
      "cell_type": "code",
      "source": [
        "# Homework Question 9\n",
        "noh = int(input(\"Number of classes held \"))\n",
        "noa = int(input(\"Number of classes attended \"))\n",
        "atten = (noa/noh)*100\n",
        "print (\"Attendence is\",atten)\n",
        "if atten >= 75:\n",
        "  print (\"You are allowed to sit in exam\")\n",
        "else:\n",
        "  medical_cause = input(\"Medical Condition? Type Y if yes Else N\").lower()\n",
        "  if medical_cause == 'y':\n",
        "    print (\"You are allowed due to medical condition \")\n",
        "  else:\n",
        "    print (\"Sorry, you are not allowed. Attend more classes from next time.\")"
      ],
      "metadata": {
        "colab": {
          "base_uri": "https://localhost:8080/"
        },
        "id": "w0hnV5yy-Qsw",
        "outputId": "8f252b16-4236-43b4-bcab-a581685d2c45"
      },
      "execution_count": null,
      "outputs": [
        {
          "output_type": "stream",
          "name": "stdout",
          "text": [
            "Number of classes held60\n",
            "Number of classes attended44\n",
            "Attendence is 73.33333333333333\n",
            "Medical Condition? Type Y if yes Else Ny\n",
            "You are allowed due to medical condition\n"
          ]
        }
      ]
    }
  ]
}