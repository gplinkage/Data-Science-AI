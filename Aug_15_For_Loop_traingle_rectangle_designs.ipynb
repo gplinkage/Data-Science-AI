{
  "nbformat": 4,
  "nbformat_minor": 0,
  "metadata": {
    "colab": {
      "provenance": [],
      "authorship_tag": "ABX9TyNUgssbVpLtPRx1aLOW8PeW",
      "include_colab_link": true
    },
    "kernelspec": {
      "name": "python3",
      "display_name": "Python 3"
    },
    "language_info": {
      "name": "python"
    }
  },
  "cells": [
    {
      "cell_type": "markdown",
      "metadata": {
        "id": "view-in-github",
        "colab_type": "text"
      },
      "source": [
        "<a href=\"https://colab.research.google.com/github/gplinkage/DataScienceBootCamp/blob/main/Aug_15_For_Loop_traingle_rectangle_designs.ipynb\" target=\"_parent\"><img src=\"https://colab.research.google.com/assets/colab-badge.svg\" alt=\"Open In Colab\"/></a>"
      ]
    },
    {
      "cell_type": "code",
      "execution_count": null,
      "metadata": {
        "colab": {
          "base_uri": "https://localhost:8080/"
        },
        "id": "Y076R2APpsAP",
        "outputId": "3a099675-64b5-4f22-d860-c450368ce688"
      },
      "outputs": [
        {
          "output_type": "stream",
          "name": "stdout",
          "text": [
            "Value of i  12\n",
            "Value of i  23\n",
            "Value of i  34\n",
            "Value of i  55\n",
            "Value of i  64\n",
            "Value of i  77\n",
            "Value of i  88\n",
            "Value of i  56\n",
            "Value of i  98\n",
            "Value of i  43\n",
            "Value of i  99\n"
          ]
        }
      ],
      "source": [
        "# For loop\n",
        "lst1 =[12, 23, 34, 55, 64, 77, 88, 56, 98, 43,99]\n",
        "for i in lst1:\n",
        "  print('Value of i ', i)\n"
      ]
    },
    {
      "cell_type": "code",
      "source": [
        "tup1=('apple', 'banana', 'cherries', 'dates', 'pears')\n",
        "for i in tup1:\n",
        "  print ('Value of i ', i)"
      ],
      "metadata": {
        "colab": {
          "base_uri": "https://localhost:8080/"
        },
        "id": "pb1Zcrm8qJhx",
        "outputId": "9c4367d2-d0c8-4e33-f638-989456bd349c"
      },
      "execution_count": null,
      "outputs": [
        {
          "output_type": "stream",
          "name": "stdout",
          "text": [
            "Value of i  apple\n",
            "Value of i  banana\n",
            "Value of i  cherries\n",
            "Value of i  dates\n",
            "Value of i  pears\n"
          ]
        }
      ]
    },
    {
      "cell_type": "code",
      "source": [
        "set1={'apple', 'banana', 'cherries', 'dates', 'pears',22, 45, 67, 78,22}\n",
        "for i in set1:\n",
        "  print ('Value of i ', i)\n"
      ],
      "metadata": {
        "colab": {
          "base_uri": "https://localhost:8080/"
        },
        "id": "jdZx1FYBqvMX",
        "outputId": "5b559521-da31-43ef-86a8-48215ef41ff2"
      },
      "execution_count": null,
      "outputs": [
        {
          "output_type": "stream",
          "name": "stdout",
          "text": [
            "Value of i  67\n",
            "Value of i  banana\n",
            "Value of i  45\n",
            "Value of i  78\n",
            "Value of i  pears\n",
            "Value of i  cherries\n",
            "Value of i  dates\n",
            "Value of i  22\n",
            "Value of i  apple\n"
          ]
        }
      ]
    },
    {
      "cell_type": "code",
      "source": [
        "str1='Peppa prefer Python Programming'\n",
        "for i in str1:\n",
        "  print ('Value of i ', i)"
      ],
      "metadata": {
        "colab": {
          "base_uri": "https://localhost:8080/"
        },
        "id": "Pg-lceLdrWKX",
        "outputId": "caba2023-6e04-4643-e0f5-55918961fb20"
      },
      "execution_count": null,
      "outputs": [
        {
          "output_type": "stream",
          "name": "stdout",
          "text": [
            "Value of i  P\n",
            "Value of i  e\n",
            "Value of i  p\n",
            "Value of i  p\n",
            "Value of i  a\n",
            "Value of i   \n",
            "Value of i  p\n",
            "Value of i  r\n",
            "Value of i  e\n",
            "Value of i  f\n",
            "Value of i  e\n",
            "Value of i  r\n",
            "Value of i   \n",
            "Value of i  P\n",
            "Value of i  y\n",
            "Value of i  t\n",
            "Value of i  h\n",
            "Value of i  o\n",
            "Value of i  n\n",
            "Value of i   \n",
            "Value of i  P\n",
            "Value of i  r\n",
            "Value of i  o\n",
            "Value of i  g\n",
            "Value of i  r\n",
            "Value of i  a\n",
            "Value of i  m\n",
            "Value of i  m\n",
            "Value of i  i\n",
            "Value of i  n\n",
            "Value of i  g\n"
          ]
        }
      ]
    },
    {
      "cell_type": "code",
      "source": [
        "dict1={'a':'apple', 'b':'ball', 'c':'cat', 'd':'dog'}\n",
        "for i in dict1:\n",
        "  print ('Value of i ', i)"
      ],
      "metadata": {
        "colab": {
          "base_uri": "https://localhost:8080/"
        },
        "id": "1-XSLyjCrsm3",
        "outputId": "ce08d00f-afd0-4ba3-cb70-ab72792418f8"
      },
      "execution_count": null,
      "outputs": [
        {
          "output_type": "stream",
          "name": "stdout",
          "text": [
            "Value of i  a\n",
            "Value of i  b\n",
            "Value of i  c\n",
            "Value of i  d\n"
          ]
        }
      ]
    },
    {
      "cell_type": "code",
      "source": [
        "for i in range(10):\n",
        " print ('Value of i ', i)"
      ],
      "metadata": {
        "colab": {
          "base_uri": "https://localhost:8080/"
        },
        "id": "X-goXYFMsOzM",
        "outputId": "bfb659a6-dab5-4406-8d64-97b970f761f5"
      },
      "execution_count": null,
      "outputs": [
        {
          "output_type": "stream",
          "name": "stdout",
          "text": [
            "Value of i  0\n",
            "Value of i  1\n",
            "Value of i  2\n",
            "Value of i  3\n",
            "Value of i  4\n",
            "Value of i  5\n",
            "Value of i  6\n",
            "Value of i  7\n",
            "Value of i  8\n",
            "Value of i  9\n"
          ]
        }
      ]
    },
    {
      "cell_type": "code",
      "source": [
        "for i in range(0,10):\n",
        " print ('Value of i ', i)"
      ],
      "metadata": {
        "colab": {
          "base_uri": "https://localhost:8080/"
        },
        "id": "mfwoWKGNsmgp",
        "outputId": "1eb8ee43-9003-4fa5-940b-4e49431b7f72"
      },
      "execution_count": null,
      "outputs": [
        {
          "output_type": "stream",
          "name": "stdout",
          "text": [
            "Value of i  0\n",
            "Value of i  1\n",
            "Value of i  2\n",
            "Value of i  3\n",
            "Value of i  4\n",
            "Value of i  5\n",
            "Value of i  6\n",
            "Value of i  7\n",
            "Value of i  8\n",
            "Value of i  9\n"
          ]
        }
      ]
    },
    {
      "cell_type": "code",
      "source": [
        "for i in range(0,10,1):\n",
        " print ('Value of i ', i)"
      ],
      "metadata": {
        "colab": {
          "base_uri": "https://localhost:8080/"
        },
        "id": "PRRJlL1_sqr1",
        "outputId": "1aab868a-68c6-4174-bef3-0fb2f0c23d29"
      },
      "execution_count": null,
      "outputs": [
        {
          "output_type": "stream",
          "name": "stdout",
          "text": [
            "Value of i  0\n",
            "Value of i  1\n",
            "Value of i  2\n",
            "Value of i  3\n",
            "Value of i  4\n",
            "Value of i  5\n",
            "Value of i  6\n",
            "Value of i  7\n",
            "Value of i  8\n",
            "Value of i  9\n"
          ]
        }
      ]
    },
    {
      "cell_type": "code",
      "source": [
        "for i in range(0,10,2):\n",
        " print ('Value of i ', i)"
      ],
      "metadata": {
        "colab": {
          "base_uri": "https://localhost:8080/"
        },
        "id": "kc7QFnXgsu_d",
        "outputId": "d5abe18c-5695-4a88-8cf6-5ffcc18cbe48"
      },
      "execution_count": null,
      "outputs": [
        {
          "output_type": "stream",
          "name": "stdout",
          "text": [
            "Value of i  0\n",
            "Value of i  2\n",
            "Value of i  4\n",
            "Value of i  6\n",
            "Value of i  8\n"
          ]
        }
      ]
    },
    {
      "cell_type": "code",
      "source": [
        "# Creating a rectangle/square\n",
        "# Loop through 10 rows\n",
        "for i in range(10):\n",
        "    # Loop through 10 columns\n",
        "    for j in range(10):\n",
        "        # Print a '*' followed by a space, without moving to the next line\n",
        "        print(\"*\", end=\" \")\n",
        "    # Move to the next line after printing a row of '*' and spaces\n",
        "    print('\\r')\n"
      ],
      "metadata": {
        "colab": {
          "base_uri": "https://localhost:8080/"
        },
        "id": "vkuBxXKdvjq3",
        "outputId": "3df4d263-2c2a-4261-92e4-7b1cc621b06c"
      },
      "execution_count": null,
      "outputs": [
        {
          "output_type": "stream",
          "name": "stdout",
          "text": [
            "* * * * * * * * * * \r\n",
            "* * * * * * * * * * \r\n",
            "* * * * * * * * * * \r\n",
            "* * * * * * * * * * \r\n",
            "* * * * * * * * * * \r\n",
            "* * * * * * * * * * \r\n",
            "* * * * * * * * * * \r\n",
            "* * * * * * * * * * \r\n",
            "* * * * * * * * * * \r\n",
            "* * * * * * * * * * \r\n"
          ]
        }
      ]
    },
    {
      "cell_type": "code",
      "source": [
        "n=0\n",
        "for i in range(0,10,1): # generating the 10 rowa\n",
        "  for j in range(0,10,1):\n",
        "    n +=1\n",
        "    print(n, end=\" \")\n",
        "  print('\\r')"
      ],
      "metadata": {
        "colab": {
          "base_uri": "https://localhost:8080/"
        },
        "id": "d28A9UqQxJQ_",
        "outputId": "f5ccedf8-1c22-472a-8ae6-cc80ea0e27f9"
      },
      "execution_count": null,
      "outputs": [
        {
          "output_type": "stream",
          "name": "stdout",
          "text": [
            "1 2 3 4 5 6 7 8 9 10 \r\n",
            "11 12 13 14 15 16 17 18 19 20 \r\n",
            "21 22 23 24 25 26 27 28 29 30 \r\n",
            "31 32 33 34 35 36 37 38 39 40 \r\n",
            "41 42 43 44 45 46 47 48 49 50 \r\n",
            "51 52 53 54 55 56 57 58 59 60 \r\n",
            "61 62 63 64 65 66 67 68 69 70 \r\n",
            "71 72 73 74 75 76 77 78 79 80 \r\n",
            "81 82 83 84 85 86 87 88 89 90 \r\n",
            "91 92 93 94 95 96 97 98 99 100 \r\n"
          ]
        }
      ]
    },
    {
      "cell_type": "code",
      "source": [
        "# Outer loop for drawing rows from 0 to 9 (total 10 rows)\n",
        "\n",
        "for i in range(10):  # Loop for rows, i varies from 0 to 9\n",
        "    for j in range(10 - i):  # Loop for printing leading spaces, decreases with each row\n",
        "        print(' ', end='')  # Print a space, end='' avoids newline\n",
        "    for k in range(i + 1):  # Loop for printing stars, increases with each row\n",
        "        print('*', end=' ')  # Print a star followed by a space\n",
        "    print('\\r')  # Move to the next line (row)\n",
        "\n"
      ],
      "metadata": {
        "colab": {
          "base_uri": "https://localhost:8080/"
        },
        "id": "zZGjYK5ozcXT",
        "outputId": "360e5de3-7e03-47b8-e817-653ac8ae9c8c"
      },
      "execution_count": 3,
      "outputs": [
        {
          "output_type": "stream",
          "name": "stdout",
          "text": [
            "          * \r\n",
            "         * * \r\n",
            "        * * * \r\n",
            "       * * * * \r\n",
            "      * * * * * \r\n",
            "     * * * * * * \r\n",
            "    * * * * * * * \r\n",
            "   * * * * * * * * \r\n",
            "  * * * * * * * * * \r\n",
            " * * * * * * * * * * \r\n"
          ]
        }
      ]
    },
    {
      "cell_type": "code",
      "source": [
        "for i in range(10):  # Loop for drawing 10 rows\n",
        "    for j in range(0, 1 + i):  # Loop for columns, increasing from 1\n",
        "      print(' ', end='')  # Print a space to create the desired pattern\n",
        "    for k in range(0, 10 - i):  # Loop for coming down from 10 to 1\n",
        "      print('*', end=' ')  # Print '*' to create the decreasing star pattern\n",
        "    print('\\r')  # Move to the next row after completing a row's pattern\n"
      ],
      "metadata": {
        "colab": {
          "base_uri": "https://localhost:8080/"
        },
        "id": "-oIJOYb60nGN",
        "outputId": "fbfc5d08-e7fc-4ed4-9d0f-4e8e298cb5bd"
      },
      "execution_count": 14,
      "outputs": [
        {
          "output_type": "stream",
          "name": "stdout",
          "text": [
            " * * * * * * * * * * \r\n",
            "  * * * * * * * * * \r\n",
            "   * * * * * * * * \r\n",
            "    * * * * * * * \r\n",
            "     * * * * * * \r\n",
            "      * * * * * \r\n",
            "       * * * * \r\n",
            "        * * * \r\n",
            "         * * \r\n",
            "          * \r\n"
          ]
        }
      ]
    },
    {
      "cell_type": "code",
      "source": [],
      "metadata": {
        "id": "6Lqffbs2HmS4"
      },
      "execution_count": null,
      "outputs": []
    },
    {
      "cell_type": "code",
      "source": [
        "# Pattern 1: Printing a decreasing triangle of stars\n",
        "for i in range(9):  # Loop for the rows\n",
        "    for j in range(0, 1 + i):  # Loop for printing leading spaces\n",
        "        print(' ', end='')    # Print a space\n",
        "    for k in range(0, 10 - i):  # Loop for printing stars\n",
        "        print('*', end=' ')     # Print a star\n",
        "    print('\\r')  # Move to the next line after each row\n",
        "\n",
        "# Pattern 2: Printing an increasing triangle of stars\n",
        "for i in range(0, 10):  # Loop for the rows\n",
        "    for j in range(0, 10 - i):  # Loop for printing leading spaces\n",
        "        print(' ', end='')       # Print a space\n",
        "    for k in range(0, i + 1):    # Loop for printing stars\n",
        "        print('*', end=' ')      # Print a star\n",
        "    print('\\r')  # Move to the next line after each row\n",
        "\n"
      ],
      "metadata": {
        "colab": {
          "base_uri": "https://localhost:8080/"
        },
        "id": "QVWxaAGP58pb",
        "outputId": "cda1dd42-4dbf-40da-eb0a-1a2500da9c76"
      },
      "execution_count": 15,
      "outputs": [
        {
          "output_type": "stream",
          "name": "stdout",
          "text": [
            " * * * * * * * * * * \r\n",
            "  * * * * * * * * * \r\n",
            "   * * * * * * * * \r\n",
            "    * * * * * * * \r\n",
            "     * * * * * * \r\n",
            "      * * * * * \r\n",
            "       * * * * \r\n",
            "        * * * \r\n",
            "         * * \r\n",
            "          * \r\n",
            "         * * \r\n",
            "        * * * \r\n",
            "       * * * * \r\n",
            "      * * * * * \r\n",
            "     * * * * * * \r\n",
            "    * * * * * * * \r\n",
            "   * * * * * * * * \r\n",
            "  * * * * * * * * * \r\n",
            " * * * * * * * * * * \r\n"
          ]
        }
      ]
    },
    {
      "cell_type": "code",
      "source": [
        "# Loop to draw the top half of the pattern\n",
        "for i in range(0, 10):  # Loop through 10 rows\n",
        "    for j in range(0, 10 - i):  # Loop to print leading spaces, decreasing from 10\n",
        "        print(' ', end='')  # Print a space without a newline\n",
        "    for k in range(0, i + 1):  # Loop to print stars, increasing from 1 to 10\n",
        "        print('*', end=' ')  # Print a star followed by a space\n",
        "    print('\\r')  # Move to the next row (carriage return)\n",
        "\n",
        "# Loop to draw the bottom half of the pattern\n",
        "for i in range(10):  # Loop through 10 rows\n",
        "    for j in range(0, 1 + i):  # Loop to print leading spaces, increasing from 1\n",
        "        print(' ', end=' ')  # Print a space without a newline\n",
        "    for k in range(0, 10 - i):  # Loop to print stars, decreasing from 10 to 1\n",
        "        print('*', end=' ')  # Print a star followed by a space\n",
        "    print('\\r')  # Move to the next row (carriage return)\n"
      ],
      "metadata": {
        "colab": {
          "base_uri": "https://localhost:8080/"
        },
        "id": "TfvpU3u66GSd",
        "outputId": "89d30949-b701-4c7c-b31b-8f8c79e0ce51"
      },
      "execution_count": null,
      "outputs": [
        {
          "output_type": "stream",
          "name": "stdout",
          "text": [
            "          * \r\n",
            "         * * \r\n",
            "        * * * \r\n",
            "       * * * * \r\n",
            "      * * * * * \r\n",
            "     * * * * * * \r\n",
            "    * * * * * * * \r\n",
            "   * * * * * * * * \r\n",
            "  * * * * * * * * * \r\n",
            " * * * * * * * * * * \r\n",
            " * * * * * * * * * * \r\n",
            "  * * * * * * * * * \r\n",
            "   * * * * * * * * \r\n",
            "    * * * * * * * \r\n",
            "     * * * * * * \r\n",
            "      * * * * * \r\n",
            "       * * * * \r\n",
            "        * * * \r\n",
            "         * * \r\n",
            "          * \r\n"
          ]
        }
      ]
    },
    {
      "cell_type": "code",
      "source": [
        "# practice 1\n",
        "for i in range(10):\n",
        "  for j in range(10):\n",
        "    print('*', end=' ')\n",
        "  print('\\r')"
      ],
      "metadata": {
        "colab": {
          "base_uri": "https://localhost:8080/"
        },
        "id": "qYTdobtX9fMo",
        "outputId": "3557c9f7-0178-4ddc-afa1-5f079b677e94"
      },
      "execution_count": null,
      "outputs": [
        {
          "output_type": "stream",
          "name": "stdout",
          "text": [
            "* * * * * * * * * * \r\n",
            "* * * * * * * * * * \r\n",
            "* * * * * * * * * * \r\n",
            "* * * * * * * * * * \r\n",
            "* * * * * * * * * * \r\n",
            "* * * * * * * * * * \r\n",
            "* * * * * * * * * * \r\n",
            "* * * * * * * * * * \r\n",
            "* * * * * * * * * * \r\n",
            "* * * * * * * * * * \r\n"
          ]
        }
      ]
    },
    {
      "cell_type": "code",
      "source": [
        "# practice 2\n",
        "n=0\n",
        "for i in range(10):\n",
        "  for j in range(10):\n",
        "    n+=1\n",
        "    print(n, end=' ')\n",
        "  print('\\r')"
      ],
      "metadata": {
        "colab": {
          "base_uri": "https://localhost:8080/"
        },
        "id": "MHGKTMxS-G5A",
        "outputId": "cdbbde02-e184-408b-c6ee-4e6eef0df5fc"
      },
      "execution_count": null,
      "outputs": [
        {
          "output_type": "stream",
          "name": "stdout",
          "text": [
            "1 2 3 4 5 6 7 8 9 10 \r\n",
            "11 12 13 14 15 16 17 18 19 20 \r\n",
            "21 22 23 24 25 26 27 28 29 30 \r\n",
            "31 32 33 34 35 36 37 38 39 40 \r\n",
            "41 42 43 44 45 46 47 48 49 50 \r\n",
            "51 52 53 54 55 56 57 58 59 60 \r\n",
            "61 62 63 64 65 66 67 68 69 70 \r\n",
            "71 72 73 74 75 76 77 78 79 80 \r\n",
            "81 82 83 84 85 86 87 88 89 90 \r\n",
            "91 92 93 94 95 96 97 98 99 100 \r\n"
          ]
        }
      ]
    },
    {
      "cell_type": "code",
      "source": [
        "# practice 3\n",
        "for i in range(10): # creating 10 rows\n",
        "  for j in range(0,i): # Columns increasing from 1 to 10\n",
        "    print(' ', end='') # adding spaces\n",
        "  for k in range(0,10-i): # decreasing from 10 to 1\n",
        "    print('*', end=' ')\n",
        "  print('\\r')\n"
      ],
      "metadata": {
        "colab": {
          "base_uri": "https://localhost:8080/"
        },
        "id": "uCzOiK0K-SAA",
        "outputId": "9bab2972-8117-4907-9a2e-ab0eb56a3ae2"
      },
      "execution_count": 16,
      "outputs": [
        {
          "output_type": "stream",
          "name": "stdout",
          "text": [
            "* * * * * * * * * * \r\n",
            " * * * * * * * * * \r\n",
            "  * * * * * * * * \r\n",
            "   * * * * * * * \r\n",
            "    * * * * * * \r\n",
            "     * * * * * \r\n",
            "      * * * * \r\n",
            "       * * * \r\n",
            "        * * \r\n",
            "         * \r\n"
          ]
        }
      ]
    },
    {
      "cell_type": "code",
      "source": [
        "# This code prints a 10x10 grid of asterisks (*) where the border is formed by asterisks\n",
        "# and the interior is filled with spaces.\n",
        "\n",
        "# Outer loop iterates through rows from 0 to 9.\n",
        "for i in range(10):\n",
        "    # Inner loop iterates through columns from 0 to 9.\n",
        "    for j in range(10):\n",
        "        # Check if the current position is on the border of the grid.\n",
        "        # If the current row is the first (i == 0), last (i == 9), first column (j == 0),\n",
        "        # or last column (j == 9), print an asterisk to form the border.\n",
        "        if i == 0 or i == 10 - 1 or j == 0 or j == 10 - 1:\n",
        "            print(\"*\", end=\" \")  # Print an asterisk with a space after it.\n",
        "        else:\n",
        "            print(\" \", end=\" \")  # Print a space with no asterisk.\n",
        "    print()  # Move to the next line after printing a row.\n"
      ],
      "metadata": {
        "colab": {
          "base_uri": "https://localhost:8080/"
        },
        "id": "uXOp8CstAg_F",
        "outputId": "63d40d58-6b73-4f58-f65d-e08d80ba84c5"
      },
      "execution_count": 17,
      "outputs": [
        {
          "output_type": "stream",
          "name": "stdout",
          "text": [
            "* * * * * * * * * * \n",
            "*                 * \n",
            "*                 * \n",
            "*                 * \n",
            "*                 * \n",
            "*                 * \n",
            "*                 * \n",
            "*                 * \n",
            "*                 * \n",
            "* * * * * * * * * * \n"
          ]
        }
      ]
    },
    {
      "cell_type": "code",
      "source": [
        "#Creating hollow traingle\n",
        "for i in range(10):  # Loop through 10 rows\n",
        "    for j in range(10 - i):  # Draw spaces before the pattern\n",
        "        print(' ', end='')  # Print a space without a newline\n",
        "    for k in range(i + 1):  # Iterate from 1 to the current row number\n",
        "        if k == 0 or k == i or i == 9:  # Check if it's an edge or base position\n",
        "            print('*', end=' ')  # Print '*' at the edges and base\n",
        "        else:\n",
        "            print(' ', end=' ')  # Print spaces for the hollow part\n",
        "    print('\\r')  # Move to the next row\n",
        "\n",
        "\n",
        "\n"
      ],
      "metadata": {
        "colab": {
          "base_uri": "https://localhost:8080/"
        },
        "id": "rtRuN00zBFi4",
        "outputId": "56b50ca1-6a26-4d0d-a9b5-1db13567ee05"
      },
      "execution_count": 20,
      "outputs": [
        {
          "output_type": "stream",
          "name": "stdout",
          "text": [
            "          * \r\n",
            "         * * \r\n",
            "        *   * \r\n",
            "       *     * \r\n",
            "      *       * \r\n",
            "     *         * \r\n",
            "    *           * \r\n",
            "   *             * \r\n",
            "  *               * \r\n",
            " * * * * * * * * * * \r\n"
          ]
        }
      ]
    },
    {
      "cell_type": "code",
      "source": [
        "for i in range(10): # creating 10 rows\n",
        "  for j in range(0,i): # Columns increasing from 1 to 10\n",
        "    print('-', end='') # adding spaces\n",
        "  for k in range(0,10-i): # decreasing from 10 to 1\n",
        "    print('*', end=' ')\n",
        "  print('\\r')"
      ],
      "metadata": {
        "colab": {
          "base_uri": "https://localhost:8080/"
        },
        "id": "uymEkOCnw7H6",
        "outputId": "287fcab6-1a74-4412-dae2-9c30d6e234c3"
      },
      "execution_count": null,
      "outputs": [
        {
          "output_type": "stream",
          "name": "stdout",
          "text": [
            "* * * * * * * * * * \r\n",
            "-* * * * * * * * * \r\n",
            "--* * * * * * * * \r\n",
            "---* * * * * * * \r\n",
            "----* * * * * * \r\n",
            "-----* * * * * \r\n",
            "------* * * * \r\n",
            "-------* * * \r\n",
            "--------* * \r\n",
            "---------* \r\n"
          ]
        }
      ]
    },
    {
      "cell_type": "code",
      "source": [
        "#upright hollow triangle\n",
        "for i in range(10):  # draw 10 rows\n",
        "    for j in range(10 - i):  # draws spaces\n",
        "        print('', end=' ')\n",
        "    for k in range(i + 1):  # starting from 1 to 10\n",
        "        if k == 0 or k == i or i == 9:  # print '*' at edges and base\n",
        "            print('*', end=' ')\n",
        "        else:\n",
        "            print(' ', end=' ')  # print spaces for hollow part\n",
        "    print('\\r')  # change row"
      ],
      "metadata": {
        "colab": {
          "base_uri": "https://localhost:8080/"
        },
        "id": "sqq1r4Zf3NND",
        "outputId": "2c97af96-1f97-4278-d547-d10e1c8b1dc1"
      },
      "execution_count": null,
      "outputs": [
        {
          "output_type": "stream",
          "name": "stdout",
          "text": [
            "          * \r\n",
            "         * * \r\n",
            "        *   * \r\n",
            "       *     * \r\n",
            "      *       * \r\n",
            "     *         * \r\n",
            "    *           * \r\n",
            "   *             * \r\n",
            "  *               * \r\n",
            " * * * * * * * * * * \r\n"
          ]
        }
      ]
    },
    {
      "cell_type": "code",
      "source": [
        "\n",
        "for i in range(9, -1, -1):  # draw 10 rows in reverse order\n",
        "    for j in range(10 - i):  # draws spaces\n",
        "        print('', end=' ')\n",
        "    for k in range(i + 1):  # starting from 1 to 10\n",
        "        if k == 0 or k == i or i == 9:  # print '*' at edges and top\n",
        "            print('*', end=' ')\n",
        "        else:\n",
        "            print(' ', end=' ')  # print spaces for hollow part\n",
        "    print('\\r')  # change row\n"
      ],
      "metadata": {
        "colab": {
          "base_uri": "https://localhost:8080/"
        },
        "id": "L2UcFXOW4K-9",
        "outputId": "6181ffd3-b1e0-43eb-9fa9-cb2f61733719"
      },
      "execution_count": null,
      "outputs": [
        {
          "output_type": "stream",
          "name": "stdout",
          "text": [
            " * * * * * * * * * * \r\n",
            "  *               * \r\n",
            "   *             * \r\n",
            "    *           * \r\n",
            "     *         * \r\n",
            "      *       * \r\n",
            "       *     * \r\n",
            "        *   * \r\n",
            "         * * \r\n",
            "          * \r\n"
          ]
        }
      ]
    },
    {
      "cell_type": "code",
      "source": [
        "# Loop to draw 10 rows in reverse order\n",
        "for i in range(9, -1, -1):  # i represents the current row being drawn\n",
        "    # Loop to draw leading spaces\n",
        "    for j in range(10 - i):  # j represents the number of spaces to be drawn\n",
        "        print(' ', end=' ')\n",
        "\n",
        "    # Loop to draw pattern characters for the current row\n",
        "    for k in range(i + 1):  # k represents the current position in the row\n",
        "        if k == 0 or k == i or i == 9:  # Print '*' at edges and top\n",
        "            print('*', end=' ')\n",
        "        else:\n",
        "            print(' ', end=' ')  # Print spaces for hollow part\n",
        "\n",
        "    print('\\r')  # Move to the next line after drawing the row\n",
        "\n",
        "# Loop to draw 10 rows\n",
        "for i in range(10):  # i represents the current row being drawn\n",
        "    # Loop to draw leading spaces\n",
        "    for j in range(10 - i):  # j represents the number of spaces to be drawn\n",
        "        print(' ', end=' ')\n",
        "\n",
        "    # Loop to draw pattern characters for the current row\n",
        "    for k in range(i + 1):  # k represents the current position in the row\n",
        "        if k == 0 or k == i or i == 9:  # Print '*' at edges and base\n",
        "            print('*', end=' ')\n",
        "        else:\n",
        "            print(' ', end=' ')  # Print spaces for hollow part\n",
        "\n",
        "    print('\\r')  # Move to the next line after drawing the row\n"
      ],
      "metadata": {
        "colab": {
          "base_uri": "https://localhost:8080/"
        },
        "id": "Olo3wRD4AoI9",
        "outputId": "f1e0f9de-6ca2-4c11-8395-9d2025714fd0"
      },
      "execution_count": null,
      "outputs": [
        {
          "output_type": "stream",
          "name": "stdout",
          "text": [
            " * * * * * * * * * * \r\n",
            "  *               * \r\n",
            "   *             * \r\n",
            "    *           * \r\n",
            "     *         * \r\n",
            "      *       * \r\n",
            "       *     * \r\n",
            "        *   * \r\n",
            "         * * \r\n",
            "          * \r\n",
            "          * \r\n",
            "         * * \r\n",
            "        *   * \r\n",
            "       *     * \r\n",
            "      *       * \r\n",
            "     *         * \r\n",
            "    *           * \r\n",
            "   *             * \r\n",
            "  *               * \r\n",
            " * * * * * * * * * * \r\n"
          ]
        }
      ]
    },
    {
      "cell_type": "code",
      "source": [
        "for rows in range(0,10):\n",
        "    for j in range(0,rows):\n",
        "      print('', end=' ')\n",
        "    for k in range(0,10-rows):\n",
        "      print('*', end=' ')\n",
        "    print('\\r')"
      ],
      "metadata": {
        "colab": {
          "base_uri": "https://localhost:8080/"
        },
        "id": "TRMGrjpcIlHt",
        "outputId": "9e5824e1-4475-4104-824b-051187e785cc"
      },
      "execution_count": null,
      "outputs": [
        {
          "output_type": "stream",
          "name": "stdout",
          "text": [
            "* * * * * * * * * * \r\n",
            " * * * * * * * * * \r\n",
            "  * * * * * * * * \r\n",
            "   * * * * * * * \r\n",
            "    * * * * * * \r\n",
            "     * * * * * \r\n",
            "      * * * * \r\n",
            "       * * * \r\n",
            "        * * \r\n",
            "         * \r\n"
          ]
        }
      ]
    },
    {
      "cell_type": "code",
      "source": [
        "for rows in range(0,10): # 10 rows\n",
        "    for j in range(0, 10-rows): #\n",
        "      print(' ', end='')\n",
        "    for k in range(0, rows):\n",
        "      print('*', end=' ')\n",
        "    print('\\r')"
      ],
      "metadata": {
        "colab": {
          "base_uri": "https://localhost:8080/"
        },
        "id": "c1jHQOZzKkPo",
        "outputId": "42ec418c-81be-48c6-f2b2-eb017ebd92d7"
      },
      "execution_count": 24,
      "outputs": [
        {
          "output_type": "stream",
          "name": "stdout",
          "text": [
            "          \r\n",
            "         * \r\n",
            "        * * \r\n",
            "       * * * \r\n",
            "      * * * * \r\n",
            "     * * * * * \r\n",
            "    * * * * * * \r\n",
            "   * * * * * * * \r\n",
            "  * * * * * * * * \r\n",
            " * * * * * * * * * \r\n"
          ]
        }
      ]
    }
  ]
}