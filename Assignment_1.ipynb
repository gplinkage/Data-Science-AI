{
  "nbformat": 4,
  "nbformat_minor": 0,
  "metadata": {
    "colab": {
      "provenance": [],
      "authorship_tag": "ABX9TyNUCgYxhNYvQHxNLV8Ruvog",
      "include_colab_link": true
    },
    "kernelspec": {
      "name": "python3",
      "display_name": "Python 3"
    },
    "language_info": {
      "name": "python"
    }
  },
  "cells": [
    {
      "cell_type": "markdown",
      "metadata": {
        "id": "view-in-github",
        "colab_type": "text"
      },
      "source": [
        "<a href=\"https://colab.research.google.com/github/gplinkage/DataScienceBootCamp/blob/main/Assignment_1.ipynb\" target=\"_parent\"><img src=\"https://colab.research.google.com/assets/colab-badge.svg\" alt=\"Open In Colab\"/></a>"
      ]
    },
    {
      "cell_type": "code",
      "execution_count": 3,
      "metadata": {
        "id": "CxrWjNdYqMsg"
      },
      "outputs": [],
      "source": [
        "#Q1 A company decided to give bonus of 5% to employee if his/her year of service is more than 5 years.\n",
        "#Ask user for their salary and year of service and print the net bonus amount.\"\"\""
      ]
    },
    {
      "cell_type": "code",
      "source": [
        "salary= input(\"Please enter your salary: \")\n",
        "service= input(\"Please enter years of service: \")\n",
        "bonus = int(salary)*0.05\n",
        "if int(service)<=5:\n",
        "  print(\"Sorry, You are not eligible for bonus.\")\n",
        "else:\n",
        "  print(\"Congratulation! You are eligible for bonus of $\" +str(bonus) +\".\")"
      ],
      "metadata": {
        "colab": {
          "base_uri": "https://localhost:8080/"
        },
        "id": "7l01hYNvzZPC",
        "outputId": "2bedd8f3-6ac4-43c2-c20b-f25add6311c1"
      },
      "execution_count": 15,
      "outputs": [
        {
          "output_type": "stream",
          "name": "stdout",
          "text": [
            "Please enter your salary: 5000\n",
            "Please enter years of service: 4\n",
            "Sorry, You are not eligible for bonus.\n"
          ]
        }
      ]
    },
    {
      "cell_type": "code",
      "source": [
        "#2.Take values of length and breadth of a rectangle from user and check if it is square or not.\n",
        "length=input(\"Please, enter the lenght: \")\n",
        "breadth = input(\"Please, enter the breadth: \")\n",
        "if length==breadth:\n",
        "  print (\"This is an square.\")\n",
        "else:\n",
        "  print(\"This is not an square.\")"
      ],
      "metadata": {
        "colab": {
          "base_uri": "https://localhost:8080/"
        },
        "id": "zHDw4g4t3acZ",
        "outputId": "9e874154-5b34-4540-c00b-3038b2af3366"
      },
      "execution_count": 17,
      "outputs": [
        {
          "output_type": "stream",
          "name": "stdout",
          "text": [
            "Please, enter the lenght: 4\n",
            "Please, enter the breadth: 4\n",
            "This is an square.\n"
          ]
        }
      ]
    },
    {
      "cell_type": "code",
      "source": [
        "#Take two int values from user and print greatest among them.\n",
        "num1= input(\"Please, enter the first integer value: \")\n",
        "num2 = input(\"please, enter the second integer value: \")\n",
        "if num1>num2:\n",
        "  print(str(num1))\n",
        "else:\n",
        "  print (str(num2))"
      ],
      "metadata": {
        "colab": {
          "base_uri": "https://localhost:8080/"
        },
        "id": "o6tiIpx54Rpv",
        "outputId": "22075f3e-2661-485a-c3ad-ce2e10641b8e"
      },
      "execution_count": 20,
      "outputs": [
        {
          "output_type": "stream",
          "name": "stdout",
          "text": [
            "Please, enter the first integer value: 8\n",
            "please, enter the second integer value: 5\n",
            "8\n"
          ]
        }
      ]
    },
    {
      "cell_type": "code",
      "source": [
        "#A shop will give discount of 10% if the cost of purchased quantity is more than 1000.\n",
        "#Ask user for quantity\n",
        "#Suppose, one unit will cost 100.\n",
        "#Judge and print total cost for user.\n",
        "quant=input(\"Please, enter the quantity of the item: \")\n",
        "cost=100\n",
        "discount= 0.1\n",
        "total= int(quant)* int(cost)\n",
        "if int(quant)>1000:\n",
        "  print(int(total)-(int(total)*float(discount)))\n",
        "else:\n",
        "  print(int(quant)* int(cost))"
      ],
      "metadata": {
        "colab": {
          "base_uri": "https://localhost:8080/"
        },
        "id": "8j7N2sWS49ko",
        "outputId": "99efe41a-a5c6-4880-ef7e-5948517bff8a"
      },
      "execution_count": 26,
      "outputs": [
        {
          "output_type": "stream",
          "name": "stdout",
          "text": [
            "Please, enter the quantity of the item: 2000\n",
            "180000.0\n"
          ]
        }
      ]
    },
    {
      "cell_type": "code",
      "source": [
        "\"\"\" Q5. A school has following rules for grading system:\n",
        "a. Below 25 - F\n",
        "b. 25 to 45 - E\n",
        "c. 45 to 50 - D\n",
        "d. 50 to 60 - C\n",
        "e. 60 to 80 - B\n",
        "f. Above 80 - A\n",
        "Ask user to enter marks and print the corresponding grade.\"\"\"\n",
        "\n",
        "mark=input(\"Please, enter your mark: \")\n",
        "\n",
        "if int(mark)<25:\n",
        "  print(\"Your grade is 'F'.\")\n",
        "elif 45>int(mark)>=25:\n",
        "  print(\"Your grade is 'E'.\")\n",
        "elif 50>int(mark)>=45:\n",
        "  print(\"Your grade is 'D'.\")\n",
        "elif 60>int(mark)>=50:\n",
        "  print(\"Your grade is 'C'.\")\n",
        "elif 80>int(mark)>=60:\n",
        "  print(\"Your grade is 'B'.\")\n",
        "elif 80<int(mark):\n",
        "  print(\"Your grade is 'A'.\")"
      ],
      "metadata": {
        "colab": {
          "base_uri": "https://localhost:8080/"
        },
        "id": "p6e5ytjd63fH",
        "outputId": "6b1fbaf8-eee0-4d29-804a-94e3d429c1f8"
      },
      "execution_count": 36,
      "outputs": [
        {
          "output_type": "stream",
          "name": "stdout",
          "text": [
            "Please, enter your mark: 50\n",
            "Your grade is 'C'.\n"
          ]
        }
      ]
    },
    {
      "cell_type": "code",
      "source": [
        "#6.Take input of age of 3 people by user and determine oldest and youngest among them.\n",
        "#approach using what has been taught so far\n",
        "person1= input(\"Please, enter person1's age: \")\n",
        "person2= input(\"Please, enter person2's age: \")\n",
        "person3= input(\"Please, enter person3's age: \")\n",
        "\n",
        "oldest= max((person1, person2, person3))\n",
        "youngest= min ((person1, person2, person3))\n",
        "\n",
        "print(\"The oldest person is \" + oldest + \" years old.\")\n",
        "print(\"The youngest person is \" + youngest+ \" years old.\")"
      ],
      "metadata": {
        "colab": {
          "base_uri": "https://localhost:8080/"
        },
        "id": "LPCnlGry-Duw",
        "outputId": "4cca4476-d460-4f9d-e004-0fb4f7d7703e"
      },
      "execution_count": 40,
      "outputs": [
        {
          "output_type": "stream",
          "name": "stdout",
          "text": [
            "Please, enter person1's age: 10\n",
            "Please, enter person2's age: 20\n",
            "Please, enter person3's age: 30\n",
            "The oldest person is 30 years old.\n",
            "The youngest person is 10 years old.\n"
          ]
        }
      ]
    },
    {
      "cell_type": "code",
      "source": [
        "#7. Write a program to print absolute vlaue of a number entered by user. E.g.-\n",
        "# INPUT: 1        OUTPUT: 1\n",
        "# INPUT: -1        OUTPUT: 1\n",
        "num1 = input(\"Please, enter a number: \")\n",
        "print(str(num1))"
      ],
      "metadata": {
        "colab": {
          "base_uri": "https://localhost:8080/"
        },
        "id": "SjpPsQev3R9A",
        "outputId": "b66165c5-6340-48b7-d1c6-7e8f7dbadf03"
      },
      "execution_count": 43,
      "outputs": [
        {
          "output_type": "stream",
          "name": "stdout",
          "text": [
            "Please, enter a number: 2.1\n",
            "2.1\n"
          ]
        }
      ]
    },
    {
      "cell_type": "code",
      "source": [
        "# A student will not be allowed to sit in exam if his/her attendence is less than 75%.\n",
        "# Take following input from user\n",
        "# Number of classes held\n",
        "# Number of classes attended.And print\n",
        "#percentage of class attended\n",
        "#Is student is allowed to sit in exam or not.\n",
        "\n",
        "classheld=input(\"Please, enter the number of classes held: \")\n",
        "classattended=input(\"Please, enter the number of classes attended: \")\n",
        "perctge= (int(classattended)/int(classheld))*100\n",
        "print(perctge, \"% of calss attendence\")\n",
        "\n",
        "if float(perctge)<75:\n",
        "  print(\"Sorry, Your attendence is too low. You are not allowed to sit the exam.\")\n"
      ],
      "metadata": {
        "colab": {
          "base_uri": "https://localhost:8080/"
        },
        "id": "8fYdnIg4EXA-",
        "outputId": "5dd9a788-9f3a-4bc5-80ac-75c937939633"
      },
      "execution_count": 61,
      "outputs": [
        {
          "output_type": "stream",
          "name": "stdout",
          "text": [
            "Please, enter the number of classes held: 200\n",
            "Please, enter the number of classes attended: 200\n",
            "100.0 % attendence\n"
          ]
        }
      ]
    },
    {
      "cell_type": "code",
      "source": [
        "#9.Modify the above question to allow student to sit if he/she has medical cause.\n",
        "#Ask user if he/she has medical cause or not ( 'Y' or 'N' ) and print accordingly.\n",
        "classheld= int(input(\"Please, enter the number of classes held: \"))\n",
        "classattended= int(input(\"Please, enter the number of classes attended: \"))\n",
        "percentage= (classattended)/int(classheld)*100\n",
        "print(percentage, \"% of calss attendence\")\n",
        "\n",
        "if float(percentage)<75:\n",
        "   medical= input(\"Do you have an eligible medical cause? (Y/N) \").upper()\n",
        "   if bool(medical)=='Y':\n",
        "      print(\"If you have an eligible medical cause. You are allowed to sit the exam.\")\n",
        "   else:\n",
        "      print(\"Sorry, Your attendence is too low. You are not allowed to sit the exam.\")\n",
        "else:\n",
        "  print(\"You are allowed to sit the exam.\")"
      ],
      "metadata": {
        "colab": {
          "base_uri": "https://localhost:8080/"
        },
        "id": "yLRHSw3HH6D6",
        "outputId": "dddb6c07-7d1d-4f78-ed4a-73a2b554349d"
      },
      "execution_count": 76,
      "outputs": [
        {
          "output_type": "stream",
          "name": "stdout",
          "text": [
            "Please, enter the number of classes held: 100\n",
            "Please, enter the number of classes attended: 50\n",
            "50.0 % of calss attendence\n",
            "Do you have an eligible medical cause? (Y/N) N\n",
            "Sorry, Your attendence is too low. You are not allowed to sit the exam.\n"
          ]
        }
      ]
    }
  ]
}