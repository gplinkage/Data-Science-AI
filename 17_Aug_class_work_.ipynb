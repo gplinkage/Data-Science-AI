{
  "nbformat": 4,
  "nbformat_minor": 0,
  "metadata": {
    "colab": {
      "provenance": [],
      "authorship_tag": "ABX9TyNHDmszDoV2vfrdGw+9JYZ9",
      "include_colab_link": true
    },
    "kernelspec": {
      "name": "python3",
      "display_name": "Python 3"
    },
    "language_info": {
      "name": "python"
    }
  },
  "cells": [
    {
      "cell_type": "markdown",
      "metadata": {
        "id": "view-in-github",
        "colab_type": "text"
      },
      "source": [
        "<a href=\"https://colab.research.google.com/github/gplinkage/DataScienceBootCamp/blob/main/17_Aug_class_work_.ipynb\" target=\"_parent\"><img src=\"https://colab.research.google.com/assets/colab-badge.svg\" alt=\"Open In Colab\"/></a>"
      ]
    },
    {
      "cell_type": "code",
      "execution_count": null,
      "metadata": {
        "colab": {
          "base_uri": "https://localhost:8080/"
        },
        "id": "oDXvk2eP5AQe",
        "outputId": "3dfd327f-b80b-4b6d-b56d-2aa18d5f3303"
      },
      "outputs": [
        {
          "output_type": "stream",
          "name": "stdout",
          "text": [
            "0  1  1  2  3  5  8  13  21  34  "
          ]
        }
      ],
      "source": [
        "#fibonacci series\n",
        "# 0, 1, 1, 2, 3, 5, 8, 13, 21, 34...\n",
        "# for 10 fibonacci series\n",
        "\n",
        "a,b=0,1\n",
        "print(a, end='  ')\n",
        "print(b, end='  ')\n",
        "for i in range (0,8):\n",
        "  c=a+b\n",
        "  print(c,' ', end='')\n",
        "  a=b\n",
        "  b=c\n"
      ]
    },
    {
      "cell_type": "code",
      "source": [
        "# Dictionary containing student records with names as keys and marks as values\n",
        "stu_record = {'Sameer': 89, 'Sabina': 87, 'Indera': 37, \"Keshav\": 57, 'Kisto': 32}\n",
        "\n",
        "# Loop through the dictionary items (keys and values)\n",
        "for keys, values in stu_record.items():\n",
        "    # Check if the student's mark is less than 35\n",
        "    if values < 35:\n",
        "        print('Sorry', keys, 'your mark is:', values, ', you failed the topic.')\n",
        "    # Check if the student's mark is between 35 (inclusive) and 50 (exclusive)\n",
        "    elif values >= 35 and values < 50:\n",
        "        print('Congratulations!', keys, 'your mark is:', values, ', you passed the topic with pass grade')\n",
        "    # Check if the student's mark is between 50 (inclusive) and 75 (exclusive)\n",
        "    elif values >= 50 and values < 75:\n",
        "        print('Congratulations!', keys, 'your mark is:', values, ', you passed the topic with first grade')\n",
        "    # Check if the student's mark is between 75 (inclusive) and 85 (exclusive)\n",
        "    elif values >= 75 and values < 85:\n",
        "        print('Congratulations!', keys, 'your mark is:', values, ', you passed the topic with distinction grade')\n",
        "    # If the mark is 85 or higher, the student is in the higher distinction range\n",
        "    else:\n",
        "        print('Congratulations!', keys, 'your mark is:', values, ', you passed the topic with higher distinction grade')\n",
        "\n"
      ],
      "metadata": {
        "colab": {
          "base_uri": "https://localhost:8080/"
        },
        "id": "3IxhqQSrBc6n",
        "outputId": "6c612dc4-99cd-4d0d-f803-f8b9837dc67e"
      },
      "execution_count": null,
      "outputs": [
        {
          "output_type": "stream",
          "name": "stdout",
          "text": [
            "Congratulations! Sameer your mark is: 89 , you passed the topic with higher distinction grade\n",
            "Congratulations! Sabina your mark is: 87 , you passed the topic with higher distinction grade\n",
            "Congratulations! Indera your mark is: 37 , you passed the topic with pass grade\n",
            "Congratulations! Keshav your mark is: 57 , you passed the topic with first grade\n",
            "Sorry Kisto your mark is: 32 , you failed the topic.\n"
          ]
        }
      ]
    },
    {
      "cell_type": "code",
      "source": [
        "# Outer loop runs 10 times, controlling the number of rows\n",
        "for i in range(10):\n",
        "    # Inner loop runs 10 times for each iteration of the outer loop, controlling the number of columns in each row\n",
        "    for j in range(10):\n",
        "        # Print a '*' character, followed by a space (using the 'end' parameter to avoid newline)\n",
        "        print('*', end=' ')\n",
        "    # After each row is printed, move to the next line (carriage return)\n",
        "    print('\\r')\n"
      ],
      "metadata": {
        "colab": {
          "base_uri": "https://localhost:8080/"
        },
        "id": "4yvVyjg_ERi-",
        "outputId": "91eb3c5a-e3da-4d85-8607-dd28fbc24313"
      },
      "execution_count": null,
      "outputs": [
        {
          "output_type": "stream",
          "name": "stdout",
          "text": [
            "* * * * * * * * * * \r\n",
            "* * * * * * * * * * \r\n",
            "* * * * * * * * * * \r\n",
            "* * * * * * * * * * \r\n",
            "* * * * * * * * * * \r\n",
            "* * * * * * * * * * \r\n",
            "* * * * * * * * * * \r\n",
            "* * * * * * * * * * \r\n",
            "* * * * * * * * * * \r\n",
            "* * * * * * * * * * \r\n"
          ]
        }
      ]
    },
    {
      "cell_type": "code",
      "source": [
        "#Question 1 ) Write a program in Python to display the Factorial of a number.\n",
        "\n",
        "# The factorial of a number is the product of all the integers from 1 to that number. For example, the factorial of 6 is 1*2*3*4*5*6 = 720\n",
        "\n",
        "num1 = int(input(\"Enter a number: \"))  # Get input from the user\n",
        "\n",
        "factorial = 1  # Initialize the factorial to 1 (for multiplication)\n",
        "\n",
        "# Loop from 1 to num1 (inclusive)\n",
        "for i in range(1, num1 + 1):\n",
        "    factorial *= i  # Multiply factorial by i at each step to calculate the factorial\n",
        "\n",
        "print(\"Factorial:\", factorial)  # Print the calculated factorial\n",
        "\n"
      ],
      "metadata": {
        "id": "a9cyTVDv5haD",
        "colab": {
          "base_uri": "https://localhost:8080/"
        },
        "outputId": "0647cf6a-266f-45d2-cb0c-b0d035d95f3b"
      },
      "execution_count": null,
      "outputs": [
        {
          "output_type": "stream",
          "name": "stdout",
          "text": [
            "Enter a number: 10\n",
            "Factorial: 3628800\n"
          ]
        }
      ]
    },
    {
      "cell_type": "code",
      "source": [
        "# 2) WAP to separate positive and negative number from a list\n",
        "lst_1 = [1, -2, 5, 6, -6, 12, 40]  # Given list of numbers\n",
        "\n",
        "pos_num = []  # Create an empty list to store positive numbers\n",
        "neg_num = []  # Create an empty list to store negative numbers\n",
        "\n",
        "for i in lst_1:  # Loop through each element in lst_1\n",
        "    if i < 0:  # Check if the current element is negative\n",
        "        neg_num.append(i)  # Add the negative element to the neg_num list\n",
        "    else:\n",
        "        pos_num.append(i)  # Add the positive (or zero) element to the pos_num list\n",
        "\n",
        "print(\"Positive numbers:\", pos_num)  # Print the list of positive numbers\n",
        "print(\"Negative numbers:\", neg_num)  # Print the list of negative numbers\n"
      ],
      "metadata": {
        "colab": {
          "base_uri": "https://localhost:8080/"
        },
        "id": "hAgxiBMhpy92",
        "outputId": "c8fa2378-19ec-4c71-dc6e-b95be2f34ea0"
      },
      "execution_count": null,
      "outputs": [
        {
          "output_type": "stream",
          "name": "stdout",
          "text": [
            "Positive numbers: [1, 5, 6, 12, 40]\n",
            "Negative numbers: [-2, -6]\n"
          ]
        }
      ]
    },
    {
      "cell_type": "code",
      "source": [
        "# 3) display fibonnaci series upto 10 terms\n",
        "# fibonnaci series is starts from 0,1 rest of the terms are sum of previous two terms\n",
        "n=int(input(\"Number of terms: \"))\n",
        "a, b = 0, 1  # Initialize variables a and b with 0 and 1\n",
        "print(a, end='  ')  # Print the initial value of a\n",
        "print(b, end='  ')  # Print the initial value of b alongside a\n",
        "\n",
        "for i in range(0, n-2):  # Iterate 8 times (for a total of 10 iterations including initial a and b)\n",
        "    c = a + b  # Calculate the next Fibonacci number by adding a and b\n",
        "    print(c, ' ', end='')  # Print the calculated Fibonacci number\n",
        "    a = b  # Shift the value of b to a for the next iteration\n",
        "    b = c  # Shift the calculated Fibonacci number to b for the next iteration"
      ],
      "metadata": {
        "colab": {
          "base_uri": "https://localhost:8080/"
        },
        "id": "REHldPM7uhqD",
        "outputId": "e0cb48b1-cd52-4479-8aa9-7cee544cd3f1"
      },
      "execution_count": null,
      "outputs": [
        {
          "output_type": "stream",
          "name": "stdout",
          "text": [
            "Number of terms: 10\n",
            "0  1  1  2  3  5  8  13  21  34  "
          ]
        }
      ]
    },
    {
      "cell_type": "code",
      "source": [
        "# Display fibonnaci series upto 10 terms\n",
        "fibonacci_list = [0, 1]  # Initialize the list with the first two Fibonacci numbers\n",
        "\n",
        "num_of_terms = int(input(\"Number of terms: \"))  # Get the desired number of Fibonacci terms from the user\n",
        "\n",
        "# Continue adding terms to the Fibonacci list until it reaches the desired number of terms\n",
        "while len(fibonacci_list) < num_of_terms:\n",
        "    next_term = fibonacci_list[-1] + fibonacci_list[-2]  # Calculate the next Fibonacci term by adding the last two terms\n",
        "    fibonacci_list.append(next_term)  # Add the calculated term to the Fibonacci list\n",
        "\n",
        "print(\"Fibonacci sequence:\", fibonacci_list)  # Print the generated Fibonacci sequence\n"
      ],
      "metadata": {
        "colab": {
          "base_uri": "https://localhost:8080/"
        },
        "id": "e9VKCcSezzM5",
        "outputId": "a18b16b2-ec69-45f9-da3a-caebf61578a3"
      },
      "execution_count": null,
      "outputs": [
        {
          "output_type": "stream",
          "name": "stdout",
          "text": [
            "Number of terms: 10\n",
            "Fibonacci sequence: [0, 1, 1, 2, 3, 5, 8, 13, 21, 34]\n"
          ]
        }
      ]
    },
    {
      "cell_type": "code",
      "source": [
        "# 1) Write a Python program to find those numbers which are divisible by 7 and multiples of 5, between 1500 and 2700 (both included).\n",
        "# Create an empty list to store the numbers that satisfy the conditions\n",
        "num = []\n",
        "\n",
        "# Iterate through numbers from 1500 to 2699 (inclusive)\n",
        "for i in range(1500, 2700):\n",
        "    # Check if the current number is divisible by both 7 and 5\n",
        "    if i % 7 == 0 and i % 5 == 0:\n",
        "        # If the conditions are met, add the number to the 'num' list\n",
        "        num.append(i)\n",
        "\n",
        "# Print the list of numbers that satisfy the conditions\n",
        "print(num)\n",
        "\n"
      ],
      "metadata": {
        "colab": {
          "base_uri": "https://localhost:8080/"
        },
        "id": "09cb844n_2ye",
        "outputId": "03759108-f6e4-461b-d990-41066a94c8c3"
      },
      "execution_count": null,
      "outputs": [
        {
          "output_type": "stream",
          "name": "stdout",
          "text": [
            "[1505, 1540, 1575, 1610, 1645, 1680, 1715, 1750, 1785, 1820, 1855, 1890, 1925, 1960, 1995, 2030, 2065, 2100, 2135, 2170, 2205, 2240, 2275, 2310, 2345, 2380, 2415, 2450, 2485, 2520, 2555, 2590, 2625, 2660, 2695]\n"
          ]
        }
      ]
    },
    {
      "cell_type": "code",
      "source": [
        "from typing_extensions import Counter\n",
        "#2) Write a Python program to count the number of even and odd numbers in a series of numbers\n",
        "#Sample numbers : numbers = (1, 2, 3, 4, 5, 6, 7, 8, 9)\n",
        "\n",
        "# Initialize counters for even and odd numbers\n",
        "e_count = 0  # Counter for even numbers\n",
        "o_count = 0  # Counter for odd numbers\n",
        "\n",
        "# Loop through numbers from 0 to 9 (10 numbers in total)\n",
        "for i in range(10):\n",
        "    # Check if the current number 'i' is even\n",
        "    if i % 2 == 0:\n",
        "        e_count += 1  # Increment the count of even numbers\n",
        "    else:\n",
        "        o_count += 1  # Increment the count of odd numbers\n",
        "\n",
        "# Print the final counts of even and odd numbers\n",
        "print('Even numbers:', e_count)\n",
        "print('Odd numbers:', o_count)\n"
      ],
      "metadata": {
        "colab": {
          "base_uri": "https://localhost:8080/"
        },
        "id": "gWRhwziqANYY",
        "outputId": "44e19371-d29e-44c2-f8b0-ca23804ac7ae"
      },
      "execution_count": null,
      "outputs": [
        {
          "output_type": "stream",
          "name": "stdout",
          "text": [
            "Even numbers:  5\n",
            "Odd numbers:  5\n"
          ]
        }
      ]
    },
    {
      "cell_type": "code",
      "source": [
        "#3) Write a Python program that prints all the numbers from 0 to 6 except 3 and 6.\n",
        "\n",
        "#Expected Output : 0 1 2 4 5\n",
        "\n",
        "a=[0,1,2,3,4,5,6]\n",
        "\n",
        "for i in a:\n",
        "   if i!=3 and i!=6:\n",
        "      print(i, end=' ')\n"
      ],
      "metadata": {
        "colab": {
          "base_uri": "https://localhost:8080/"
        },
        "id": "sF6ckTMiDKif",
        "outputId": "3cd1d489-de70-4c9f-8fe3-cadc8c0fc228"
      },
      "execution_count": null,
      "outputs": [
        {
          "output_type": "stream",
          "name": "stdout",
          "text": [
            "0 1 2 4 5 "
          ]
        }
      ]
    },
    {
      "cell_type": "code",
      "source": [
        "def fibonacci():\n",
        "    # Initialize the first two numbers of the Fibonacci sequence\n",
        "    a, b = 0, 1\n",
        "\n",
        "    # Print the initial values of 'a' and 'b', separated by a space\n",
        "    print(a, end='  ')\n",
        "    print(b, end='  ')\n",
        "\n",
        "    # Loop to generate and print the next 8 numbers in the Fibonacci sequence\n",
        "    for i in range(0, 8):\n",
        "        # Calculate the next Fibonacci number by adding 'a' and 'b'\n",
        "        c = a + b\n",
        "\n",
        "        # Print the current Fibonacci number, followed by a space, without newline\n",
        "        print(c, ' ', end='')\n",
        "\n",
        "        # Update 'a' to the previous value of 'b'\n",
        "        a = b\n",
        "\n",
        "        # Update 'b' to the current value of 'c' for the next iteration\n",
        "        b = c"
      ],
      "metadata": {
        "id": "JAWMHgfYkUY4"
      },
      "execution_count": null,
      "outputs": []
    },
    {
      "cell_type": "code",
      "source": [
        "fibonacci()"
      ],
      "metadata": {
        "colab": {
          "base_uri": "https://localhost:8080/"
        },
        "id": "Q3CuOxGwki9t",
        "outputId": "b88fedc9-e496-40d6-ee15-653690f9394d"
      },
      "execution_count": null,
      "outputs": [
        {
          "output_type": "stream",
          "name": "stdout",
          "text": [
            "0  1  1  2  3  5  8  13  21  34  "
          ]
        }
      ]
    },
    {
      "cell_type": "code",
      "source": [
        "# Prompt the user to enter a word and convert it to lower case\n",
        "a = input(\"Word: \").lower()\n",
        "\n",
        "# Check if the entered word is equal to its reverse\n",
        "if a == a[::-1]:\n",
        "    # If the word is a palindrome (reads the same forwards and backwards)\n",
        "    print(\"Palindrome word\")\n",
        "else:\n",
        "    # If the word is not a palindrome\n",
        "    print(\"Non-Palindrome word\")"
      ],
      "metadata": {
        "colab": {
          "base_uri": "https://localhost:8080/"
        },
        "id": "iu1Czd2okl8F",
        "outputId": "4db57ae0-7ea1-4f4e-da51-ce4f43488f5c"
      },
      "execution_count": null,
      "outputs": [
        {
          "output_type": "stream",
          "name": "stdout",
          "text": [
            "Word: blablala\n",
            "Non-Palindrome word\n"
          ]
        }
      ]
    }
  ]
}