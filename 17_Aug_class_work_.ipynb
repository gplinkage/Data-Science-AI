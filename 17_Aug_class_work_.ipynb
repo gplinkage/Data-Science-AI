{
  "nbformat": 4,
  "nbformat_minor": 0,
  "metadata": {
    "colab": {
      "provenance": [],
      "authorship_tag": "ABX9TyOosd+3LxbXXP72CHVDAXRa",
      "include_colab_link": true
    },
    "kernelspec": {
      "name": "python3",
      "display_name": "Python 3"
    },
    "language_info": {
      "name": "python"
    }
  },
  "cells": [
    {
      "cell_type": "markdown",
      "metadata": {
        "id": "view-in-github",
        "colab_type": "text"
      },
      "source": [
        "<a href=\"https://colab.research.google.com/github/gplinkage/DataScienceBootCamp/blob/main/17_Aug_class_work_.ipynb\" target=\"_parent\"><img src=\"https://colab.research.google.com/assets/colab-badge.svg\" alt=\"Open In Colab\"/></a>"
      ]
    },
    {
      "cell_type": "code",
      "execution_count": null,
      "metadata": {
        "colab": {
          "base_uri": "https://localhost:8080/"
        },
        "id": "oDXvk2eP5AQe",
        "outputId": "a066df8b-232a-4fa1-c44e-f5fc03d44abf"
      },
      "outputs": [
        {
          "output_type": "stream",
          "name": "stdout",
          "text": [
            "0 1 1  2  3  5  8  13  21  34  "
          ]
        }
      ],
      "source": [
        "#fibonacci series\n",
        "# 0, 1, 1, 2, 3, 5, 8, 13, 21, 34...\n",
        "# for 10 fibonacci series\n",
        "\n",
        "a,b=0,1\n",
        "print(a, end=' ')\n",
        "print(b, end=' ')\n",
        "for i in range (0,8):\n",
        "  c=a+b\n",
        "  print(c,' ', end='')\n",
        "  a=b\n",
        "  b=c\n"
      ]
    },
    {
      "cell_type": "code",
      "source": [
        "stu_record ={'Sameer':89, 'Sabina':87, 'Indera':37, \"Keshav\":57, 'Kisto':32}\n",
        "\n",
        "for keys, values in stu_record.items():\n",
        "\n",
        "  if values <35:\n",
        "    print('Sorry', keys,'your mark is : ', values,', you failed the topic.')\n",
        "  elif values>=35 and values<50:\n",
        "    print('Congratulations! ', keys,'your mark is: ', values, ', you passed the topic with pass grade')\n",
        "  elif values>=50 and values<75:\n",
        "    print('Congratulations! ', keys,'your mark is: ',values, ', you passed the topic with first grade')\n",
        "  elif values>=75 and values<85:\n",
        "    print('Congratulations! ', keys,'your mark is: ',values, ', you passed the topic with distinction grade')\n",
        "  else:\n",
        "    print('Congratulations! ', keys,'your mark is: ',values, ', you passed the topic with higher distinction grade')\n"
      ],
      "metadata": {
        "colab": {
          "base_uri": "https://localhost:8080/"
        },
        "id": "3IxhqQSrBc6n",
        "outputId": "424a8d22-7519-47cf-97d1-078628797fe8"
      },
      "execution_count": null,
      "outputs": [
        {
          "output_type": "stream",
          "name": "stdout",
          "text": [
            "Congratulations!  Sameer your mark is:  89 , you passed the topic with higher distinction grade\n",
            "Congratulations!  Sabina your mark is:  87 , you passed the topic with higher distinction grade\n",
            "Congratulations!  Indera your mark is:  37 , you passed the topic with pass grade\n",
            "Congratulations!  Keshav your mark is:  57 , you passed the topic with first grade\n",
            "Sorry Kisto your mark is :  32 , you failed the topic.\n"
          ]
        }
      ]
    },
    {
      "cell_type": "code",
      "source": [
        "for i in range(10):\n",
        "  for j in range(10):\n",
        "    print ('*', end=' ')\n",
        "  print('\\r')"
      ],
      "metadata": {
        "colab": {
          "base_uri": "https://localhost:8080/"
        },
        "id": "4yvVyjg_ERi-",
        "outputId": "91eb3c5a-e3da-4d85-8607-dd28fbc24313"
      },
      "execution_count": 1,
      "outputs": [
        {
          "output_type": "stream",
          "name": "stdout",
          "text": [
            "* * * * * * * * * * \r\n",
            "* * * * * * * * * * \r\n",
            "* * * * * * * * * * \r\n",
            "* * * * * * * * * * \r\n",
            "* * * * * * * * * * \r\n",
            "* * * * * * * * * * \r\n",
            "* * * * * * * * * * \r\n",
            "* * * * * * * * * * \r\n",
            "* * * * * * * * * * \r\n",
            "* * * * * * * * * * \r\n"
          ]
        }
      ]
    },
    {
      "cell_type": "code",
      "source": [
        "#Question 1 ) Write a program in Python to display the Factorial of a number.\n",
        "\n",
        "num1 = int(input(\"Enter a number: \"))  # Get input from the user\n",
        "\n",
        "factorial = 1  # Initialize the factorial to 1 (for multiplication)\n",
        "\n",
        "for i in range(1, num1 + 1):  # Loop from 1 to num1 (inclusive)\n",
        "    factorial *= i  # Multiply factorial by i at each step to calculate the factorial\n",
        "\n",
        "print(\"Factorial:\", factorial)  # Print the calculated factorial\n"
      ],
      "metadata": {
        "id": "a9cyTVDv5haD",
        "colab": {
          "base_uri": "https://localhost:8080/"
        },
        "outputId": "7797df4b-803d-4436-e584-7125948a22d8"
      },
      "execution_count": 45,
      "outputs": [
        {
          "output_type": "stream",
          "name": "stdout",
          "text": [
            "Enter a number: 12\n",
            "Factorial: 479001600\n"
          ]
        }
      ]
    },
    {
      "cell_type": "code",
      "source": [
        "# 2) WAP to separate positive and negative number from a list\n",
        "lst_1 = [1, -2, 5, 6, -6, 12, 40]  # Given list of numbers\n",
        "\n",
        "pos_num = []  # Create an empty list to store positive numbers\n",
        "neg_num = []  # Create an empty list to store negative numbers\n",
        "\n",
        "for i in lst_1:  # Loop through each element in lst_1\n",
        "    if i < 0:  # Check if the current element is negative\n",
        "        neg_num.append(i)  # Add the negative element to the neg_num list\n",
        "    else:\n",
        "        pos_num.append(i)  # Add the positive (or zero) element to the pos_num list\n",
        "\n",
        "print(\"Positive numbers:\", pos_num)  # Print the list of positive numbers\n",
        "print(\"Negative numbers:\", neg_num)  # Print the list of negative numbers\n",
        ""
      ],
      "metadata": {
        "colab": {
          "base_uri": "https://localhost:8080/"
        },
        "id": "hAgxiBMhpy92",
        "outputId": "c8fa2378-19ec-4c71-dc6e-b95be2f34ea0"
      },
      "execution_count": 44,
      "outputs": [
        {
          "output_type": "stream",
          "name": "stdout",
          "text": [
            "Positive numbers: [1, 5, 6, 12, 40]\n",
            "Negative numbers: [-2, -6]\n"
          ]
        }
      ]
    },
    {
      "cell_type": "code",
      "source": [
        "# 3) display fibonnaci series upto 10 terms\n",
        "# fibonnaci series is starts from 0,1 rest of the terms are sum of previous two terms\n",
        "n=int(input(\"Number of terms: \"))\n",
        "a, b = 0, 1  # Initialize variables a and b with 0 and 1\n",
        "print(a, end='  ')  # Print the initial value of a\n",
        "print(b, end='  ')  # Print the initial value of b alongside a\n",
        "\n",
        "for i in range(0, n-2):  # Iterate 8 times (for a total of 10 iterations including initial a and b)\n",
        "    c = a + b  # Calculate the next Fibonacci number by adding a and b\n",
        "    print(c, ' ', end='')  # Print the calculated Fibonacci number\n",
        "    a = b  # Shift the value of b to a for the next iteration\n",
        "    b = c  # Shift the calculated Fibonacci number to b for the next iteration"
      ],
      "metadata": {
        "colab": {
          "base_uri": "https://localhost:8080/"
        },
        "id": "REHldPM7uhqD",
        "outputId": "e0cb48b1-cd52-4479-8aa9-7cee544cd3f1"
      },
      "execution_count": 46,
      "outputs": [
        {
          "output_type": "stream",
          "name": "stdout",
          "text": [
            "Number of terms: 10\n",
            "0  1  1  2  3  5  8  13  21  34  "
          ]
        }
      ]
    },
    {
      "cell_type": "code",
      "source": [
        "# Display fibonnaci series upto 10 terms\n",
        "fibonacci_list = [0, 1]  # Initialize the list with the first two Fibonacci numbers\n",
        "\n",
        "num_of_terms = int(input(\"Number of terms: \"))  # Get the desired number of Fibonacci terms from the user\n",
        "\n",
        "# Continue adding terms to the Fibonacci list until it reaches the desired number of terms\n",
        "while len(fibonacci_list) < num_of_terms:\n",
        "    next_term = fibonacci_list[-1] + fibonacci_list[-2]  # Calculate the next Fibonacci term by adding the last two terms\n",
        "    fibonacci_list.append(next_term)  # Add the calculated term to the Fibonacci list\n",
        "\n",
        "print(\"Fibonacci sequence:\", fibonacci_list)  # Print the generated Fibonacci sequence\n"
      ],
      "metadata": {
        "colab": {
          "base_uri": "https://localhost:8080/"
        },
        "id": "e9VKCcSezzM5",
        "outputId": "a18b16b2-ec69-45f9-da3a-caebf61578a3"
      },
      "execution_count": 50,
      "outputs": [
        {
          "output_type": "stream",
          "name": "stdout",
          "text": [
            "Number of terms: 10\n",
            "Fibonacci sequence: [0, 1, 1, 2, 3, 5, 8, 13, 21, 34]\n"
          ]
        }
      ]
    }
  ]
}