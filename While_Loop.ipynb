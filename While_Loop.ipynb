{
  "nbformat": 4,
  "nbformat_minor": 0,
  "metadata": {
    "colab": {
      "provenance": [],
      "authorship_tag": "ABX9TyOcB1xbAeKPhCmMV6+/LPM3",
      "include_colab_link": true
    },
    "kernelspec": {
      "name": "python3",
      "display_name": "Python 3"
    },
    "language_info": {
      "name": "python"
    }
  },
  "cells": [
    {
      "cell_type": "markdown",
      "metadata": {
        "id": "view-in-github",
        "colab_type": "text"
      },
      "source": [
        "<a href=\"https://colab.research.google.com/github/gplinkage/DataScienceBootCamp/blob/main/While_Loop.ipynb\" target=\"_parent\"><img src=\"https://colab.research.google.com/assets/colab-badge.svg\" alt=\"Open In Colab\"/></a>"
      ]
    },
    {
      "cell_type": "code",
      "execution_count": null,
      "metadata": {
        "colab": {
          "base_uri": "https://localhost:8080/"
        },
        "id": "HSvPAaxZjkN5",
        "outputId": "7bacf8f7-326f-4fc7-edf1-3ed357ae3bb8"
      },
      "outputs": [
        {
          "output_type": "stream",
          "name": "stdout",
          "text": [
            "100  is greater than 10.\n",
            "99  is greater than 10.\n",
            "98  is greater than 10.\n",
            "97  is greater than 10.\n",
            "96  is greater than 10.\n",
            "95  is greater than 10.\n",
            "94  is greater than 10.\n",
            "93  is greater than 10.\n",
            "92  is greater than 10.\n",
            "91  is greater than 10.\n",
            "90  is greater than 10.\n",
            "89  is greater than 10.\n",
            "88  is greater than 10.\n",
            "87  is greater than 10.\n",
            "86  is greater than 10.\n",
            "85  is greater than 10.\n",
            "84  is greater than 10.\n",
            "83  is greater than 10.\n",
            "82  is greater than 10.\n",
            "81  is greater than 10.\n",
            "80  is greater than 10.\n",
            "79  is greater than 10.\n",
            "78  is greater than 10.\n",
            "77  is greater than 10.\n",
            "76  is greater than 10.\n",
            "75  is greater than 10.\n",
            "74  is greater than 10.\n",
            "73  is greater than 10.\n",
            "72  is greater than 10.\n",
            "71  is greater than 10.\n",
            "70  is greater than 10.\n",
            "69  is greater than 10.\n",
            "68  is greater than 10.\n",
            "67  is greater than 10.\n",
            "66  is greater than 10.\n",
            "65  is greater than 10.\n",
            "64  is greater than 10.\n",
            "63  is greater than 10.\n",
            "62  is greater than 10.\n",
            "61  is greater than 10.\n",
            "60  is greater than 10.\n",
            "59  is greater than 10.\n",
            "58  is greater than 10.\n",
            "57  is greater than 10.\n",
            "56  is greater than 10.\n",
            "55  is greater than 10.\n",
            "54  is greater than 10.\n",
            "53  is greater than 10.\n",
            "52  is greater than 10.\n",
            "51  is greater than 10.\n",
            "50  is greater than 10.\n",
            "49  is greater than 10.\n",
            "48  is greater than 10.\n",
            "47  is greater than 10.\n",
            "46  is greater than 10.\n",
            "45  is greater than 10.\n",
            "44  is greater than 10.\n",
            "43  is greater than 10.\n",
            "42  is greater than 10.\n",
            "41  is greater than 10.\n",
            "40  is greater than 10.\n",
            "39  is greater than 10.\n",
            "38  is greater than 10.\n",
            "37  is greater than 10.\n",
            "36  is greater than 10.\n",
            "35  is greater than 10.\n",
            "34  is greater than 10.\n",
            "33  is greater than 10.\n",
            "32  is greater than 10.\n",
            "31  is greater than 10.\n",
            "30  is greater than 10.\n",
            "29  is greater than 10.\n",
            "28  is greater than 10.\n",
            "27  is greater than 10.\n",
            "26  is greater than 10.\n",
            "25  is greater than 10.\n",
            "24  is greater than 10.\n",
            "23  is greater than 10.\n",
            "22  is greater than 10.\n",
            "21  is greater than 10.\n",
            "20  is greater than 10.\n",
            "19  is greater than 10.\n",
            "18  is greater than 10.\n",
            "17  is greater than 10.\n",
            "16  is greater than 10.\n",
            "15  is greater than 10.\n",
            "14  is greater than 10.\n",
            "13  is greater than 10.\n",
            "12  is greater than 10.\n",
            "11  is greater than 10.\n"
          ]
        }
      ],
      "source": [
        "#While loop\n",
        "a= 100\n",
        "while a > 10:\n",
        "  print(a, ' is greater than 10.')\n",
        "  a-=1\n",
        "\n",
        "\n"
      ]
    },
    {
      "cell_type": "code",
      "source": [
        "a = 10\n",
        "\n",
        "while a < 100:\n",
        "  print(a, ' is less than 100')\n",
        "  a += 1"
      ],
      "metadata": {
        "colab": {
          "base_uri": "https://localhost:8080/"
        },
        "id": "gB5AsmKVkypT",
        "outputId": "4ef1d952-b828-40a5-c982-72b1c18d0e38"
      },
      "execution_count": null,
      "outputs": [
        {
          "output_type": "stream",
          "name": "stdout",
          "text": [
            "10  is less than 100\n",
            "11  is less than 100\n",
            "12  is less than 100\n",
            "13  is less than 100\n",
            "14  is less than 100\n",
            "15  is less than 100\n",
            "16  is less than 100\n",
            "17  is less than 100\n",
            "18  is less than 100\n",
            "19  is less than 100\n",
            "20  is less than 100\n",
            "21  is less than 100\n",
            "22  is less than 100\n",
            "23  is less than 100\n",
            "24  is less than 100\n",
            "25  is less than 100\n",
            "26  is less than 100\n",
            "27  is less than 100\n",
            "28  is less than 100\n",
            "29  is less than 100\n",
            "30  is less than 100\n",
            "31  is less than 100\n",
            "32  is less than 100\n",
            "33  is less than 100\n",
            "34  is less than 100\n",
            "35  is less than 100\n",
            "36  is less than 100\n",
            "37  is less than 100\n",
            "38  is less than 100\n",
            "39  is less than 100\n",
            "40  is less than 100\n",
            "41  is less than 100\n",
            "42  is less than 100\n",
            "43  is less than 100\n",
            "44  is less than 100\n",
            "45  is less than 100\n",
            "46  is less than 100\n",
            "47  is less than 100\n",
            "48  is less than 100\n",
            "49  is less than 100\n",
            "50  is less than 100\n",
            "51  is less than 100\n",
            "52  is less than 100\n",
            "53  is less than 100\n",
            "54  is less than 100\n",
            "55  is less than 100\n",
            "56  is less than 100\n",
            "57  is less than 100\n",
            "58  is less than 100\n",
            "59  is less than 100\n",
            "60  is less than 100\n",
            "61  is less than 100\n",
            "62  is less than 100\n",
            "63  is less than 100\n",
            "64  is less than 100\n",
            "65  is less than 100\n",
            "66  is less than 100\n",
            "67  is less than 100\n",
            "68  is less than 100\n",
            "69  is less than 100\n",
            "70  is less than 100\n",
            "71  is less than 100\n",
            "72  is less than 100\n",
            "73  is less than 100\n",
            "74  is less than 100\n",
            "75  is less than 100\n",
            "76  is less than 100\n",
            "77  is less than 100\n",
            "78  is less than 100\n",
            "79  is less than 100\n",
            "80  is less than 100\n",
            "81  is less than 100\n",
            "82  is less than 100\n",
            "83  is less than 100\n",
            "84  is less than 100\n",
            "85  is less than 100\n",
            "86  is less than 100\n",
            "87  is less than 100\n",
            "88  is less than 100\n",
            "89  is less than 100\n",
            "90  is less than 100\n",
            "91  is less than 100\n",
            "92  is less than 100\n",
            "93  is less than 100\n",
            "94  is less than 100\n",
            "95  is less than 100\n",
            "96  is less than 100\n",
            "97  is less than 100\n",
            "98  is less than 100\n",
            "99  is less than 100\n"
          ]
        }
      ]
    },
    {
      "cell_type": "code",
      "source": [
        "i = 10\n",
        "while i<200:\n",
        "  print (i,' is smaller than 200')\n",
        "  i += 10"
      ],
      "metadata": {
        "colab": {
          "base_uri": "https://localhost:8080/"
        },
        "id": "b2No_3oklO9j",
        "outputId": "5acb2963-7713-4336-c428-44bda8bbf11b"
      },
      "execution_count": null,
      "outputs": [
        {
          "output_type": "stream",
          "name": "stdout",
          "text": [
            "10  is smaller than 200\n",
            "20  is smaller than 200\n",
            "30  is smaller than 200\n",
            "40  is smaller than 200\n",
            "50  is smaller than 200\n",
            "60  is smaller than 200\n",
            "70  is smaller than 200\n",
            "80  is smaller than 200\n",
            "90  is smaller than 200\n",
            "100  is smaller than 200\n",
            "110  is smaller than 200\n",
            "120  is smaller than 200\n",
            "130  is smaller than 200\n",
            "140  is smaller than 200\n",
            "150  is smaller than 200\n",
            "160  is smaller than 200\n",
            "170  is smaller than 200\n",
            "180  is smaller than 200\n",
            "190  is smaller than 200\n"
          ]
        }
      ]
    },
    {
      "cell_type": "code",
      "source": [
        "i=400\n",
        "while i>200:\n",
        "  print(i, 'is greater than 200')\n",
        "  i -= 20"
      ],
      "metadata": {
        "colab": {
          "base_uri": "https://localhost:8080/"
        },
        "id": "WmCifP73mJLa",
        "outputId": "feb89dc8-2b76-4965-fee1-649dcddae099"
      },
      "execution_count": null,
      "outputs": [
        {
          "output_type": "stream",
          "name": "stdout",
          "text": [
            "400 is greater than 200\n",
            "380 is greater than 200\n",
            "360 is greater than 200\n",
            "340 is greater than 200\n",
            "320 is greater than 200\n",
            "300 is greater than 200\n",
            "280 is greater than 200\n",
            "260 is greater than 200\n",
            "240 is greater than 200\n",
            "220 is greater than 200\n"
          ]
        }
      ]
    },
    {
      "cell_type": "code",
      "source": [
        "# Break, continue and pass\n",
        "i = 10\n",
        "while i<100:\n",
        "  i += 10\n",
        "  print (i,' is smaller than 100')"
      ],
      "metadata": {
        "colab": {
          "base_uri": "https://localhost:8080/"
        },
        "id": "XtsOzSCFowaz",
        "outputId": "e32884ba-96ab-4e3a-da57-6a7f7967a47a"
      },
      "execution_count": null,
      "outputs": [
        {
          "output_type": "stream",
          "name": "stdout",
          "text": [
            "20  is smaller than 100\n",
            "30  is smaller than 100\n",
            "40  is smaller than 100\n",
            "50  is smaller than 100\n",
            "60  is smaller than 100\n",
            "70  is smaller than 100\n",
            "80  is smaller than 100\n",
            "90  is smaller than 100\n",
            "100  is smaller than 100\n"
          ]
        }
      ]
    },
    {
      "cell_type": "code",
      "source": [
        "# Break, continue and pass\n",
        "# Initialize the variable i with the value 10\n",
        "i = 10\n",
        "\n",
        "# Start a while loop that continues as long as i is less than 100\n",
        "while i < 100:\n",
        "    # Increment i by 10 in each iteration\n",
        "    i += 10\n",
        "\n",
        "    # Check if i has reached the value 50\n",
        "    if i == 50:\n",
        "        # If i is equal to 50, exit the loop using the 'break' statement\n",
        "        break\n",
        "\n",
        "    # Print a message indicating that the current value of i is smaller than 100\n",
        "    print(i, ' is smaller than 100')\n"
      ],
      "metadata": {
        "colab": {
          "base_uri": "https://localhost:8080/"
        },
        "id": "YZzzXmYarUuz",
        "outputId": "aa11c08b-f4b8-4f48-ee4e-5b9a95678777"
      },
      "execution_count": null,
      "outputs": [
        {
          "output_type": "stream",
          "name": "stdout",
          "text": [
            "20  is smaller than 100\n",
            "30  is smaller than 100\n",
            "40  is smaller than 100\n"
          ]
        }
      ]
    },
    {
      "cell_type": "code",
      "source": [
        "#Continue\n",
        "i = 10  # Initialize the variable i with the value 10\n",
        "\n",
        "while i < 100:  # Start a while loop that continues as long as i is less than 100\n",
        "    i += 10  # Increment the value of i by 10 in each iteration\n",
        "\n",
        "    if i == 50:  # Check if the value of i is equal to 50\n",
        "        continue  # If i is 50, skip the rest of the loop and continue with the next iteration\n",
        "\n",
        "    print(i, ' is smaller than 100')  # Print the value of i followed by the message\n",
        "\n",
        "# The loop will continue to run as long as i remains less than 100.\n",
        "# When i reaches or exceeds 100, the loop will stop.\n",
        "\n",
        "\n"
      ],
      "metadata": {
        "colab": {
          "base_uri": "https://localhost:8080/"
        },
        "id": "LFWJBSonqygc",
        "outputId": "c31682be-a0b7-4624-e05d-a5b0eb64e679"
      },
      "execution_count": null,
      "outputs": [
        {
          "output_type": "stream",
          "name": "stdout",
          "text": [
            "20  is smaller than 100\n",
            "30  is smaller than 100\n",
            "40  is smaller than 100\n",
            "60  is smaller than 100\n",
            "70  is smaller than 100\n",
            "80  is smaller than 100\n",
            "90  is smaller than 100\n",
            "100  is smaller than 100\n"
          ]
        }
      ]
    },
    {
      "cell_type": "code",
      "source": [
        "a=200\n",
        "while (a < 500):\n",
        "  pass"
      ],
      "metadata": {
        "id": "q0w-UnD6riox"
      },
      "execution_count": null,
      "outputs": []
    },
    {
      "cell_type": "code",
      "source": [
        "# Write a program 0 to 100 and find odd and even number; use while loop\n",
        "\n",
        "# Initialize a variable 'a' with the value 0\n",
        "a = 0\n",
        "\n",
        "# Start a loop that runs as long as 'a' is less than or equal to 100\n",
        "while a <= 100:\n",
        "    # Increment the value of 'a' by 1 in each iteration\n",
        "    a += 1\n",
        "\n",
        "    # Check if 'a' is even by checking if its remainder when divided by 2 is 0\n",
        "    if a % 2 == 0:\n",
        "        # If 'a' is even, print a message indicating that it's an even number\n",
        "        print(a, ' is even number')\n",
        "    else:\n",
        "        # If 'a' is not even, print a message indicating that it's an odd number\n",
        "        print(a, ' is odd number')\n",
        "\n"
      ],
      "metadata": {
        "id": "KRvYl9bXsGlJ",
        "colab": {
          "base_uri": "https://localhost:8080/"
        },
        "outputId": "7701ea51-00f0-4ebe-9236-dae0770e39b4"
      },
      "execution_count": null,
      "outputs": [
        {
          "output_type": "stream",
          "name": "stdout",
          "text": [
            "1  is odd number\n",
            "2  is even number\n",
            "3  is odd number\n",
            "4  is even number\n",
            "5  is odd number\n",
            "6  is even number\n",
            "7  is odd number\n",
            "8  is even number\n",
            "9  is odd number\n",
            "10  is even number\n",
            "11  is odd number\n",
            "12  is even number\n",
            "13  is odd number\n",
            "14  is even number\n",
            "15  is odd number\n",
            "16  is even number\n",
            "17  is odd number\n",
            "18  is even number\n",
            "19  is odd number\n",
            "20  is even number\n",
            "21  is odd number\n",
            "22  is even number\n",
            "23  is odd number\n",
            "24  is even number\n",
            "25  is odd number\n",
            "26  is even number\n",
            "27  is odd number\n",
            "28  is even number\n",
            "29  is odd number\n",
            "30  is even number\n",
            "31  is odd number\n",
            "32  is even number\n",
            "33  is odd number\n",
            "34  is even number\n",
            "35  is odd number\n",
            "36  is even number\n",
            "37  is odd number\n",
            "38  is even number\n",
            "39  is odd number\n",
            "40  is even number\n",
            "41  is odd number\n",
            "42  is even number\n",
            "43  is odd number\n",
            "44  is even number\n",
            "45  is odd number\n",
            "46  is even number\n",
            "47  is odd number\n",
            "48  is even number\n",
            "49  is odd number\n",
            "50  is even number\n",
            "51  is odd number\n",
            "52  is even number\n",
            "53  is odd number\n",
            "54  is even number\n",
            "55  is odd number\n",
            "56  is even number\n",
            "57  is odd number\n",
            "58  is even number\n",
            "59  is odd number\n",
            "60  is even number\n",
            "61  is odd number\n",
            "62  is even number\n",
            "63  is odd number\n",
            "64  is even number\n",
            "65  is odd number\n",
            "66  is even number\n",
            "67  is odd number\n",
            "68  is even number\n",
            "69  is odd number\n",
            "70  is even number\n",
            "71  is odd number\n",
            "72  is even number\n",
            "73  is odd number\n",
            "74  is even number\n",
            "75  is odd number\n",
            "76  is even number\n",
            "77  is odd number\n",
            "78  is even number\n",
            "79  is odd number\n",
            "80  is even number\n",
            "81  is odd number\n",
            "82  is even number\n",
            "83  is odd number\n",
            "84  is even number\n",
            "85  is odd number\n",
            "86  is even number\n",
            "87  is odd number\n",
            "88  is even number\n",
            "89  is odd number\n",
            "90  is even number\n",
            "91  is odd number\n",
            "92  is even number\n",
            "93  is odd number\n",
            "94  is even number\n",
            "95  is odd number\n",
            "96  is even number\n",
            "97  is odd number\n",
            "98  is even number\n",
            "99  is odd number\n",
            "100  is even number\n",
            "101  is odd number\n"
          ]
        }
      ]
    },
    {
      "cell_type": "code",
      "source": [
        "\n"
      ],
      "metadata": {
        "id": "NYb7difiul1E"
      },
      "execution_count": null,
      "outputs": []
    },
    {
      "cell_type": "code",
      "source": [
        "# Initialize a variable to store the total sum\n",
        "total = 0\n",
        "\n",
        "# Get the first number as input from the user\n",
        "num = int(input('Enter a number: '))\n",
        "\n",
        "# Start a loop that continues until the user enters 0\n",
        "while num != 0:\n",
        "    # Add the current number to the total\n",
        "    total += num\n",
        "\n",
        "    # Get the next number as input from the user\n",
        "    num = int(input('Enter a number: '))\n",
        "\n",
        "    # Print the updated total in each iteration\n",
        "    print(total)\n",
        "\n",
        "# The loop ends when the user enters 0\n",
        "# Print the final total after the loop is done\n",
        "print('Final Total:', total)\n"
      ],
      "metadata": {
        "colab": {
          "base_uri": "https://localhost:8080/"
        },
        "id": "EItAX5V-xFw7",
        "outputId": "5bf1dd87-25e3-4414-e898-f4feea0ca0c6"
      },
      "execution_count": null,
      "outputs": [
        {
          "output_type": "stream",
          "name": "stdout",
          "text": [
            "Enter a number: 3\n",
            "Enter a number: 5\n",
            "3\n",
            "Enter a number: 4\n",
            "8\n",
            "Enter a number: 7\n",
            "12\n",
            "Enter a number: 0\n",
            "19\n",
            "Final Total: 19\n"
          ]
        }
      ]
    },
    {
      "cell_type": "code",
      "source": [
        "#voting eligibility\n",
        "\n",
        "# Initialize a variable to keep track of the total number of voters.\n",
        "total_voters = 0\n",
        "\n",
        "# Ask the user to enter their age as input.\n",
        "age = int(input('Please, enter your age: '))\n",
        "\n",
        "# Start a loop that continues as long as the entered age is 18 or higher.\n",
        "while age >= 18:\n",
        "    # Increment the total number of voters by 1 for each eligible age.\n",
        "    total_voters += 1\n",
        "\n",
        "    # Ask the user to enter their age again for the next iteration.\n",
        "    age = int(input('Please, enter your age: '))\n",
        "\n",
        "    # Print the current count of total voters during each iteration.\n",
        "    print(total_voters)\n"
      ],
      "metadata": {
        "colab": {
          "base_uri": "https://localhost:8080/"
        },
        "id": "pVi2wxVmyEND",
        "outputId": "d8d80136-c803-4061-b84b-8deb3be8e6bd"
      },
      "execution_count": null,
      "outputs": [
        {
          "output_type": "stream",
          "name": "stdout",
          "text": [
            "Please, enter your age: 44\n",
            "Please, enter your age: 19\n",
            "1\n",
            "Please, enter your age: 45\n",
            "2\n",
            "Please, enter your age: 17\n",
            "3\n"
          ]
        }
      ]
    },
    {
      "cell_type": "code",
      "source": [
        "# Define a list containing several integers\n",
        "lst1 = [1, 2, 3, 4, 5, 6, 7, 8, 55, 66, 77, 45, 34, 74, 90]\n",
        "\n",
        "# Uncomment the line below to see its effect\n",
        "# lst.pop()\n",
        "\n",
        "# Start a loop that continues as long as there are elements in lst1\n",
        "while lst1:\n",
        "    # Pop the last element from lst1 and print it\n",
        "    print(lst1.pop())\n",
        "\n"
      ],
      "metadata": {
        "colab": {
          "base_uri": "https://localhost:8080/"
        },
        "id": "EoboAqdT2DJ3",
        "outputId": "650c400c-1061-4ba9-e9ae-68f388e99857"
      },
      "execution_count": null,
      "outputs": [
        {
          "output_type": "stream",
          "name": "stdout",
          "text": [
            "90\n",
            "74\n",
            "34\n",
            "45\n",
            "77\n",
            "66\n",
            "55\n",
            "8\n",
            "7\n",
            "6\n",
            "5\n",
            "4\n",
            "3\n",
            "2\n",
            "1\n"
          ]
        }
      ]
    },
    {
      "cell_type": "code",
      "source": [
        "#write a program where number is devisible by 5 and 7 both\n",
        "\n",
        "# Prompt the user to enter a number and store it as an integer in the variable num1\n",
        "num1 = int(input(\"Please, enter a number: \"))\n",
        "\n",
        "# Check if num1 is divisible by both 5 and 7 using a while loop\n",
        "while (num1 % 5 == 0) and (num1 % 7 == 0):\n",
        "    # If the condition is met, print a message indicating divisibility and break out of the loop\n",
        "    print(num1, ' is divisible by 5 and 7')\n",
        "    break\n",
        "else:\n",
        "    # If the condition is not met, print a message indicating non-divisibility by both 5 and 7\n",
        "    print(num1, ' is not divisible by both 5 and 7')\n",
        "\n"
      ],
      "metadata": {
        "colab": {
          "base_uri": "https://localhost:8080/"
        },
        "id": "BaPuyBZL5sjh",
        "outputId": "88356b4f-230b-4a25-8031-150ce65f7e41"
      },
      "execution_count": null,
      "outputs": [
        {
          "output_type": "stream",
          "name": "stdout",
          "text": [
            "Please, enter a number: 7\n",
            "7  is not divisible by both 5 and 7\n"
          ]
        }
      ]
    }
  ]
}