{
  "nbformat": 4,
  "nbformat_minor": 0,
  "metadata": {
    "colab": {
      "provenance": [],
      "authorship_tag": "ABX9TyNFZmBC4nxc3Co680zLmEJ6",
      "include_colab_link": true
    },
    "kernelspec": {
      "name": "python3",
      "display_name": "Python 3"
    },
    "language_info": {
      "name": "python"
    }
  },
  "cells": [
    {
      "cell_type": "markdown",
      "metadata": {
        "id": "view-in-github",
        "colab_type": "text"
      },
      "source": [
        "<a href=\"https://colab.research.google.com/github/gplinkage/DataScienceBootCamp/blob/main/AUG24_Class_Work.ipynb\" target=\"_parent\"><img src=\"https://colab.research.google.com/assets/colab-badge.svg\" alt=\"Open In Colab\"/></a>"
      ]
    },
    {
      "cell_type": "code",
      "execution_count": 38,
      "metadata": {
        "id": "TI1uXTifnbl4"
      },
      "outputs": [],
      "source": []
    },
    {
      "cell_type": "markdown",
      "source": [
        "Q1. Create this Matrix and User should be able to replace any number with X\n",
        "\n",
        "![275da2e25a29cf223b5be3dd4ae168cd8587fb505995cc4967c6b8644e3d2e42.png](data:image/png;base64,iVBORw0KGgoAAAANSUhEUgAAAKwAAACdCAYAAAApF5PQAAAAAXNSR0IArs4c6QAAAARnQU1BAACxjwv8YQUAAAAJcEhZcwAAEnQAABJ0Ad5mH3gAAARISURBVHhe7d0BbpwwFEXRtEvJ/teUrbR1E0sWxTApNrwL90io6XQEH/vNlxvh5MevP94kiJ9ff0oIBlYoBlYoBlYoBlYoBlYoBlYoBlYoBlYoBlYojwzs+/v734OKXv8RdlihGFihGFihRDxe+Op67OPj4+urY+r1Rp2v6t3HrOuMPm+xvIcZ1zjCDjvI1odu699SlBrX6uy9fhXEA9x1wFI77N750usveuecca0j4jts2oDd0dYY19fqe67mkmCglEm9s+jAUrprW18b2vI15R4o7LCDLEPbBpcS1rbmau21K8UG1s50nrUPWz3S2GEHaSe3BGAZgnS9xpDWMCK/rVUneNZgjT7/3vnOvt5oZ19vix1Wm5LCWsQFNm2AvqPW3lp7jSKx9qglQTtAMwM740OxN7kzrnVW/UnNI3JJkDRAr9qqmXg/Rak7rfZH/jC4GR3qTPT6j/A/XUIxsEIxsEJ55BpWXHZYoRhYoRhYoRhYoRhYoRhYoRhYoRhYoRhYoRhYoRhYoRhYoRhYoRhYoRhYoUx9Hra3E7O3F8n3f7rr+0ewwwrFHQdCscMKxcAKxcAKxcAKxcAKxcAKxcAKxcAKxcAKxcAKxcAKxcAKxcAK5ZGBLc9x9p7lJKDXf4QdVigGVigGViixOw7aNdroPUL13CPPu7emnHGtWXun1u5l5j6t74jssHuTrznKuKePfWSHXQ4aqcOe0Ylm1l+kdNM1cR32zInXv9LHPSqwhvUapHGPCaxhzVDmYXkk8dtag6VP+JZerUn3EBHYOiB37a6k0JY5aI8q5R4uD+xdwrqc6HpUhNC29VZrr10pag27PKrl30nSJpzONaxQon8YXO2qo7vUrPOumXGtM8955li9wg47SJnYtYMmvX4DO1npTCndaUuvzrT6H/nzYWvnIARpDb3+I+ywQjGwQjGwQvF3HAjFDisUAysUAysUAysUAysUAysUAysUAysUAysUAysUAysUAysUAysUAysUAyuUqc/D9nZd9vYi+f5Pd33/CHZYobjjQCh2WKEYWKEYWKEYWKEYWKEYWKEYWKEYWKEYWKEYWKEYWKEYWKEYWKEYWKE8MrDlwePew8cE9PqPsMMKxcAKxcAKJW6LTLs2m7WZrV5jxvmXa8uZ1xh97rV18cwNhf8jpsOWwVobMIpe/ZR76tWZVn9EYNtBSftEv6rWXf6sR0UJbVt7av0Rga2D0w4S0bJ+0v2s1ZpYf8ySgB5WncPvEqirLgWSmomBnShxwveUmutRpNVuYLWpDW8CAztJaofaU+ptjyoltAZ2AmpY16Tdg4Ed7E5hTWRgB7pjWFOWAlXEswSvDMrIEMwI1pn3cEX9KR9CO6w2laCmhLV45A80ntGhzkSv/wg7rFAMrFAMrFD8pRxCscMKxcAKxcAKxcAKxcAKxcAKxcAKxcAKxcAKxcAKxcAKxcAKxcAKxcAK5O3tN337KoPGYrI8AAAAAElFTkSuQmCC)"
      ],
      "metadata": {
        "id": "Sz-4Rz_2oRV2"
      }
    },
    {
      "cell_type": "code",
      "source": [
        "def display_board(board):\n",
        "    print(\"{} | {} | {}\".format(board[7],board[8],board[9]))\n",
        "    print(\"-----------\")\n",
        "    print(\"{} | {} | {}\".format(board[4],board[5],board[6]))\n",
        "    print(\"-----------\")\n",
        "    print(\"{} | {} | {}\".format(board[1],board[2],board[3]))\n",
        "\n",
        "available = [str(num) for num in range (0,10)]\n",
        "print(available)\n",
        "display_board(available)\n",
        "\n",
        "position_to_replace= int(input(\"Please choose between 1 and 9: \"))-1\n",
        "while True:\n",
        "  if position_to_replace<0 or position_to_replace>8:\n",
        "    print(\"Invalid Input\")\n",
        "    position_to_replace= int(input(\"Please choose between 1 and 9: \"))-1\n",
        "  else:\n",
        "    available[position_to_replace]=\"X\"\n",
        "    print(available)\n",
        "    break\n",
        "\n",
        "display_board(available)"
      ],
      "metadata": {
        "colab": {
          "base_uri": "https://localhost:8080/"
        },
        "id": "sqiU1l5Xopo1",
        "outputId": "46c66b3d-99b7-46ba-9094-bf8110c9cc2e"
      },
      "execution_count": 36,
      "outputs": [
        {
          "output_type": "stream",
          "name": "stdout",
          "text": [
            "['0', '1', '2', '3', '4', '5', '6', '7', '8', '9']\n",
            "7 | 8 | 9\n",
            "-----------\n",
            "4 | 5 | 6\n",
            "-----------\n",
            "1 | 2 | 3\n",
            "Please choose between 1 and 9: 4\n",
            "['0', '1', '2', 'X', '4', '5', '6', '7', '8', '9']\n",
            "7 | 8 | 9\n",
            "-----------\n",
            "4 | 5 | 6\n",
            "-----------\n",
            "1 | 2 | X\n"
          ]
        }
      ]
    },
    {
      "cell_type": "code",
      "source": [
        "# with proper comments\n",
        "# Function to display the Tic-Tac-Toe board\n",
        "def display_board(board):\n",
        "    # Print the top row with board positions 7, 8, and 9\n",
        "    print(\"{} | {} | {}\".format(board[7], board[8], board[9]))\n",
        "    print(\"-----------\")  # Print a separator line\n",
        "    # Print the middle row with board positions 4, 5, and 6\n",
        "    print(\"{} | {} | {}\".format(board[4], board[5], board[6]))\n",
        "    print(\"-----------\")  # Print a separator line\n",
        "    # Print the bottom row with board positions 1, 2, and 3\n",
        "    print(\"{} | {} | {}\".format(board[1], board[2], board[3]))\n",
        "\n",
        "# Create a list representing available board positions (initially numeric)\n",
        "available = [str(num) for num in range(0, 10)]\n",
        "print(available)  # Print the initial available positions list\n",
        "display_board(available)  # Display the initial empty Tic-Tac-Toe board\n",
        "\n",
        "# Get user input for the position to replace and convert to zero-based index\n",
        "position_to_replace = int(input(\"Please choose between 1 and 9: \")) - 1\n",
        "\n",
        "# Validate user input for the position to replace\n",
        "while True:\n",
        "    if position_to_replace < 0 or position_to_replace > 8:\n",
        "        print(\"Invalid Input\")\n",
        "        position_to_replace = int(input(\"Please choose between 1 and 9: \")) - 1\n",
        "    else:\n",
        "        # Replace the chosen position with \"X\"\n",
        "        available[position_to_replace] = \"X\"\n",
        "        print(available)  # Print the updated available positions list\n",
        "        break\n",
        "\n",
        "# Display the updated Tic-Tac-Toe board after the user's move\n",
        "display_board(available)\n"
      ],
      "metadata": {
        "colab": {
          "base_uri": "https://localhost:8080/"
        },
        "id": "BTZYvVAQsIoY",
        "outputId": "ce035e5c-cb24-43fe-ba31-927ec9b88b15"
      },
      "execution_count": 37,
      "outputs": [
        {
          "output_type": "stream",
          "name": "stdout",
          "text": [
            "['0', '1', '2', '3', '4', '5', '6', '7', '8', '9']\n",
            "7 | 8 | 9\n",
            "-----------\n",
            "4 | 5 | 6\n",
            "-----------\n",
            "1 | 2 | 3\n",
            "Please choose between 1 and 9: 4\n",
            "['0', '1', '2', 'X', '4', '5', '6', '7', '8', '9']\n",
            "7 | 8 | 9\n",
            "-----------\n",
            "4 | 5 | 6\n",
            "-----------\n",
            "1 | 2 | X\n"
          ]
        }
      ]
    },
    {
      "cell_type": "code",
      "source": [
        "# alternative method\n",
        "matrix = [7, 8, 9, 4, 5, 6, 1, 2, 3]\n",
        "user_num = int(input('Choice your number. '))\n",
        "index = matrix.index(user_num)\n",
        "matrix[index] = 'x'\n",
        "\n",
        "matrix_one = []\n",
        "matrix_two = []\n",
        "matrix_3 = []\n",
        "\n",
        "for i in matrix[:3]:\n",
        "  matrix_one.append(i)\n",
        "\n",
        "for i in matrix[3:6]:\n",
        "  matrix_two.append(i)\n",
        "\n",
        "for i in matrix[6:10]:\n",
        "  matrix_3.append(i)\n",
        "\n",
        "out_put = []\n",
        "for k in (matrix_one, matrix_two, matrix_3):\n",
        "\n",
        "    out_put.append(k)\n",
        "print(out_put)"
      ],
      "metadata": {
        "colab": {
          "base_uri": "https://localhost:8080/"
        },
        "id": "ZKM3TwtM17HU",
        "outputId": "880c8bdf-9bbd-48bf-b247-504fdd7cb795"
      },
      "execution_count": 38,
      "outputs": [
        {
          "output_type": "stream",
          "name": "stdout",
          "text": [
            "Choice your number. 5\n",
            "[[7, 8, 9], [4, 'x', 6], [1, 2, 3]]\n"
          ]
        }
      ]
    },
    {
      "cell_type": "code",
      "source": [
        "\n"
      ],
      "metadata": {
        "id": "HMhyUFpCsNQZ"
      },
      "execution_count": null,
      "outputs": []
    }
  ]
}