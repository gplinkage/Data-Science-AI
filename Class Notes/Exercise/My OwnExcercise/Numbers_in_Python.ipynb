{
  "nbformat": 4,
  "nbformat_minor": 0,
  "metadata": {
    "colab": {
      "provenance": [],
      "authorship_tag": "ABX9TyNdAcxHdAT2x3wlvApZesSO",
      "include_colab_link": true
    },
    "kernelspec": {
      "name": "python3",
      "display_name": "Python 3"
    },
    "language_info": {
      "name": "python"
    }
  },
  "cells": [
    {
      "cell_type": "markdown",
      "metadata": {
        "id": "view-in-github",
        "colab_type": "text"
      },
      "source": [
        "<a href=\"https://colab.research.google.com/github/gplinkage/DataScienceBootCamp/blob/main/Class%20Notes/Exercise/My%20OwnExcercise/Numbers_in_Python.ipynb\" target=\"_parent\"><img src=\"https://colab.research.google.com/assets/colab-badge.svg\" alt=\"Open In Colab\"/></a>"
      ]
    },
    {
      "cell_type": "code",
      "execution_count": 11,
      "metadata": {
        "colab": {
          "base_uri": "https://localhost:8080/"
        },
        "id": "jB3_dJ9ecLQF",
        "outputId": "21ac68f2-59ef-4378-f7f6-160e07c3fc86"
      },
      "outputs": [
        {
          "output_type": "execute_result",
          "data": {
            "text/plain": [
              "4489.599999999999"
            ]
          },
          "metadata": {},
          "execution_count": 11
        }
      ],
      "source": [
        "# You have a football field that is 92 meter long and 48.8 meter wide. Find out total area using python and print it.\n",
        "length = 92\n",
        "width = 48.8\n",
        "\n",
        "area = length * width\n",
        "area"
      ]
    },
    {
      "cell_type": "code",
      "source": [
        "# You bought 9 packets of potato chips from a store. Each packet costs 1.49 dollar and you gave shopkeeper 20 dollar. Find out using python, how many dollars is the shopkeeper going to give you back?\n",
        "\n",
        "chips_pac = 9\n",
        "cost_pac = 1.49\n",
        "\n",
        "total_cost = chips_pac * cost_pac\n",
        "\n",
        "paid = 20\n",
        "\n",
        "return1 = paid - total_cost\n",
        "\n",
        "print (\"The return is $\",return1)"
      ],
      "metadata": {
        "colab": {
          "base_uri": "https://localhost:8080/"
        },
        "id": "VptKcA-ucxh4",
        "outputId": "e481922a-550c-41b8-93b1-5747ff1e9d1e"
      },
      "execution_count": 6,
      "outputs": [
        {
          "output_type": "stream",
          "name": "stdout",
          "text": [
            "The return is $ 6.59\n"
          ]
        }
      ]
    },
    {
      "cell_type": "code",
      "source": [
        "# You want to replace tiles in your bathroom which is exactly square and 5.5 feet is its length. If tiles cost 500 rs per square feet, how much will be the total cost to replace all tiles. Calculate and print the cost using python (Hint: Use power operator ** to find area of a square)\n",
        "length = 5.5\n",
        "area = length**2\n",
        "unit_cost = 500\n",
        "\n",
        "total_cost = area * unit_cost\n",
        "\n",
        "print (\"The total cost of the tiles is $\",total_cost)"
      ],
      "metadata": {
        "colab": {
          "base_uri": "https://localhost:8080/"
        },
        "id": "AsuS7tende30",
        "outputId": "8597fb12-3bca-4964-d59c-c288cbf23465"
      },
      "execution_count": 8,
      "outputs": [
        {
          "output_type": "stream",
          "name": "stdout",
          "text": [
            "The total cost of the tiles is $ 15125.0\n"
          ]
        }
      ]
    },
    {
      "cell_type": "code",
      "source": [
        "#Print binary representation of number 17\n",
        "\n",
        "# Assign the value 17 to the variable 'num'\n",
        "num = 17\n",
        "\n",
        "# Print a message along with the binary representation of 'num'\n",
        "print(\"Binary representation of 17 is: \", format(num, 'b'))\n",
        "\n",
        "format (20, 'b')\n",
        "\n"
      ],
      "metadata": {
        "colab": {
          "base_uri": "https://localhost:8080/",
          "height": 73
        },
        "id": "Zcp0my1ueKC9",
        "outputId": "05b26039-d48a-4891-c68d-b1e6eab770f8"
      },
      "execution_count": 14,
      "outputs": [
        {
          "output_type": "stream",
          "name": "stdout",
          "text": [
            "Binary representation of 17 is:  10001\n"
          ]
        },
        {
          "output_type": "execute_result",
          "data": {
            "text/plain": [
              "'10100'"
            ],
            "application/vnd.google.colaboratory.intrinsic+json": {
              "type": "string"
            }
          },
          "metadata": {},
          "execution_count": 14
        }
      ]
    }
  ]
}