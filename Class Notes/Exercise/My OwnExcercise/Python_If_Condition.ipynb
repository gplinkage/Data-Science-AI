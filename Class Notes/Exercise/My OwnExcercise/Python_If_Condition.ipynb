{
  "nbformat": 4,
  "nbformat_minor": 0,
  "metadata": {
    "colab": {
      "provenance": [],
      "authorship_tag": "ABX9TyPBOXJYhUyE8bmK0TnhKk91",
      "include_colab_link": true
    },
    "kernelspec": {
      "name": "python3",
      "display_name": "Python 3"
    },
    "language_info": {
      "name": "python"
    }
  },
  "cells": [
    {
      "cell_type": "markdown",
      "metadata": {
        "id": "view-in-github",
        "colab_type": "text"
      },
      "source": [
        "<a href=\"https://colab.research.google.com/github/gplinkage/DataScienceBootCamp/blob/main/Class%20Notes/Exercise/My%20OwnExcercise/Python_If_Condition.ipynb\" target=\"_parent\"><img src=\"https://colab.research.google.com/assets/colab-badge.svg\" alt=\"Open In Colab\"/></a>"
      ]
    },
    {
      "cell_type": "markdown",
      "source": [
        "Using following list of cities per country,\n",
        "india = [\"mumbai\", \"banglore\", \"chennai\", \"delhi\"]\n",
        "pakistan = [\"lahore\",\"karachi\",\"islamabad\"]\n",
        "bangladesh = [\"dhaka\", \"khulna\", \"rangpur\"]\n",
        "\n",
        "1. Write a program that asks user to enter a city name and it should tell which country the city belongs to\n",
        "2. Write a program that asks user to enter two cities and it tells you if they both are in same country or not. For example if I enter mumbai and chennai, it will print \"Both cities are in India\" but if I enter mumbai and dhaka it should print \"They don't belong to same country\""
      ],
      "metadata": {
        "id": "nAepSqHCNUE6"
      }
    },
    {
      "cell_type": "code",
      "source": [
        "india = [\"mumbai\", \"banglore\", \"chennai\", \"delhi\"]\n",
        "pakistan = [\"lahore\",\"karachi\",\"islamabad\"]\n",
        "bangladesh = [\"dhaka\", \"khulna\", \"rangpur\"]\n",
        "#1\n",
        "city = input(\"Please enter a city name: \").lower()\n",
        "\n",
        "if city in india:\n",
        "  print(\"The \", city, \" belongs to India\")\n",
        "elif city in pakistan:\n",
        "  print(\"The \", city, \" belongs to Pakistan\")\n",
        "elif city in bangladesh:\n",
        "  print(\"The \", city, \" belongs to Bangladesh\")\n",
        "else:\n",
        "  print(\"Invalid city entered\")\n",
        "\n"
      ],
      "metadata": {
        "colab": {
          "base_uri": "https://localhost:8080/"
        },
        "id": "tM_rOZD7Ne8r",
        "outputId": "ff73b25f-775e-4dd0-c5b7-64a938c6ba45"
      },
      "execution_count": 2,
      "outputs": [
        {
          "output_type": "stream",
          "name": "stdout",
          "text": [
            "Please enter a city name: mumbai\n",
            "The  mumbai  belongs to India\n"
          ]
        }
      ]
    },
    {
      "cell_type": "code",
      "source": [
        "#2\n",
        "india = [\"mumbai\", \"banglore\", \"chennai\", \"delhi\"]\n",
        "pakistan = [\"lahore\",\"karachi\",\"islamabad\"]\n",
        "bangladesh = [\"dhaka\", \"khulna\", \"rangpur\"]\n",
        "\n",
        "city1=input(\"Please enter first city name: \").lower()\n",
        "city2=input(\"Please enter second city name: \").lower()\n",
        "\n",
        "if city1 in india and city2 in india:\n",
        "  print(\"Both cities are in India\")\n",
        "elif city1 in pakistan and city2 in pakistan:\n",
        "    print(\"Both cities are in Pakistan\")\n",
        "elif city1 in bangladesh and city2 in bangladesh:\n",
        "    print(\"Both cities are in Bangladesh\")\n",
        "else:\n",
        "  print(\"They don't belong to same country\")\n"
      ],
      "metadata": {
        "colab": {
          "base_uri": "https://localhost:8080/"
        },
        "id": "amAgEnmMQOSd",
        "outputId": "b3aad739-0f64-4311-f192-47a0c3746ac3"
      },
      "execution_count": 6,
      "outputs": [
        {
          "output_type": "stream",
          "name": "stdout",
          "text": [
            "Please enter first city name: mumbai\n",
            "Please enter second city name: dhaka\n",
            "They don't belong to same country\n"
          ]
        }
      ]
    },
    {
      "cell_type": "markdown",
      "source": [
        "Write a python program that can tell you if your sugar is normal or not. Normal fasting level sugar range is 80 to 100.\n",
        "1. Ask user to enter his fasting sugar level\n",
        "2. If it is below 80 to 100 range then print that sugar is low\n",
        "3. If it is above 100 then print that it is high otherwise print that it is normal"
      ],
      "metadata": {
        "id": "RXbMuEBARhrM"
      }
    },
    {
      "cell_type": "code",
      "source": [
        "#1\n",
        "s_level = float(input(\"Enter your fasting sugar level: \"))\n",
        "\n",
        "if s_level < 80:\n",
        "  print(\"Your sugar level is low \")\n",
        "elif s_level > 100:\n",
        "  print(\"Your sugar level is high \")\n",
        "\n",
        "else:\n",
        "  print(\"Your sugar level is normal \")\n"
      ],
      "metadata": {
        "colab": {
          "base_uri": "https://localhost:8080/"
        },
        "id": "Tv0pGRpnRvHz",
        "outputId": "995a3709-4c16-4951-8e16-c4e1d9ba9d1a"
      },
      "execution_count": 18,
      "outputs": [
        {
          "output_type": "stream",
          "name": "stdout",
          "text": [
            "Enter your fasting sugar level: 76.4\n",
            "Your sugar level is low \n"
          ]
        }
      ]
    }
  ]
}