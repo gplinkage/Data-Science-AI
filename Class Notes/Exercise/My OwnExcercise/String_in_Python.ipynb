{
  "nbformat": 4,
  "nbformat_minor": 0,
  "metadata": {
    "colab": {
      "provenance": [],
      "authorship_tag": "ABX9TyMh7h5dE3wkCJY98IFc0eJC",
      "include_colab_link": true
    },
    "kernelspec": {
      "name": "python3",
      "display_name": "Python 3"
    },
    "language_info": {
      "name": "python"
    }
  },
  "cells": [
    {
      "cell_type": "markdown",
      "metadata": {
        "id": "view-in-github",
        "colab_type": "text"
      },
      "source": [
        "<a href=\"https://colab.research.google.com/github/gplinkage/DataScienceBootCamp/blob/main/Class%20Notes/Exercise/My%20OwnExcercise/String_in_Python.ipynb\" target=\"_parent\"><img src=\"https://colab.research.google.com/assets/colab-badge.svg\" alt=\"Open In Colab\"/></a>"
      ]
    },
    {
      "cell_type": "markdown",
      "source": [
        "#Create 3 variables to store street, city and country, now create address variable to store entire address. Use two ways of creating this variable, one using + operator and the other using f-string. Now Print the address in such a way that the street, city and country prints in a separate line\n"
      ],
      "metadata": {
        "id": "Th2FM76dxHAI"
      }
    },
    {
      "cell_type": "code",
      "execution_count": 19,
      "metadata": {
        "colab": {
          "base_uri": "https://localhost:8080/"
        },
        "id": "E1bvu2jfgRQL",
        "outputId": "42d02959-0a44-4a6e-fabf-ffac67096c6b"
      },
      "outputs": [
        {
          "output_type": "stream",
          "name": "stdout",
          "text": [
            "Address using + operator: \n",
            "Right street\n",
            "Madison\n",
            "USA\n",
            "=============\n",
            "Address using f-string: \n",
            "Right street\n",
            "Madison\n",
            "USA\n"
          ]
        }
      ],
      "source": [
        "street= 'Right street'\n",
        "city = 'Madison'\n",
        "country = 'USA'\n",
        "\n",
        "address = \"\\n\"+ street + \"\\n\" + city + \"\\n\" + country\n",
        "print ('Address using + operator:', address)\n",
        "\n",
        "print('=============')\n",
        "\n",
        "address= f'\\n{street}\\n{city}\\n{country}'\n",
        "\n",
        "print('Address using f-string:', address)"
      ]
    },
    {
      "cell_type": "code",
      "source": [
        "street = str(input('Street: ')).title()\n",
        "city = str(input('City: ')).title()\n",
        "country = str(input('Country: ')).title()\n",
        "\n",
        "address = f'\\n{street}\\n{city}\\n{country}'\n",
        "\n",
        "print('Address:', address)"
      ],
      "metadata": {
        "colab": {
          "base_uri": "https://localhost:8080/"
        },
        "id": "q8m0l1-2zQFA",
        "outputId": "4da54f0a-ad88-43b9-c491-43c867db5e7a"
      },
      "execution_count": 21,
      "outputs": [
        {
          "output_type": "stream",
          "name": "stdout",
          "text": [
            "Street: 1 main street\n",
            "City: vancouver \n",
            "Country: canada\n",
            "Address: \n",
            "1 Main Street\n",
            "Vancouver \n",
            "Canada\n"
          ]
        }
      ]
    },
    {
      "cell_type": "code",
      "source": [],
      "metadata": {
        "id": "M9jckFbp1iDb"
      },
      "execution_count": null,
      "outputs": []
    },
    {
      "cell_type": "markdown",
      "source": [
        "Create a variable to store the string \"Earth revolves around the sun\"\n",
        "Print \"revolves\" using slice operator\n",
        "Print \"sun\" using negative index"
      ],
      "metadata": {
        "id": "ooGIaHuB1ieR"
      }
    },
    {
      "cell_type": "code",
      "source": [
        "a= \"Earth revolves around the sun\"\n",
        "\n",
        "for index,values in enumerate(a):\n",
        "  print ('Index:', index, 'values:', values)\n",
        "\n",
        "b= a[6:14:1]\n",
        "print(b)\n",
        "\n",
        "print(a[-3:29:1]) # also a([-3::])\n",
        "\n",
        "# experimenting negative indexing\n",
        "print(a[28:25:-1])"
      ],
      "metadata": {
        "colab": {
          "base_uri": "https://localhost:8080/"
        },
        "id": "m6Pft2P21lGY",
        "outputId": "f800c1e0-854f-4224-e0cd-eec4110d93cc"
      },
      "execution_count": 33,
      "outputs": [
        {
          "output_type": "stream",
          "name": "stdout",
          "text": [
            "Index: 0 values: E\n",
            "Index: 1 values: a\n",
            "Index: 2 values: r\n",
            "Index: 3 values: t\n",
            "Index: 4 values: h\n",
            "Index: 5 values:  \n",
            "Index: 6 values: r\n",
            "Index: 7 values: e\n",
            "Index: 8 values: v\n",
            "Index: 9 values: o\n",
            "Index: 10 values: l\n",
            "Index: 11 values: v\n",
            "Index: 12 values: e\n",
            "Index: 13 values: s\n",
            "Index: 14 values:  \n",
            "Index: 15 values: a\n",
            "Index: 16 values: r\n",
            "Index: 17 values: o\n",
            "Index: 18 values: u\n",
            "Index: 19 values: n\n",
            "Index: 20 values: d\n",
            "Index: 21 values:  \n",
            "Index: 22 values: t\n",
            "Index: 23 values: h\n",
            "Index: 24 values: e\n",
            "Index: 25 values:  \n",
            "Index: 26 values: s\n",
            "Index: 27 values: u\n",
            "Index: 28 values: n\n",
            "revolves\n",
            "sun\n",
            "nus\n"
          ]
        }
      ]
    },
    {
      "cell_type": "markdown",
      "source": [
        "Create two variables to store how many fruits and vegetables you eat in a day. Now Print \"I eat x veggies and y fruits daily\" where x and y presents vegetables and fruits that you eat everyday. Use python f string for this."
      ],
      "metadata": {
        "id": "pIxiPJHv3dA8"
      }
    },
    {
      "cell_type": "code",
      "source": [
        "x= int(input(\"Enter number of fruits/day: \"))\n",
        "y= int(input(\"Enter number of vegetables/day: \"))\n",
        "\n",
        "print(f'I eat {x} fruits and {y} vegetatbles every day.')"
      ],
      "metadata": {
        "colab": {
          "base_uri": "https://localhost:8080/"
        },
        "id": "--9nSNcU3Yv8",
        "outputId": "8bf14caa-f33f-4c67-e357-69c3d824552d"
      },
      "execution_count": 36,
      "outputs": [
        {
          "output_type": "stream",
          "name": "stdout",
          "text": [
            "Enter number of fruits/day: 3\n",
            "Enter number of vegetables/day: 5\n",
            "I eat 3 fruits and 5 vegetatbles every day\n"
          ]
        }
      ]
    },
    {
      "cell_type": "markdown",
      "source": [
        "I have a string variable called s='maine 200 banana khaye'. This of course is a wrong statement, the correct statement is 'maine 10 samosa khaye'. Replace incorrect words in original strong with new ones and print the new string. Also try to do this in one line."
      ],
      "metadata": {
        "id": "tzVvwkqK4YRt"
      }
    },
    {
      "cell_type": "code",
      "source": [
        "s='maine 200 banana khaye'\n",
        "y = s.replace('banana', 'samosa')\n",
        "y= s.replace('200', '10')\n",
        "print (y)\n",
        "\n",
        "#In a single line\n",
        "print (s.replace('banana', 'samosa').replace('200', '10'))"
      ],
      "metadata": {
        "colab": {
          "base_uri": "https://localhost:8080/"
        },
        "id": "C-15dGM74cBC",
        "outputId": "a6006c63-5557-4913-a591-dd801c1ba439"
      },
      "execution_count": 46,
      "outputs": [
        {
          "output_type": "stream",
          "name": "stdout",
          "text": [
            "maine 10 banana khaye\n",
            "maine 10 samosa khaye\n"
          ]
        }
      ]
    }
  ]
}