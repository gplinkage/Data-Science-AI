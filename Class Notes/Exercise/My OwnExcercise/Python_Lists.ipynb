{
  "nbformat": 4,
  "nbformat_minor": 0,
  "metadata": {
    "colab": {
      "provenance": [],
      "authorship_tag": "ABX9TyNKUG0OvvikqD7ULtJ6KZii",
      "include_colab_link": true
    },
    "kernelspec": {
      "name": "python3",
      "display_name": "Python 3"
    },
    "language_info": {
      "name": "python"
    }
  },
  "cells": [
    {
      "cell_type": "markdown",
      "metadata": {
        "id": "view-in-github",
        "colab_type": "text"
      },
      "source": [
        "<a href=\"https://colab.research.google.com/github/gplinkage/DataScienceBootCamp/blob/main/Class%20Notes/Exercise/My%20OwnExcercise/Python_Lists.ipynb\" target=\"_parent\"><img src=\"https://colab.research.google.com/assets/colab-badge.svg\" alt=\"Open In Colab\"/></a>"
      ]
    },
    {
      "cell_type": "markdown",
      "source": [
        "Let us say your expense for every month are listed below,\n",
        "\n",
        "\n",
        "January - 2200\n",
        "February - 2350\n",
        "March - 2600\n",
        "April - 2130\n",
        "May - 2190\n",
        "\n",
        "Create a list to store these monthly expenses and using that find out,"
      ],
      "metadata": {
        "id": "g-pnntGW6I34"
      }
    },
    {
      "cell_type": "markdown",
      "source": [
        "1. In Feb, how many dollars you spent extra compare to January?\n",
        "2. Find out your total expense in first quarter (first three months) of the year.\n",
        "3. Find out if you spent exactly 2000 dollars in any month\n",
        "4. June month just finished and your expense is 1980 dollar. Add this item to our monthly expense list\n",
        "5. You returned an item that you bought in a month of April and\n",
        "got a refund of 200$. Make a correction to your monthly expense list\n",
        "based on this"
      ],
      "metadata": {
        "id": "Fi-j5vDR6M-G"
      }
    },
    {
      "cell_type": "code",
      "source": [
        "\n",
        "lst1=[2200, 2300, 2600, 2130, 2190]\n",
        "\n",
        "#1\n",
        "print('Extra expenses in Feb:', lst1[1]- lst1[0])\n",
        "\n",
        "#2\n",
        "print(\"Total expenses Jan-Mar:\", lst1[0]+ lst1[1]+lst1[2])\n",
        "\n",
        "#3\n",
        "for items in lst1:\n",
        "  if items==2000:\n",
        "    print('Yes, exactly $2000 was spent during at leat a month')\n",
        "  else:\n",
        "    print('No, exactly $2000 was not spent at any months')\n",
        "  break\n",
        "#4\n",
        "lst1.insert(5,1980)\n",
        "print(lst1)\n",
        "\n",
        "#5\n",
        "exp_april = lst1[3]-200\n",
        "lst1.insert(3,exp_april)\n",
        "lst1.pop(4)\n",
        "lst1"
      ],
      "metadata": {
        "colab": {
          "base_uri": "https://localhost:8080/"
        },
        "id": "nLTCey2c6RHH",
        "outputId": "dc916dcb-dbfc-4a88-c7b6-725617f301da"
      },
      "execution_count": 31,
      "outputs": [
        {
          "output_type": "stream",
          "name": "stdout",
          "text": [
            "Extra expenses in Feb: 100\n",
            "Total expenses Jan-Mar: 7100\n",
            "No, exactly $2000 was not spent at any months\n",
            "[2200, 2300, 2600, 2130, 2190, 1980]\n"
          ]
        },
        {
          "output_type": "execute_result",
          "data": {
            "text/plain": [
              "[2200, 2300, 2600, 1930, 2190, 1980]"
            ]
          },
          "metadata": {},
          "execution_count": 31
        }
      ]
    },
    {
      "cell_type": "markdown",
      "source": [
        "You have a list of your favourite marvel super heros.\n",
        "Using this find out,\n",
        "1. Length of the list\n",
        "2. Add 'black panther' at the end of this list\n",
        "3. You realize that you need to add 'black panther' after 'hulk',\n",
        "   so remove it from the list first and then add it after 'hulk'\n",
        "4. Now you don't like thor and hulk because they get angry easily :)\n",
        "   So you want to remove thor and hulk from list and replace them with doctor strange (because he is cool).\n",
        "   Do that with one line of code.\n",
        "5. Sort the heros list in alphabetical order (Hint. Use dir() functions to list down all functions available in list)\n"
      ],
      "metadata": {
        "id": "gdypDUt5Aj08"
      }
    },
    {
      "cell_type": "code",
      "source": [
        "super_heros=['Spider Man', 'Captain America', 'Iron Man', 'Thor', 'the Hulk', 'Ant Man', 'the Wasp']\n",
        "#1\n",
        "print(len(super_heros))\n",
        "\n",
        "#2\n",
        "super_heros.append('Black Panther')\n",
        "print(super_heros)\n",
        "\n",
        "#3\n",
        "super_heros.remove('Black Panther')\n",
        "super_heros.insert(5, 'Black Panther')\n",
        "print(super_heros)\n",
        "\n",
        "#4\n",
        "super_heros[3:4] = ['Doctor Strange']\n",
        "print('Codes in a single line:', super_heros)\n",
        "#5\n",
        "super_heros.sort()\n",
        "print(\"Sorted list: \",super_heros)"
      ],
      "metadata": {
        "colab": {
          "base_uri": "https://localhost:8080/"
        },
        "id": "z_ohAXMbAu-x",
        "outputId": "68c9a995-ee78-4b7e-e78d-e54951239b86"
      },
      "execution_count": 66,
      "outputs": [
        {
          "output_type": "stream",
          "name": "stdout",
          "text": [
            "7\n",
            "['Spider Man', 'Captain America', 'Iron Man', 'Thor', 'the Hulk', 'Ant Man', 'the Wasp', 'Black Panther']\n",
            "['Spider Man', 'Captain America', 'Iron Man', 'Thor', 'the Hulk', 'Black Panther', 'Ant Man', 'the Wasp']\n",
            "Codes in a single line: ['Spider Man', 'Captain America', 'Iron Man', 'Doctor Strange', 'the Hulk', 'Black Panther', 'Ant Man', 'the Wasp']\n",
            "Sorted list:  ['Ant Man', 'Black Panther', 'Captain America', 'Doctor Strange', 'Iron Man', 'Spider Man', 'the Hulk', 'the Wasp']\n"
          ]
        }
      ]
    },
    {
      "cell_type": "code",
      "source": [
        "dir(list)"
      ],
      "metadata": {
        "colab": {
          "base_uri": "https://localhost:8080/"
        },
        "id": "WL7sA8XaEgM9",
        "outputId": "e412f6c6-5b65-4fa8-ab1b-d54b068f469f"
      },
      "execution_count": 51,
      "outputs": [
        {
          "output_type": "execute_result",
          "data": {
            "text/plain": [
              "['__add__',\n",
              " '__class__',\n",
              " '__class_getitem__',\n",
              " '__contains__',\n",
              " '__delattr__',\n",
              " '__delitem__',\n",
              " '__dir__',\n",
              " '__doc__',\n",
              " '__eq__',\n",
              " '__format__',\n",
              " '__ge__',\n",
              " '__getattribute__',\n",
              " '__getitem__',\n",
              " '__gt__',\n",
              " '__hash__',\n",
              " '__iadd__',\n",
              " '__imul__',\n",
              " '__init__',\n",
              " '__init_subclass__',\n",
              " '__iter__',\n",
              " '__le__',\n",
              " '__len__',\n",
              " '__lt__',\n",
              " '__mul__',\n",
              " '__ne__',\n",
              " '__new__',\n",
              " '__reduce__',\n",
              " '__reduce_ex__',\n",
              " '__repr__',\n",
              " '__reversed__',\n",
              " '__rmul__',\n",
              " '__setattr__',\n",
              " '__setitem__',\n",
              " '__sizeof__',\n",
              " '__str__',\n",
              " '__subclasshook__',\n",
              " 'append',\n",
              " 'clear',\n",
              " 'copy',\n",
              " 'count',\n",
              " 'extend',\n",
              " 'index',\n",
              " 'insert',\n",
              " 'pop',\n",
              " 'remove',\n",
              " 'reverse',\n",
              " 'sort']"
            ]
          },
          "metadata": {},
          "execution_count": 51
        }
      ]
    }
  ]
}