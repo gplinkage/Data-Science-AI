{
  "nbformat": 4,
  "nbformat_minor": 0,
  "metadata": {
    "colab": {
      "provenance": [],
      "authorship_tag": "ABX9TyOiBhAPslVlPxL5I+/GmX2B",
      "include_colab_link": true
    },
    "kernelspec": {
      "name": "python3",
      "display_name": "Python 3"
    },
    "language_info": {
      "name": "python"
    }
  },
  "cells": [
    {
      "cell_type": "markdown",
      "metadata": {
        "id": "view-in-github",
        "colab_type": "text"
      },
      "source": [
        "<a href=\"https://colab.research.google.com/github/gplinkage/DataScienceBootCamp/blob/main/Class%20Notes/Exercise/My%20OwnExcercise/Variable_excercise.ipynb\" target=\"_parent\"><img src=\"https://colab.research.google.com/assets/colab-badge.svg\" alt=\"Open In Colab\"/></a>"
      ]
    },
    {
      "cell_type": "code",
      "execution_count": 1,
      "metadata": {
        "colab": {
          "base_uri": "https://localhost:8080/",
          "height": 163
        },
        "id": "_FR7KA0XNu6J",
        "outputId": "da40a67d-f3c0-4988-d1ab-4defc5a3ea7c"
      },
      "outputs": [
        {
          "output_type": "error",
          "ename": "SyntaxError",
          "evalue": "ignored",
          "traceback": [
            "\u001b[0;36m  File \u001b[0;32m\"<ipython-input-1-bf3669a26be0>\"\u001b[0;36m, line \u001b[0;32m2\u001b[0m\n\u001b[0;31m    break = 5\u001b[0m\n\u001b[0m          ^\u001b[0m\n\u001b[0;31mSyntaxError\u001b[0m\u001b[0;31m:\u001b[0m invalid syntax\n"
          ]
        }
      ],
      "source": [
        "#1. Create a variable called break and assign it a value 5. See what happens and find out the reason behind the behavior that you see.\n",
        "break = 5"
      ]
    },
    {
      "cell_type": "code",
      "source": [
        "from typing import AsyncGenerator\n",
        "#2.Create two variables. One to store your birth year and another one to store current year. Now calculate your age using these two variables\n",
        "birth_year = 1988\n",
        "current_year=2023\n",
        "\n",
        "age = current_year - birth_year\n",
        "\n",
        "age\n"
      ],
      "metadata": {
        "colab": {
          "base_uri": "https://localhost:8080/"
        },
        "id": "C7g8C1LWVRz7",
        "outputId": "85afda44-83b9-488c-b6e3-a490ee860117"
      },
      "execution_count": 14,
      "outputs": [
        {
          "output_type": "execute_result",
          "data": {
            "text/plain": [
              "35"
            ]
          },
          "metadata": {},
          "execution_count": 14
        }
      ]
    },
    {
      "cell_type": "code",
      "source": [
        "#3. Store your first, middle and last name in three different variables and then print your full name using these variables\n",
        "fname= 'Gov'\n",
        "mname = \"Prsd\"\n",
        "lname = \"Poudel\"\n",
        "\n",
        "print(\"My full name is: \",fname, mname, lname)"
      ],
      "metadata": {
        "colab": {
          "base_uri": "https://localhost:8080/"
        },
        "id": "W3VLCW58VvvM",
        "outputId": "6b05f607-8412-45c7-fd77-77dc5b4e90b9"
      },
      "execution_count": 15,
      "outputs": [
        {
          "output_type": "stream",
          "name": "stdout",
          "text": [
            "My full name is:  Gov Prsd Poudel\n"
          ]
        }
      ]
    },
    {
      "cell_type": "code",
      "source": [
        "#4. Answer which of these are invalid variable names: _nation 1record record1 record_one record-one record^one continue\n",
        "\n",
        "# 1record, record-one, record^one, continue"
      ],
      "metadata": {
        "id": "5hPyMNwpWQRT"
      },
      "execution_count": null,
      "outputs": []
    }
  ]
}