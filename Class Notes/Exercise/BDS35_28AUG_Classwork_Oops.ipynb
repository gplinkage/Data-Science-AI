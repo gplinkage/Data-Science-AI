{
  "nbformat": 4,
  "nbformat_minor": 0,
  "metadata": {
    "colab": {
      "provenance": [],
      "authorship_tag": "ABX9TyN06p+rLVVlryWz+g5exKKx",
      "include_colab_link": true
    },
    "kernelspec": {
      "name": "python3",
      "display_name": "Python 3"
    },
    "language_info": {
      "name": "python"
    }
  },
  "cells": [
    {
      "cell_type": "markdown",
      "metadata": {
        "id": "view-in-github",
        "colab_type": "text"
      },
      "source": [
        "<a href=\"https://colab.research.google.com/github/gplinkage/DataScienceBootCamp/blob/main/Class%20Notes/Exercise/BDS35_28AUG_Classwork_Oops.ipynb\" target=\"_parent\"><img src=\"https://colab.research.google.com/assets/colab-badge.svg\" alt=\"Open In Colab\"/></a>"
      ]
    },
    {
      "cell_type": "code",
      "execution_count": 1,
      "metadata": {
        "id": "42hU9yBBIf_C"
      },
      "outputs": [],
      "source": [
        "#Bank Account: Create a BankAccount class with methods to deposit, withdraw, and get the current balance. Ensure that the balance can't go negative."
      ]
    },
    {
      "cell_type": "code",
      "source": [
        "class BankAcount:\n",
        "  def __init__(self, initial_balance =0):\n",
        "    self.balance = initial_balance\n",
        "\n",
        "  def deposit(self, amount):\n",
        "    if amount>0:\n",
        "      self.balance +=amount\n",
        "      print(f\"Deposit amount is ${amount}. The current balance is ${self.balance}\")\n",
        "    else:\n",
        "      print (\"Invalid deposit amount.Please enter value greater than\")\n",
        "\n",
        "  def withdraw(self, amount):\n",
        "    if amount>0:\n",
        "      if self.balance >=amount:\n",
        "        self.balance -= amount\n",
        "        print(f\"Withdraw amount is ${amount}. The current balance is ${self.balance}\")\n",
        "      else:\n",
        "        print(\"Insufficient funds.\")\n",
        "    else:\n",
        "      print (\"Invalid withdral amount.\")\n",
        "\n",
        "  def get_balance(self):\n",
        "      print(\"Current balance: \",self.balanceb\n",
        "\n",
        "account = BankAccount(initial_balance=200)\n",
        "print(\"Current balance:\", account.get_balance())\n",
        "\n",
        "account.deposit(50)\n",
        "account.withdraw(50)\n",
        "# account.withdraw(500)\n",
        "\n",
        "print(\"Current balance: \", account.get_balance())\n"
      ],
      "metadata": {
        "colab": {
          "base_uri": "https://localhost:8080/"
        },
        "id": "EwicO3hxIq5z",
        "outputId": "aa9f85b7-203c-4317-fc95-20c9208773a1"
      },
      "execution_count": 14,
      "outputs": [
        {
          "output_type": "stream",
          "name": "stdout",
          "text": [
            "Current balance: 200\n",
            "Deposited $50. Current balance: $250\n",
            "Withdrew $50. Current balance: $200\n",
            "Current balance:  200\n"
          ]
        }
      ]
    },
    {
      "cell_type": "code",
      "source": [
        "class BankAccount:\n",
        "  def __init__(self,balance=0):\n",
        "    self.balance=balance\n",
        "\n",
        "  def deposit(self,amount):\n",
        "    if amount>0:\n",
        "      print(\"Deposit Successful\")\n",
        "      self.balance=self.balance+amount\n",
        "      print(\"Your Current Balance is \",self.balance)\n",
        "    else:\n",
        "      print(\"Invalid Amount please enter value greater than 0\")\n",
        "      print(\"Your Current Balance is \",self.balance)\n",
        "\n",
        "  def withdraw(self,amount):\n",
        "    if self.balance>=amount:\n",
        "      self.balance=self.balance-amount\n",
        "      print(\"Withdraw Successful\")\n",
        "      print(\"Your Current Balance is \",self.balance)\n",
        "    else:\n",
        "      print(\"Can not withdraw more than current balance\")\n",
        "      print(\"Your Current Balance is \",self.balance)\n",
        "\n",
        "  def get_current_balance(self):\n",
        "    print(\"Your Current Balance is \",self.balance)\n"
      ],
      "metadata": {
        "id": "NBi9GawCQvai"
      },
      "execution_count": 15,
      "outputs": []
    },
    {
      "cell_type": "code",
      "source": [
        "bankaccout=BankAccount(1000)\n",
        "bankaccout.deposit(7000)\n",
        "bankaccout.withdraw(8000)\n",
        "bankaccout.get_current_balance()\n"
      ],
      "metadata": {
        "colab": {
          "base_uri": "https://localhost:8080/"
        },
        "id": "bjax4GgIMM2K",
        "outputId": "ee8e8de5-778e-430a-e484-79201eff2bb5"
      },
      "execution_count": 16,
      "outputs": [
        {
          "output_type": "stream",
          "name": "stdout",
          "text": [
            "Deposit Successful\n",
            "Your Current Balance is  8000\n",
            "Withdraw Successful\n",
            "Your Current Balance is  0\n",
            "Your Current Balance is  0\n"
          ]
        }
      ]
    },
    {
      "cell_type": "markdown",
      "source": [
        "# Library Catalog: Implement a Library class with methods to add books, lend books, and return books. Keep track of available and borrowed books."
      ],
      "metadata": {
        "id": "3fbOVhChRHB7"
      }
    },
    {
      "cell_type": "code",
      "source": [
        "#my attempt\n",
        "class Library:\n",
        "  def __init__(self, books=0):\n",
        "    self.nof_books = books\n",
        "    print(\"Total books available: \",self.nof_books)\n",
        "\n",
        "  def add(self,number):\n",
        "    if number>0:\n",
        "      print(number,\"book/s added\")\n",
        "      self.nof_books=self.nof_books+number\n",
        "      print(\"Total books available: \",self.nof_books)\n",
        "    else:\n",
        "      print(\"Invalid number please enter value greater than 0\")\n",
        "      print(\"Current number of books are \",self.nof_books)\n",
        "\n",
        "  def lend(self,number):\n",
        "    if self.nof_books>=number:\n",
        "      self.nof_books=self.nof_books-number\n",
        "      print(number,\"book/s lended\")\n",
        "      print(\"Total books available: \",self.nof_books)\n",
        "    else:\n",
        "      print(\"No more than available books could be lended\")\n",
        "      print(\"Total books available: \",self.nof_books)\n",
        "\n",
        "  def get_nof_books(self):\n",
        "      print(\"Total books available are: \",self.nof_books)\n"
      ],
      "metadata": {
        "id": "tYcKb5PAQ-7M"
      },
      "execution_count": 51,
      "outputs": []
    },
    {
      "cell_type": "code",
      "source": [
        "book1=Library(10)\n",
        "book1.add(1)\n",
        "book1.lend(2)\n",
        "book1.get_nof_books()"
      ],
      "metadata": {
        "colab": {
          "base_uri": "https://localhost:8080/"
        },
        "id": "sRWaHwLkTZfn",
        "outputId": "be2171b1-b2f8-412e-cd46-a578460c75c6"
      },
      "execution_count": 52,
      "outputs": [
        {
          "output_type": "stream",
          "name": "stdout",
          "text": [
            "Total books available:  10\n",
            "1 book/s added\n",
            "Total books available:  11\n",
            "2 book/s lended\n",
            "Total books available:  9\n",
            "Total books available are:  9\n"
          ]
        }
      ]
    },
    {
      "cell_type": "code",
      "source": [
        "# alternative maybe?\n",
        "class Library:\n",
        "    def __init__(self, books=None):\n",
        "        try:\n",
        "            if not isinstance(books, list):\n",
        "                self.books = []\n",
        "                print(\"Books should be a list initializing with an empty catalog\")\n",
        "            else:\n",
        "                self.books = books.copy()\n",
        "        except:\n",
        "            self.books = []\n",
        "        print(self.books)\n",
        "\n",
        "# Example usage\n",
        "library = Library(['a', 'b'])\n"
      ],
      "metadata": {
        "id": "uCI2Ab2lW4HM"
      },
      "execution_count": null,
      "outputs": []
    },
    {
      "cell_type": "code",
      "source": [
        "# Rohit's solution\n",
        "\n",
        "class Library:\n",
        "  def __init__(self,books=[]):\n",
        "    if type(books) ==list:\n",
        "      if len(books)>0:\n",
        "        self.books=[]+list(books)\n",
        "      else:\n",
        "        self.books=[]\n",
        "    else:\n",
        "      self.books=[]\n",
        "\n",
        "  def add_books(self,bookname):\n",
        "    self.books.append(str(bookname))\n",
        "\n",
        "  def lend_books(self,bookname):\n",
        "    try:\n",
        "      index=self.books.index(bookname)\n",
        "      self.books.pop(index)\n",
        "      print(\"Here we Found your book\")\n",
        "    except:\n",
        "      print(\"No Such Book in library catalog Please check available books\")\n",
        "\n",
        "  def return_book(self,bookname):\n",
        "    self.add_books(bookname)\n",
        "\n",
        "  def available_books(self):\n",
        "    print(\"Available books are\")\n",
        "    for k in  self.books:\n",
        "      print(k)"
      ],
      "metadata": {
        "id": "kryJhd2VdK8D"
      },
      "execution_count": 54,
      "outputs": []
    },
    {
      "cell_type": "code",
      "source": [
        "library=Library(['harry potter','Lord of rings'])\n",
        "library.available_books()\n",
        "library.add_books('harry potter 2')\n",
        "library.add_books('harry potter 3')\n",
        "library.add_books('harry potter 4')\n",
        "library.available_books()\n",
        "library.lend_books(\"harry potter\")\n",
        "library.available_books()\n",
        "library.return_book(\"harry potter\")\n",
        "library.available_books()"
      ],
      "metadata": {
        "colab": {
          "base_uri": "https://localhost:8080/"
        },
        "id": "crQCnkw-fSmP",
        "outputId": "1c671443-a88f-4237-9e41-ce87611ffd49"
      },
      "execution_count": 55,
      "outputs": [
        {
          "output_type": "stream",
          "name": "stdout",
          "text": [
            "Available books are\n",
            "harry potter\n",
            "Lord of rings\n",
            "Available books are\n",
            "harry potter\n",
            "Lord of rings\n",
            "harry potter 2\n",
            "harry potter 3\n",
            "harry potter 4\n",
            "Here we Found your book\n",
            "Available books are\n",
            "Lord of rings\n",
            "harry potter 2\n",
            "harry potter 3\n",
            "harry potter 4\n",
            "Available books are\n",
            "Lord of rings\n",
            "harry potter 2\n",
            "harry potter 3\n",
            "harry potter 4\n",
            "harry potter\n"
          ]
        }
      ]
    }
  ]
}