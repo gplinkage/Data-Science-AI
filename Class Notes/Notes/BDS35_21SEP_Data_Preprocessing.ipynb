{
  "nbformat": 4,
  "nbformat_minor": 0,
  "metadata": {
    "colab": {
      "provenance": [],
      "authorship_tag": "ABX9TyM8A7q9w+mCe9oDHQwkcw58",
      "include_colab_link": true
    },
    "kernelspec": {
      "name": "python3",
      "display_name": "Python 3"
    },
    "language_info": {
      "name": "python"
    }
  },
  "cells": [
    {
      "cell_type": "markdown",
      "metadata": {
        "id": "view-in-github",
        "colab_type": "text"
      },
      "source": [
        "<a href=\"https://colab.research.google.com/github/gplinkage/DataScienceBootCamp/blob/main/Class%20Notes/Notes/BDS35_21SEP_Data_Preprocessing.ipynb\" target=\"_parent\"><img src=\"https://colab.research.google.com/assets/colab-badge.svg\" alt=\"Open In Colab\"/></a>"
      ]
    },
    {
      "cell_type": "code",
      "execution_count": null,
      "metadata": {
        "id": "MiNz7hzQOjZy"
      },
      "outputs": [],
      "source": [
        "#Data Preprocessing\n",
        "# 1. Selecting Libraries\n",
        "# 2. Selecting Data Source\n",
        "# 3. Work on Missing Data\n",
        "# 4. Catagorical Data\n",
        "# 5. Indentify Dependent and Independent Values\n",
        "# 6. Splitting the dataset into the Training set and test set\n",
        "# 7. Feature scaling"
      ]
    }
  ]
}