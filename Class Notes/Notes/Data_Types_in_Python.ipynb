{
  "nbformat": 4,
  "nbformat_minor": 0,
  "metadata": {
    "colab": {
      "provenance": [],
      "authorship_tag": "ABX9TyNmdhLm/n9MYRXe+DkxHWtP",
      "include_colab_link": true
    },
    "kernelspec": {
      "name": "python3",
      "display_name": "Python 3"
    },
    "language_info": {
      "name": "python"
    }
  },
  "cells": [
    {
      "cell_type": "markdown",
      "metadata": {
        "id": "view-in-github",
        "colab_type": "text"
      },
      "source": [
        "<a href=\"https://colab.research.google.com/github/gplinkage/Data-Science-AI/blob/main/Class%20Notes/Notes/Data_Types_in_Python.ipynb\" target=\"_parent\"><img src=\"https://colab.research.google.com/assets/colab-badge.svg\" alt=\"Open In Colab\"/></a>"
      ]
    },
    {
      "cell_type": "markdown",
      "source": [
        "#**Python Data Type**\n",
        "\n",
        "      1. Standard Data Type\n",
        "        1. Numbers\n",
        "          1. Integer\n",
        "          2. Float\n",
        "          3. Complex\n",
        "        2. Boolean\n",
        "        3. String\n",
        "      2. Data Structure Data Type\n",
        "        1. List\n",
        "        2. Tuple\n",
        "        3. Set\n",
        "        4. Dictionary"
      ],
      "metadata": {
        "id": "bfTFznD6YhHa"
      }
    },
    {
      "cell_type": "code",
      "source": [
        "# Integer : Any whole number (+ve or -ve) is called as integer\n",
        "int1= 1999\n",
        "print(int1)\n",
        "print(type(int1))\n",
        "\n",
        "int1= -1999\n",
        "print(int1)\n",
        "print(type(int1))"
      ],
      "metadata": {
        "colab": {
          "base_uri": "https://localhost:8080/"
        },
        "id": "XXN6SowEYj0L",
        "outputId": "fa4942fc-1283-441a-b040-950a7769218b"
      },
      "execution_count": 2,
      "outputs": [
        {
          "output_type": "stream",
          "name": "stdout",
          "text": [
            "1999\n",
            "<class 'int'>\n",
            "-1999\n",
            "<class 'int'>\n"
          ]
        }
      ]
    },
    {
      "cell_type": "code",
      "source": [
        "# Float : Any combination of whole number and fractional number (+ve or -ve) is called as float.\n",
        "\n",
        "flt1= 4.342\n",
        "print(flt1)\n",
        "print(type(flt1))\n",
        "\n",
        "flt1= -4.342\n",
        "print(flt1)\n",
        "print(type(flt1))"
      ],
      "metadata": {
        "colab": {
          "base_uri": "https://localhost:8080/"
        },
        "id": "xd6_-FoRY0Vh",
        "outputId": "924329e9-1ef7-4194-f270-70631dc8d235"
      },
      "execution_count": 3,
      "outputs": [
        {
          "output_type": "stream",
          "name": "stdout",
          "text": [
            "4.342\n",
            "<class 'float'>\n",
            "-4.342\n",
            "<class 'float'>\n"
          ]
        }
      ]
    },
    {
      "cell_type": "code",
      "source": [
        "# Complex : Combination of integer or float and imagenary number (+ve or -ve) integer or float is called as compex\n",
        "cmplx1= 2 + 3j\n",
        "print(cmplx1)\n",
        "print(type(cmplx1))\n",
        "\n",
        "cmplx1= 2 - 3j\n",
        "print(cmplx1)\n",
        "print(type(cmplx1))\n"
      ],
      "metadata": {
        "colab": {
          "base_uri": "https://localhost:8080/"
        },
        "id": "vACiJjbdZLna",
        "outputId": "6003079d-b68c-4533-9e7d-2be55b4a006d"
      },
      "execution_count": 11,
      "outputs": [
        {
          "output_type": "stream",
          "name": "stdout",
          "text": [
            "(2+3j)\n",
            "<class 'complex'>\n",
            "(2-3j)\n",
            "<class 'complex'>\n"
          ]
        }
      ]
    },
    {
      "cell_type": "code",
      "source": [
        "# Boolean : True and False\n",
        "bool1 = True\n",
        "print(bool1)\n",
        "print(type(bool1))\n",
        "\n",
        "bool1 = False\n",
        "print(bool1)\n",
        "print(type(bool1))"
      ],
      "metadata": {
        "colab": {
          "base_uri": "https://localhost:8080/"
        },
        "id": "VV8Hq2LkZ8qh",
        "outputId": "3d2a20cd-e596-46d1-fe6a-6b5279a2896e"
      },
      "execution_count": 12,
      "outputs": [
        {
          "output_type": "stream",
          "name": "stdout",
          "text": [
            "True\n",
            "<class 'bool'>\n",
            "False\n",
            "<class 'bool'>\n"
          ]
        }
      ]
    },
    {
      "cell_type": "code",
      "source": [
        "# String\n",
        "# any combination inside single quotes\n",
        "# any combination inside double quotes\n",
        "# any combination inside triple single quotes\n",
        "# any combination inside triple doublr quotes\n",
        "\n",
        "str1= 'This is a string'\n",
        "print(str1)\n",
        "print(type(str1))\n",
        "\n",
        "str1 = \"This is a string\"\n",
        "print(str1)\n",
        "print(type(str1))\n",
        "\n",
        "str1 = '''This is a string'''\n",
        "print(str1)\n",
        "print(type(str1))\n",
        "\n",
        "str1 = \"\"\"This is a string\"\"\"\n",
        "print(str1)\n",
        "print(type(str1))"
      ],
      "metadata": {
        "colab": {
          "base_uri": "https://localhost:8080/"
        },
        "id": "F0Y8vyy8aFOl",
        "outputId": "73025413-0301-43ce-e654-06b486c5fd00"
      },
      "execution_count": 15,
      "outputs": [
        {
          "output_type": "stream",
          "name": "stdout",
          "text": [
            "This is a string\n",
            "<class 'str'>\n",
            "This is a string\n",
            "<class 'str'>\n",
            "This is a string\n",
            "<class 'str'>\n",
            "This is a string\n",
            "<class 'str'>\n"
          ]
        }
      ]
    },
    {
      "cell_type": "code",
      "source": [
        "str2 = '%^*(%$#*)'\n",
        "print(str2)"
      ],
      "metadata": {
        "colab": {
          "base_uri": "https://localhost:8080/"
        },
        "id": "SEcachKvaJd0",
        "outputId": "60a91337-f971-4f50-9b1d-9121fa094896"
      },
      "execution_count": 16,
      "outputs": [
        {
          "output_type": "stream",
          "name": "stdout",
          "text": [
            "%^*(%$#*)\n"
          ]
        }
      ]
    },
    {
      "cell_type": "code",
      "source": [
        "# List\n",
        "# 1. List is represented by square bracket []\n",
        "# 2. List is mutable\n",
        "\n",
        "lst1= [2, 3,5,7,34,66]\n",
        "print(lst1)\n",
        "print(type(lst1))"
      ],
      "metadata": {
        "colab": {
          "base_uri": "https://localhost:8080/"
        },
        "id": "lficMQj0fLv2",
        "outputId": "dac49ed1-0f81-4686-e9fd-4e732238fb70"
      },
      "execution_count": 18,
      "outputs": [
        {
          "output_type": "stream",
          "name": "stdout",
          "text": [
            "[2, 3, 5, 7, 34, 66]\n",
            "<class 'list'>\n"
          ]
        }
      ]
    },
    {
      "cell_type": "code",
      "source": [
        "# Set\n",
        "# 1. Set is combination of unique values\n",
        "# 2. Set is collection of unordered element\n",
        "# 3. Set is represented by curly brackets\n",
        "# 4. Set is mutable\n",
        "\n",
        "set1 = {'a','b','c','D','E','F',1,2,3,'!','@','#','a','b','c','D','E','F',1,2,3,'!','@','#',}\n",
        "print(set1)\n",
        "print(type(set1))"
      ],
      "metadata": {
        "colab": {
          "base_uri": "https://localhost:8080/"
        },
        "id": "fXFNXc4ufaRB",
        "outputId": "61216e99-4566-41e9-f82a-f298506200a3"
      },
      "execution_count": 19,
      "outputs": [
        {
          "output_type": "stream",
          "name": "stdout",
          "text": [
            "{'@', 1, 'b', 3, 2, 'E', '!', 'a', 'c', 'F', '#', 'D'}\n",
            "<class 'set'>\n"
          ]
        }
      ]
    },
    {
      "cell_type": "code",
      "source": [
        "set2={True, False, 'a', 'b', 'c', 0, 1, 2, 3, '@'}\n",
        "\n",
        "print(set2)\n",
        "print(type(set2))"
      ],
      "metadata": {
        "colab": {
          "base_uri": "https://localhost:8080/"
        },
        "id": "oIT_v9qGfjrm",
        "outputId": "fdbc62f6-f9c1-4cc9-a5f2-af616504446d"
      },
      "execution_count": 24,
      "outputs": [
        {
          "output_type": "stream",
          "name": "stdout",
          "text": [
            "{False, True, 'b', 2, 3, 'a', 'c', '@'}\n",
            "<class 'set'>\n"
          ]
        }
      ]
    },
    {
      "cell_type": "code",
      "source": [
        "dict1 = {'a':'apple',\n",
        "         'b':'banana',\n",
        "         'c':'cherries'}\n",
        "\n",
        "print(dict1)\n",
        "print(type(dict1))"
      ],
      "metadata": {
        "colab": {
          "base_uri": "https://localhost:8080/"
        },
        "id": "2OOcVIHyjNwg",
        "outputId": "ad81f209-627c-41af-de53-17e3586ecfa1"
      },
      "execution_count": 23,
      "outputs": [
        {
          "output_type": "stream",
          "name": "stdout",
          "text": [
            "{'a': 'apple', 'b': 'banana', 'c': 'cherries'}\n",
            "<class 'dict'>\n"
          ]
        }
      ]
    },
    {
      "cell_type": "code",
      "source": [
        "str1= 'thisisawesome'\n",
        "len(str1)\n",
        "for index,values in enumerate (str1):\n",
        "  print( index, ':', values)"
      ],
      "metadata": {
        "colab": {
          "base_uri": "https://localhost:8080/"
        },
        "id": "MWwpp2bRj1Le",
        "outputId": "37897c6c-b3d3-4def-eced-72cd45ad9165"
      },
      "execution_count": 28,
      "outputs": [
        {
          "output_type": "stream",
          "name": "stdout",
          "text": [
            "0 : t\n",
            "1 : h\n",
            "2 : i\n",
            "3 : s\n",
            "4 : i\n",
            "5 : s\n",
            "6 : a\n",
            "7 : w\n",
            "8 : e\n",
            "9 : s\n",
            "10 : o\n",
            "11 : m\n",
            "12 : e\n"
          ]
        }
      ]
    },
    {
      "cell_type": "code",
      "source": [
        "#slicing [start:Stop:Step]\n",
        "str1[6::1]"
      ],
      "metadata": {
        "colab": {
          "base_uri": "https://localhost:8080/",
          "height": 36
        },
        "id": "7RPMs2fyj_l2",
        "outputId": "85b718cc-509c-4d93-9972-d92efa53352b"
      },
      "execution_count": 31,
      "outputs": [
        {
          "output_type": "execute_result",
          "data": {
            "text/plain": [
              "'awesome'"
            ],
            "application/vnd.google.colaboratory.intrinsic+json": {
              "type": "string"
            }
          },
          "metadata": {},
          "execution_count": 31
        }
      ]
    },
    {
      "cell_type": "code",
      "source": [
        "str1[:6:2]"
      ],
      "metadata": {
        "colab": {
          "base_uri": "https://localhost:8080/",
          "height": 36
        },
        "id": "tgGhLzY4lQCc",
        "outputId": "65e66b5c-0e15-41d3-88f3-affc58e1211b"
      },
      "execution_count": 38,
      "outputs": [
        {
          "output_type": "execute_result",
          "data": {
            "text/plain": [
              "'tii'"
            ],
            "application/vnd.google.colaboratory.intrinsic+json": {
              "type": "string"
            }
          },
          "metadata": {},
          "execution_count": 38
        }
      ]
    },
    {
      "cell_type": "code",
      "source": [
        "#negative slicing\n",
        "str1[::-1]"
      ],
      "metadata": {
        "colab": {
          "base_uri": "https://localhost:8080/",
          "height": 36
        },
        "id": "quZQBOkDlpv7",
        "outputId": "74069dd4-2545-4e45-fb63-034c9abcdc9a"
      },
      "execution_count": 43,
      "outputs": [
        {
          "output_type": "execute_result",
          "data": {
            "text/plain": [
              "'emosewasisiht'"
            ],
            "application/vnd.google.colaboratory.intrinsic+json": {
              "type": "string"
            }
          },
          "metadata": {},
          "execution_count": 43
        }
      ]
    },
    {
      "cell_type": "code",
      "source": [
        "str1[-4:-8:-1]"
      ],
      "metadata": {
        "colab": {
          "base_uri": "https://localhost:8080/",
          "height": 36
        },
        "id": "TdTgG3kPlwQh",
        "outputId": "32451a50-c396-401a-c6b3-37650e51f833"
      },
      "execution_count": 58,
      "outputs": [
        {
          "output_type": "execute_result",
          "data": {
            "text/plain": [
              "'sewa'"
            ],
            "application/vnd.google.colaboratory.intrinsic+json": {
              "type": "string"
            }
          },
          "metadata": {},
          "execution_count": 58
        }
      ]
    },
    {
      "cell_type": "code",
      "source": [
        "str1[9:5:-1]"
      ],
      "metadata": {
        "colab": {
          "base_uri": "https://localhost:8080/",
          "height": 36
        },
        "id": "S40djt2qm9AW",
        "outputId": "2fa7aa25-8ba1-494c-d119-61d87fb579aa"
      },
      "execution_count": 59,
      "outputs": [
        {
          "output_type": "execute_result",
          "data": {
            "text/plain": [
              "'sewa'"
            ],
            "application/vnd.google.colaboratory.intrinsic+json": {
              "type": "string"
            }
          },
          "metadata": {},
          "execution_count": 59
        }
      ]
    },
    {
      "cell_type": "code",
      "source": [
        "str1[-8:-11:-1]"
      ],
      "metadata": {
        "colab": {
          "base_uri": "https://localhost:8080/",
          "height": 36
        },
        "id": "75Gp24cUmHy9",
        "outputId": "e8fae23c-3e4e-4976-a154-565e333a3769"
      },
      "execution_count": 54,
      "outputs": [
        {
          "output_type": "execute_result",
          "data": {
            "text/plain": [
              "'sis'"
            ],
            "application/vnd.google.colaboratory.intrinsic+json": {
              "type": "string"
            }
          },
          "metadata": {},
          "execution_count": 54
        }
      ]
    },
    {
      "cell_type": "code",
      "source": [
        "str1[5:2:-1]"
      ],
      "metadata": {
        "colab": {
          "base_uri": "https://localhost:8080/",
          "height": 36
        },
        "id": "hKvJMl6Hms9z",
        "outputId": "e2324ac3-dc4c-4e57-cea7-4857be159432"
      },
      "execution_count": 62,
      "outputs": [
        {
          "output_type": "execute_result",
          "data": {
            "text/plain": [
              "'sis'"
            ],
            "application/vnd.google.colaboratory.intrinsic+json": {
              "type": "string"
            }
          },
          "metadata": {},
          "execution_count": 62
        }
      ]
    },
    {
      "cell_type": "code",
      "source": [
        "lst1 = ['apple', 'banana', 'cherries', 'dates', 'eggfruit', 'fig', 'grapes', 'honeyfruit','icefruit']\n",
        "print(lst1)\n",
        "print(type(lst1))"
      ],
      "metadata": {
        "colab": {
          "base_uri": "https://localhost:8080/"
        },
        "id": "wmFX3K1-noSc",
        "outputId": "56ac3e2f-574e-45ba-be07-a52cd5006d50"
      },
      "execution_count": 63,
      "outputs": [
        {
          "output_type": "stream",
          "name": "stdout",
          "text": [
            "['apple', 'banana', 'cherries', 'dates', 'eggfruit', 'fig', 'grapes', 'honeyfruit', 'icefruit']\n",
            "<class 'list'>\n"
          ]
        }
      ]
    },
    {
      "cell_type": "code",
      "source": [
        "for index, values in enumerate(lst1):\n",
        "  print(index, ':', values)"
      ],
      "metadata": {
        "colab": {
          "base_uri": "https://localhost:8080/"
        },
        "id": "UQ-Q1EbKoEeS",
        "outputId": "5d7e20dc-b8e3-4918-a9cc-112676e93f16"
      },
      "execution_count": 70,
      "outputs": [
        {
          "output_type": "stream",
          "name": "stdout",
          "text": [
            "0 : apple\n",
            "1 : banana\n",
            "2 : cherries\n",
            "3 : dates\n",
            "4 : eggfruit\n",
            "5 : fig\n",
            "6 : grapes\n",
            "7 : honeyfruit\n",
            "8 : icefruit\n"
          ]
        }
      ]
    },
    {
      "cell_type": "code",
      "source": [
        "lst1[0], lst1[1], lst1[2], lst1[3], lst1[4], lst1[5], lst1[6], lst1[7]"
      ],
      "metadata": {
        "colab": {
          "base_uri": "https://localhost:8080/"
        },
        "id": "30o3GGtRnv4d",
        "outputId": "5c39a39d-8105-4cc4-f012-496c1011dd1c"
      },
      "execution_count": 64,
      "outputs": [
        {
          "output_type": "execute_result",
          "data": {
            "text/plain": [
              "('apple',\n",
              " 'banana',\n",
              " 'cherries',\n",
              " 'dates',\n",
              " 'eggfruit',\n",
              " 'fig',\n",
              " 'grapes',\n",
              " 'honeyfruit')"
            ]
          },
          "metadata": {},
          "execution_count": 64
        }
      ]
    },
    {
      "cell_type": "code",
      "source": [
        "print(lst1[::])"
      ],
      "metadata": {
        "colab": {
          "base_uri": "https://localhost:8080/"
        },
        "id": "i2wXVNXJn15R",
        "outputId": "7c776067-d053-4ee5-8e04-f41cf93e761e"
      },
      "execution_count": 67,
      "outputs": [
        {
          "output_type": "stream",
          "name": "stdout",
          "text": [
            "['apple', 'banana', 'cherries', 'dates', 'eggfruit', 'fig', 'grapes', 'honeyfruit', 'icefruit']\n"
          ]
        }
      ]
    },
    {
      "cell_type": "code",
      "source": [
        "#syntax lst[start index: stop index+1]\n",
        "print(lst1[1:5])"
      ],
      "metadata": {
        "colab": {
          "base_uri": "https://localhost:8080/"
        },
        "id": "TM4LS72Zn6Jj",
        "outputId": "863ae389-11dc-4efc-e0ea-6bc07b52e19b"
      },
      "execution_count": 69,
      "outputs": [
        {
          "output_type": "stream",
          "name": "stdout",
          "text": [
            "['banana', 'cherries', 'dates', 'eggfruit']\n"
          ]
        }
      ]
    },
    {
      "cell_type": "code",
      "source": [
        "#syntax lst[start:stop:step]\n",
        "print(lst1[0::2])"
      ],
      "metadata": {
        "colab": {
          "base_uri": "https://localhost:8080/"
        },
        "id": "9NS9aVfsoklV",
        "outputId": "4e25630a-513f-47bb-f11c-cc073a72d71e"
      },
      "execution_count": 73,
      "outputs": [
        {
          "output_type": "stream",
          "name": "stdout",
          "text": [
            "['apple', 'cherries', 'eggfruit', 'grapes', 'icefruit']\n"
          ]
        }
      ]
    },
    {
      "cell_type": "code",
      "source": [
        "#Negative indexing\n",
        "print(lst1[::-1])"
      ],
      "metadata": {
        "colab": {
          "base_uri": "https://localhost:8080/"
        },
        "id": "DJJNrHJMo6qF",
        "outputId": "61631bea-d94f-40e3-c799-f9d0c3c07cc1"
      },
      "execution_count": 74,
      "outputs": [
        {
          "output_type": "stream",
          "name": "stdout",
          "text": [
            "['icefruit', 'honeyfruit', 'grapes', 'fig', 'eggfruit', 'dates', 'cherries', 'banana', 'apple']\n"
          ]
        }
      ]
    },
    {
      "cell_type": "code",
      "source": [
        "print(lst1[-1::-1])"
      ],
      "metadata": {
        "colab": {
          "base_uri": "https://localhost:8080/"
        },
        "id": "y4Tp0MDOplBr",
        "outputId": "1a964117-e0fc-46f3-dde8-cd27b277ae9b"
      },
      "execution_count": 84,
      "outputs": [
        {
          "output_type": "stream",
          "name": "stdout",
          "text": [
            "['icefruit', 'honeyfruit', 'grapes', 'fig', 'eggfruit', 'dates', 'cherries', 'banana', 'apple']\n"
          ]
        }
      ]
    },
    {
      "cell_type": "code",
      "source": [
        "len(lst1)"
      ],
      "metadata": {
        "colab": {
          "base_uri": "https://localhost:8080/"
        },
        "id": "wc3PDpdopuT-",
        "outputId": "f5b731bc-126b-468e-80ca-ae8403720769"
      },
      "execution_count": 85,
      "outputs": [
        {
          "output_type": "execute_result",
          "data": {
            "text/plain": [
              "9"
            ]
          },
          "metadata": {},
          "execution_count": 85
        }
      ]
    },
    {
      "cell_type": "code",
      "source": [
        "print(lst1[0:len(lst1):1])"
      ],
      "metadata": {
        "colab": {
          "base_uri": "https://localhost:8080/"
        },
        "id": "JZfCirJZpD5E",
        "outputId": "3d2badb7-c0ab-4174-91a7-1510bf3d5908"
      },
      "execution_count": 86,
      "outputs": [
        {
          "output_type": "stream",
          "name": "stdout",
          "text": [
            "['apple', 'banana', 'cherries', 'dates', 'eggfruit', 'fig', 'grapes', 'honeyfruit', 'icefruit']\n"
          ]
        }
      ]
    },
    {
      "cell_type": "code",
      "source": [
        "print(lst1[0:9:1])"
      ],
      "metadata": {
        "colab": {
          "base_uri": "https://localhost:8080/"
        },
        "id": "olsvhxsPpTw6",
        "outputId": "c2661a88-982f-4522-cea7-b9cdaa185461"
      },
      "execution_count": 87,
      "outputs": [
        {
          "output_type": "stream",
          "name": "stdout",
          "text": [
            "['apple', 'banana', 'cherries', 'dates', 'eggfruit', 'fig', 'grapes', 'honeyfruit', 'icefruit']\n"
          ]
        }
      ]
    },
    {
      "cell_type": "code",
      "source": [
        "print(lst1[-9::1])"
      ],
      "metadata": {
        "colab": {
          "base_uri": "https://localhost:8080/"
        },
        "id": "aNV7Day-pc0z",
        "outputId": "0be4b24c-b520-4ba3-a9fd-4a462e8e11f5"
      },
      "execution_count": 89,
      "outputs": [
        {
          "output_type": "stream",
          "name": "stdout",
          "text": [
            "['apple', 'banana', 'cherries', 'dates', 'eggfruit', 'fig', 'grapes', 'honeyfruit', 'icefruit']\n"
          ]
        }
      ]
    },
    {
      "cell_type": "code",
      "source": [
        "print(lst1[-9:-7:1])"
      ],
      "metadata": {
        "colab": {
          "base_uri": "https://localhost:8080/"
        },
        "id": "-a9BVUwWp-cs",
        "outputId": "ee868d9e-9aab-409b-cc25-1b508149b0b6"
      },
      "execution_count": 92,
      "outputs": [
        {
          "output_type": "stream",
          "name": "stdout",
          "text": [
            "['apple', 'banana']\n"
          ]
        }
      ]
    },
    {
      "cell_type": "code",
      "source": [
        "print(lst1[-7:-9:-1])"
      ],
      "metadata": {
        "colab": {
          "base_uri": "https://localhost:8080/"
        },
        "id": "F-95hREaqJoI",
        "outputId": "0937d035-7b8a-4c16-bf43-212314a46a8c"
      },
      "execution_count": 94,
      "outputs": [
        {
          "output_type": "stream",
          "name": "stdout",
          "text": [
            "['cherries', 'banana']\n"
          ]
        }
      ]
    },
    {
      "cell_type": "code",
      "source": [
        "# Basic Python Operators\n",
        "# arithmetic operators\n",
        "\n",
        "a=62\n",
        "b= 30\n",
        "print(a+b)\n",
        "print(a-b)\n",
        "print(a*b)\n",
        "print(round(a/b,2))\n",
        "print(a//b) #quotient\n",
        "print(a%b) #remainder\n",
        "print(a**b)#exponential\n"
      ],
      "metadata": {
        "colab": {
          "base_uri": "https://localhost:8080/"
        },
        "id": "n-_uSlRCqXUk",
        "outputId": "a29483f0-efb0-40be-bbe8-8d95ad316c70"
      },
      "execution_count": 105,
      "outputs": [
        {
          "output_type": "stream",
          "name": "stdout",
          "text": [
            "92\n",
            "32\n",
            "1860\n",
            "2.07\n",
            "2\n",
            "2\n",
            "591222134364399413463902591994678504204696392694759424\n"
          ]
        }
      ]
    },
    {
      "cell_type": "code",
      "source": [
        "# comparision operators\n",
        "\n",
        "a=100\n",
        "b=20\n",
        "\n",
        "print(a==b)\n",
        "print(a!=b)\n",
        "print(a>b)\n",
        "print(a<b)\n",
        "print(a>=b)\n",
        "print(a <=b)"
      ],
      "metadata": {
        "colab": {
          "base_uri": "https://localhost:8080/"
        },
        "id": "kALTKVI5rgxF",
        "outputId": "2725b4d4-5d74-4747-800f-64b3167172eb"
      },
      "execution_count": 106,
      "outputs": [
        {
          "output_type": "stream",
          "name": "stdout",
          "text": [
            "False\n",
            "True\n",
            "True\n",
            "False\n",
            "True\n",
            "False\n"
          ]
        }
      ]
    },
    {
      "cell_type": "code",
      "source": [
        "# Assignment Operators\n",
        "# a += b same as a = a + b\n",
        "a= 100\n",
        "b = 20\n",
        "\n",
        "a+=b\n",
        "print(1, a, b)\n",
        "\n",
        "a -= b\n",
        "print(2, a, b)\n",
        "\n",
        "a *= b\n",
        "print(3, a, b)\n",
        "\n",
        "a /= b\n",
        "print(4, a, b)\n",
        "\n",
        "a %= b\n",
        "print(5, a, b)\n",
        "\n",
        "a //= b\n",
        "print(6, a, b)\n",
        "\n",
        "a **= b\n",
        "print(7, a, b)"
      ],
      "metadata": {
        "colab": {
          "base_uri": "https://localhost:8080/"
        },
        "id": "4-3YueFh3mQM",
        "outputId": "48e1b243-fced-4c90-da49-d70bc1395416"
      },
      "execution_count": 112,
      "outputs": [
        {
          "output_type": "stream",
          "name": "stdout",
          "text": [
            "1 120 20\n",
            "2 100 20\n",
            "3 2000 20\n",
            "4 100.0 20\n",
            "5 0.0 20\n",
            "6 0.0 20\n",
            "7 0.0 20\n"
          ]
        }
      ]
    },
    {
      "cell_type": "code",
      "source": [
        "# Python Logical Operators\n",
        "\n",
        "a = 100\n",
        "b = 20\n",
        "\n",
        "print(a > 80 and b < 80) # both conditions need to meet\n",
        "print(a == 80 and b < 80)\n",
        "print(a < 80 and b < 80)\n",
        "print(a > 80 and b > 80)"
      ],
      "metadata": {
        "colab": {
          "base_uri": "https://localhost:8080/"
        },
        "id": "wupi8qqg4mt5",
        "outputId": "3db84003-af4d-4597-e630-2a514224d5a2"
      },
      "execution_count": 114,
      "outputs": [
        {
          "output_type": "stream",
          "name": "stdout",
          "text": [
            "True\n",
            "False\n",
            "False\n",
            "False\n"
          ]
        }
      ]
    },
    {
      "cell_type": "code",
      "source": [
        "print(a > 80 or b < 80) # Either condition need to meet\n",
        "print(a == 80 or b < 80)\n",
        "print(a < 80 or b < 80)\n",
        "print(a < 80 or b > 80)"
      ],
      "metadata": {
        "colab": {
          "base_uri": "https://localhost:8080/"
        },
        "id": "xfzxbQOR45ZN",
        "outputId": "f55669ec-9f54-4cd0-82d1-07ec84eadec2"
      },
      "execution_count": 115,
      "outputs": [
        {
          "output_type": "stream",
          "name": "stdout",
          "text": [
            "True\n",
            "True\n",
            "True\n",
            "False\n"
          ]
        }
      ]
    },
    {
      "cell_type": "code",
      "source": [
        "# Python Membership Operators\n",
        "\n",
        "a = 100\n",
        "b = [100,200,300,400,500]\n",
        "\n",
        "a in b"
      ],
      "metadata": {
        "colab": {
          "base_uri": "https://localhost:8080/"
        },
        "id": "G3p5kXv95Fz6",
        "outputId": "f51482e0-52b4-4960-f3b9-bb601963485d"
      },
      "execution_count": 116,
      "outputs": [
        {
          "output_type": "execute_result",
          "data": {
            "text/plain": [
              "True"
            ]
          },
          "metadata": {},
          "execution_count": 116
        }
      ]
    },
    {
      "cell_type": "code",
      "source": [
        "\n",
        "a = 600\n",
        "b = [100,200,300,400,500]\n",
        "\n",
        "a in b\n"
      ],
      "metadata": {
        "colab": {
          "base_uri": "https://localhost:8080/"
        },
        "id": "hafRbgKg5NXT",
        "outputId": "105792cc-0191-4005-be69-d58f85005089"
      },
      "execution_count": 117,
      "outputs": [
        {
          "output_type": "execute_result",
          "data": {
            "text/plain": [
              "False"
            ]
          },
          "metadata": {},
          "execution_count": 117
        }
      ]
    },
    {
      "cell_type": "code",
      "source": [
        "a = 100\n",
        "b = [100,200,300,400,500]\n",
        "\n",
        "a not in b"
      ],
      "metadata": {
        "colab": {
          "base_uri": "https://localhost:8080/"
        },
        "id": "nkAU_nZM5P5u",
        "outputId": "01f534c6-4a73-4879-8c07-433cc6e34c31"
      },
      "execution_count": 118,
      "outputs": [
        {
          "output_type": "execute_result",
          "data": {
            "text/plain": [
              "False"
            ]
          },
          "metadata": {},
          "execution_count": 118
        }
      ]
    },
    {
      "cell_type": "code",
      "source": [
        "a = 600\n",
        "b = [100,200,300,400,500]\n",
        "\n",
        "a not in b"
      ],
      "metadata": {
        "colab": {
          "base_uri": "https://localhost:8080/"
        },
        "id": "4VIdA51p5TuE",
        "outputId": "ce665ddf-48e9-4834-dac8-eecff11ab1db"
      },
      "execution_count": 119,
      "outputs": [
        {
          "output_type": "execute_result",
          "data": {
            "text/plain": [
              "True"
            ]
          },
          "metadata": {},
          "execution_count": 119
        }
      ]
    },
    {
      "cell_type": "code",
      "source": [
        "# Python Identity Operators\n",
        "a = 100\n",
        "b = 20\n",
        "\n",
        "a is not b"
      ],
      "metadata": {
        "colab": {
          "base_uri": "https://localhost:8080/"
        },
        "id": "mPEQsJ4p5WIB",
        "outputId": "9ceb1fb6-5d2d-4c60-ca2b-97de92a5ea70"
      },
      "execution_count": 121,
      "outputs": [
        {
          "output_type": "execute_result",
          "data": {
            "text/plain": [
              "True"
            ]
          },
          "metadata": {},
          "execution_count": 121
        }
      ]
    },
    {
      "cell_type": "code",
      "source": [
        "a is b"
      ],
      "metadata": {
        "colab": {
          "base_uri": "https://localhost:8080/"
        },
        "id": "sxgNc7oV5dav",
        "outputId": "dc3f7f9c-f619-4244-e992-c25e29388f44"
      },
      "execution_count": 123,
      "outputs": [
        {
          "output_type": "execute_result",
          "data": {
            "text/plain": [
              "False"
            ]
          },
          "metadata": {},
          "execution_count": 123
        }
      ]
    },
    {
      "cell_type": "code",
      "source": [
        "a = 100\n",
        "b = 20\n",
        "\n",
        "if a > b: # True\n",
        "  print('a is greater than b')"
      ],
      "metadata": {
        "colab": {
          "base_uri": "https://localhost:8080/"
        },
        "id": "vPXvdfS75nL0",
        "outputId": "d28a2fb2-73a0-4f70-c1db-dc3f01efaf36"
      },
      "execution_count": 124,
      "outputs": [
        {
          "output_type": "stream",
          "name": "stdout",
          "text": [
            "a is greater than b\n"
          ]
        }
      ]
    },
    {
      "cell_type": "code",
      "source": [
        "if a < b: # False\n",
        "  print('a is less than b')"
      ],
      "metadata": {
        "id": "VL9Z8z1f5q8H"
      },
      "execution_count": 127,
      "outputs": []
    },
    {
      "cell_type": "code",
      "source": [
        "a = 100\n",
        "b = 20\n",
        "\n",
        "if (a > b) and (a != b): # True\n",
        "  print('a is greater than b')"
      ],
      "metadata": {
        "colab": {
          "base_uri": "https://localhost:8080/"
        },
        "id": "J7ifTf0L5twG",
        "outputId": "ed422a8e-8bce-42cf-b911-9dee7f7cadf9"
      },
      "execution_count": 126,
      "outputs": [
        {
          "output_type": "stream",
          "name": "stdout",
          "text": [
            "a is greater than b\n"
          ]
        }
      ]
    },
    {
      "cell_type": "code",
      "source": [
        "if (a > b) and (a == b): # False\n",
        "  print('a is greater than b')"
      ],
      "metadata": {
        "id": "AP1OzZKN53yO"
      },
      "execution_count": 129,
      "outputs": []
    },
    {
      "cell_type": "code",
      "source": [
        "if (a < b) and (a == b): # False\n",
        "  print('a is greater than b')"
      ],
      "metadata": {
        "id": "5BVslxsl58JX"
      },
      "execution_count": 130,
      "outputs": []
    },
    {
      "cell_type": "code",
      "source": [
        "if (a > b) or (a != b): # True\n",
        "  print('a is greater than b')"
      ],
      "metadata": {
        "colab": {
          "base_uri": "https://localhost:8080/"
        },
        "id": "mEjeNyqq5-94",
        "outputId": "ddc42b46-cb4f-4fb6-a35b-922da9cebc86"
      },
      "execution_count": 131,
      "outputs": [
        {
          "output_type": "stream",
          "name": "stdout",
          "text": [
            "a is greater than b\n"
          ]
        }
      ]
    },
    {
      "cell_type": "code",
      "source": [
        "if (a > b) or (a == b): # True\n",
        "  print('a is greater than b')"
      ],
      "metadata": {
        "colab": {
          "base_uri": "https://localhost:8080/"
        },
        "id": "Aowo2Jz56CLj",
        "outputId": "8b77890f-7e09-411e-8bbc-f83efb033e68"
      },
      "execution_count": 132,
      "outputs": [
        {
          "output_type": "stream",
          "name": "stdout",
          "text": [
            "a is greater than b\n"
          ]
        }
      ]
    },
    {
      "cell_type": "code",
      "source": [
        "if (a < b) or (a == b): # False\n",
        "  print('a is smaller than b')\n",
        "else:\n",
        "  print('we are in else section')"
      ],
      "metadata": {
        "colab": {
          "base_uri": "https://localhost:8080/"
        },
        "id": "caMmzRVu6Hhz",
        "outputId": "00c2b9ee-cc5d-4ffd-891e-29adf256aefb"
      },
      "execution_count": 134,
      "outputs": [
        {
          "output_type": "stream",
          "name": "stdout",
          "text": [
            "we are in else section\n"
          ]
        }
      ]
    },
    {
      "cell_type": "code",
      "source": [
        "if (a < b): # False\n",
        "  print('a is greater than b')\n",
        "else:\n",
        "  print('we are in else section')"
      ],
      "metadata": {
        "colab": {
          "base_uri": "https://localhost:8080/"
        },
        "id": "rjeGmTyU6Ti0",
        "outputId": "0cb9d6ce-5d63-4f97-95fa-1578570db2d3"
      },
      "execution_count": 135,
      "outputs": [
        {
          "output_type": "stream",
          "name": "stdout",
          "text": [
            "we are in else section\n"
          ]
        }
      ]
    },
    {
      "cell_type": "code",
      "source": [
        "percentage = 34.99\n",
        "\n",
        "if percentage >=75:\n",
        "  print('First class with distinction')\n",
        "elif percentage >=60:\n",
        "  print('First class')\n",
        "elif percentage >= 40:\n",
        "  print('second class')\n",
        "elif percentage >= 35:\n",
        "  print('third class')\n",
        "else:\n",
        "  print('better luck next time')"
      ],
      "metadata": {
        "colab": {
          "base_uri": "https://localhost:8080/"
        },
        "id": "Id-fJzpb6YwS",
        "outputId": "d8edf24d-b09a-4c23-cf65-c1114272ff30"
      },
      "execution_count": 136,
      "outputs": [
        {
          "output_type": "stream",
          "name": "stdout",
          "text": [
            "better luck next time\n"
          ]
        }
      ]
    },
    {
      "cell_type": "code",
      "source": [
        "a = 100\n",
        "\n",
        "if a > 25:\n",
        "  print('a > 25')\n",
        "  if a > 50:\n",
        "    print('a > 50')\n",
        "    if a > 75:\n",
        "      print('a > 75')\n",
        "      if a > 100:\n",
        "        print('a > 100')\n",
        "        if a > 125:\n",
        "          print('a > 125')"
      ],
      "metadata": {
        "colab": {
          "base_uri": "https://localhost:8080/"
        },
        "id": "H4Fd_jfe6pIe",
        "outputId": "94299fb3-bab5-491b-faa3-7e3d4ec41d17"
      },
      "execution_count": 137,
      "outputs": [
        {
          "output_type": "stream",
          "name": "stdout",
          "text": [
            "a > 25\n",
            "a > 50\n",
            "a > 75\n"
          ]
        }
      ]
    },
    {
      "cell_type": "code",
      "source": [
        "# Nested If\n",
        "\n",
        "a = 125\n",
        "\n",
        "if (a < 200):\n",
        "  print('if (a < 200):')\n",
        "  if (a < 175):\n",
        "    print('if (a < 175):')\n",
        "    if (a < 150):\n",
        "      print('if (a < 150):')\n",
        "      if (a < 125):\n",
        "        print('if (a < 125):')\n",
        "        if (a < 100):\n",
        "          print('if (a < 100):')\n",
        "          if (a < 75):\n",
        "            print('if (a < 75):')\n",
        "          else:\n",
        "            print('else if (a < 75):')\n",
        "        else:\n",
        "          print('else if (a < 100):')\n",
        "      else:\n",
        "        print('else if (a < 125):')\n",
        "    else:\n",
        "      print('else if (a < 150):')\n",
        "  else:\n",
        "    print('else if (a < 175):')\n",
        "else:\n",
        "  print('else if (a < 200):')"
      ],
      "metadata": {
        "colab": {
          "base_uri": "https://localhost:8080/"
        },
        "id": "nDybUq4j6wZO",
        "outputId": "2a8556cb-00cf-4e8c-8626-354e3fe4c15d"
      },
      "execution_count": 139,
      "outputs": [
        {
          "output_type": "stream",
          "name": "stdout",
          "text": [
            "if (a < 200):\n",
            "if (a < 175):\n",
            "if (a < 150):\n",
            "else if (a < 125):\n"
          ]
        }
      ]
    },
    {
      "cell_type": "code",
      "source": [
        "# while loop\n",
        "\n",
        "a = 100\n",
        "\n",
        "while a > 10: # True/False\n",
        "  print(a, 'is greater 10')\n",
        "  a -= 1 # 99, 98, 97..... 15,14,13,12,11"
      ],
      "metadata": {
        "colab": {
          "base_uri": "https://localhost:8080/"
        },
        "id": "_S2IlE5y7Ci_",
        "outputId": "0d75212b-27d8-4548-cc9e-b5548fbb0ab3"
      },
      "execution_count": 140,
      "outputs": [
        {
          "output_type": "stream",
          "name": "stdout",
          "text": [
            "100 is greater 10\n",
            "99 is greater 10\n",
            "98 is greater 10\n",
            "97 is greater 10\n",
            "96 is greater 10\n",
            "95 is greater 10\n",
            "94 is greater 10\n",
            "93 is greater 10\n",
            "92 is greater 10\n",
            "91 is greater 10\n",
            "90 is greater 10\n",
            "89 is greater 10\n",
            "88 is greater 10\n",
            "87 is greater 10\n",
            "86 is greater 10\n",
            "85 is greater 10\n",
            "84 is greater 10\n",
            "83 is greater 10\n",
            "82 is greater 10\n",
            "81 is greater 10\n",
            "80 is greater 10\n",
            "79 is greater 10\n",
            "78 is greater 10\n",
            "77 is greater 10\n",
            "76 is greater 10\n",
            "75 is greater 10\n",
            "74 is greater 10\n",
            "73 is greater 10\n",
            "72 is greater 10\n",
            "71 is greater 10\n",
            "70 is greater 10\n",
            "69 is greater 10\n",
            "68 is greater 10\n",
            "67 is greater 10\n",
            "66 is greater 10\n",
            "65 is greater 10\n",
            "64 is greater 10\n",
            "63 is greater 10\n",
            "62 is greater 10\n",
            "61 is greater 10\n",
            "60 is greater 10\n",
            "59 is greater 10\n",
            "58 is greater 10\n",
            "57 is greater 10\n",
            "56 is greater 10\n",
            "55 is greater 10\n",
            "54 is greater 10\n",
            "53 is greater 10\n",
            "52 is greater 10\n",
            "51 is greater 10\n",
            "50 is greater 10\n",
            "49 is greater 10\n",
            "48 is greater 10\n",
            "47 is greater 10\n",
            "46 is greater 10\n",
            "45 is greater 10\n",
            "44 is greater 10\n",
            "43 is greater 10\n",
            "42 is greater 10\n",
            "41 is greater 10\n",
            "40 is greater 10\n",
            "39 is greater 10\n",
            "38 is greater 10\n",
            "37 is greater 10\n",
            "36 is greater 10\n",
            "35 is greater 10\n",
            "34 is greater 10\n",
            "33 is greater 10\n",
            "32 is greater 10\n",
            "31 is greater 10\n",
            "30 is greater 10\n",
            "29 is greater 10\n",
            "28 is greater 10\n",
            "27 is greater 10\n",
            "26 is greater 10\n",
            "25 is greater 10\n",
            "24 is greater 10\n",
            "23 is greater 10\n",
            "22 is greater 10\n",
            "21 is greater 10\n",
            "20 is greater 10\n",
            "19 is greater 10\n",
            "18 is greater 10\n",
            "17 is greater 10\n",
            "16 is greater 10\n",
            "15 is greater 10\n",
            "14 is greater 10\n",
            "13 is greater 10\n",
            "12 is greater 10\n",
            "11 is greater 10\n"
          ]
        }
      ]
    },
    {
      "cell_type": "code",
      "source": [
        "a = 10\n",
        "\n",
        "while a < 100: # True/False\n",
        "  print(a, 'is less than 100')\n",
        "  a += 10"
      ],
      "metadata": {
        "colab": {
          "base_uri": "https://localhost:8080/"
        },
        "id": "dAOcNoPG7Mmq",
        "outputId": "8b255663-39d1-4161-beb1-8d76d40e0fba"
      },
      "execution_count": 141,
      "outputs": [
        {
          "output_type": "stream",
          "name": "stdout",
          "text": [
            "10 is less than 100\n",
            "20 is less than 100\n",
            "30 is less than 100\n",
            "40 is less than 100\n",
            "50 is less than 100\n",
            "60 is less than 100\n",
            "70 is less than 100\n",
            "80 is less than 100\n",
            "90 is less than 100\n"
          ]
        }
      ]
    },
    {
      "cell_type": "code",
      "source": [
        "# Break Continue Pass\n",
        "a = 10\n",
        "\n",
        "while a < 100: # True/False\n",
        "  if a == 50:\n",
        "    break #stops at 50\n",
        "  print(a, 'is less than 100')\n",
        "  a += 10"
      ],
      "metadata": {
        "colab": {
          "base_uri": "https://localhost:8080/"
        },
        "id": "b_hikkwx7SKc",
        "outputId": "afc0c847-e388-48e0-e055-7a744552d1ea"
      },
      "execution_count": 144,
      "outputs": [
        {
          "output_type": "stream",
          "name": "stdout",
          "text": [
            "10 is less than 100\n",
            "20 is less than 100\n",
            "30 is less than 100\n",
            "40 is less than 100\n"
          ]
        }
      ]
    },
    {
      "cell_type": "code",
      "source": [
        "a = 10\n",
        "\n",
        "while a < 100: # True/False\n",
        "\n",
        "  a += 10\n",
        "\n",
        "  if a == 50:\n",
        "    continue # skips 50\n",
        "  print(a, 'is less than 100')"
      ],
      "metadata": {
        "colab": {
          "base_uri": "https://localhost:8080/"
        },
        "id": "PFfXelgZ7by5",
        "outputId": "5abe6b01-df48-4cb9-94e5-eddee147475a"
      },
      "execution_count": 145,
      "outputs": [
        {
          "output_type": "stream",
          "name": "stdout",
          "text": [
            "20 is less than 100\n",
            "30 is less than 100\n",
            "40 is less than 100\n",
            "60 is less than 100\n",
            "70 is less than 100\n",
            "80 is less than 100\n",
            "90 is less than 100\n",
            "100 is less than 100\n"
          ]
        }
      ]
    },
    {
      "cell_type": "code",
      "source": [
        "a = 200\n",
        "\n",
        "while (a < 500):\n",
        "  pass"
      ],
      "metadata": {
        "colab": {
          "base_uri": "https://localhost:8080/",
          "height": 228
        },
        "id": "2EvXcZmR7npY",
        "outputId": "8bd0b01b-eb1b-474c-d4a4-e15afd6f14c8"
      },
      "execution_count": 148,
      "outputs": [
        {
          "output_type": "error",
          "ename": "KeyboardInterrupt",
          "evalue": "ignored",
          "traceback": [
            "\u001b[0;31m---------------------------------------------------------------------------\u001b[0m",
            "\u001b[0;31mKeyboardInterrupt\u001b[0m                         Traceback (most recent call last)",
            "\u001b[0;32m<ipython-input-148-b148afdda50f>\u001b[0m in \u001b[0;36m<cell line: 3>\u001b[0;34m()\u001b[0m\n\u001b[1;32m      1\u001b[0m \u001b[0ma\u001b[0m \u001b[0;34m=\u001b[0m \u001b[0;36m200\u001b[0m\u001b[0;34m\u001b[0m\u001b[0;34m\u001b[0m\u001b[0m\n\u001b[1;32m      2\u001b[0m \u001b[0;34m\u001b[0m\u001b[0m\n\u001b[0;32m----> 3\u001b[0;31m \u001b[0;32mwhile\u001b[0m \u001b[0;34m(\u001b[0m\u001b[0ma\u001b[0m \u001b[0;34m<\u001b[0m \u001b[0;36m500\u001b[0m\u001b[0;34m)\u001b[0m\u001b[0;34m:\u001b[0m\u001b[0;34m\u001b[0m\u001b[0;34m\u001b[0m\u001b[0m\n\u001b[0m\u001b[1;32m      4\u001b[0m   \u001b[0;32mpass\u001b[0m\u001b[0;34m\u001b[0m\u001b[0;34m\u001b[0m\u001b[0m\n",
            "\u001b[0;31mKeyboardInterrupt\u001b[0m: "
          ]
        }
      ]
    },
    {
      "cell_type": "code",
      "source": [
        "# Write a program 0 to 100 and find odd and even numbers; use while loop\n",
        "\n",
        "a = 100\n",
        "\n",
        "while a >= 0:\n",
        "  if a%2==0:\n",
        "    print(a, 'is even number')\n",
        "  else:\n",
        "    print(a, 'is odd number')\n",
        "  a -= 1"
      ],
      "metadata": {
        "colab": {
          "base_uri": "https://localhost:8080/"
        },
        "id": "id_hu7eS7sNu",
        "outputId": "aaa62b6c-e6df-47fb-d6b4-178c03b7ab4b"
      },
      "execution_count": 147,
      "outputs": [
        {
          "output_type": "stream",
          "name": "stdout",
          "text": [
            "100 is even number\n",
            "99 is odd number\n",
            "98 is even number\n",
            "97 is odd number\n",
            "96 is even number\n",
            "95 is odd number\n",
            "94 is even number\n",
            "93 is odd number\n",
            "92 is even number\n",
            "91 is odd number\n",
            "90 is even number\n",
            "89 is odd number\n",
            "88 is even number\n",
            "87 is odd number\n",
            "86 is even number\n",
            "85 is odd number\n",
            "84 is even number\n",
            "83 is odd number\n",
            "82 is even number\n",
            "81 is odd number\n",
            "80 is even number\n",
            "79 is odd number\n",
            "78 is even number\n",
            "77 is odd number\n",
            "76 is even number\n",
            "75 is odd number\n",
            "74 is even number\n",
            "73 is odd number\n",
            "72 is even number\n",
            "71 is odd number\n",
            "70 is even number\n",
            "69 is odd number\n",
            "68 is even number\n",
            "67 is odd number\n",
            "66 is even number\n",
            "65 is odd number\n",
            "64 is even number\n",
            "63 is odd number\n",
            "62 is even number\n",
            "61 is odd number\n",
            "60 is even number\n",
            "59 is odd number\n",
            "58 is even number\n",
            "57 is odd number\n",
            "56 is even number\n",
            "55 is odd number\n",
            "54 is even number\n",
            "53 is odd number\n",
            "52 is even number\n",
            "51 is odd number\n",
            "50 is even number\n",
            "49 is odd number\n",
            "48 is even number\n",
            "47 is odd number\n",
            "46 is even number\n",
            "45 is odd number\n",
            "44 is even number\n",
            "43 is odd number\n",
            "42 is even number\n",
            "41 is odd number\n",
            "40 is even number\n",
            "39 is odd number\n",
            "38 is even number\n",
            "37 is odd number\n",
            "36 is even number\n",
            "35 is odd number\n",
            "34 is even number\n",
            "33 is odd number\n",
            "32 is even number\n",
            "31 is odd number\n",
            "30 is even number\n",
            "29 is odd number\n",
            "28 is even number\n",
            "27 is odd number\n",
            "26 is even number\n",
            "25 is odd number\n",
            "24 is even number\n",
            "23 is odd number\n",
            "22 is even number\n",
            "21 is odd number\n",
            "20 is even number\n",
            "19 is odd number\n",
            "18 is even number\n",
            "17 is odd number\n",
            "16 is even number\n",
            "15 is odd number\n",
            "14 is even number\n",
            "13 is odd number\n",
            "12 is even number\n",
            "11 is odd number\n",
            "10 is even number\n",
            "9 is odd number\n",
            "8 is even number\n",
            "7 is odd number\n",
            "6 is even number\n",
            "5 is odd number\n",
            "4 is even number\n",
            "3 is odd number\n",
            "2 is even number\n",
            "1 is odd number\n",
            "0 is even number\n"
          ]
        }
      ]
    },
    {
      "cell_type": "code",
      "source": [
        "total = 0\n",
        "num = int(input('enter a number '))\n",
        "\n",
        "while num != 0:\n",
        "  total += num\n",
        "  num = int(input('enter a number '))\n",
        "print(total)"
      ],
      "metadata": {
        "colab": {
          "base_uri": "https://localhost:8080/"
        },
        "id": "s4xm7aRX8G_Y",
        "outputId": "7f52dd09-34f6-4f4a-a49a-c8ab7c972fcf"
      },
      "execution_count": 149,
      "outputs": [
        {
          "output_type": "stream",
          "name": "stdout",
          "text": [
            "enter a number 55\n",
            "enter a number 3\n",
            "enter a number 5\n",
            "enter a number 88\n",
            "enter a number 65\n",
            "enter a number 0\n",
            "216\n"
          ]
        }
      ]
    },
    {
      "cell_type": "code",
      "source": [
        "# voting eligibility\n",
        "\n",
        "total = 0\n",
        "num = int(input('enter a voting age '))\n",
        "\n",
        "while num >= 18:\n",
        "  total += 1\n",
        "  num = int(input('enter a voting age '))\n",
        "print(total)"
      ],
      "metadata": {
        "colab": {
          "base_uri": "https://localhost:8080/"
        },
        "id": "3D5NNifz8Vdr",
        "outputId": "250dc4de-0087-4a3a-8a35-9bc2d5931bb2"
      },
      "execution_count": 150,
      "outputs": [
        {
          "output_type": "stream",
          "name": "stdout",
          "text": [
            "enter a voting age 18\n",
            "enter a voting age 20\n",
            "enter a voting age 50\n",
            "enter a voting age 17\n",
            "3\n"
          ]
        }
      ]
    },
    {
      "cell_type": "code",
      "source": [
        "lst1 = [1,2,3,4,5,6,7,8,9,10,11,22,33,44,55,66,77,88,99,110,12,23,34,45,56,67,78,89,90]\n",
        "\n",
        "lst1.pop()"
      ],
      "metadata": {
        "colab": {
          "base_uri": "https://localhost:8080/"
        },
        "id": "j8DxIvXs8ilP",
        "outputId": "94394e89-428e-45ed-bd79-dfdd2d9408ca"
      },
      "execution_count": 153,
      "outputs": [
        {
          "output_type": "execute_result",
          "data": {
            "text/plain": [
              "90"
            ]
          },
          "metadata": {},
          "execution_count": 153
        }
      ]
    },
    {
      "cell_type": "code",
      "source": [
        "while lst1:\n",
        "  print(lst1.pop())"
      ],
      "metadata": {
        "colab": {
          "base_uri": "https://localhost:8080/"
        },
        "id": "bn8PyjDD8qkn",
        "outputId": "7160bef9-630b-49df-8714-d0b81dcc0ada"
      },
      "execution_count": 154,
      "outputs": [
        {
          "output_type": "stream",
          "name": "stdout",
          "text": [
            "89\n",
            "78\n",
            "67\n",
            "56\n",
            "45\n",
            "34\n",
            "23\n",
            "12\n",
            "110\n",
            "99\n",
            "88\n",
            "77\n",
            "66\n",
            "55\n",
            "44\n",
            "33\n",
            "22\n",
            "11\n",
            "10\n",
            "9\n",
            "8\n",
            "7\n",
            "6\n",
            "5\n",
            "4\n",
            "3\n",
            "2\n",
            "1\n"
          ]
        }
      ]
    },
    {
      "cell_type": "code",
      "source": [
        "# write a program where number is divisible by 5 and 7\n",
        "\n",
        "num1 = int(input('Enter a number '))\n",
        "\n",
        "while (num1%5==0) and (num1%7==0):\n",
        "  print(num1, 'is divisible by 5 and 7')\n",
        "  break\n",
        "else:\n",
        "  print(num1, 'is not divisible by 5 and 7')"
      ],
      "metadata": {
        "colab": {
          "base_uri": "https://localhost:8080/"
        },
        "id": "iKK93L__8vaX",
        "outputId": "d00c1641-862a-4bb4-daa9-c561ea4f120d"
      },
      "execution_count": 155,
      "outputs": [
        {
          "output_type": "stream",
          "name": "stdout",
          "text": [
            "Enter a number 35\n",
            "35 is divisible by 5 and 7\n"
          ]
        }
      ]
    },
    {
      "cell_type": "code",
      "source": [
        "lst1 = [12,23,34,45,56,67,78,89,90,21,32,43,54,65,76,87,98,9]\n",
        "\n",
        "for i in lst1:\n",
        "  print('value of i ', i)"
      ],
      "metadata": {
        "colab": {
          "base_uri": "https://localhost:8080/"
        },
        "id": "rJufWuz_87rO",
        "outputId": "d725d608-6754-4240-bd2f-807ca10d89c0"
      },
      "execution_count": 156,
      "outputs": [
        {
          "output_type": "stream",
          "name": "stdout",
          "text": [
            "value of i  12\n",
            "value of i  23\n",
            "value of i  34\n",
            "value of i  45\n",
            "value of i  56\n",
            "value of i  67\n",
            "value of i  78\n",
            "value of i  89\n",
            "value of i  90\n",
            "value of i  21\n",
            "value of i  32\n",
            "value of i  43\n",
            "value of i  54\n",
            "value of i  65\n",
            "value of i  76\n",
            "value of i  87\n",
            "value of i  98\n",
            "value of i  9\n"
          ]
        }
      ]
    },
    {
      "cell_type": "code",
      "source": [
        "tup1 = ('apple','banana','cherries','dates','eggfruit','fig','grapes','honeyfruit')\n",
        "\n",
        "for i in tup1:\n",
        "  print('value of i ', i)"
      ],
      "metadata": {
        "colab": {
          "base_uri": "https://localhost:8080/"
        },
        "id": "DE3ijlDD9Do-",
        "outputId": "637385b7-aab2-45f2-b801-04afac7e9fd4"
      },
      "execution_count": 157,
      "outputs": [
        {
          "output_type": "stream",
          "name": "stdout",
          "text": [
            "value of i  apple\n",
            "value of i  banana\n",
            "value of i  cherries\n",
            "value of i  dates\n",
            "value of i  eggfruit\n",
            "value of i  fig\n",
            "value of i  grapes\n",
            "value of i  honeyfruit\n"
          ]
        }
      ]
    },
    {
      "cell_type": "code",
      "source": [
        "set1 = {'apple','banana','cherries','dates','eggfruit','fig','grapes','honeyfruit',12,23,34,45,56,67,78,89,90,21,32,43,54,65,76,87,98,9}\n",
        "\n",
        "for i in set1:\n",
        "  print('value of i ', i)"
      ],
      "metadata": {
        "colab": {
          "base_uri": "https://localhost:8080/"
        },
        "id": "k_n0wBtp9I_j",
        "outputId": "3bc2143e-82e8-406e-f448-a664963cc7aa"
      },
      "execution_count": 158,
      "outputs": [
        {
          "output_type": "stream",
          "name": "stdout",
          "text": [
            "value of i  65\n",
            "value of i  67\n",
            "value of i  honeyfruit\n",
            "value of i  9\n",
            "value of i  12\n",
            "value of i  76\n",
            "value of i  78\n",
            "value of i  21\n",
            "value of i  23\n",
            "value of i  87\n",
            "value of i  89\n",
            "value of i  90\n",
            "value of i  grapes\n",
            "value of i  32\n",
            "value of i  fig\n",
            "value of i  34\n",
            "value of i  98\n",
            "value of i  banana\n",
            "value of i  43\n",
            "value of i  45\n",
            "value of i  dates\n",
            "value of i  eggfruit\n",
            "value of i  54\n",
            "value of i  cherries\n",
            "value of i  56\n",
            "value of i  apple\n"
          ]
        }
      ]
    },
    {
      "cell_type": "code",
      "source": [
        "str1 = 'Peppa prefer Python Programming'\n",
        "print(len(str1))\n",
        "for i in str1:\n",
        "  print('value of i ', i)"
      ],
      "metadata": {
        "colab": {
          "base_uri": "https://localhost:8080/"
        },
        "id": "L-_pxK2u9PxC",
        "outputId": "050453f4-b5cd-418b-ba5d-de3397d2b592"
      },
      "execution_count": 159,
      "outputs": [
        {
          "output_type": "stream",
          "name": "stdout",
          "text": [
            "31\n",
            "value of i  P\n",
            "value of i  e\n",
            "value of i  p\n",
            "value of i  p\n",
            "value of i  a\n",
            "value of i   \n",
            "value of i  p\n",
            "value of i  r\n",
            "value of i  e\n",
            "value of i  f\n",
            "value of i  e\n",
            "value of i  r\n",
            "value of i   \n",
            "value of i  P\n",
            "value of i  y\n",
            "value of i  t\n",
            "value of i  h\n",
            "value of i  o\n",
            "value of i  n\n",
            "value of i   \n",
            "value of i  P\n",
            "value of i  r\n",
            "value of i  o\n",
            "value of i  g\n",
            "value of i  r\n",
            "value of i  a\n",
            "value of i  m\n",
            "value of i  m\n",
            "value of i  i\n",
            "value of i  n\n",
            "value of i  g\n"
          ]
        }
      ]
    },
    {
      "cell_type": "code",
      "source": [
        "dict1 = {'a':'apple', 'b':'ball', 'c': 'cat', 'd': 'doll'}\n",
        "\n",
        "for i in dict1:\n",
        "  print('value of i ', i)"
      ],
      "metadata": {
        "colab": {
          "base_uri": "https://localhost:8080/"
        },
        "id": "vPZwBJyVBLRO",
        "outputId": "d2441370-6658-4da2-a533-7cbac303a8bc"
      },
      "execution_count": 164,
      "outputs": [
        {
          "output_type": "stream",
          "name": "stdout",
          "text": [
            "value of i  a\n",
            "value of i  b\n",
            "value of i  c\n",
            "value of i  d\n"
          ]
        }
      ]
    },
    {
      "cell_type": "code",
      "source": [
        "for i in range(10): # 0,1,2,3,4,5,6,7,8,9\n",
        "  print('value of i ', i)"
      ],
      "metadata": {
        "colab": {
          "base_uri": "https://localhost:8080/"
        },
        "id": "AMrtBPGTBcWE",
        "outputId": "a6b0bb9d-8907-40b6-9602-fe5e18f66bf6"
      },
      "execution_count": 165,
      "outputs": [
        {
          "output_type": "stream",
          "name": "stdout",
          "text": [
            "value of i  0\n",
            "value of i  1\n",
            "value of i  2\n",
            "value of i  3\n",
            "value of i  4\n",
            "value of i  5\n",
            "value of i  6\n",
            "value of i  7\n",
            "value of i  8\n",
            "value of i  9\n"
          ]
        }
      ]
    },
    {
      "cell_type": "code",
      "source": [
        "for i in range(0,10): # 0,1,2,3,4,5,6,7,8,9\n",
        "  print('value of i ', i)"
      ],
      "metadata": {
        "colab": {
          "base_uri": "https://localhost:8080/"
        },
        "id": "Z8ULuapnBim2",
        "outputId": "2d6a32f5-5228-4d73-b2e9-d0c975734c2b"
      },
      "execution_count": 166,
      "outputs": [
        {
          "output_type": "stream",
          "name": "stdout",
          "text": [
            "value of i  0\n",
            "value of i  1\n",
            "value of i  2\n",
            "value of i  3\n",
            "value of i  4\n",
            "value of i  5\n",
            "value of i  6\n",
            "value of i  7\n",
            "value of i  8\n",
            "value of i  9\n"
          ]
        }
      ]
    },
    {
      "cell_type": "code",
      "source": [
        "for i in range(0,10,1): # (start, stop, step) 0,1,2,3,4,5,6,7,8,9\n",
        "  print('value of i ', i)"
      ],
      "metadata": {
        "colab": {
          "base_uri": "https://localhost:8080/"
        },
        "id": "v_5_4ty2BmZO",
        "outputId": "c8c47e89-13ad-4be6-e3ce-fbb7ece1acf2"
      },
      "execution_count": 169,
      "outputs": [
        {
          "output_type": "stream",
          "name": "stdout",
          "text": [
            "value of i  0\n",
            "value of i  1\n",
            "value of i  2\n",
            "value of i  3\n",
            "value of i  4\n",
            "value of i  5\n",
            "value of i  6\n",
            "value of i  7\n",
            "value of i  8\n",
            "value of i  9\n"
          ]
        }
      ]
    },
    {
      "cell_type": "code",
      "source": [
        "for i in range(0,10,2): # (start, stop, step)\n",
        "  print('value of i ', i)"
      ],
      "metadata": {
        "colab": {
          "base_uri": "https://localhost:8080/"
        },
        "id": "RARVaRIRBwxg",
        "outputId": "0c548c95-8bd9-4af1-a93a-4d2d6360646e"
      },
      "execution_count": 170,
      "outputs": [
        {
          "output_type": "stream",
          "name": "stdout",
          "text": [
            "value of i  0\n",
            "value of i  2\n",
            "value of i  4\n",
            "value of i  6\n",
            "value of i  8\n"
          ]
        }
      ]
    },
    {
      "cell_type": "code",
      "source": [
        "for i in range(10): # 0,1,2,3,4,5,6,7,8,9\n",
        "  for j in range(10): # 0,1,2,3,4,5,6,7,8,9\n",
        "    print('*', end=' ')\n",
        "  print('\\r')"
      ],
      "metadata": {
        "colab": {
          "base_uri": "https://localhost:8080/"
        },
        "id": "2R-eMKK4B0-n",
        "outputId": "165f9143-2f51-44f5-a455-e471311ac74a"
      },
      "execution_count": 171,
      "outputs": [
        {
          "output_type": "stream",
          "name": "stdout",
          "text": [
            "* * * * * * * * * * \r\n",
            "* * * * * * * * * * \r\n",
            "* * * * * * * * * * \r\n",
            "* * * * * * * * * * \r\n",
            "* * * * * * * * * * \r\n",
            "* * * * * * * * * * \r\n",
            "* * * * * * * * * * \r\n",
            "* * * * * * * * * * \r\n",
            "* * * * * * * * * * \r\n",
            "* * * * * * * * * * \r\n"
          ]
        }
      ]
    },
    {
      "cell_type": "code",
      "source": [
        "k=0\n",
        "for i in range(10): # 0,1,2,3,4,5,6,7,8,9\n",
        "  for j in range(10): # 0,1,2,3,4,5,6,7,8,9\n",
        "    k +=1\n",
        "    print(k, end=' ')\n",
        "\n",
        "  print('\\r')"
      ],
      "metadata": {
        "colab": {
          "base_uri": "https://localhost:8080/"
        },
        "id": "lpHMDROEB8nH",
        "outputId": "e0ddbc95-317c-4cf6-f6fa-d930a77eb566"
      },
      "execution_count": 172,
      "outputs": [
        {
          "output_type": "stream",
          "name": "stdout",
          "text": [
            "1 2 3 4 5 6 7 8 9 10 \r\n",
            "11 12 13 14 15 16 17 18 19 20 \r\n",
            "21 22 23 24 25 26 27 28 29 30 \r\n",
            "31 32 33 34 35 36 37 38 39 40 \r\n",
            "41 42 43 44 45 46 47 48 49 50 \r\n",
            "51 52 53 54 55 56 57 58 59 60 \r\n",
            "61 62 63 64 65 66 67 68 69 70 \r\n",
            "71 72 73 74 75 76 77 78 79 80 \r\n",
            "81 82 83 84 85 86 87 88 89 90 \r\n",
            "91 92 93 94 95 96 97 98 99 100 \r\n"
          ]
        }
      ]
    },
    {
      "cell_type": "code",
      "source": [
        "# Outer loop for the number of rows (10 rows in total)\n",
        "for i in range(10):\n",
        "    # Inner loop for printing spaces before the stars, adjusting based on the current row\n",
        "    for j in range(0, 10 - i):\n",
        "        print(' ', end='')\n",
        "\n",
        "    # Inner loop for printing stars, adjusting based on the current row\n",
        "    for k in range(0, i + 1):\n",
        "        print('*', end=' ')\n",
        "\n",
        "    # Move to the next line after printing each row\n",
        "    print('\\r')\n"
      ],
      "metadata": {
        "colab": {
          "base_uri": "https://localhost:8080/"
        },
        "id": "4vNBdYTBCGjm",
        "outputId": "e6a88833-0fa4-4c67-f828-84dc72cae70d"
      },
      "execution_count": 178,
      "outputs": [
        {
          "output_type": "stream",
          "name": "stdout",
          "text": [
            "          * \r\n",
            "         * * \r\n",
            "        * * * \r\n",
            "       * * * * \r\n",
            "      * * * * * \r\n",
            "     * * * * * * \r\n",
            "    * * * * * * * \r\n",
            "   * * * * * * * * \r\n",
            "  * * * * * * * * * \r\n",
            " * * * * * * * * * * \r\n"
          ]
        }
      ]
    },
    {
      "cell_type": "code",
      "source": [
        "# Outer loop for the number of rows (10 rows in total)\n",
        "for i in range(10):\n",
        "    # Inner loop for printing spaces before the stars, adjusting based on the current row\n",
        "    for j in range(0, i):\n",
        "        print(' ', end='')\n",
        "\n",
        "    # Inner loop for printing stars, adjusting based on the current row\n",
        "    for k in range(10, i, -1):\n",
        "        print('*', end=' ')\n",
        "\n",
        "    # Move to the next line after printing each row\n",
        "    print('\\r')\n"
      ],
      "metadata": {
        "colab": {
          "base_uri": "https://localhost:8080/"
        },
        "id": "rScKkEK-CQ1C",
        "outputId": "cfc94f01-48ed-4679-ac46-9a606b0cf747"
      },
      "execution_count": 179,
      "outputs": [
        {
          "output_type": "stream",
          "name": "stdout",
          "text": [
            "* * * * * * * * * * \r\n",
            " * * * * * * * * * \r\n",
            "  * * * * * * * * \r\n",
            "   * * * * * * * \r\n",
            "    * * * * * * \r\n",
            "     * * * * * \r\n",
            "      * * * * \r\n",
            "       * * * \r\n",
            "        * * \r\n",
            "         * \r\n"
          ]
        }
      ]
    }
  ]
}