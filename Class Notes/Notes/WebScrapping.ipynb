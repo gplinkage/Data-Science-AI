{
  "nbformat": 4,
  "nbformat_minor": 0,
  "metadata": {
    "colab": {
      "provenance": [],
      "authorship_tag": "ABX9TyM1gNZwXV0kBoPHu4iQotfp",
      "include_colab_link": true
    },
    "kernelspec": {
      "name": "python3",
      "display_name": "Python 3"
    },
    "language_info": {
      "name": "python"
    }
  },
  "cells": [
    {
      "cell_type": "markdown",
      "metadata": {
        "id": "view-in-github",
        "colab_type": "text"
      },
      "source": [
        "<a href=\"https://colab.research.google.com/github/gplinkage/DataScienceBootCamp/blob/main/Class%20Notes/Notes/WebScrapping.ipynb\" target=\"_parent\"><img src=\"https://colab.research.google.com/assets/colab-badge.svg\" alt=\"Open In Colab\"/></a>"
      ]
    },
    {
      "cell_type": "code",
      "execution_count": 25,
      "metadata": {
        "id": "3TzJMCgnc94U"
      },
      "outputs": [],
      "source": [
        "import numpy as np\n",
        "import pandas as pd\n",
        "import requests\n",
        "from bs4 import BeautifulSoup"
      ]
    },
    {
      "cell_type": "code",
      "source": [
        "url = 'https://www.naukri.com/it-jobs?src=gnbjobs_homepage_srch'"
      ],
      "metadata": {
        "id": "MqJEHHOjfLeP"
      },
      "execution_count": 26,
      "outputs": []
    },
    {
      "cell_type": "code",
      "source": [
        "# Send a GET request to the URL\n",
        "response = requests.get(url)\n",
        "\n",
        "# Check if the request was successful (status code 200)\n",
        "if response.status_code == 200:\n",
        "    html = response.text\n",
        "\n",
        "    # Parse the HTML content with BeautifulSoup\n",
        "    soup = BeautifulSoup(html, 'html.parser')"
      ],
      "metadata": {
        "id": "GlkSkCKUk-EC"
      },
      "execution_count": 27,
      "outputs": []
    },
    {
      "cell_type": "code",
      "source": [
        "# Find the elements containing job titles, companies, and locations\n",
        "job_titles = soup.find_all('li', class_='desig')\n",
        "companies = soup.find_all('span', class_='org')\n",
        "locations = soup.find_all('span', class_='loc')"
      ],
      "metadata": {
        "id": "_9M4jmfwlGX6"
      },
      "execution_count": 28,
      "outputs": []
    },
    {
      "cell_type": "code",
      "source": [
        "# Extract and print the information\n",
        "for title, company, location in zip(job_titles, companies, locations):\n",
        "  print(f\"Job Title: {title.text.strip()}\")\n",
        "  print(f\"Company: {company.text.strip()}\")\n",
        "  print(f\"Location: {location.text.strip()}\")\n",
        "  print('-' * 30)\n",
        "else:\n",
        "  print(f'Failed to retrieve the webpage. Status code: {response.status_code}')"
      ],
      "metadata": {
        "colab": {
          "base_uri": "https://localhost:8080/"
        },
        "id": "WX7hFB74lKpb",
        "outputId": "345a3382-525a-4171-debf-f0292a0bb8ea"
      },
      "execution_count": 30,
      "outputs": [
        {
          "output_type": "stream",
          "name": "stdout",
          "text": [
            "Failed to retrieve the webpage. Status code: 200\n"
          ]
        }
      ]
    }
  ]
}