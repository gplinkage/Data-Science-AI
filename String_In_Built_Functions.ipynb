{
  "nbformat": 4,
  "nbformat_minor": 0,
  "metadata": {
    "colab": {
      "provenance": [],
      "authorship_tag": "ABX9TyMMd6PCt5RsussmkFaJ06EU",
      "include_colab_link": true
    },
    "kernelspec": {
      "name": "python3",
      "display_name": "Python 3"
    },
    "language_info": {
      "name": "python"
    }
  },
  "cells": [
    {
      "cell_type": "markdown",
      "metadata": {
        "id": "view-in-github",
        "colab_type": "text"
      },
      "source": [
        "<a href=\"https://colab.research.google.com/github/gplinkage/DataScienceBootCamp/blob/main/String_In_Built_Functions.ipynb\" target=\"_parent\"><img src=\"https://colab.research.google.com/assets/colab-badge.svg\" alt=\"Open In Colab\"/></a>"
      ]
    },
    {
      "cell_type": "code",
      "execution_count": 6,
      "metadata": {
        "colab": {
          "base_uri": "https://localhost:8080/"
        },
        "id": "x0BOQSaESC9W",
        "outputId": "ea9899b9-b187-470d-c951-3689b2c2e723"
      },
      "outputs": [
        {
          "output_type": "stream",
          "name": "stdout",
          "text": [
            "HloWrd\n"
          ]
        }
      ],
      "source": [
        "temp_str=\"Hello World\"\n",
        "print(temp_str[::2])\n",
        "#string slicing [start:stop:step]"
      ]
    },
    {
      "cell_type": "code",
      "source": [
        "dir(temp_str)\n"
      ],
      "metadata": {
        "colab": {
          "base_uri": "https://localhost:8080/"
        },
        "id": "TtBTPsBcSmbY",
        "outputId": "7c5b7ec7-77a2-4c89-b848-1ad663af932b"
      },
      "execution_count": 7,
      "outputs": [
        {
          "output_type": "execute_result",
          "data": {
            "text/plain": [
              "['__add__',\n",
              " '__class__',\n",
              " '__contains__',\n",
              " '__delattr__',\n",
              " '__dir__',\n",
              " '__doc__',\n",
              " '__eq__',\n",
              " '__format__',\n",
              " '__ge__',\n",
              " '__getattribute__',\n",
              " '__getitem__',\n",
              " '__getnewargs__',\n",
              " '__gt__',\n",
              " '__hash__',\n",
              " '__init__',\n",
              " '__init_subclass__',\n",
              " '__iter__',\n",
              " '__le__',\n",
              " '__len__',\n",
              " '__lt__',\n",
              " '__mod__',\n",
              " '__mul__',\n",
              " '__ne__',\n",
              " '__new__',\n",
              " '__reduce__',\n",
              " '__reduce_ex__',\n",
              " '__repr__',\n",
              " '__rmod__',\n",
              " '__rmul__',\n",
              " '__setattr__',\n",
              " '__sizeof__',\n",
              " '__str__',\n",
              " '__subclasshook__',\n",
              " 'capitalize',\n",
              " 'casefold',\n",
              " 'center',\n",
              " 'count',\n",
              " 'encode',\n",
              " 'endswith',\n",
              " 'expandtabs',\n",
              " 'find',\n",
              " 'format',\n",
              " 'format_map',\n",
              " 'index',\n",
              " 'isalnum',\n",
              " 'isalpha',\n",
              " 'isascii',\n",
              " 'isdecimal',\n",
              " 'isdigit',\n",
              " 'isidentifier',\n",
              " 'islower',\n",
              " 'isnumeric',\n",
              " 'isprintable',\n",
              " 'isspace',\n",
              " 'istitle',\n",
              " 'isupper',\n",
              " 'join',\n",
              " 'ljust',\n",
              " 'lower',\n",
              " 'lstrip',\n",
              " 'maketrans',\n",
              " 'partition',\n",
              " 'removeprefix',\n",
              " 'removesuffix',\n",
              " 'replace',\n",
              " 'rfind',\n",
              " 'rindex',\n",
              " 'rjust',\n",
              " 'rpartition',\n",
              " 'rsplit',\n",
              " 'rstrip',\n",
              " 'split',\n",
              " 'splitlines',\n",
              " 'startswith',\n",
              " 'strip',\n",
              " 'swapcase',\n",
              " 'title',\n",
              " 'translate',\n",
              " 'upper',\n",
              " 'zfill']"
            ]
          },
          "metadata": {},
          "execution_count": 7
        }
      ]
    },
    {
      "cell_type": "code",
      "source": [
        "# Takes 1st character of string to upper case\n",
        "temp_str = \"hello world\"\n",
        "print(temp_str.capitalize())"
      ],
      "metadata": {
        "colab": {
          "base_uri": "https://localhost:8080/"
        },
        "id": "X1BYKFTXTezz",
        "outputId": "e28874a4-3825-4bef-e4c6-7ab44d40aff3"
      },
      "execution_count": 10,
      "outputs": [
        {
          "output_type": "stream",
          "name": "stdout",
          "text": [
            "Hello world\n"
          ]
        }
      ]
    },
    {
      "cell_type": "code",
      "source": [
        "#Returns a string wehre all charecters are lowercase\n",
        "temp_str= \"HeLLo World\"\n",
        "print(temp_str.casefold())\n"
      ],
      "metadata": {
        "colab": {
          "base_uri": "https://localhost:8080/"
        },
        "id": "qVDmR0_vUTjp",
        "outputId": "956724c6-676b-41b3-f1d0-7bff285f4d78"
      },
      "execution_count": 11,
      "outputs": [
        {
          "output_type": "stream",
          "name": "stdout",
          "text": [
            "hello world\n"
          ]
        }
      ]
    },
    {
      "cell_type": "code",
      "source": [
        "# Increases length of string by adding whatever charecter is mentioned if not by default fills by space\n",
        "temp_str= \"HeLLo WorLd\"\n",
        "print (len(temp_str))\n",
        "print(temp_str.center(18,\"*\"))\n"
      ],
      "metadata": {
        "colab": {
          "base_uri": "https://localhost:8080/"
        },
        "id": "U6Up0v7LUwWi",
        "outputId": "86f49e59-b5e9-4c86-c133-7f8b33213527"
      },
      "execution_count": 19,
      "outputs": [
        {
          "output_type": "stream",
          "name": "stdout",
          "text": [
            "***HeLLo WorLd****\n"
          ]
        }
      ]
    },
    {
      "cell_type": "code",
      "source": [
        "# Returns how many times the substring appears in the given range by default picks full string\n",
        "temp_str= \"HeLLo WorLd, how is it going? Hello world\".casefold()\n",
        "print(temp_str)\n",
        "print(temp_str.count(\"Hello\"))\n",
        "print(temp_str.count(\"hello\"))\n",
        "\n",
        "#how to give range?\n",
        "# count(value,start,end) #start and end are optional if not given takes full string\n",
        "print(temp_str.count(\"hello\",2))\n",
        "print(temp_str.count(\" hello\"))\n",
        "print(temp_str.count(\"hello \"))\n"
      ],
      "metadata": {
        "colab": {
          "base_uri": "https://localhost:8080/"
        },
        "id": "Xkri25gIWNKK",
        "outputId": "a6d93422-f385-434d-fa6d-5aa4a81f320a"
      },
      "execution_count": 38,
      "outputs": [
        {
          "output_type": "stream",
          "name": "stdout",
          "text": [
            "hello world, how is it going? hello world\n",
            "0\n",
            "2\n",
            "1\n",
            "1\n",
            "2\n"
          ]
        }
      ]
    },
    {
      "cell_type": "code",
      "source": [
        "# returns True or False on the basis of Suffix passed.\n",
        "temp_str = \"HeLLo WorLD how is it going? Hello all good!\"\n",
        "print(temp_str.endswith(\"god!\"))\n",
        "print(temp_str.endswith(\"good!\"))\n",
        "#endwith(value, start, end)\n",
        "print(temp_str.endswith(\"o\", 0,4))\n",
        "print(temp_str.endswith(\"o\", 0,5))"
      ],
      "metadata": {
        "colab": {
          "base_uri": "https://localhost:8080/"
        },
        "id": "BvTPOUxlbmZA",
        "outputId": "dff11ebc-5b37-42ec-efe8-3d543bdb0a91"
      },
      "execution_count": 45,
      "outputs": [
        {
          "output_type": "stream",
          "name": "stdout",
          "text": [
            "False\n",
            "True\n",
            "False\n",
            "True\n"
          ]
        }
      ]
    },
    {
      "cell_type": "code",
      "source": [
        "# returns lowest index of the substring if found else returns -1\n",
        "temp_str = \"HeLLo WorLD how is it going? Hello all good!\"\n",
        "print(temp_str.find(\"how\"))"
      ],
      "metadata": {
        "colab": {
          "base_uri": "https://localhost:8080/"
        },
        "id": "u8fWCyotcyO8",
        "outputId": "c9a6edf3-2e8a-4682-c296-9185aba109f9"
      },
      "execution_count": 55,
      "outputs": [
        {
          "output_type": "stream",
          "name": "stdout",
          "text": [
            "12\n"
          ]
        }
      ]
    },
    {
      "cell_type": "code",
      "source": [
        "#\n",
        "temp_str = \"Hell my name is {fname}, I am a {position}!\"\n",
        "print(temp_str)\n",
        "print(temp_str.format(fname = \"Gov\", position=\"Data Scientist\"))\n",
        "\n",
        "temp_str2 = \"Hell my name is {0}, I am a {1}!\"\n",
        "print(temp_str2)\n",
        "print(temp_str2.format(\"Gov\", \"Data Scientist\"))"
      ],
      "metadata": {
        "colab": {
          "base_uri": "https://localhost:8080/"
        },
        "id": "1uAqPYuCe89x",
        "outputId": "6daddade-6160-4c50-e7d3-3039a9c12660"
      },
      "execution_count": 66,
      "outputs": [
        {
          "output_type": "stream",
          "name": "stdout",
          "text": [
            "Hell my name is {fname}, I am a {position}!\n",
            "Hell my name is Gov, I am a Data Scientist!\n",
            "Hell my name is {0}, I am a {1}!\n",
            "Hell my name is Gov, I am a Data Scientist!\n"
          ]
        }
      ]
    },
    {
      "cell_type": "code",
      "source": [
        "#Functions to practice\n",
        "# format map\n",
        "# expandtabs"
      ],
      "metadata": {
        "id": "QbSB6mm9hYOf"
      },
      "execution_count": null,
      "outputs": []
    },
    {
      "cell_type": "code",
      "source": [
        "# replica of find function but this returns error if nothing found\n",
        "temp_str = \"HeLLo WorLD how is it going? Hello all good!\"\n",
        "print(temp_str.index(\"how\"))\n",
        "print(temp_str.index(\"howl\"))\n",
        "\n"
      ],
      "metadata": {
        "colab": {
          "base_uri": "https://localhost:8080/",
          "height": 242
        },
        "id": "VOvoad0IhV0T",
        "outputId": "042f48d9-f4ed-4d1c-8045-007eaf30f08f"
      },
      "execution_count": 69,
      "outputs": [
        {
          "output_type": "stream",
          "name": "stdout",
          "text": [
            "12\n"
          ]
        },
        {
          "output_type": "error",
          "ename": "ValueError",
          "evalue": "ignored",
          "traceback": [
            "\u001b[0;31m---------------------------------------------------------------------------\u001b[0m",
            "\u001b[0;31mValueError\u001b[0m                                Traceback (most recent call last)",
            "\u001b[0;32m<ipython-input-69-862a15091265>\u001b[0m in \u001b[0;36m<cell line: 4>\u001b[0;34m()\u001b[0m\n\u001b[1;32m      2\u001b[0m \u001b[0mtemp_str\u001b[0m \u001b[0;34m=\u001b[0m \u001b[0;34m\"HeLLo WorLD how is it going? Hello all good!\"\u001b[0m\u001b[0;34m\u001b[0m\u001b[0;34m\u001b[0m\u001b[0m\n\u001b[1;32m      3\u001b[0m \u001b[0mprint\u001b[0m\u001b[0;34m(\u001b[0m\u001b[0mtemp_str\u001b[0m\u001b[0;34m.\u001b[0m\u001b[0mindex\u001b[0m\u001b[0;34m(\u001b[0m\u001b[0;34m\"how\"\u001b[0m\u001b[0;34m)\u001b[0m\u001b[0;34m)\u001b[0m\u001b[0;34m\u001b[0m\u001b[0;34m\u001b[0m\u001b[0m\n\u001b[0;32m----> 4\u001b[0;31m \u001b[0mprint\u001b[0m\u001b[0;34m(\u001b[0m\u001b[0mtemp_str\u001b[0m\u001b[0;34m.\u001b[0m\u001b[0mindex\u001b[0m\u001b[0;34m(\u001b[0m\u001b[0;34m\"howl\"\u001b[0m\u001b[0;34m)\u001b[0m\u001b[0;34m)\u001b[0m\u001b[0;34m\u001b[0m\u001b[0;34m\u001b[0m\u001b[0m\n\u001b[0m\u001b[1;32m      5\u001b[0m \u001b[0;34m\u001b[0m\u001b[0m\n",
            "\u001b[0;31mValueError\u001b[0m: substring not found"
          ]
        }
      ]
    },
    {
      "cell_type": "code",
      "source": [
        "#Returns True if only numbers and alphabets are present else return false\n",
        "temp_str = \"HeLLo WorLD how is it going? Hello all good!\"\n",
        "print(temp_str.isalnum())\n",
        "temp_str5 = \"Sdf2345\"\n",
        "print(temp_str5.isalnum())"
      ],
      "metadata": {
        "colab": {
          "base_uri": "https://localhost:8080/"
        },
        "id": "ERR0U9WQi5cu",
        "outputId": "cee9d68b-3b5f-4b73-ac57-02667eb83f3f"
      },
      "execution_count": 75,
      "outputs": [
        {
          "output_type": "stream",
          "name": "stdout",
          "text": [
            "False\n",
            "True\n"
          ]
        }
      ]
    },
    {
      "cell_type": "code",
      "source": [
        "temp_str =\"helloworld\"\n",
        "temp_str1 =\"1234565\"\n",
        "temp_str2 = \"1234abcd\"\n",
        "print(temp_str.isalpha())\n",
        "print(temp_str1.isalpha())\n",
        "print(temp_str2.isalpha())"
      ],
      "metadata": {
        "colab": {
          "base_uri": "https://localhost:8080/"
        },
        "id": "M6rHcm_pj0W0",
        "outputId": "b4b77bc7-4bb2-4a01-d9cd-c635f30109a5"
      },
      "execution_count": 77,
      "outputs": [
        {
          "output_type": "stream",
          "name": "stdout",
          "text": [
            "True\n",
            "False\n",
            "False\n"
          ]
        }
      ]
    },
    {
      "cell_type": "code",
      "source": [
        "#Only takes numbers (0-9) otherwise returns false\n",
        "temp_str=\"HeLLo WorLD\"\n",
        "print(temp_str.isdecimal())\n",
        "temp_str1=\"1234567\"\n",
        "print(temp_str1.isdecimal())\n",
        "temp_str2=\" 1234567 \"\n",
        "print(temp_str2.isdecimal())\n",
        "unicode_0=\"\\u0030\"\n",
        "print(unicode_0.isdecimal())"
      ],
      "metadata": {
        "colab": {
          "base_uri": "https://localhost:8080/"
        },
        "id": "96qc6bk-kb71",
        "outputId": "33952597-5ca9-4e54-ac98-9ce649fbe1c8"
      },
      "execution_count": 82,
      "outputs": [
        {
          "output_type": "stream",
          "name": "stdout",
          "text": [
            "False\n",
            "True\n",
            "False\n",
            "True\n"
          ]
        }
      ]
    },
    {
      "cell_type": "code",
      "source": [
        "temp_str=\"0123456789\"\n",
        "temp_str1=\"Hello World\"\n",
        "temp_str2=\"\\u0030\"\n",
        "print(temp_str.isdigit())\n",
        "print(temp_str1.isdigit())\n",
        "print(temp_str2.isdigit())"
      ],
      "metadata": {
        "colab": {
          "base_uri": "https://localhost:8080/"
        },
        "id": "31OyurfblSJN",
        "outputId": "b1a32353-2d77-441a-8df4-635beca5bc14"
      },
      "execution_count": 84,
      "outputs": [
        {
          "output_type": "stream",
          "name": "stdout",
          "text": [
            "True\n",
            "False\n",
            "True\n"
          ]
        }
      ]
    }
  ]
}