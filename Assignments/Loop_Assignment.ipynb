{
  "nbformat": 4,
  "nbformat_minor": 0,
  "metadata": {
    "colab": {
      "provenance": [],
      "authorship_tag": "ABX9TyNDBntMKmtc+yT+1FUoWKbb",
      "include_colab_link": true
    },
    "kernelspec": {
      "name": "python3",
      "display_name": "Python 3"
    },
    "language_info": {
      "name": "python"
    }
  },
  "cells": [
    {
      "cell_type": "markdown",
      "metadata": {
        "id": "view-in-github",
        "colab_type": "text"
      },
      "source": [
        "<a href=\"https://colab.research.google.com/github/gplinkage/DataScienceBootCamp/blob/main/Assignments/Loop_Assignment.ipynb\" target=\"_parent\"><img src=\"https://colab.research.google.com/assets/colab-badge.svg\" alt=\"Open In Colab\"/></a>"
      ]
    },
    {
      "cell_type": "code",
      "execution_count": null,
      "metadata": {
        "id": "uRbtJ6xiFPjm"
      },
      "outputs": [],
      "source": [
        "# 1) Swap two numbers using 3rd variable"
      ]
    },
    {
      "cell_type": "code",
      "source": [
        "a = 3\n",
        "b = 5\n",
        "c = a\n",
        "a = b\n",
        "b = c\n",
        "print(a)\n",
        "print(b)"
      ],
      "metadata": {
        "colab": {
          "base_uri": "https://localhost:8080/"
        },
        "id": "04ppZ4ACGjxW",
        "outputId": "afbabc13-f425-42e1-d3fc-c8316089fc6e"
      },
      "execution_count": null,
      "outputs": [
        {
          "output_type": "stream",
          "name": "stdout",
          "text": [
            "5\n",
            "3\n"
          ]
        }
      ]
    },
    {
      "cell_type": "code",
      "source": [
        "# Swap two numbers without using 3rd variable"
      ],
      "metadata": {
        "id": "lciZLtpwJQA5"
      },
      "execution_count": null,
      "outputs": []
    },
    {
      "cell_type": "code",
      "source": [
        "a = \"fname\"\n",
        "b = \"lname\"\n",
        "\n",
        "a,b = b, a\n",
        "\n",
        "print(a)\n",
        "print(b)"
      ],
      "metadata": {
        "colab": {
          "base_uri": "https://localhost:8080/"
        },
        "id": "84KSFQ5bJZxH",
        "outputId": "ccaed5e1-bde3-402a-985d-fce4d31383ea"
      },
      "execution_count": null,
      "outputs": [
        {
          "output_type": "stream",
          "name": "stdout",
          "text": [
            "lname\n",
            "fname\n"
          ]
        }
      ]
    },
    {
      "cell_type": "code",
      "source": [
        "#3) Remove duplicate elements from a list without converting to tuple\n",
        "lst1 = [ 2, 4, 2, 9, 'Yes', 'No', 'Yes', 4, 7]\n",
        "unique_list =[]\n",
        "\n",
        "for i in lst1:\n",
        "  if i not in unique_list:\n",
        "    unique_list.append(i)\n",
        "\n",
        "print(unique_list)"
      ],
      "metadata": {
        "colab": {
          "base_uri": "https://localhost:8080/"
        },
        "id": "catBwaxqJxcs",
        "outputId": "701687f1-6462-4ef6-a9c3-ca05f370f939"
      },
      "execution_count": null,
      "outputs": [
        {
          "output_type": "stream",
          "name": "stdout",
          "text": [
            "[2, 4, 9, 'Yes', 'No', 7]\n"
          ]
        }
      ]
    },
    {
      "cell_type": "code",
      "source": [
        "#3) Write a program to find greatest common divisor (GCD) or highest common factor (HCF) of given two numbers\n",
        "\n",
        "num1 = int(input(\"Enter your fist number: \"))\n",
        "num2 = int(input(\"Enter your second number: \"))\n",
        "\n",
        "smallest_number = min(num1, num2)\n",
        "\n",
        "for k in range(smallest_number,-1,-1):\n",
        "  if num1%k==0 and num2%k==0:\n",
        "    print(\"The GCD is \",k)\n",
        "    break"
      ],
      "metadata": {
        "colab": {
          "base_uri": "https://localhost:8080/"
        },
        "id": "Fwfiefn-Ns1C",
        "outputId": "d60e1e5b-5a99-4a8d-aae3-ea7912473524"
      },
      "execution_count": null,
      "outputs": [
        {
          "output_type": "stream",
          "name": "stdout",
          "text": [
            "Enter your fist number: 8\n",
            "Enter your second number: 12\n",
            "The GCD is  4\n"
          ]
        }
      ]
    },
    {
      "cell_type": "code",
      "source": [
        "# alternative approach\n",
        "import math\n",
        "\n",
        "num1 = int(input(\"Enter your fist number: \"))\n",
        "num2 = int(input(\"Enter your second number: \"))\n",
        "\n",
        "gcd= math.gcd(num1, num2)\n",
        "\n",
        "print(\"The GCD is \", gcd)"
      ],
      "metadata": {
        "colab": {
          "base_uri": "https://localhost:8080/"
        },
        "id": "WARvoMNBVt7H",
        "outputId": "abb4c6a3-caf0-4dd9-e765-7a23d147e8e4"
      },
      "execution_count": null,
      "outputs": [
        {
          "output_type": "stream",
          "name": "stdout",
          "text": [
            "Enter your fist number: 8\n",
            "Enter your second number: 12\n",
            "The GCD is  4\n"
          ]
        }
      ]
    },
    {
      "cell_type": "code",
      "source": [
        "#4) Write a loop to print following series\n",
        "#10, 20, 30,  …………………, 300\n",
        "sr1 = []\n",
        "for i in range(10,301,10):\n",
        "  sr1.append(i)\n",
        "print(sr1)\n"
      ],
      "metadata": {
        "colab": {
          "base_uri": "https://localhost:8080/"
        },
        "id": "4DzN97CAUwh8",
        "outputId": "60d09e18-ad9c-4bb8-c26e-d2501febaf11"
      },
      "execution_count": null,
      "outputs": [
        {
          "output_type": "stream",
          "name": "stdout",
          "text": [
            "[10, 20, 30, 40, 50, 60, 70, 80, 90, 100, 110, 120, 130, 140, 150, 160, 170, 180, 190, 200, 210, 220, 230, 240, 250, 260, 270, 280, 290, 300]\n"
          ]
        }
      ]
    },
    {
      "cell_type": "code",
      "source": [
        "#5) Write a loop to print following series\n",
        "#105,98,91,………………………,7\n",
        "\n",
        "sr2 = []\n",
        "\n",
        "for i in range (105,6,-7):\n",
        "  sr2.append(i)\n",
        "print (sr2)\n"
      ],
      "metadata": {
        "colab": {
          "base_uri": "https://localhost:8080/"
        },
        "id": "RLj_Ti2qWPfW",
        "outputId": "f017e8ef-4f96-4847-85a6-c6f94c6dd649"
      },
      "execution_count": null,
      "outputs": [
        {
          "output_type": "stream",
          "name": "stdout",
          "text": [
            "[105, 98, 91, 84, 77, 70, 63, 56, 49, 42, 35, 28, 21, 14, 7]\n"
          ]
        }
      ]
    },
    {
      "cell_type": "code",
      "source": [
        "#6) Write a program to print number names of digits in a number like\n",
        "#SAMPLE INPUT 231 \t\tSAMPLE OUTPUT TWO THREE ONE\n",
        "\n",
        "def digit_to_name(digit):\n",
        "  digit_names = [\"ZERO\", \"ONE\", \"TWO\", \"THREE\", \"FOUR\", \"FIVE\", \"SIX\", \"SEVEN\", \"EIGHT\", \"NINE\"]\n",
        "  return digit_names[digit] # critical code for mapping index to string lists\n",
        "\n",
        "number_str = input(\"Enter a number: \")\n",
        "\n",
        "for digit_str in number_str:\n",
        "    digit = int(digit_str)\n",
        "    digit_name = digit_to_name(digit)\n",
        "    print(digit_name, end=\" \")"
      ],
      "metadata": {
        "colab": {
          "base_uri": "https://localhost:8080/"
        },
        "id": "Dq9LXqTPW0EM",
        "outputId": "bbd9ccf7-3205-43ed-ac6a-158587176344"
      },
      "execution_count": null,
      "outputs": [
        {
          "output_type": "stream",
          "name": "stdout",
          "text": [
            "Enter a number: 321\n",
            "THREE TWO ONE "
          ]
        }
      ]
    },
    {
      "cell_type": "code",
      "source": [
        "#7) Write a program to print Fibonacci series till n terms take n =50\n",
        "def Fibonacci(n):\n",
        "  a,b = 0,1\n",
        "  for i in range(n):\n",
        "    c= a+b\n",
        "    print (c, end=\" \")\n",
        "    a=b\n",
        "    b=c"
      ],
      "metadata": {
        "id": "bbLaTZnUdUvT"
      },
      "execution_count": null,
      "outputs": []
    },
    {
      "cell_type": "code",
      "source": [
        "Fibonacci(50)"
      ],
      "metadata": {
        "colab": {
          "base_uri": "https://localhost:8080/"
        },
        "id": "lo48zyKCfWA7",
        "outputId": "b6c37e48-3629-406e-a8b1-69d3cf48b8a7"
      },
      "execution_count": null,
      "outputs": [
        {
          "output_type": "stream",
          "name": "stdout",
          "text": [
            "1 2 3 5 8 13 21 34 55 89 144 233 377 610 987 1597 2584 4181 6765 10946 17711 28657 46368 75025 121393 196418 317811 514229 832040 1346269 2178309 3524578 5702887 9227465 14930352 24157817 39088169 63245986 102334155 165580141 267914296 433494437 701408733 1134903170 1836311903 2971215073 4807526976 7778742049 12586269025 20365011074 "
          ]
        }
      ]
    },
    {
      "cell_type": "code",
      "source": [
        "# 8) Write a program to print factorial of a number\n",
        "num1 = int(input(\"Enter a non-negative number: \"))\n",
        "if num1>0:\n",
        "  factorial = 1\n",
        "  for i in range(1, num1 + 1):\n",
        "    factorial= factorial * i\n",
        "  print(\"Factorial:\", factorial)\n",
        "else:\n",
        "  print('invalid number, please enter a non-negative number')"
      ],
      "metadata": {
        "colab": {
          "base_uri": "https://localhost:8080/"
        },
        "id": "DhkeFhgthgfO",
        "outputId": "23ea8212-d334-4bcc-f213-0de356bc98f1"
      },
      "execution_count": null,
      "outputs": [
        {
          "output_type": "stream",
          "name": "stdout",
          "text": [
            "Enter a non-negative number: -1\n",
            "invalid number, please enter a non-negative number\n"
          ]
        }
      ]
    },
    {
      "cell_type": "code",
      "source": [
        "# 9) Write a program to check if a number is Armstrong or not\n",
        "# An Armstrong number is a number that is equal to the sum of its own digits raised to the power of the number of digits.\n",
        "\n",
        "lst1 = [2,3,4,5,6,7,8,9]\n",
        "\n",
        "def armstrong_number(num):\n",
        "    num_str = str(num)\n",
        "    num_digits = len(num_str)\n",
        "    sum_of_digits = 0\n",
        "\n",
        "    try:\n",
        "      for digit_str in num_str:\n",
        "          digit = int(digit_str)\n",
        "          sum_of_digits += digit ** num_digits\n",
        "      if sum_of_digits == num and num not in lst1:\n",
        "          return True\n",
        "      else:\n",
        "          return False\n",
        "    except ValueError as e :\n",
        "          print(\"Please enter a non-negative number\")\n",
        "\n",
        "num1 = int(input(\"Enter a non-negative number: \"))\n",
        "\n",
        "if armstrong_number(num1) == True:\n",
        "    print(num1, \" is an Armstrong number\")\n",
        "else:\n",
        "  print(num1, \" is not an Armstrong number\")\n",
        "\n"
      ],
      "metadata": {
        "colab": {
          "base_uri": "https://localhost:8080/"
        },
        "id": "XEzxMdry6sNG",
        "outputId": "8a868962-3b11-4d65-80a5-9a8f79bc7143"
      },
      "execution_count": null,
      "outputs": [
        {
          "output_type": "stream",
          "name": "stdout",
          "text": [
            "Enter a non-negative number: 153\n",
            "153  is an Armstrong number\n"
          ]
        }
      ]
    },
    {
      "cell_type": "code",
      "source": [
        "#10) Write a program to convert binary to decimal\n",
        "\n",
        "binary_number = input(\"Enter a binary number: \")\n",
        "try:\n",
        "  decimal_number = int(binary_number, 2) # binary is base-2\n",
        "\n",
        "  print(\"Decimal equivalent:\", decimal_number)\n",
        "except Exception as e:\n",
        "  print (\"Please enter valid binary number\")"
      ],
      "metadata": {
        "colab": {
          "base_uri": "https://localhost:8080/"
        },
        "id": "SQeF2SHgJubr",
        "outputId": "2d29ea27-7efd-4c5c-8132-45141f3b3515"
      },
      "execution_count": null,
      "outputs": [
        {
          "output_type": "stream",
          "name": "stdout",
          "text": [
            "Enter a binary number: 01010001\n",
            "Decimal equivalent: 81\n"
          ]
        }
      ]
    },
    {
      "cell_type": "code",
      "source": [
        "# 11) Write a program to convert decimal to binary\n",
        "try:\n",
        "  decimal_number = int(input(\"Enter a decimal number: \"))\n",
        "\n",
        "  binary_representation = \"\"\n",
        "\n",
        "  if decimal_number == 0:\n",
        "      binary_representation = \"0\"\n",
        "\n",
        "  while decimal_number > 0:\n",
        "      binary_representation = str(decimal_number % 2) + binary_representation\n",
        "      decimal_number//= 2\n",
        "  print(\"Binary equivalent:\", binary_representation)\n",
        "except Exception as e:\n",
        "      print(\"Invalid entry, please try again\")"
      ],
      "metadata": {
        "colab": {
          "base_uri": "https://localhost:8080/"
        },
        "id": "1uqX1b2-K86t",
        "outputId": "f531959a-56c5-46d5-adc1-91e5b5a82b69"
      },
      "execution_count": null,
      "outputs": [
        {
          "output_type": "stream",
          "name": "stdout",
          "text": [
            "Enter a decimal number: a\n",
            "Invalid entry, please try again\n"
          ]
        }
      ]
    },
    {
      "cell_type": "code",
      "source": [
        "#12) Write a program to check if number is palindrome on not (Without converting to string)\n",
        "try:\n",
        "  a = int(input(\"Enter a non-negative number: \"))\n",
        "  a = str(a)\n",
        "  if a == a[::-1]:\n",
        "    print(a, \" is a palindrome.\")\n",
        "\n",
        "  else:\n",
        "    print(a, \" is not a palindrome.\")\n",
        "except Exception as e:\n",
        "      print(\"Invalid entry, please try again\")"
      ],
      "metadata": {
        "colab": {
          "base_uri": "https://localhost:8080/"
        },
        "id": "p1mRbp43OxY0",
        "outputId": "41342bdb-a5df-4571-d63d-89db2ae71bb2"
      },
      "execution_count": null,
      "outputs": [
        {
          "output_type": "stream",
          "name": "stdout",
          "text": [
            "Enter a non-negative number: 123321\n",
            "123321  is a palindrome.\n"
          ]
        }
      ]
    },
    {
      "cell_type": "code",
      "source": [
        "#13) Write a program to print all numbers which are divisible by 13 but not by 3 between 100 and 500\n",
        "lst1 =[]\n",
        "for i in range (100, 500):\n",
        "  if i%13==0 and i%3!=0:\n",
        "    lst1.append(i)\n",
        "print(lst1)"
      ],
      "metadata": {
        "colab": {
          "base_uri": "https://localhost:8080/"
        },
        "id": "Mo8tzxTIQdHU",
        "outputId": "30ed638f-7bd2-403d-a304-8db0c33ead82"
      },
      "execution_count": null,
      "outputs": [
        {
          "output_type": "stream",
          "name": "stdout",
          "text": [
            "[104, 130, 143, 169, 182, 208, 221, 247, 260, 286, 299, 325, 338, 364, 377, 403, 416, 442, 455, 481, 494]\n"
          ]
        }
      ]
    },
    {
      "cell_type": "code",
      "source": [
        "#14) Write a Python program to convert temperatures to and from Celsius and Fahrenheit.\n",
        "\n",
        "def celsius_to_fahrenheit (celsius):\n",
        "   fahrenheit = round((celsius *9/5)+32,2)\n",
        "   print(f\"{celsius}°C is equal to {fahrenheit}°F\")\n",
        "\n",
        "def fahrenheit_to_celsius(fahrenheit):\n",
        "  celsius= round((fahrenheit-32)* 5/9,2)\n",
        "  print(f\"{fahrenheit}°F is equal to {celsius}°C\")"
      ],
      "metadata": {
        "id": "SRC_OImlRoJy"
      },
      "execution_count": null,
      "outputs": []
    },
    {
      "cell_type": "code",
      "source": [
        "fahrenheit_to_celsius(90)"
      ],
      "metadata": {
        "colab": {
          "base_uri": "https://localhost:8080/"
        },
        "id": "SDAJfxLHTXED",
        "outputId": "bd31ee6f-25cb-4998-c600-48492d8b1685"
      },
      "execution_count": null,
      "outputs": [
        {
          "output_type": "stream",
          "name": "stdout",
          "text": [
            "90°F is equal to 32.22°C\n"
          ]
        }
      ]
    },
    {
      "cell_type": "code",
      "source": [
        "celsius_to_fahrenheit(30)"
      ],
      "metadata": {
        "colab": {
          "base_uri": "https://localhost:8080/"
        },
        "id": "1BchUVoUTYk6",
        "outputId": "cc6a9d24-dcaa-4fed-e1ae-1e9a2e664e9a"
      },
      "execution_count": null,
      "outputs": [
        {
          "output_type": "stream",
          "name": "stdout",
          "text": [
            "30°C is equal to 86.0°F\n"
          ]
        }
      ]
    },
    {
      "cell_type": "code",
      "source": [
        "#15) Write a Python program that takes two digits m (row) and n (column) as input and generates a two-dimensional array.\n",
        "#The element value in the i-th row and j-th column of the array should be i*j. else it will be 0\n",
        "\n",
        "def new_arr(m,n):\n",
        "  arr_2D =[]\n",
        "  for i in range(m):\n",
        "      row=[]\n",
        "      for j in range (n):\n",
        "        a= i*j\n",
        "        row.append(a if a>0 else 0)\n",
        "      arr_2D.append(row)\n",
        "  return arr_2D\n",
        "m = int(input(\"Enter the number of rows (m): \"))\n",
        "n = int(input(\"Enter the number of columns (n): \"))\n",
        "\n",
        "final_arr = new_arr(m,n)\n",
        "\n",
        "for row in final_arr:\n",
        "   print(row)"
      ],
      "metadata": {
        "colab": {
          "base_uri": "https://localhost:8080/"
        },
        "id": "UG7Woh8x5-SO",
        "outputId": "69cb84b5-42ee-4ddf-8707-184aabdea830"
      },
      "execution_count": null,
      "outputs": [
        {
          "output_type": "stream",
          "name": "stdout",
          "text": [
            "Enter the number of rows (m): 3\n",
            "Enter the number of columns (n): 5\n",
            "[0, 0, 0, 0, 0]\n",
            "[0, 1, 2, 3, 4]\n",
            "[0, 2, 4, 6, 8]\n"
          ]
        }
      ]
    },
    {
      "cell_type": "code",
      "source": [
        "#16. Write a Python program that accepts a string and calculates the number of digits and letters.\n",
        "#Sample Data: Python 3.2\n",
        "#Expected Output:\n",
        "#Letters 6\n",
        "#Digits 2\n",
        "\n",
        "def calculate_details(str1):\n",
        "    digit_count = 0\n",
        "    letter_count = 0\n",
        "    for i in str1:\n",
        "        if i.isdigit():\n",
        "            digit_count += 1\n",
        "        elif i.isalpha():\n",
        "            letter_count += 1\n",
        "    return digit_count, letter_count\n",
        "\n",
        "input_string = input(\"Enter a string: \")\n",
        "\n",
        "digits, letters = calculate_details(input_string)\n",
        "\n",
        "print(f\"Number of digits: {digits}\")\n",
        "print(f\"Number of letters: {letters}\")\n"
      ],
      "metadata": {
        "colab": {
          "base_uri": "https://localhost:8080/"
        },
        "id": "OpuUM8QHYd4B",
        "outputId": "933323b5-6233-4bfb-fec9-a4f1f9de075a"
      },
      "execution_count": null,
      "outputs": [
        {
          "output_type": "stream",
          "name": "stdout",
          "text": [
            "Enter a string: Python 3.2\n",
            "Number of digits: 2\n",
            "Number of letters: 6\n"
          ]
        }
      ]
    },
    {
      "cell_type": "code",
      "source": [
        "#17) Print all possible combination for a string or a word\n",
        "#Sample input “ABC”\n",
        "#Sample output\n",
        "#BAC\n",
        "#CAB\n",
        "#CBA\n",
        "#ACB\n",
        "#BCA\n",
        "\n",
        "def generate_combinations(a, b=''):\n",
        "    if not a:\n",
        "        print(b)\n",
        "    else:\n",
        "        for i in range(len(a)):\n",
        "            c = b + a[i]\n",
        "            remaining = a[:i] + a[i+1:]\n",
        "            generate_combinations(remaining, c)\n",
        "\n",
        "input_string = input(\"Enter a string: \")\n",
        "\n",
        "generate_combinations(input_string)"
      ],
      "metadata": {
        "colab": {
          "base_uri": "https://localhost:8080/"
        },
        "id": "lpOjzyQxarzJ",
        "outputId": "c6f872d9-c9b9-4236-aaa5-7a9256462b4e"
      },
      "execution_count": null,
      "outputs": [
        {
          "output_type": "stream",
          "name": "stdout",
          "text": [
            "Enter a string: AB\n",
            "AB\n",
            "BA\n"
          ]
        }
      ]
    },
    {
      "cell_type": "code",
      "source": [
        "#18) Write a Python program to check if a triangle is equilateral, isosceles or scalene. Take 3 inputs for each side\n",
        "\n",
        "side1 = input(\"Enter first side of a triange: \")\n",
        "side2 = input(\"Enter second side of a triange: \")\n",
        "side3 = input(\"Enter third side of a triange: \")\n",
        "\n",
        "if side1==side2==side3:\n",
        "  print(\"This is an equilateral triangle.\")\n",
        "elif side1==side2 or side1==side3 or side2==side3:\n",
        "  print(\"This is an isosceles triangle.\")\n",
        "else:\n",
        "  print(\"This is an scalene triangle.\")"
      ],
      "metadata": {
        "colab": {
          "base_uri": "https://localhost:8080/"
        },
        "id": "Z7SW-lzAdIv4",
        "outputId": "5db14c7b-b002-4800-8321-3b2f8827379b"
      },
      "execution_count": null,
      "outputs": [
        {
          "output_type": "stream",
          "name": "stdout",
          "text": [
            "Enter first side of a triange: 4.2\n",
            "Enter second side of a triange: 4.2\n",
            "Enter third side of a triange: 5\n",
            "This is an isosceles triangle.\n"
          ]
        }
      ]
    },
    {
      "cell_type": "code",
      "source": [
        "# 19) Write a Python program to get the next day of a given date.\n",
        "#Expected Output:\n",
        "#Input a year: 2016\n",
        "#Input a month [1-12]: 08\n",
        "#Input a day [1-31]: 23\n",
        "#The next date is [yyyy-mm-dd] 2016-8-24\n",
        "import datetime\n",
        "\n",
        "year = int(input(\"Input a year: \"))\n",
        "month = int(input(\"Input a month [1-12]: \"))\n",
        "day = int(input(\"Input a day [1-31]: \"))\n",
        "\n",
        "date= datetime.date(year, month, day)\n",
        "\n",
        "next_date = date + datetime.timedelta(days=1)\n",
        "\n",
        "print(\"The next date is [yyyy-mm-dd]:\", next_date)"
      ],
      "metadata": {
        "colab": {
          "base_uri": "https://localhost:8080/"
        },
        "id": "hDQgbu9lehiN",
        "outputId": "9156bfdc-0a8d-409d-ee72-15b6aafbabad"
      },
      "execution_count": null,
      "outputs": [
        {
          "output_type": "stream",
          "name": "stdout",
          "text": [
            "Input a year: 2023\n",
            "Input a month [1-12]: 5\n",
            "Input a day [1-31]: 4\n",
            "The next date is [yyyy-mm-dd]: 2023-05-05\n"
          ]
        }
      ]
    }
  ]
}