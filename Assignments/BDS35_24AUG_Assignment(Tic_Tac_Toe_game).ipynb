{
  "nbformat": 4,
  "nbformat_minor": 0,
  "metadata": {
    "colab": {
      "provenance": [],
      "authorship_tag": "ABX9TyOepm2GjLYlRwPsHZnC+ZFJ",
      "include_colab_link": true
    },
    "kernelspec": {
      "name": "python3",
      "display_name": "Python 3"
    },
    "language_info": {
      "name": "python"
    }
  },
  "cells": [
    {
      "cell_type": "markdown",
      "metadata": {
        "id": "view-in-github",
        "colab_type": "text"
      },
      "source": [
        "<a href=\"https://colab.research.google.com/github/gplinkage/DataScienceBootCamp/blob/main/Assignments/BDS35_24AUG_Assignment(Tic_Tac_Toe_game).ipynb\" target=\"_parent\"><img src=\"https://colab.research.google.com/assets/colab-badge.svg\" alt=\"Open In Colab\"/></a>"
      ]
    },
    {
      "cell_type": "code",
      "source": [
        "# Creating a tic-tac-toe game between computer and human\n",
        "# 1st user will enter his name\n",
        "# user wil choice X or O\n",
        "# randomly first turn will be decided\n",
        "# After each turn show Board with replaced Indexes by X or O\n",
        "# If no one wins and board is full say its a draw\n",
        "# Win conditions are horizontal match or vertical match or diagonal match\n",
        "# ask user if we wants to play again at end of game\n",
        "\n",
        "\"\"\"\n",
        "\n",
        "player 1 player 2\n",
        "X O\n",
        "X | X | X\n",
        "-----------\n",
        " X | X | 6\n",
        "-----------\n",
        " X | 2 | X\n",
        " \"\"\"\n",
        "\n",
        "import random\n",
        "random.choices([0,1])"
      ],
      "metadata": {
        "id": "7kw_APz1gNtn"
      },
      "execution_count": null,
      "outputs": []
    },
    {
      "cell_type": "code",
      "source": [
        "import random\n",
        "\n",
        "# Function to display the tic-tac-toe board\n",
        "def display_board(board):\n",
        "    print(\"{} | {} | {}\".format(board[1], board[2], board[3]))\n",
        "    print(\"-----------\")\n",
        "    print(\"{} | {} | {}\".format(board[4], board[5], board[6]))\n",
        "    print(\"-----------\")\n",
        "    print(\"{} | {} | {}\".format(board[7], board[8], board[9]))\n",
        "\n",
        "# Function to check if a player has won\n",
        "def check_win(board, player):\n",
        "    # Check horizontal, vertical, and diagonal win conditions\n",
        "    win_combinations = [\n",
        "        [1, 2, 3], [4, 5, 6], [7, 8, 9],  # Horizontal\n",
        "        [1, 4, 7], [2, 5, 8], [3, 6, 9],  # Vertical\n",
        "        [1, 5, 9], [3, 5, 7]             # Diagonal\n",
        "    ]\n",
        "\n",
        "    for combo in win_combinations:\n",
        "        if all(board[cell] == player for cell in combo):\n",
        "            return True\n",
        "    return False\n",
        "\n",
        "# Function to check if the game is a draw\n",
        "def check_draw(board):\n",
        "    return all(cell == \"X\" or cell == \"O\" for cell in board[1:])\n",
        "\n",
        "# Main game function\n",
        "def main():\n",
        "    print(\"Welcome to Tic-Tac-Toe!\")\n",
        "    user_name = input(\"Enter your name: \")\n",
        "    user_symbol = input(\"Choose 'X' or 'O': \").upper()\n",
        "\n",
        "    # Determine computer's symbol\n",
        "    if user_symbol == 'X':\n",
        "        computer_symbol = 'O'\n",
        "    else:\n",
        "        computer_symbol = 'X'\n",
        "\n",
        "    players = [user_name, 'Computer']\n",
        "    symbols = [user_symbol, computer_symbol]\n",
        "\n",
        "    while True:\n",
        "        current_turn = random.choice([0, 1])  # Randomly choose who goes first\n",
        "        board = [\" \" for _ in range(10)]  # Initialize an empty 3x3 board\n",
        "\n",
        "        while True:\n",
        "            display_board(board)\n",
        "            print(f\"{players[current_turn]}'s turn ({symbols[current_turn]})\")\n",
        "\n",
        "            if current_turn == 0:  # User's turn\n",
        "                move = int(input(\"Enter your move (1-9): \"))\n",
        "                if board[move] == \" \":\n",
        "                    board[move] = symbols[current_turn]\n",
        "                else:\n",
        "                    print(\"Invalid move! Cell already taken.\")\n",
        "                    continue\n",
        "            else:  # Computer's turn\n",
        "                available_moves = [index for index, cell in enumerate(board[1:], start=1) if cell == \" \"]\n",
        "                computer_move = random.choice(available_moves)\n",
        "                board[computer_move] = symbols[current_turn]\n",
        "                print(f\"{players[1]} picked {computer_move}\")\n",
        "\n",
        "            if check_win(board, symbols[current_turn]):\n",
        "                display_board(board)\n",
        "                print(f\"{players[current_turn]} wins!\")\n",
        "                break\n",
        "            elif check_draw(board):\n",
        "                display_board(board)\n",
        "                print(\"It's a draw!\")\n",
        "                break\n",
        "\n",
        "            current_turn = 1 - current_turn  # Switch turns\n",
        "\n",
        "        play_again = input(\"Do you want to play again? (yes/no): \").lower()\n",
        "        if play_again != 'yes':\n",
        "            print(\"Thank you for playing!\")\n",
        "            break\n",
        "\n",
        "if __name__ == \"__main__\":\n",
        "    main()\n"
      ],
      "metadata": {
        "id": "L7-YKKdDAZZx",
        "colab": {
          "base_uri": "https://localhost:8080/"
        },
        "outputId": "3affb24e-624c-4494-c8b7-b6f7bd2748a3"
      },
      "execution_count": null,
      "outputs": [
        {
          "output_type": "stream",
          "name": "stdout",
          "text": [
            "Welcome to Tic-Tac-Toe!\n",
            "Enter your name: GP\n",
            "Choose 'X' or 'O': x\n",
            "  |   |  \n",
            "-----------\n",
            "  |   |  \n",
            "-----------\n",
            "  |   |  \n",
            "Computer's turn (O)\n",
            "Computer picked 7\n",
            "  |   |  \n",
            "-----------\n",
            "  |   |  \n",
            "-----------\n",
            "O |   |  \n",
            "GP's turn (X)\n",
            "Enter your move (1-9): 1\n",
            "X |   |  \n",
            "-----------\n",
            "  |   |  \n",
            "-----------\n",
            "O |   |  \n",
            "Computer's turn (O)\n",
            "Computer picked 2\n",
            "X | O |  \n",
            "-----------\n",
            "  |   |  \n",
            "-----------\n",
            "O |   |  \n",
            "GP's turn (X)\n",
            "Enter your move (1-9): 5\n",
            "X | O |  \n",
            "-----------\n",
            "  | X |  \n",
            "-----------\n",
            "O |   |  \n",
            "Computer's turn (O)\n",
            "Computer picked 3\n",
            "X | O | O\n",
            "-----------\n",
            "  | X |  \n",
            "-----------\n",
            "O |   |  \n",
            "GP's turn (X)\n",
            "Enter your move (1-9): 8\n",
            "X | O | O\n",
            "-----------\n",
            "  | X |  \n",
            "-----------\n",
            "O | X |  \n",
            "Computer's turn (O)\n",
            "Computer picked 4\n",
            "X | O | O\n",
            "-----------\n",
            "O | X |  \n",
            "-----------\n",
            "O | X |  \n",
            "GP's turn (X)\n",
            "Enter your move (1-9): 9\n",
            "X | O | O\n",
            "-----------\n",
            "O | X |  \n",
            "-----------\n",
            "O | X | X\n",
            "GP wins!\n",
            "Do you want to play again? (yes/no): no\n",
            "Thank you for playing!\n"
          ]
        }
      ]
    },
    {
      "cell_type": "code",
      "source": [
        "x = \"Hello\"\n",
        "y = \"World\"\n",
        "z = x + y\n",
        "print(z)"
      ],
      "metadata": {
        "colab": {
          "base_uri": "https://localhost:8080/"
        },
        "id": "2VCGCxjjFib2",
        "outputId": "f75e7081-568a-4893-a27f-ca8ecb2a0bb3"
      },
      "execution_count": null,
      "outputs": [
        {
          "output_type": "stream",
          "name": "stdout",
          "text": [
            "HelloWorld\n"
          ]
        }
      ]
    },
    {
      "cell_type": "code",
      "source": [
        "x = True\n",
        "y = False\n",
        "z = x and y\n",
        "print(z)"
      ],
      "metadata": {
        "id": "92M-rLJfF17P",
        "outputId": "a4ff35cc-168f-4dad-8d7d-de1ca900903a",
        "colab": {
          "base_uri": "https://localhost:8080/"
        }
      },
      "execution_count": null,
      "outputs": [
        {
          "output_type": "stream",
          "name": "stdout",
          "text": [
            "False\n"
          ]
        }
      ]
    }
  ]
}