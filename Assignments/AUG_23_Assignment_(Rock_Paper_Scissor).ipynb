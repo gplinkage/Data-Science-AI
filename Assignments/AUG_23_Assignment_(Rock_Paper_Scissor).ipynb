{
  "nbformat": 4,
  "nbformat_minor": 0,
  "metadata": {
    "colab": {
      "provenance": [],
      "include_colab_link": true
    },
    "kernelspec": {
      "name": "python3",
      "display_name": "Python 3"
    },
    "language_info": {
      "name": "python"
    }
  },
  "cells": [
    {
      "cell_type": "markdown",
      "metadata": {
        "id": "view-in-github",
        "colab_type": "text"
      },
      "source": [
        "<a href=\"https://colab.research.google.com/github/gplinkage/DataScienceBootCamp/blob/main/Assignments/AUG_23_Assignment_(Rock_Paper_Scissor).ipynb\" target=\"_parent\"><img src=\"https://colab.research.google.com/assets/colab-badge.svg\" alt=\"Open In Colab\"/></a>"
      ]
    },
    {
      "cell_type": "code",
      "execution_count": null,
      "metadata": {
        "id": "aOwJ7AO9g7rw"
      },
      "outputs": [],
      "source": [
        "# Rock smashes scissors\n",
        "# paper covers rock\n",
        "# Scissors cut paper\n",
        "# same choice is a tie\n",
        "\n",
        "# two players\n",
        "# 3 choices in total\n",
        "# 1. Rock\n",
        "# 2. Paper\n",
        "# 3. Scissor"
      ]
    },
    {
      "cell_type": "code",
      "source": [
        "import random\n",
        "\n",
        "possible_actions = [\"rock\", \"paper\", \"scissors\"]\n",
        "\n",
        "while True:\n",
        "user_input = input(\"Please make a choice from 'rock', 'paper', 'scissors': \").lower()\n",
        "\n",
        "if user_input not in possible_actions:\n",
        "print(\"Invalid choice. Please choose from 'rock', 'paper', 'scissors'.\")\n",
        "continue\n",
        "\n",
        "computer_action = random.choice(possible_actions)\n",
        "\n",
        "if user_input == computer_action:\n",
        "print(\"It's a Tie, please try again\")\n",
        "elif computer_action == 'rock' and user_input == 'scissors':\n",
        "print(\"Computer won! Computer picked:\", computer_action)\n",
        "elif computer_action == 'scissors' and user_input == 'paper':\n",
        "print(\"Computer won! Computer picked:\", computer_action)\n",
        "elif computer_action == \"paper\" and user_input == \"rock\":\n",
        "print(\"Computer won! Computer picked:\", computer_action)\n",
        "else:\n",
        "print(\"Congratulations, you won! Computer picked:\", computer_action)\n",
        "break"
      ],
      "metadata": {
        "id": "WVdeqvB5i6KH"
      },
      "execution_count": null,
      "outputs": []
    },
    {
      "cell_type": "code",
      "source": [],
      "metadata": {
        "id": "Atp9twJgl3_y"
      },
      "execution_count": null,
      "outputs": []
    }
  ]
}